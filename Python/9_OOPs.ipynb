{
  "nbformat": 4,
  "nbformat_minor": 0,
  "metadata": {
    "colab": {
      "provenance": []
    },
    "kernelspec": {
      "name": "python3",
      "display_name": "Python 3"
    },
    "language_info": {
      "name": "python"
    }
  },
  "cells": [
    {
      "cell_type": "markdown",
      "source": [
        "Object-Oriented Programming (OOP) is a programming paradigm that organizes code using objects, aiming to model real-world entities."
      ],
      "metadata": {
        "id": "7J9JSgT4OAuQ"
      }
    },
    {
      "cell_type": "markdown",
      "source": [
        "# Class\n",
        "A class is a blueprint for creating objects. It defines properties (attributes) and behaviors (methods) that the objects created from the class can have."
      ],
      "metadata": {
        "id": "l4b_-jbJODNf"
      }
    },
    {
      "cell_type": "code",
      "execution_count": null,
      "metadata": {
        "id": "6x0le-T-N8cC"
      },
      "outputs": [],
      "source": [
        "class Car:\n",
        "    def __init__(self, brand, model):\n",
        "        self.brand = brand\n",
        "        self.model = model\n",
        "    def drive(self):\n",
        "        print(f\"The {self.brand} {self.model} is driving.\")"
      ]
    },
    {
      "cell_type": "markdown",
      "source": [
        "# Object\n",
        "An object is an instance of a class. Each object can have its own attributes and methods.\n",
        "\n",
        "When a class is defined, no memory is allocated but when it is instantiated (i.e. an object is created) memory is allocated. An object has an identity, state, and behavior."
      ],
      "metadata": {
        "id": "1E83M8jOOQVf"
      }
    },
    {
      "cell_type": "code",
      "source": [
        "my_car = Car(\"Toyota\", \"Corolla\")\n",
        "my_car.drive()  # Output: The Toyota Corolla is driving."
      ],
      "metadata": {
        "colab": {
          "base_uri": "https://localhost:8080/"
        },
        "id": "fG0NT5n3OUEA",
        "outputId": "2a6f005b-fa6a-4b00-db9a-9f6ff2149889"
      },
      "execution_count": null,
      "outputs": [
        {
          "output_type": "stream",
          "name": "stdout",
          "text": [
            "The Toyota Corolla is driving.\n"
          ]
        }
      ]
    },
    {
      "cell_type": "markdown",
      "source": [
        "# Data Abstraction\n",
        "Data abstraction hides the implementation details and exposes only the essential features of an object.\n",
        "\n",
        "Example: A car's internal engine workings are abstracted away from the driver, who only interacts with the steering wheel, pedals, etc."
      ],
      "metadata": {
        "id": "eZAW3Zk5PcmI"
      }
    },
    {
      "cell_type": "markdown",
      "source": [
        "# Encapsulation\n",
        "Encapsulation binds together the data and methods that manipulate the data, and restricts access to some of the object’s components, protecting the data from unauthorized access."
      ],
      "metadata": {
        "id": "lvPQgy_6Pp5x"
      }
    },
    {
      "cell_type": "code",
      "source": [
        "class BankAccount:\n",
        "    def __init__(self, balance):\n",
        "        self.__balance = balance  # Private attribute\n",
        "    def deposit(self, amount):\n",
        "        self.__balance += amount\n",
        "    def get_balance(self):\n",
        "        return self.__balance"
      ],
      "metadata": {
        "id": "UtOso4P8PBjX"
      },
      "execution_count": null,
      "outputs": []
    },
    {
      "cell_type": "markdown",
      "source": [
        "# Inheritance\n",
        "Inheritance allows a class (child class) to inherit attributes and methods from another class (parent class), promoting code reuse.\n"
      ],
      "metadata": {
        "id": "qodcKoZnP1Va"
      }
    },
    {
      "cell_type": "code",
      "source": [
        "class Vehicle:\n",
        "    def __init__(self, brand):\n",
        "        self.brand = brand\n",
        "\n",
        "class Car(Vehicle):\n",
        "    def __init__(self, brand, model):\n",
        "        super().__init__(brand)\n",
        "        self.model = model"
      ],
      "metadata": {
        "id": "QLAeLwf9PBmP"
      },
      "execution_count": null,
      "outputs": []
    },
    {
      "cell_type": "markdown",
      "source": [
        "# Polymorphism\n",
        "Polymorphism allows objects of different classes to be treated as objects of a common superclass. It also allows the same function name to behave differently based on the object calling it."
      ],
      "metadata": {
        "id": "Yh0KpH88P67B"
      }
    },
    {
      "cell_type": "code",
      "source": [
        "class Animal:\n",
        "    def sound(self):\n",
        "        pass\n",
        "\n",
        "class Dog(Animal):\n",
        "    def sound(self):\n",
        "        return \"Bark\"\n",
        "\n",
        "class Cat(Animal):\n",
        "    def sound(self):\n",
        "        return \"Meow\""
      ],
      "metadata": {
        "id": "412DUmECPBr2"
      },
      "execution_count": null,
      "outputs": []
    },
    {
      "cell_type": "markdown",
      "source": [
        "# Dynamic Binding\n",
        "Dynamic binding (late binding) refers to the runtime decision of which method to invoke based on the object, particularly in cases of inheritance and polymorphism.\n",
        "\n",
        "Example: When you call sound() on an object, Python decides at runtime whether it's a Dog or Cat, and binds the appropriate method."
      ],
      "metadata": {
        "id": "LACkdNccQCiA"
      }
    },
    {
      "cell_type": "markdown",
      "source": [
        "# Message Passing\n",
        "Objects communicate with one another through message passing. In programming, this is achieved by calling methods on objects.\n",
        "\n",
        "Example: In my_car.drive(), the object my_car is passed a message (drive), which triggers the execution of the drive method."
      ],
      "metadata": {
        "id": "DLReIlPtQUVA"
      }
    },
    {
      "cell_type": "markdown",
      "source": [
        "# Why OOP?\n",
        "Simplifies development and maintenance.\n",
        "\n",
        "Enhances security through data hiding.\n",
        "\n",
        "Solves real-world problems more effectively.\n",
        "\n",
        "Promotes code reusability and reduces redundancy."
      ],
      "metadata": {
        "id": "7-Ip99o0Qhtx"
      }
    },
    {
      "cell_type": "code",
      "source": [
        "# 1. Class and 2. Object\n",
        "class Vehicle:\n",
        "    # Constructor (used for Encapsulation)\n",
        "    def __init__(self, brand, speed):\n",
        "        self.brand = brand    # Public attribute\n",
        "        self.__speed = speed  # Private attribute (Encapsulation)\n",
        "\n",
        "    # 3. Data Abstraction: Only exposing a high-level interface, hiding details\n",
        "    def drive(self):\n",
        "        print(f\"The {self.brand} vehicle is driving at {self.__speed} km/h.\")\n",
        "\n",
        "    def stop(self):\n",
        "        print(f\"The {self.brand} vehicle has stopped.\")\n",
        "\n",
        "    # Getter method to access private speed (Encapsulation)\n",
        "    def get_speed(self):\n",
        "        return self.__speed\n",
        "\n",
        "# 5. Inheritance: Car class inherits from Vehicle class\n",
        "class Car(Vehicle):\n",
        "    def __init__(self, brand, speed, model):\n",
        "        super().__init__(brand, speed)  # Inherit brand and speed from Vehicle\n",
        "        self.model = model\n",
        "\n",
        "    # Polymorphism: Overriding the drive method (behaves differently for Car)\n",
        "    def drive(self):\n",
        "        print(f\"The {self.brand} {self.model} is driving at high speed!\")\n",
        "\n",
        "# 6. Polymorphism: Same method with different implementations\n",
        "class Bike(Vehicle):\n",
        "    def drive(self):\n",
        "        print(f\"The {self.brand} bike is cruising!\")\n",
        "\n",
        "# 7. Dynamic Binding: The actual method called is determined at runtime\n",
        "def vehicle_drive(vehicle):\n",
        "    vehicle.drive()  # Will dynamically bind to the appropriate drive() method at runtime\n",
        "\n",
        "# 8. Message Passing: Objects communicating via method calls\n",
        "def test_vehicle():\n",
        "    print(\"Creating a Car object...\")\n",
        "    car = Car(\"Toyota\", 120, \"Corolla\")\n",
        "\n",
        "    print(\"Creating a Bike object...\")\n",
        "    bike = Bike(\"Honda\", 80)\n",
        "\n",
        "    print(\"\\nMessage Passing: Calling drive() on each object.\")\n",
        "    vehicle_drive(car)   # Dynamically binds to Car's drive method\n",
        "    vehicle_drive(bike)  # Dynamically binds to Bike's drive method\n",
        "\n",
        "    print(\"\\nUsing encapsulation to get private speed attribute:\")\n",
        "    print(f\"Car speed: {car.get_speed()} km/h\")\n",
        "    print(f\"Bike speed: {bike.get_speed()} km/h\")\n",
        "\n",
        "# Main code\n",
        "if __name__ == \"__main__\":\n",
        "    test_vehicle()\n"
      ],
      "metadata": {
        "id": "sSnRQJJ9PBu3"
      },
      "execution_count": null,
      "outputs": []
    },
    {
      "cell_type": "markdown",
      "source": [
        "Explanation:\n",
        "\n",
        "Class: Vehicle, Car, and Bike are classes.\n",
        "\n",
        "Object: car and bike are objects (instances) of the Car and Bike classes.\n",
        "\n",
        "Data Abstraction: The drive() method provides a simple interface to drive the vehicle without exposing internal details.\n",
        "\n",
        "Encapsulation: The __speed attribute is private, and the get_speed() method allows controlled access to it.\n",
        "\n",
        "Inheritance: The Car class inherits properties from the Vehicle class.\n",
        "\n",
        "Polymorphism: The drive() method is defined differently in Car and Bike, demonstrating method overriding.\n",
        "\n",
        "Dynamic Binding: The vehicle_drive(vehicle) function calls the appropriate drive() method based on the type of object (car or bike) at runtime.\n",
        "\n",
        "Message Passing: The objects car and bike interact with the function vehicle_drive() through method calls."
      ],
      "metadata": {
        "id": "teZw89_ZPE3Q"
      }
    },
    {
      "cell_type": "markdown",
      "source": [
        "# Class & Object"
      ],
      "metadata": {
        "id": "XVA6UlNARKiR"
      }
    },
    {
      "cell_type": "code",
      "source": [
        "class Dog():\n",
        "  #class attribute\n",
        "  attr1 = \"mammal\"\n",
        "  attr2 = \"dog\"\n",
        "\n",
        "  # sample method\n",
        "  def fun(self):\n",
        "    print(\"I'm a\", self.attr1)\n",
        "    print(\"I'm a\", self.attr2)\n",
        "\n",
        "#Driver code\n",
        "# Object instantiation\n",
        "Rodger = Dog()\n",
        "\n",
        "# Accessing class attributes and methods through objects\n",
        "print(Rodger.attr1)\n",
        "print()\n",
        "Rodger.fun()"
      ],
      "metadata": {
        "colab": {
          "base_uri": "https://localhost:8080/"
        },
        "id": "hCuSvrCORJ7J",
        "outputId": "66fbada1-96b7-446c-dd2b-c666ed5586c6"
      },
      "execution_count": null,
      "outputs": [
        {
          "output_type": "stream",
          "name": "stdout",
          "text": [
            "mammal\n",
            "\n",
            "I'm a mammal\n",
            "I'm a dog\n"
          ]
        }
      ]
    },
    {
      "cell_type": "code",
      "source": [
        "class GFG:\n",
        "    # default constructor\n",
        "    def __init__(self, name, company):\n",
        "        self.name = name\n",
        "        self.company = company\n",
        "\n",
        "    def show(self):\n",
        "        print(\"Name: \", self.name, \"Company: \", self.company)\n",
        "\n",
        "# creating object of the class\n",
        "obj = GFG(\"Nikhil\", \"Geeksforgeeks\")\n",
        "\n",
        "# calling the instance method using the object obj\n",
        "obj.show()"
      ],
      "metadata": {
        "colab": {
          "base_uri": "https://localhost:8080/"
        },
        "id": "qlR5hBvVR6ck",
        "outputId": "7fbc2fe6-c0ac-4e73-da3d-877417cb5f3e"
      },
      "execution_count": null,
      "outputs": [
        {
          "output_type": "stream",
          "name": "stdout",
          "text": [
            "Name:  Nikhil Company:  Geeksforgeeks\n"
          ]
        }
      ]
    },
    {
      "cell_type": "markdown",
      "source": [
        "The Self Parameter does not call it to be Self, You can use any other name instead of it. Here we change the self to the word someone and the output will be the same."
      ],
      "metadata": {
        "id": "scFfS_8zSYZJ"
      }
    },
    {
      "cell_type": "code",
      "source": [
        "class GFG:\n",
        "    def __init__(somename, name, company):\n",
        "        somename.name = name\n",
        "        somename.company = company\n",
        "\n",
        "    def show(somename):\n",
        "        print(\"Hello my name is \" + somename.name +\n",
        "              \" and I work in \"+somename.company+\".\")\n",
        "\n",
        "\n",
        "obj = GFG(\"John\", \"GeeksForGeeks\")\n",
        "obj.show()"
      ],
      "metadata": {
        "colab": {
          "base_uri": "https://localhost:8080/"
        },
        "id": "1TNNmf94SZAR",
        "outputId": "ffe2b577-2ef5-47e7-957b-db09efad761c"
      },
      "execution_count": null,
      "outputs": [
        {
          "output_type": "stream",
          "name": "stdout",
          "text": [
            "Hello my name is John and I work in GeeksForGeeks.\n"
          ]
        }
      ]
    },
    {
      "cell_type": "markdown",
      "source": [
        "#### Pass Statement\n",
        "The program’s execution is unaffected by the pass statement’s inaction. It merely permits the program to skip past that section of the code without doing anything. It is frequently employed when the syntactic constraints of Python demand a valid statement but no useful code must be executed."
      ],
      "metadata": {
        "id": "9adPH5RJTPqZ"
      }
    },
    {
      "cell_type": "code",
      "source": [
        "class MyClass:\n",
        "    pass"
      ],
      "metadata": {
        "id": "66xA45IrTRlZ"
      },
      "execution_count": null,
      "outputs": []
    },
    {
      "cell_type": "markdown",
      "source": [
        "#### _ _init_ _() method\n",
        "The __init__ method is similar to constructors in C++ and Java. Constructors are used to initializing the object’s state. Like methods, a constructor also contains a collection of statements(i.e. instructions) that are executed at the time of Object creation. It runs as soon as an object of a class is instantiated. The method is useful to do any initialization you want to do with your object."
      ],
      "metadata": {
        "id": "TKQVSSoeTFms"
      }
    },
    {
      "cell_type": "code",
      "source": [
        "#Sample class with init method\n",
        "class Person:\n",
        "\n",
        "    # init method or constructor\n",
        "    def __init__(self, name):\n",
        "        self.name = name\n",
        "\n",
        "    # Sample Method\n",
        "    def say_hi(self):\n",
        "        print('Hello, my name is', self.name)\n",
        "\n",
        "\n",
        "p = Person('Nikhil')\n",
        "p.say_hi()"
      ],
      "metadata": {
        "colab": {
          "base_uri": "https://localhost:8080/"
        },
        "id": "t2GCBxAiTHm6",
        "outputId": "063784fa-6bf4-4ed9-aa5f-d040102a0492"
      },
      "execution_count": null,
      "outputs": [
        {
          "output_type": "stream",
          "name": "stdout",
          "text": [
            "Hello, my name is Nikhil\n"
          ]
        }
      ]
    },
    {
      "cell_type": "markdown",
      "source": [
        "####Class and Instance Variables\n",
        "Instance variables are for data, unique to each instance and class variables are for attributes and methods shared by all instances of the class. Instance variables are variables whose value is assigned inside a constructor or method with self whereas class variables are variables whose value is assigned in the class."
      ],
      "metadata": {
        "id": "fP2pJJs2S1YJ"
      }
    },
    {
      "cell_type": "markdown",
      "source": [
        "Defining instance variables using a constructor."
      ],
      "metadata": {
        "id": "jHWyuzJjS0JZ"
      }
    },
    {
      "cell_type": "code",
      "source": [
        "# Python3 program to show that the variables with a value\n",
        "# assigned in the class declaration, are class variables and\n",
        "# variables inside methods and constructors are instance\n",
        "# variables.\n",
        "\n",
        "# Class for Dog\n",
        "class Dog:\n",
        "\n",
        "    # Class Variable\n",
        "    animal = 'dog'\n",
        "\n",
        "    # The init method or constructor\n",
        "    def __init__(self, breed, color):\n",
        "\n",
        "        # Instance Variable\n",
        "        self.breed = breed\n",
        "        self.color = color\n",
        "\n",
        "\n",
        "# Objects of Dog class\n",
        "Rodger = Dog(\"Pug\", \"brown\")\n",
        "Buzo = Dog(\"Bulldog\", \"black\")\n",
        "\n",
        "print('Rodger details:')\n",
        "print('Rodger is a', Rodger.animal)\n",
        "print('Breed: ', Rodger.breed)\n",
        "print('Color: ', Rodger.color)\n",
        "\n",
        "print('\\nBuzo details:')\n",
        "print('Buzo is a', Buzo.animal)\n",
        "print('Breed: ', Buzo.breed)\n",
        "print('Color: ', Buzo.color)\n",
        "\n",
        "# Class variables can be accessed using class\n",
        "# name also\n",
        "print(\"\\nAccessing class variable using class name\")\n",
        "print(Dog.animal)"
      ],
      "metadata": {
        "colab": {
          "base_uri": "https://localhost:8080/"
        },
        "id": "DX-m2hNgSexC",
        "outputId": "b6565dea-c7a1-4b2c-f279-eacbac4b8499"
      },
      "execution_count": null,
      "outputs": [
        {
          "output_type": "stream",
          "name": "stdout",
          "text": [
            "Rodger details:\n",
            "Rodger is a dog\n",
            "Breed:  Pug\n",
            "Color:  brown\n",
            "\n",
            "Buzo details:\n",
            "Buzo is a dog\n",
            "Breed:  Bulldog\n",
            "Color:  black\n",
            "\n",
            "Accessing class variable using class name\n",
            "dog\n"
          ]
        }
      ]
    },
    {
      "cell_type": "markdown",
      "source": [
        "Defining instance variables using the normal method:"
      ],
      "metadata": {
        "id": "mNw690-kThzi"
      }
    },
    {
      "cell_type": "code",
      "source": [
        "class Dog:\n",
        "\n",
        "    # Class Variable\n",
        "    animal = 'dog'\n",
        "\n",
        "    # The init method or constructor\n",
        "    def __init__(self, breed):\n",
        "\n",
        "        # Instance Variable\n",
        "        self.breed = breed\n",
        "\n",
        "    # Adds an instance variable\n",
        "    def setColor(self, color):\n",
        "        self.color = color\n",
        "\n",
        "    # Retrieves instance variable\n",
        "    def getColor(self):\n",
        "        return self.color\n",
        "\n",
        "\n",
        "# Driver Code\n",
        "Rodger = Dog(\"pug\")\n",
        "Rodger.setColor(\"brown\")\n",
        "print(Rodger.getColor())"
      ],
      "metadata": {
        "colab": {
          "base_uri": "https://localhost:8080/"
        },
        "id": "28-n_Ot5TibK",
        "outputId": "f5fdb474-6bce-46b7-abb9-61680c236ca4"
      },
      "execution_count": null,
      "outputs": [
        {
          "output_type": "stream",
          "name": "stdout",
          "text": [
            "brown\n"
          ]
        }
      ]
    },
    {
      "cell_type": "markdown",
      "source": [
        "# Inheritance"
      ],
      "metadata": {
        "id": "WRP0N1PNTzdR"
      }
    },
    {
      "cell_type": "code",
      "source": [
        "# A Python program to demonstrate inheritance\n",
        "\n",
        "# Base or Super class. Note object in bracket.\n",
        "# (Generally, object is made ancestor of all classes)\n",
        "# In Python 3.x \"class Person\" is\n",
        "# equivalent to \"class Person(object)\"\n",
        "\n",
        "\n",
        "class Person(object):\n",
        "\n",
        "    # Constructor\n",
        "    def __init__(self, name):\n",
        "        self.name = name\n",
        "\n",
        "    # To get name\n",
        "    def getName(self):\n",
        "        return self.name\n",
        "\n",
        "    # To check if this person is an employee\n",
        "    def isEmployee(self):\n",
        "        return False\n",
        "\n",
        "\n",
        "# Inherited or Subclass (Note Person in bracket)\n",
        "class Employee(Person):\n",
        "\n",
        "    # Here we return true\n",
        "    def isEmployee(self):\n",
        "        return True\n",
        "\n",
        "\n",
        "# Driver code\n",
        "emp = Person(\"Geek1\")  # An Object of Person\n",
        "print(emp.getName(), emp.isEmployee())\n",
        "\n",
        "emp = Employee(\"Geek2\")  # An Object of Employee\n",
        "print(emp.getName(), emp.isEmployee())"
      ],
      "metadata": {
        "colab": {
          "base_uri": "https://localhost:8080/"
        },
        "id": "q2lvUCp4T0_y",
        "outputId": "5985b95c-d513-4518-c753-cf833e5d874c"
      },
      "execution_count": null,
      "outputs": [
        {
          "output_type": "stream",
          "name": "stdout",
          "text": [
            "Geek1 False\n",
            "Geek2 True\n"
          ]
        }
      ]
    },
    {
      "cell_type": "markdown",
      "source": [
        "#### The super() Function\n",
        "The super() function is a built-in function that returns the objects that represent the parent class. It allows to access the parent class’s methods and attributes in the child class."
      ],
      "metadata": {
        "id": "WAjQFpMNVK5y"
      }
    },
    {
      "cell_type": "code",
      "source": [
        "# parent class\n",
        "class Person():\n",
        "  def __init__(self, name, age):\n",
        "    self.name = name\n",
        "    self.age = age\n",
        "\n",
        "  def display(self):\n",
        "    print(self.name, self.age)\n",
        "\n",
        "# child class\n",
        "class Student(Person):\n",
        "  def __init__(self, name, age, dob):\n",
        "    self.sName = name\n",
        "    self.sAge = age\n",
        "    self.dob = dob\n",
        "    # inheriting the properties of parent class\n",
        "    super().__init__(\"Rahul\", age)\n",
        "\n",
        "  def displayInfo(self):\n",
        "    print(self.sName, self.sAge, self.dob)\n",
        "\n",
        "obj = Student(\"Mayank\", 23, \"16-03-2000\")\n",
        "obj.display()\n",
        "obj.displayInfo()"
      ],
      "metadata": {
        "colab": {
          "base_uri": "https://localhost:8080/"
        },
        "id": "n8AFYoC9VT-j",
        "outputId": "00202baa-f59f-4150-85fe-1cabc7397e67"
      },
      "execution_count": null,
      "outputs": [
        {
          "output_type": "stream",
          "name": "stdout",
          "text": [
            "Rahul 23\n",
            "Mayank 23 16-03-2000\n"
          ]
        }
      ]
    },
    {
      "cell_type": "markdown",
      "source": [
        "#### Different types of Python Inheritance\n",
        "There are 5 different types of inheritance in Python. They are as follows:\n",
        "\n",
        "Single inheritance: When a child class inherits from only one parent class, it is called single inheritance. We saw an example above.\n",
        "\n",
        "Multiple inheritances: When a child class inherits from multiple parent classes, it is called multiple inheritances."
      ],
      "metadata": {
        "id": "0vAJzwNIdGfk"
      }
    },
    {
      "cell_type": "code",
      "source": [
        "# Python example to show the working of multiple\n",
        "# inheritance\n",
        "\n",
        "class Base1(object):\n",
        "    def __init__(self):\n",
        "        self.str1 = \"Geek1\"\n",
        "        print(\"Base1\")\n",
        "\n",
        "\n",
        "class Base2(object):\n",
        "    def __init__(self):\n",
        "        self.str2 = \"Geek2\"\n",
        "        print(\"Base2\")\n",
        "\n",
        "\n",
        "class Derived(Base1, Base2):\n",
        "    def __init__(self):\n",
        "\n",
        "        # Calling constructors of Base1\n",
        "        # and Base2 classes\n",
        "        Base1.__init__(self)\n",
        "        Base2.__init__(self)\n",
        "        print(\"Derived\")\n",
        "\n",
        "    def printStrs(self):\n",
        "        print(self.str1, self.str2)\n",
        "\n",
        "\n",
        "ob = Derived()\n",
        "ob.printStrs()"
      ],
      "metadata": {
        "colab": {
          "base_uri": "https://localhost:8080/"
        },
        "id": "oBbiIqqTdJ2X",
        "outputId": "9d460359-3cf6-4f1d-975d-96f98bd6ebc4"
      },
      "execution_count": null,
      "outputs": [
        {
          "output_type": "stream",
          "name": "stdout",
          "text": [
            "Base1\n",
            "Base2\n",
            "Derived\n",
            "Geek1 Geek2\n"
          ]
        }
      ]
    },
    {
      "cell_type": "markdown",
      "source": [
        "Multilevel inheritance: When we have a child and grandchild relationship. This means that a child class will inherit from its parent class, which in turn is inheriting from its parent class."
      ],
      "metadata": {
        "id": "P_3L-yvydRat"
      }
    },
    {
      "cell_type": "code",
      "source": [
        "class Base(object):\n",
        "\n",
        "    # Constructor\n",
        "    def __init__(self, name):\n",
        "        self.name = name\n",
        "\n",
        "    # To get name\n",
        "    def getName(self):\n",
        "        return self.name\n",
        "\n",
        "\n",
        "# Inherited or Sub class (Note Person in bracket)\n",
        "class Child(Base):\n",
        "\n",
        "    # Constructor\n",
        "    def __init__(self, name, age):\n",
        "        Base.__init__(self, name)\n",
        "        self.age = age\n",
        "\n",
        "    # To get name\n",
        "    def getAge(self):\n",
        "        return self.age\n",
        "\n",
        "# Inherited or Sub class (Note Person in bracket)\n",
        "class GrandChild(Child):\n",
        "\n",
        "    # Constructor\n",
        "    def __init__(self, name, age, address):\n",
        "        Child.__init__(self, name, age)\n",
        "        self.address = address\n",
        "\n",
        "    # To get address\n",
        "    def getAddress(self):\n",
        "        return self.address\n",
        "\n",
        "\n",
        "# Driver code\n",
        "g = GrandChild(\"Geek1\", 23, \"Noida\")\n",
        "print(g.getName(), g.getAge(), g.getAddress())"
      ],
      "metadata": {
        "colab": {
          "base_uri": "https://localhost:8080/"
        },
        "id": "fSn_Yj5IdTR9",
        "outputId": "5a32c1b4-32ef-479f-b7c5-68f1d54a00a6"
      },
      "execution_count": null,
      "outputs": [
        {
          "output_type": "stream",
          "name": "stdout",
          "text": [
            "Geek1 23 Noida\n"
          ]
        }
      ]
    },
    {
      "cell_type": "markdown",
      "source": [
        "Hierarchical inheritance More than one derived class can be created from a single base.\n",
        "\n",
        "Hybrid inheritance: This form combines more than one form of inheritance. Basically, it is a blend of more than one type of inheritance."
      ],
      "metadata": {
        "id": "daCH92rQdZ69"
      }
    },
    {
      "cell_type": "markdown",
      "source": [
        "### Private members of the parent class"
      ],
      "metadata": {
        "id": "gC-ziOxtdhBf"
      }
    },
    {
      "cell_type": "code",
      "source": [
        "class C(object):\n",
        "    def __init__(self):\n",
        "        self.c = 21\n",
        "\n",
        "        # d is private instance variable\n",
        "        self.__d = 42\n",
        "\n",
        "\n",
        "class D(C):\n",
        "    def __init__(self):\n",
        "        self.e = 84\n",
        "        C.__init__(self)\n",
        "\n",
        "object1 = D()\n",
        "\n",
        "# produces an error as d is private instance variable\n",
        "print(object1.c)\n",
        "print(object1.__d)"
      ],
      "metadata": {
        "colab": {
          "base_uri": "https://localhost:8080/",
          "height": 193
        },
        "id": "5HgJjp7gdbHl",
        "outputId": "e30f1f10-1367-47f3-e20f-ae7ffc914b0d"
      },
      "execution_count": null,
      "outputs": [
        {
          "output_type": "stream",
          "name": "stdout",
          "text": [
            "21\n"
          ]
        },
        {
          "output_type": "error",
          "ename": "AttributeError",
          "evalue": "'D' object has no attribute '__d'",
          "traceback": [
            "\u001b[0;31m---------------------------------------------------------------------------\u001b[0m",
            "\u001b[0;31mAttributeError\u001b[0m                            Traceback (most recent call last)",
            "\u001b[0;32m<ipython-input-16-3e308e7c973a>\u001b[0m in \u001b[0;36m<cell line: 18>\u001b[0;34m()\u001b[0m\n\u001b[1;32m     16\u001b[0m \u001b[0;31m# produces an error as d is private instance variable\u001b[0m\u001b[0;34m\u001b[0m\u001b[0;34m\u001b[0m\u001b[0m\n\u001b[1;32m     17\u001b[0m \u001b[0mprint\u001b[0m\u001b[0;34m(\u001b[0m\u001b[0mobject1\u001b[0m\u001b[0;34m.\u001b[0m\u001b[0mc\u001b[0m\u001b[0;34m)\u001b[0m\u001b[0;34m\u001b[0m\u001b[0;34m\u001b[0m\u001b[0m\n\u001b[0;32m---> 18\u001b[0;31m \u001b[0mprint\u001b[0m\u001b[0;34m(\u001b[0m\u001b[0mobject1\u001b[0m\u001b[0;34m.\u001b[0m\u001b[0m__d\u001b[0m\u001b[0;34m)\u001b[0m\u001b[0;34m\u001b[0m\u001b[0;34m\u001b[0m\u001b[0m\n\u001b[0m",
            "\u001b[0;31mAttributeError\u001b[0m: 'D' object has no attribute '__d'"
          ]
        }
      ]
    },
    {
      "cell_type": "markdown",
      "source": [
        "# Polymorphism"
      ],
      "metadata": {
        "id": "sH2fjSLmfLyu"
      }
    },
    {
      "cell_type": "code",
      "source": [
        "def add(x, y, z = 0):\n",
        "    return x + y+z\n",
        "\n",
        "# Driver code\n",
        "print(add(2, 3))\n",
        "print(add(2, 3, 4))"
      ],
      "metadata": {
        "colab": {
          "base_uri": "https://localhost:8080/"
        },
        "id": "x9QenREMfNlP",
        "outputId": "e73bb9a4-1e0f-40df-819e-05bdc842bd8b"
      },
      "execution_count": null,
      "outputs": [
        {
          "output_type": "stream",
          "name": "stdout",
          "text": [
            "5\n",
            "9\n"
          ]
        }
      ]
    },
    {
      "cell_type": "markdown",
      "source": [
        "Polymorphism with class methods:"
      ],
      "metadata": {
        "id": "8DNCa40kfZL2"
      }
    },
    {
      "cell_type": "code",
      "source": [
        "class India():\n",
        "    def capital(self):\n",
        "        print(\"New Delhi is the capital of India.\")\n",
        "\n",
        "    def language(self):\n",
        "        print(\"Hindi is the most widely spoken language of India.\")\n",
        "\n",
        "    def type(self):\n",
        "        print(\"India is a developing country.\")\n",
        "\n",
        "class USA():\n",
        "    def capital(self):\n",
        "        print(\"Washington, D.C. is the capital of USA.\")\n",
        "\n",
        "    def language(self):\n",
        "        print(\"English is the primary language of USA.\")\n",
        "\n",
        "    def type(self):\n",
        "        print(\"USA is a developed country.\")\n",
        "\n",
        "obj_ind = India()\n",
        "obj_usa = USA()\n",
        "for country in (obj_ind, obj_usa):\n",
        "    country.capital()\n",
        "    country.language()\n",
        "    country.type()\n"
      ],
      "metadata": {
        "colab": {
          "base_uri": "https://localhost:8080/"
        },
        "id": "y7zllVpvfWMW",
        "outputId": "4643fc64-a06a-47eb-ed2b-0078f826d309"
      },
      "execution_count": null,
      "outputs": [
        {
          "output_type": "stream",
          "name": "stdout",
          "text": [
            "New Delhi is the capital of India.\n",
            "Hindi is the most widely spoken language of India.\n",
            "India is a developing country.\n",
            "Washington, D.C. is the capital of USA.\n",
            "English is the primary language of USA.\n",
            "USA is a developed country.\n"
          ]
        }
      ]
    },
    {
      "cell_type": "markdown",
      "source": [
        "Polymorphism with Inheritance:"
      ],
      "metadata": {
        "id": "m85T5Ownface"
      }
    },
    {
      "cell_type": "code",
      "source": [
        "class Bird:\n",
        "  def intro(self):\n",
        "    print(\"There are many types of birds.\")\n",
        "\n",
        "  def flight(self):\n",
        "    print(\"Most of the birds can fly but some cannot.\")\n",
        "\n",
        "class sparrow(Bird):\n",
        "  def flight(self):\n",
        "    print(\"Sparrows can fly.\")\n",
        "\n",
        "class ostrich(Bird):\n",
        "  def flight(self):\n",
        "    print(\"Ostriches cannot fly.\")\n",
        "\n",
        "obj_bird = Bird()\n",
        "obj_spr = sparrow()\n",
        "obj_ost = ostrich()\n",
        "\n",
        "obj_bird.intro()\n",
        "obj_bird.flight()\n",
        "\n",
        "obj_spr.intro()\n",
        "obj_spr.flight()\n",
        "\n",
        "obj_ost.intro()\n",
        "obj_ost.flight()\n"
      ],
      "metadata": {
        "id": "0J4pYJF7fdBW"
      },
      "execution_count": null,
      "outputs": []
    },
    {
      "cell_type": "markdown",
      "source": [
        "Polymorphism with function:"
      ],
      "metadata": {
        "id": "IshsmQDyfuF-"
      }
    },
    {
      "cell_type": "code",
      "source": [
        "class India():\n",
        "    def capital(self):\n",
        "        print(\"New Delhi is the capital of India.\")\n",
        "\n",
        "    def language(self):\n",
        "        print(\"Hindi is the most widely spoken language of India.\")\n",
        "\n",
        "    def type(self):\n",
        "        print(\"India is a developing country.\")\n",
        "\n",
        "class USA():\n",
        "    def capital(self):\n",
        "        print(\"Washington, D.C. is the capital of USA.\")\n",
        "\n",
        "    def language(self):\n",
        "        print(\"English is the primary language of USA.\")\n",
        "\n",
        "    def type(self):\n",
        "        print(\"USA is a developed country.\")\n",
        "\n",
        "def func(obj):\n",
        "    obj.capital()\n",
        "    obj.language()\n",
        "    obj.type()\n",
        "\n",
        "obj_ind = India()\n",
        "obj_usa = USA()\n",
        "\n",
        "func(obj_ind)\n",
        "func(obj_usa)\n"
      ],
      "metadata": {
        "colab": {
          "base_uri": "https://localhost:8080/"
        },
        "id": "xHvdUVivfwve",
        "outputId": "330707e7-a2b0-400a-8d09-7cc477d2300a"
      },
      "execution_count": null,
      "outputs": [
        {
          "output_type": "stream",
          "name": "stdout",
          "text": [
            "New Delhi is the capital of India.\n",
            "Hindi is the most widely spoken language of India.\n",
            "India is a developing country.\n",
            "Washington, D.C. is the capital of USA.\n",
            "English is the primary language of USA.\n",
            "USA is a developed country.\n"
          ]
        }
      ]
    },
    {
      "cell_type": "markdown",
      "source": [
        "polymorphism in Python using inheritance and method overriding:"
      ],
      "metadata": {
        "id": "7vp14-EZf4LN"
      }
    },
    {
      "cell_type": "code",
      "source": [
        "class Animal:\n",
        "    def speak(self):\n",
        "        raise NotImplementedError(\"Subclass must implement this method\")\n",
        "\n",
        "class Dog(Animal):\n",
        "    def speak(self):\n",
        "        return \"Woof!\"\n",
        "\n",
        "class Cat(Animal):\n",
        "    def speak(self):\n",
        "        return \"Meow!\"\n",
        "\n",
        "# Create a list of Animal objects\n",
        "animals = [Dog(), Cat()]\n",
        "\n",
        "# Call the speak method on each object\n",
        "for animal in animals:\n",
        "    print(animal.speak())\n"
      ],
      "metadata": {
        "colab": {
          "base_uri": "https://localhost:8080/"
        },
        "id": "B1ImgTdIf4Yu",
        "outputId": "b80b7cce-d101-4f03-d73c-96815d1123e8"
      },
      "execution_count": null,
      "outputs": [
        {
          "output_type": "stream",
          "name": "stdout",
          "text": [
            "Woof!\n",
            "Meow!\n"
          ]
        }
      ]
    },
    {
      "cell_type": "markdown",
      "source": [
        "# Abstract Class\n",
        "A class that contains one or more abstract methods is called an abstract class. An abstract method is a method that has a declaration but does not have an implementation."
      ],
      "metadata": {
        "id": "EmrdKeNogQ0u"
      }
    },
    {
      "cell_type": "code",
      "source": [
        "# Python program showing\n",
        "# abstract base class work\n",
        "from abc import ABC, abstractmethod  # ABC (Abstract Base Class)\n",
        "\n",
        "\n",
        "class Polygon(ABC):\n",
        "\n",
        "    @abstractmethod\n",
        "    def noofsides(self):\n",
        "        pass\n",
        "\n",
        "\n",
        "class Triangle(Polygon):\n",
        "\n",
        "    # overriding abstract method\n",
        "    def noofsides(self):\n",
        "        print(\"I have 3 sides\")\n",
        "\n",
        "\n",
        "class Pentagon(Polygon):\n",
        "\n",
        "    # overriding abstract method\n",
        "    def noofsides(self):\n",
        "        print(\"I have 5 sides\")\n",
        "\n",
        "\n",
        "class Hexagon(Polygon):\n",
        "\n",
        "    # overriding abstract method\n",
        "    def noofsides(self):\n",
        "        print(\"I have 6 sides\")\n",
        "\n",
        "\n",
        "class Quadrilateral(Polygon):\n",
        "\n",
        "    # overriding abstract method\n",
        "    def noofsides(self):\n",
        "        print(\"I have 4 sides\")\n",
        "\n",
        "\n",
        "# Driver code\n",
        "R = Triangle()\n",
        "R.noofsides()\n",
        "\n",
        "K = Quadrilateral()\n",
        "K.noofsides()\n",
        "\n",
        "R = Pentagon()\n",
        "R.noofsides()\n",
        "\n",
        "K = Hexagon()\n",
        "K.noofsides()\n"
      ],
      "metadata": {
        "colab": {
          "base_uri": "https://localhost:8080/"
        },
        "id": "JB3iTusWgmsn",
        "outputId": "1e00342f-1ae1-4660-933c-76282372d582"
      },
      "execution_count": null,
      "outputs": [
        {
          "output_type": "stream",
          "name": "stdout",
          "text": [
            "I have 3 sides\n",
            "I have 4 sides\n",
            "I have 5 sides\n",
            "I have 6 sides\n"
          ]
        }
      ]
    },
    {
      "cell_type": "code",
      "source": [
        "# Python program showing\n",
        "# abstract base class work\n",
        "from abc import ABC, abstractmethod\n",
        "\n",
        "\n",
        "class Animal(ABC):\n",
        "\n",
        "    def move(self):\n",
        "        pass\n",
        "\n",
        "class Human(Animal):\n",
        "\n",
        "    def move(self):\n",
        "        print(\"I can walk and run\")\n",
        "\n",
        "class Snake(Animal):\n",
        "\n",
        "    def move(self):\n",
        "        print(\"I can crawl\")\n",
        "\n",
        "class Dog(Animal):\n",
        "\n",
        "    def move(self):\n",
        "        print(\"I can bark\")\n",
        "\n",
        "class Lion(Animal):\n",
        "\n",
        "    def move(self):\n",
        "        print(\"I can roar\")\n",
        "\n",
        "# Driver code\n",
        "R = Human()\n",
        "R.move()\n",
        "\n",
        "K = Snake()\n",
        "K.move()\n",
        "\n",
        "R = Dog()\n",
        "R.move()\n",
        "\n",
        "K = Lion()\n",
        "K.move()\n"
      ],
      "metadata": {
        "colab": {
          "base_uri": "https://localhost:8080/"
        },
        "id": "Zemmj3rTgzF5",
        "outputId": "b9bb0e41-2055-4402-d034-02fb1d648452"
      },
      "execution_count": null,
      "outputs": [
        {
          "output_type": "stream",
          "name": "stdout",
          "text": [
            "I can walk and run\n",
            "I can crawl\n",
            "I can bark\n",
            "I can roar\n"
          ]
        }
      ]
    },
    {
      "cell_type": "code",
      "source": [
        "# Python program showing\n",
        "# implementation of abstract\n",
        "# class through subclassing\n",
        "import abc\n",
        "\n",
        "class parent:\n",
        "    def geeks(self):\n",
        "        pass\n",
        "\n",
        "class child(parent):\n",
        "    def geeks(self):\n",
        "        print(\"child class\")\n",
        "\n",
        "# Driver code\n",
        "print( issubclass(child, parent))\n",
        "print( isinstance(child(), parent))"
      ],
      "metadata": {
        "colab": {
          "base_uri": "https://localhost:8080/"
        },
        "id": "eg-kigseg5nu",
        "outputId": "9e026b5e-ea43-4931-b5fd-02065089d519"
      },
      "execution_count": null,
      "outputs": [
        {
          "output_type": "stream",
          "name": "stdout",
          "text": [
            "True\n",
            "True\n"
          ]
        }
      ]
    },
    {
      "cell_type": "code",
      "source": [
        "# Python program invoking a\n",
        "# method using super()\n",
        "from abc import ABC\n",
        "\n",
        "class R(ABC):\n",
        "    def rk(self):\n",
        "        print(\"Abstract Base Class\")\n",
        "\n",
        "class K(R):\n",
        "    def rk(self):\n",
        "        super().rk()\n",
        "        print(\"subclass \")\n",
        "\n",
        "# Driver code\n",
        "r = K()\n",
        "r.rk()\n"
      ],
      "metadata": {
        "colab": {
          "base_uri": "https://localhost:8080/"
        },
        "id": "MyZT50JxhG6H",
        "outputId": "51896659-50da-440b-a64c-99d32e0c6ec3"
      },
      "execution_count": null,
      "outputs": [
        {
          "output_type": "stream",
          "name": "stdout",
          "text": [
            "Abstract Base Class\n",
            "subclass \n"
          ]
        }
      ]
    },
    {
      "cell_type": "code",
      "source": [
        "# Python program showing\n",
        "# abstract properties\n",
        "\n",
        "import abc\n",
        "from abc import ABC, abstractmethod\n",
        "\n",
        "\n",
        "class parent(ABC):\n",
        "    @abc.abstractproperty\n",
        "    def geeks(self):\n",
        "        return \"parent class\"\n",
        "\n",
        "\n",
        "class child(parent):\n",
        "\n",
        "    @property\n",
        "    def geeks(self):\n",
        "        return \"child class\"\n",
        "\n",
        "\n",
        "try:\n",
        "    r = parent()\n",
        "    print(r.geeks)\n",
        "except Exception as err:\n",
        "    print(err)\n",
        "\n",
        "r = child()\n",
        "print(r.geeks)\n"
      ],
      "metadata": {
        "colab": {
          "base_uri": "https://localhost:8080/"
        },
        "id": "xYn4gqhBhWfO",
        "outputId": "721a82ac-9279-4428-ca18-adc01bd38cee"
      },
      "execution_count": null,
      "outputs": [
        {
          "output_type": "stream",
          "name": "stdout",
          "text": [
            "Can't instantiate abstract class parent with abstract method geeks\n",
            "child class\n"
          ]
        }
      ]
    },
    {
      "cell_type": "markdown",
      "source": [
        "### Abstract Class Instantiation\n",
        "Abstract classes are incomplete because they have methods that have nobody. If Python allows creating an object for abstract classes then using that object if anyone calls the abstract method, but there is no actual implementation to invoke.\n",
        "\n",
        "So, we use an abstract class as a template and according to the need, we extend it and build on it before we can use it. Due to the fact, an abstract class is not a concrete class, it cannot be instantiated. When we create an object for the abstract class it raises an error."
      ],
      "metadata": {
        "id": "gK_WUBRZhfy0"
      }
    },
    {
      "cell_type": "code",
      "source": [
        "# Python program showing\n",
        "# abstract class cannot\n",
        "# be an instantiation\n",
        "from abc import ABC,abstractmethod\n",
        "\n",
        "class Animal(ABC):\n",
        "    @abstractmethod\n",
        "    def move(self):\n",
        "        pass\n",
        "class Human(Animal):\n",
        "    def move(self):\n",
        "        print(\"I can walk and run\")\n",
        "\n",
        "class Snake(Animal):\n",
        "    def move(self):\n",
        "        print(\"I can crawl\")\n",
        "\n",
        "class Dog(Animal):\n",
        "    def move(self):\n",
        "        print(\"I can bark\")\n",
        "\n",
        "class Lion(Animal):\n",
        "    def move(self):\n",
        "        print(\"I can roar\")\n",
        "\n",
        "c=Animal()"
      ],
      "metadata": {
        "colab": {
          "base_uri": "https://localhost:8080/",
          "height": 176
        },
        "id": "BGZhtSL3hicI",
        "outputId": "03227aac-0450-43be-8ea1-86f56374beba"
      },
      "execution_count": null,
      "outputs": [
        {
          "output_type": "error",
          "ename": "TypeError",
          "evalue": "Can't instantiate abstract class Animal with abstract method move",
          "traceback": [
            "\u001b[0;31m---------------------------------------------------------------------------\u001b[0m",
            "\u001b[0;31mTypeError\u001b[0m                                 Traceback (most recent call last)",
            "\u001b[0;32m<ipython-input-26-a50abdfd1cd5>\u001b[0m in \u001b[0;36m<cell line: 26>\u001b[0;34m()\u001b[0m\n\u001b[1;32m     24\u001b[0m         \u001b[0mprint\u001b[0m\u001b[0;34m(\u001b[0m\u001b[0;34m\"I can roar\"\u001b[0m\u001b[0;34m)\u001b[0m\u001b[0;34m\u001b[0m\u001b[0;34m\u001b[0m\u001b[0m\n\u001b[1;32m     25\u001b[0m \u001b[0;34m\u001b[0m\u001b[0m\n\u001b[0;32m---> 26\u001b[0;31m \u001b[0mc\u001b[0m\u001b[0;34m=\u001b[0m\u001b[0mAnimal\u001b[0m\u001b[0;34m(\u001b[0m\u001b[0;34m)\u001b[0m\u001b[0;34m\u001b[0m\u001b[0;34m\u001b[0m\u001b[0m\n\u001b[0m",
            "\u001b[0;31mTypeError\u001b[0m: Can't instantiate abstract class Animal with abstract method move"
          ]
        }
      ]
    },
    {
      "cell_type": "markdown",
      "source": [
        "# CONSTRUCTORS"
      ],
      "metadata": {
        "id": "QDpPJIczh7q-"
      }
    },
    {
      "cell_type": "code",
      "source": [
        "class GeekforGeeks:\n",
        "\n",
        "    # default constructor\n",
        "    def __init__(self):\n",
        "        self.geek = \"GeekforGeeks\"\n",
        "\n",
        "    # a method for printing data members\n",
        "    def print_Geek(self):\n",
        "        print(self.geek)\n",
        "\n",
        "\n",
        "# creating object of the class\n",
        "obj = GeekforGeeks()\n",
        "\n",
        "# calling the instance method using the object obj\n",
        "obj.print_Geek()"
      ],
      "metadata": {
        "colab": {
          "base_uri": "https://localhost:8080/"
        },
        "id": "mfi27iXIiUwf",
        "outputId": "06da2fb9-92db-4f4e-b5fe-b869591c7186"
      },
      "execution_count": null,
      "outputs": [
        {
          "output_type": "stream",
          "name": "stdout",
          "text": [
            "GeekforGeeks\n"
          ]
        }
      ]
    },
    {
      "cell_type": "code",
      "source": [
        "class Addition:\n",
        "    first = 0\n",
        "    second = 0\n",
        "    answer = 0\n",
        "\n",
        "    # parameterized constructor\n",
        "    def __init__(self, f, s):\n",
        "        self.first = f\n",
        "        self.second = s\n",
        "\n",
        "    def display(self):\n",
        "        print(\"First number = \" + str(self.first))\n",
        "        print(\"Second number = \" + str(self.second))\n",
        "        print(\"Addition of two numbers = \" + str(self.answer))\n",
        "\n",
        "    def calculate(self):\n",
        "        self.answer = self.first + self.second\n",
        "\n",
        "\n",
        "# creating object of the class\n",
        "# this will invoke parameterized constructor\n",
        "obj1 = Addition(1000, 2000)\n",
        "\n",
        "# creating second object of same class\n",
        "obj2 = Addition(10, 20)\n",
        "\n",
        "# perform Addition on obj1\n",
        "obj1.calculate()\n",
        "\n",
        "# perform Addition on obj2\n",
        "obj2.calculate()\n",
        "\n",
        "# display result of obj1\n",
        "obj1.display()\n",
        "\n",
        "# display result of obj2\n",
        "obj2.display()"
      ],
      "metadata": {
        "colab": {
          "base_uri": "https://localhost:8080/"
        },
        "id": "Q8t4cSiqiYIY",
        "outputId": "ac965271-e613-41a8-8142-613215d9aa28"
      },
      "execution_count": null,
      "outputs": [
        {
          "output_type": "stream",
          "name": "stdout",
          "text": [
            "First number = 1000\n",
            "Second number = 2000\n",
            "Addition of two numbers = 3000\n",
            "First number = 10\n",
            "Second number = 20\n",
            "Addition of two numbers = 30\n"
          ]
        }
      ]
    },
    {
      "cell_type": "code",
      "source": [
        "class MyClass:\n",
        "    def __init__(self, name=None):\n",
        "        if name is None:\n",
        "            print(\"Default constructor called\")\n",
        "        else:\n",
        "            self.name = name\n",
        "            print(\"Parameterized constructor called with name\", self.name)\n",
        "\n",
        "    def method(self):\n",
        "        if hasattr(self, 'name'):\n",
        "            print(\"Method called with name\", self.name)\n",
        "        else:\n",
        "            print(\"Method called without a name\")\n",
        "\n",
        "# Create an object of the class using the default constructor\n",
        "obj1 = MyClass()\n",
        "\n",
        "# Call a method of the class\n",
        "obj1.method()\n",
        "\n",
        "# Create an object of the class using the parameterized constructor\n",
        "obj2 = MyClass(\"John\")\n",
        "\n",
        "# Call a method of the class\n",
        "obj2.method()\n"
      ],
      "metadata": {
        "colab": {
          "base_uri": "https://localhost:8080/"
        },
        "id": "bveed-ENigyM",
        "outputId": "04f5b56e-5c3c-4c4e-f0b4-247403478b09"
      },
      "execution_count": null,
      "outputs": [
        {
          "output_type": "stream",
          "name": "stdout",
          "text": [
            "Default constructor called\n",
            "Method called without a name\n",
            "Parameterized constructor called with name John\n",
            "Method called with name John\n"
          ]
        }
      ]
    },
    {
      "cell_type": "markdown",
      "source": [
        "# Encapsulation"
      ],
      "metadata": {
        "id": "cv7gukH-iynL"
      }
    },
    {
      "cell_type": "markdown",
      "source": [
        "#### Protected members"
      ],
      "metadata": {
        "id": "xfpMfL3Jjf6I"
      }
    },
    {
      "cell_type": "code",
      "source": [
        "# Python program to\n",
        "# demonstrate protected members\n",
        "\n",
        "# Creating a base class\n",
        "class Base:\n",
        "    def __init__(self):\n",
        "\n",
        "        # Protected member\n",
        "        self._a = 2\n",
        "\n",
        "# Creating a derived class\n",
        "class Derived(Base):\n",
        "    def __init__(self):\n",
        "\n",
        "        # Calling constructor of\n",
        "        # Base class\n",
        "        Base.__init__(self)\n",
        "        print(\"Calling protected member of base class: \",\n",
        "              self._a)\n",
        "\n",
        "        # Modify the protected variable:\n",
        "        self._a = 3\n",
        "        print(\"Calling modified protected member outside class: \",\n",
        "              self._a)\n",
        "\n",
        "\n",
        "obj1 = Derived()\n",
        "\n",
        "obj2 = Base()\n",
        "\n",
        "# Calling protected member\n",
        "# Can be accessed but should not be done due to convention\n",
        "print(\"Accessing protected member of obj1: \", obj1._a)\n",
        "\n",
        "# Accessing the protected variable outside\n",
        "print(\"Accessing protected member of obj2: \", obj2._a)\n"
      ],
      "metadata": {
        "colab": {
          "base_uri": "https://localhost:8080/"
        },
        "id": "qe0fNhbyi0kB",
        "outputId": "790e8fe8-1d4c-4341-e7d3-df828bb7cfb5"
      },
      "execution_count": null,
      "outputs": [
        {
          "output_type": "stream",
          "name": "stdout",
          "text": [
            "Calling protected member of base class:  2\n",
            "Calling modified protected member outside class:  3\n",
            "Accessing protected member of obj1:  3\n",
            "Accessing protected member of obj2:  2\n"
          ]
        }
      ]
    },
    {
      "cell_type": "markdown",
      "source": [
        "#### Private Members"
      ],
      "metadata": {
        "id": "255jkmihjjhX"
      }
    },
    {
      "cell_type": "code",
      "source": [
        "# Python program to\n",
        "# demonstrate private members\n",
        "\n",
        "# Creating a Base class\n",
        "\n",
        "\n",
        "class Base:\n",
        "    def __init__(self):\n",
        "        self.a = \"GeeksforGeeks\"\n",
        "        self.__c = \"GeeksforGeeks\"\n",
        "\n",
        "# Creating a derived class\n",
        "class Derived(Base):\n",
        "    def __init__(self):\n",
        "\n",
        "        # Calling constructor of\n",
        "        # Base class\n",
        "        Base.__init__(self)\n",
        "        print(\"Calling private member of base class: \")\n",
        "        print(self.__c)\n",
        "\n",
        "\n",
        "# Driver code\n",
        "obj1 = Base()\n",
        "print(obj1.a)\n",
        "\n",
        "# Uncommenting print(obj1.c) will\n",
        "# raise an AttributeError\n",
        "\n",
        "# Uncommenting obj2 = Derived() will\n",
        "# also raise an AttributeError as\n",
        "# private member of base class\n",
        "# is called inside derived class\n"
      ],
      "metadata": {
        "colab": {
          "base_uri": "https://localhost:8080/"
        },
        "id": "P69RgLD_jXXB",
        "outputId": "a07cb990-ad70-4715-8134-d865bdfeba3a"
      },
      "execution_count": null,
      "outputs": [
        {
          "output_type": "stream",
          "name": "stdout",
          "text": [
            "GeeksforGeeks\n"
          ]
        }
      ]
    },
    {
      "cell_type": "markdown",
      "source": [
        "# Destructors"
      ],
      "metadata": {
        "id": "bE7kay0wjvJI"
      }
    },
    {
      "cell_type": "code",
      "source": [
        "# Python program to illustrate destructor\n",
        "class Employee:\n",
        "\n",
        "    # Initializing\n",
        "    def __init__(self):\n",
        "        print('Employee created.')\n",
        "\n",
        "    # Deleting (Calling destructor)\n",
        "    def __del__(self):\n",
        "        print('Destructor called, Employee deleted.')\n",
        "\n",
        "obj = Employee()\n",
        "del obj\n"
      ],
      "metadata": {
        "colab": {
          "base_uri": "https://localhost:8080/"
        },
        "id": "18cYgPsDkL44",
        "outputId": "4421dfbb-160c-4eeb-8d64-7cefe2dcc806"
      },
      "execution_count": null,
      "outputs": [
        {
          "output_type": "stream",
          "name": "stdout",
          "text": [
            "Employee created.\n",
            "Destructor called, Employee deleted.\n",
            "Destructor called\n"
          ]
        }
      ]
    },
    {
      "cell_type": "markdown",
      "source": [
        "Note : The destructor was called after the program ended or when all the references to object are deleted i.e when the reference count becomes zero, not when object went out of scope.\n",
        "\n",
        "Example 2: This example gives the explanation of above-mentioned note. Here, notice that the destructor is called after the ‘Program End…’ printed."
      ],
      "metadata": {
        "id": "rAIgXJ3PkJiw"
      }
    },
    {
      "cell_type": "code",
      "source": [
        "# Python program to illustrate destructor\n",
        "\n",
        "class Employee:\n",
        "\n",
        "    # Initializing\n",
        "    def __init__(self):\n",
        "        print('Employee created')\n",
        "\n",
        "    # Calling destructor\n",
        "    def __del__(self):\n",
        "        print(\"Destructor called\")\n",
        "\n",
        "def Create_obj():\n",
        "    print('Making Object...')\n",
        "    obj = Employee()\n",
        "    print('function end...')\n",
        "    return obj\n",
        "\n",
        "print('Calling Create_obj() function...')\n",
        "obj = Create_obj()\n",
        "print('Program End...')\n"
      ],
      "metadata": {
        "colab": {
          "base_uri": "https://localhost:8080/"
        },
        "id": "yFKEea9pjxgo",
        "outputId": "d6f22a93-0754-440c-b657-f27d29c290b5"
      },
      "execution_count": null,
      "outputs": [
        {
          "output_type": "stream",
          "name": "stdout",
          "text": [
            "Calling Create_obj() function...\n",
            "Making Object...\n",
            "Employee created\n",
            "function end...\n",
            "Program End...\n"
          ]
        }
      ]
    },
    {
      "cell_type": "code",
      "source": [
        "class RecursiveFunction:\n",
        "    def __init__(self, n):\n",
        "        self.n = n\n",
        "        print(\"Recursive function initialized with n =\", n)\n",
        "\n",
        "    def run(self, n=None):\n",
        "        if n is None:\n",
        "            n = self.n\n",
        "        if n <= 0:\n",
        "            return\n",
        "        print(\"Running recursive function with n =\", n)\n",
        "        self.run(n-1)\n",
        "\n",
        "    def __del__(self):\n",
        "        print(\"Recursive function object destroyed\")\n",
        "\n",
        "# Create an object of the class\n",
        "obj = RecursiveFunction(5)\n",
        "\n",
        "# Call the recursive function\n",
        "obj.run()\n",
        "\n",
        "# Destroy the object\n",
        "del obj\n"
      ],
      "metadata": {
        "colab": {
          "base_uri": "https://localhost:8080/"
        },
        "id": "HxfQ3-x_k6yw",
        "outputId": "3474dbf9-a98f-4fe8-fb11-bf83a8ec8fee"
      },
      "execution_count": null,
      "outputs": [
        {
          "output_type": "stream",
          "name": "stdout",
          "text": [
            "Recursive function initialized with n = 5\n",
            "Running recursive function with n = 5\n",
            "Running recursive function with n = 4\n",
            "Running recursive function with n = 3\n",
            "Running recursive function with n = 2\n",
            "Running recursive function with n = 1\n",
            "Recursive function object destroyed\n"
          ]
        }
      ]
    },
    {
      "cell_type": "markdown",
      "source": [
        "In this example, we define a class RecursiveFunction with an __init__() method that takes in a parameter n. This parameter is stored as an attribute of the object.\n",
        "\n",
        "We also define a run() method that takes in an optional parameter n. If n is not provided, it defaults to the value of self.n. The run() method runs a recursive function that prints a message to the console and calls itself with n-1.\n",
        "\n",
        "We define a destructor using the __del__() method, which simply prints a message to the console indicating that the object has been destroyed.\n",
        "\n",
        "We create an object of the class RecursiveFunction with n set to 5, and call the run() method. This runs the recursive function, printing a message to the console for each call.\n",
        "\n",
        "Finally, we destroy the object using the del statement. This triggers the destructor, which prints a message to the console indicating that the object has been destroyed.\n",
        "\n",
        "Note that in this example, the recursive function will continue running until n reaches 0. When n is 0, the function will return and the object will be destroyed by the garbage collector. The destructor will then be called automatically."
      ],
      "metadata": {
        "id": "S5tyC8CVlIXQ"
      }
    },
    {
      "cell_type": "markdown",
      "source": [
        "# Class Variables and Static methods"
      ],
      "metadata": {
        "id": "QmVCDbj5mRQR"
      }
    },
    {
      "cell_type": "code",
      "source": [
        "# Python program to show that the variables with a value\n",
        "# assigned in class declaration, are class variables\n",
        "\n",
        "# Class for Computer Science Student\n",
        "class CSStudent:\n",
        "    stream = 'cse'                  # Class Variable\n",
        "    def __init__(self,name,roll):\n",
        "        self.name = name            # Instance Variable\n",
        "        self.roll = roll            # Instance Variable\n",
        "\n",
        "# Objects of CSStudent class\n",
        "a = CSStudent('Geek', 1)\n",
        "b = CSStudent('Nerd', 2)\n",
        "\n",
        "print(a.stream)  # prints \"cse\"\n",
        "print(b.stream)  # prints \"cse\"\n",
        "print(a.name)    # prints \"Geek\"\n",
        "print(b.name)    # prints \"Nerd\"\n",
        "print(a.roll)    # prints \"1\"\n",
        "print(b.roll)    # prints \"2\"\n",
        "\n",
        "# Class variables can be accessed using class\n",
        "# name also\n",
        "print(CSStudent.stream) # prints \"cse\"\n",
        "\n",
        "# Now if we change the stream for just a it won't be changed for b\n",
        "a.stream = 'ece'\n",
        "print(a.stream) # prints 'ece'\n",
        "print(b.stream) # prints 'cse'\n",
        "\n",
        "# To change the stream for all instances of the class we can change it\n",
        "# directly from the class\n",
        "CSStudent.stream = 'mech'\n",
        "\n",
        "print(a.stream) # prints 'ece'\n",
        "print(b.stream) # prints 'mech'\n"
      ],
      "metadata": {
        "colab": {
          "base_uri": "https://localhost:8080/"
        },
        "id": "XIPjqUx6lJVo",
        "outputId": "22dba60a-2d36-4b57-ffd4-86a329aac8ab"
      },
      "execution_count": null,
      "outputs": [
        {
          "output_type": "stream",
          "name": "stdout",
          "text": [
            "cse\n",
            "cse\n",
            "Geek\n",
            "Nerd\n",
            "1\n",
            "2\n",
            "cse\n",
            "ece\n",
            "cse\n",
            "ece\n",
            "mech\n"
          ]
        }
      ]
    },
    {
      "cell_type": "code",
      "source": [
        "class MyClass:\n",
        "    static_var = 0\n",
        "\n",
        "    def __init__(self):\n",
        "        MyClass.static_var += 1\n",
        "        self.instance_var = MyClass.static_var\n",
        "\n",
        "obj1 = MyClass()\n",
        "print(obj1.instance_var)  # Output: 1\n",
        "\n",
        "obj2 = MyClass()\n",
        "print(obj2.instance_var)  # Output: 2\n",
        "\n",
        "print(MyClass.static_var)  # Output: 2\n"
      ],
      "metadata": {
        "colab": {
          "base_uri": "https://localhost:8080/"
        },
        "id": "8qR7vn0nmi32",
        "outputId": "9ebf7349-aebc-44c4-b8d7-8e9c65ab0468"
      },
      "execution_count": null,
      "outputs": [
        {
          "output_type": "stream",
          "name": "stdout",
          "text": [
            "1\n",
            "2\n",
            "2\n"
          ]
        }
      ]
    },
    {
      "cell_type": "markdown",
      "source": [
        "# class method"
      ],
      "metadata": {
        "id": "mEs92WNCnTYb"
      }
    },
    {
      "cell_type": "code",
      "source": [
        "class MyClass:\n",
        "    def __init__(self, value):\n",
        "        self.value = value\n",
        "\n",
        "    def get_value(self):\n",
        "        return self.value\n",
        "\n",
        "# Create an instance of MyClass\n",
        "obj = MyClass(10)\n",
        "\n",
        "# Call the get_value method on the instance\n",
        "print(obj.get_value())  # Output: 10\n"
      ],
      "metadata": {
        "id": "u46JFUhLnVo6",
        "outputId": "0ccb6c0a-c1f7-4a85-d098-1739865928bf",
        "colab": {
          "base_uri": "https://localhost:8080/"
        }
      },
      "execution_count": null,
      "outputs": [
        {
          "output_type": "stream",
          "name": "stdout",
          "text": [
            "10\n"
          ]
        }
      ]
    },
    {
      "cell_type": "code",
      "source": [
        "class MyClass:\n",
        "    def __init__(self, value):\n",
        "        self.value = value\n",
        "\n",
        "    @staticmethod\n",
        "    def get_max_value(x, y):\n",
        "        return max(x, y)\n",
        "\n",
        "# Create an instance of MyClass\n",
        "obj = MyClass(10)\n",
        "\n",
        "print(MyClass.get_max_value(20, 30))\n",
        "\n",
        "print(obj.get_max_value(20, 30))\n"
      ],
      "metadata": {
        "id": "O8mEGSvjnX_v",
        "outputId": "8d7a53b7-418c-450a-ea58-5ba1dd060d34",
        "colab": {
          "base_uri": "https://localhost:8080/"
        }
      },
      "execution_count": null,
      "outputs": [
        {
          "output_type": "stream",
          "name": "stdout",
          "text": [
            "30\n",
            "30\n"
          ]
        }
      ]
    }
  ]
}