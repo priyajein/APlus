{
  "nbformat": 4,
  "nbformat_minor": 0,
  "metadata": {
    "colab": {
      "provenance": []
    },
    "kernelspec": {
      "name": "python3",
      "display_name": "Python 3"
    },
    "language_info": {
      "name": "python"
    }
  },
  "cells": [
    {
      "cell_type": "markdown",
      "source": [
        "#TUPLES"
      ],
      "metadata": {
        "id": "pKytXFgwu8GO"
      }
    },
    {
      "cell_type": "code",
      "execution_count": null,
      "metadata": {
        "colab": {
          "base_uri": "https://localhost:8080/"
        },
        "id": "K3gI6XYKVb_h",
        "outputId": "87b135b2-33b6-4854-9c47-38ab0bce4921"
      },
      "outputs": [
        {
          "output_type": "stream",
          "name": "stdout",
          "text": [
            "Initial empty Tuple: \n",
            "()\n",
            "\n",
            "Tuple with the use of String: \n",
            "('Geeks', 'For')\n",
            "\n",
            "Tuple using List: \n",
            "(1, 2, 4, 5, 6)\n",
            "\n",
            "Tuple with the use of function: \n",
            "('G', 'e', 'e', 'k', 's')\n"
          ]
        }
      ],
      "source": [
        "Tuple1 = ()\n",
        "print(\"Initial empty Tuple: \")\n",
        "print(Tuple1)\n",
        "\n",
        "# Creating a Tuple\n",
        "# with the use of string\n",
        "Tuple1 = ('Geeks', 'For')\n",
        "print(\"\\nTuple with the use of String: \")\n",
        "print(Tuple1)\n",
        "\n",
        "# Creating a Tuple with\n",
        "# the use of list\n",
        "list1 = [1, 2, 4, 5, 6]\n",
        "print(\"\\nTuple using List: \")\n",
        "print(tuple(list1))\n",
        "\n",
        "# Creating a Tuple\n",
        "# with the use of built-in function\n",
        "Tuple1 = tuple('Geeks')\n",
        "print(\"\\nTuple with the use of function: \")\n",
        "print(Tuple1)"
      ]
    },
    {
      "cell_type": "code",
      "source": [
        "# Creating a Tuple\n",
        "# with Mixed Datatype\n",
        "Tuple1 = (5, 'Welcome', 7, 'Geeks')\n",
        "print(\"\\nTuple with Mixed Datatypes: \")\n",
        "print(Tuple1)\n",
        "\n",
        "# Creating a Tuple\n",
        "# with nested tuples\n",
        "Tuple1 = (0, 1, 2, 3)\n",
        "Tuple2 = ('python', 'geek')\n",
        "Tuple3 = (Tuple1, Tuple2)\n",
        "print(\"\\nTuple with nested tuples: \")\n",
        "print(Tuple3)\n",
        "\n",
        "# Creating a Tuple\n",
        "# with repetition\n",
        "Tuple1 = ('Geeks',) * 3\n",
        "print(\"\\nTuple with repetition: \")\n",
        "print(Tuple1)\n",
        "\n",
        "# Creating a Tuple\n",
        "# with the use of loop\n",
        "Tuple1 = ('Geeks')\n",
        "n = 5\n",
        "print(\"\\nTuple with a loop\")\n",
        "for i in range(int(n)):\n",
        "    Tuple1 = (Tuple1,)\n",
        "    print(Tuple1)"
      ],
      "metadata": {
        "colab": {
          "base_uri": "https://localhost:8080/"
        },
        "id": "WWvXwSsva1tZ",
        "outputId": "321f3b4a-8829-49de-d61d-134eb45e8384"
      },
      "execution_count": null,
      "outputs": [
        {
          "output_type": "stream",
          "name": "stdout",
          "text": [
            "\n",
            "Tuple with Mixed Datatypes: \n",
            "(5, 'Welcome', 7, 'Geeks')\n",
            "\n",
            "Tuple with nested tuples: \n",
            "((0, 1, 2, 3), ('python', 'geek'))\n",
            "\n",
            "Tuple with repetition: \n",
            "('Geeks', 'Geeks', 'Geeks')\n",
            "\n",
            "Tuple with a loop\n",
            "('Geeks',)\n",
            "(('Geeks',),)\n",
            "((('Geeks',),),)\n",
            "(((('Geeks',),),),)\n",
            "((((('Geeks',),),),),)\n"
          ]
        }
      ]
    },
    {
      "cell_type": "code",
      "source": [
        "# Accessing Tuple with Indexing\n",
        "Tuple1 = tuple(\"Geeks\")\n",
        "print(\"\\nFirst element of Tuple: \")\n",
        "print(Tuple1[0])\n",
        "\n",
        "# Accessing Tuple with Negative Indexing\n",
        "Tuple1 = tuple(\"Geeks\")\n",
        "print(\"\\nLast element of Tuple: \")\n",
        "print(Tuple1[-1])\n",
        "\n",
        "print(\"\\nPrinting elements between Range 4-9: \")\n",
        "print(Tuple1[4:9])\n",
        "\n",
        "# Accessing Tuple with slicing\n",
        "Tuple1 = tuple(\"Geeks\")\n",
        "print(\"\\nThird to last element of Tuple: \")\n",
        "print(Tuple1[2:])\n",
        "\n",
        "print(\"\\nTuple after sequence of Element is reversed: \")\n",
        "print(Tuple1[::-1])\n",
        "\n",
        "# Tuple unpacking\n",
        "Tuple1 = (\"Geeks\", \"For\", \"Geeks\")\n",
        "\n",
        "# This line unpack\n",
        "# values of Tuple1\n",
        "a, b, c = Tuple1\n",
        "print(\"\\nValues after unpacking: \")\n",
        "print(a)\n",
        "print(b)\n",
        "print(c)"
      ],
      "metadata": {
        "colab": {
          "base_uri": "https://localhost:8080/"
        },
        "id": "BDUT8XhMbWbR",
        "outputId": "e7cddbad-fef9-46cd-a0c9-a99e6a89deee"
      },
      "execution_count": null,
      "outputs": [
        {
          "output_type": "stream",
          "name": "stdout",
          "text": [
            "\n",
            "First element of Tuple: \n",
            "G\n",
            "\n",
            "Last element of Tuple: \n",
            "s\n",
            "\n",
            "Printing elements between Range 4-9: \n",
            "('s',)\n",
            "\n",
            "Third to last element of Tuple: \n",
            "('e', 'k', 's')\n",
            "\n",
            "Tuple after sequence of Element is reversed: \n",
            "('s', 'k', 'e', 'e', 'G')\n",
            "\n",
            "Values after unpacking: \n",
            "Geeks\n",
            "For\n",
            "Geeks\n"
          ]
        }
      ]
    },
    {
      "cell_type": "code",
      "source": [
        "# concatenation\n",
        "# Concatenation of tuples\n",
        "Tuple1 = (0, 1, 2, 3)\n",
        "Tuple2 = ('Geeks', 'For', 'Geeks')\n",
        "\n",
        "Tuple3 = Tuple1 + Tuple2\n",
        "\n",
        "# Printing Final Tuple\n",
        "print(\"\\nTuples after Concatenation: \")\n",
        "print(Tuple3)\n",
        "\n",
        "# Nesting of Tuples\n",
        "Tuple1 = (0, 1, 2, 3)\n",
        "Tuple2 = ('python', 'geek')\n",
        "Tuple3 = (Tuple1, Tuple2)\n",
        "print(\"\\nTuple after nesting: \")\n",
        "print(Tuple3)"
      ],
      "metadata": {
        "colab": {
          "base_uri": "https://localhost:8080/"
        },
        "id": "ZBMXsNT7b1bS",
        "outputId": "62b8ca57-34fc-4250-b73e-75db462acffd"
      },
      "execution_count": null,
      "outputs": [
        {
          "output_type": "stream",
          "name": "stdout",
          "text": [
            "\n",
            "Tuples after Concatenation: \n",
            "(0, 1, 2, 3, 'Geeks', 'For', 'Geeks')\n",
            "\n",
            "Tuple after nesting: \n",
            "((0, 1, 2, 3), ('python', 'geek'))\n"
          ]
        }
      ]
    },
    {
      "cell_type": "markdown",
      "source": [
        "### Deleting a Tuple\n",
        "Tuples are immutable and hence they do not allow deletion of a part of it. The entire tuple gets deleted by the use of del() method.\n",
        "\n",
        "Note- Printing of Tuple after deletion results in an Error."
      ],
      "metadata": {
        "id": "28Ya-AOxcROS"
      }
    },
    {
      "cell_type": "code",
      "source": [
        "# Deleting a Tuple\n",
        "\n",
        "Tuple1 = (0, 1, 2, 3, 4)\n",
        "del Tuple1\n",
        "\n",
        "print(Tuple1)"
      ],
      "metadata": {
        "colab": {
          "base_uri": "https://localhost:8080/",
          "height": 176
        },
        "id": "pOu_7QnxcTNC",
        "outputId": "6b5a8dec-413c-4a55-b317-d1621cfb5727"
      },
      "execution_count": null,
      "outputs": [
        {
          "output_type": "error",
          "ename": "NameError",
          "evalue": "name 'Tuple1' is not defined",
          "traceback": [
            "\u001b[0;31m---------------------------------------------------------------------------\u001b[0m",
            "\u001b[0;31mNameError\u001b[0m                                 Traceback (most recent call last)",
            "\u001b[0;32m<ipython-input-7-2a9cc19b598c>\u001b[0m in \u001b[0;36m<cell line: 6>\u001b[0;34m()\u001b[0m\n\u001b[1;32m      4\u001b[0m \u001b[0;32mdel\u001b[0m \u001b[0mTuple1\u001b[0m\u001b[0;34m\u001b[0m\u001b[0;34m\u001b[0m\u001b[0m\n\u001b[1;32m      5\u001b[0m \u001b[0;34m\u001b[0m\u001b[0m\n\u001b[0;32m----> 6\u001b[0;31m \u001b[0mprint\u001b[0m\u001b[0;34m(\u001b[0m\u001b[0mTuple1\u001b[0m\u001b[0;34m)\u001b[0m\u001b[0;34m\u001b[0m\u001b[0;34m\u001b[0m\u001b[0m\n\u001b[0m",
            "\u001b[0;31mNameError\u001b[0m: name 'Tuple1' is not defined"
          ]
        }
      ]
    },
    {
      "cell_type": "markdown",
      "source": [
        "#### Tuple Methods"
      ],
      "metadata": {
        "id": "xuhUdrgqcmkY"
      }
    },
    {
      "cell_type": "code",
      "source": [
        "# Creating tuples\n",
        "Tuple1 = (0, 1, 2, 3, 2, 3, 1, 3, 2)\n",
        "Tuple2 = ('python', 'geek', 'python',\n",
        "\t\t'for', 'java', 'python')\n",
        "\n",
        "# count the appearance of 3\n",
        "res = Tuple1.count(3)\n",
        "print('Count of 3 in Tuple1 is:', res)\n",
        "\n",
        "# count the appearance of python\n",
        "res = Tuple2.count('python')\n",
        "print('Count of Python in Tuple2 is:', res)"
      ],
      "metadata": {
        "colab": {
          "base_uri": "https://localhost:8080/"
        },
        "id": "RyU8ZzbKcpHp",
        "outputId": "1596477c-8574-4ee7-b61b-e16af38cd437"
      },
      "execution_count": null,
      "outputs": [
        {
          "output_type": "stream",
          "name": "stdout",
          "text": [
            "Count of 3 in Tuple1 is: 3\n",
            "Count of Python in Tuple2 is: 3\n"
          ]
        }
      ]
    },
    {
      "cell_type": "code",
      "source": [
        "# Creating tuples\n",
        "Tuple = (0, 1, (2, 3), (2, 3), 1,\n",
        "\t\t[3, 2], 'geeks', (0,))\n",
        "\n",
        "# count the appearance of (2, 3)\n",
        "res = Tuple.count((2, 3))\n",
        "print('Count of (2, 3) in Tuple is:', res)\n",
        "\n",
        "# count the appearance of [3, 2]\n",
        "res = Tuple.count([3, 2])\n",
        "print('Count of [3, 2] in Tuple is:', res)"
      ],
      "metadata": {
        "colab": {
          "base_uri": "https://localhost:8080/"
        },
        "id": "V22XpbLlcviQ",
        "outputId": "34b22c5b-d933-48a0-d890-279cee0590a8"
      },
      "execution_count": null,
      "outputs": [
        {
          "output_type": "stream",
          "name": "stdout",
          "text": [
            "Count of (2, 3) in Tuple is: 2\n",
            "Count of [3, 2] in Tuple is: 1\n"
          ]
        }
      ]
    },
    {
      "cell_type": "code",
      "source": [
        "# Creating tuples\n",
        "Tuple = (0, 1, 2, 3, 2, 3, 1, 3, 2)\n",
        "\n",
        "# getting the index of 3\n",
        "res = Tuple.index(3)\n",
        "print('First occurrence of 3 is', res)\n",
        "\n",
        "# getting the index of 3 after 4th\n",
        "# index\n",
        "res = Tuple.index(3, 4)\n",
        "print('First occurrence of 3 after 4th index is:', res)"
      ],
      "metadata": {
        "colab": {
          "base_uri": "https://localhost:8080/"
        },
        "id": "v9HpYLP4c60C",
        "outputId": "3bec2f5c-ec96-43cc-d9c2-d110c1253aad"
      },
      "execution_count": null,
      "outputs": [
        {
          "output_type": "stream",
          "name": "stdout",
          "text": [
            "First occurrence of 3 is 3\n",
            "First occurrence of 3 after 4th index is: 5\n"
          ]
        }
      ]
    },
    {
      "cell_type": "code",
      "source": [
        "# Creating tuples\n",
        "Tuple = (0, 1, 2, 3, 2, 3, 1, 3, 2)\n",
        "\n",
        "# getting the index of 3\n",
        "res = Tuple.index(4)"
      ],
      "metadata": {
        "colab": {
          "base_uri": "https://localhost:8080/",
          "height": 176
        },
        "id": "uQFAV5gDc_QC",
        "outputId": "e337e71a-2a45-42c2-87cd-cd38078306e7"
      },
      "execution_count": null,
      "outputs": [
        {
          "output_type": "error",
          "ename": "ValueError",
          "evalue": "tuple.index(x): x not in tuple",
          "traceback": [
            "\u001b[0;31m---------------------------------------------------------------------------\u001b[0m",
            "\u001b[0;31mValueError\u001b[0m                                Traceback (most recent call last)",
            "\u001b[0;32m<ipython-input-11-4ddaf1aeb520>\u001b[0m in \u001b[0;36m<cell line: 5>\u001b[0;34m()\u001b[0m\n\u001b[1;32m      3\u001b[0m \u001b[0;34m\u001b[0m\u001b[0m\n\u001b[1;32m      4\u001b[0m \u001b[0;31m# getting the index of 3\u001b[0m\u001b[0;34m\u001b[0m\u001b[0;34m\u001b[0m\u001b[0m\n\u001b[0;32m----> 5\u001b[0;31m \u001b[0mres\u001b[0m \u001b[0;34m=\u001b[0m \u001b[0mTuple\u001b[0m\u001b[0;34m.\u001b[0m\u001b[0mindex\u001b[0m\u001b[0;34m(\u001b[0m\u001b[0;36m4\u001b[0m\u001b[0;34m)\u001b[0m\u001b[0;34m\u001b[0m\u001b[0;34m\u001b[0m\u001b[0m\n\u001b[0m",
            "\u001b[0;31mValueError\u001b[0m: tuple.index(x): x not in tuple"
          ]
        }
      ]
    },
    {
      "cell_type": "markdown",
      "source": [
        "# SET"
      ],
      "metadata": {
        "id": "UCYh57nhducZ"
      }
    },
    {
      "cell_type": "code",
      "source": [
        "# Creating a Set\n",
        "set1 = set()\n",
        "print(\"Initial blank Set: \")\n",
        "print(set1)\n",
        "\n",
        "# Creating a Set with the use of a String\n",
        "set1 = set(\"GeeksForGeeks\")\n",
        "print(\"\\nSet with the use of String: \")\n",
        "print(set1)\n",
        "\n",
        "String = 'GeeksForGeeks'\n",
        "set1 = set(String)\n",
        "print(\"\\nSet with the use of an Object: \")\n",
        "print(set1)\n",
        "\n",
        "# Creating a Set with the use of a List\n",
        "set1 = set([\"Geeks\", \"For\", \"Geeks\"])\n",
        "print(\"\\nSet with the use of List: \")\n",
        "print(set1)\n",
        "\n",
        "# Creating a Set with the use of a tuple\n",
        "t = (\"Geeks\", \"for\", \"Geeks\")\n",
        "print(\"\\nSet with the use of Tuple: \")\n",
        "print(set(t))\n",
        "\n",
        "# Creating a Set with the use of a dictionary\n",
        "d = {\"Geeks\": 1, \"for\": 2, \"Geeks\": 3}\n",
        "print(\"\\nSet with the use of Dictionary: \")\n",
        "print(set(d))\n",
        "\n",
        "# Creating a Set with a mixed type of values\n",
        "# (Having numbers and strings)\n",
        "set1 = set([1, 2, 'Geeks', 4, 'For', 6, 'Geeks'])\n",
        "print(\"\\nSet with the use of Mixed Values\")\n",
        "print(set1)"
      ],
      "metadata": {
        "colab": {
          "base_uri": "https://localhost:8080/"
        },
        "id": "hG72dLdDdvgZ",
        "outputId": "306807c1-3f2b-4462-bbd9-7ba4f2af6fa3"
      },
      "execution_count": null,
      "outputs": [
        {
          "output_type": "stream",
          "name": "stdout",
          "text": [
            "Initial blank Set: \n",
            "set()\n",
            "\n",
            "Set with the use of String: \n",
            "{'e', 'o', 'k', 'r', 'F', 'G', 's'}\n",
            "\n",
            "Set with the use of an Object: \n",
            "{'e', 'o', 'k', 'r', 'F', 'G', 's'}\n",
            "\n",
            "Set with the use of List: \n",
            "{'Geeks', 'For'}\n",
            "\n",
            "Set with the use of Tuple: \n",
            "{'Geeks', 'for'}\n",
            "\n",
            "Set with the use of Dictionary: \n",
            "{'Geeks', 'for'}\n",
            "\n",
            "Set with the use of Mixed Values\n",
            "{1, 2, 'Geeks', 4, 6, 'For'}\n"
          ]
        }
      ]
    },
    {
      "cell_type": "markdown",
      "source": [
        "#### Adding elements to the set"
      ],
      "metadata": {
        "id": "wUq7W9IseXWR"
      }
    },
    {
      "cell_type": "code",
      "source": [
        "set1 = set()\n",
        "\n",
        "# Adding element and tuple to the Set\n",
        "set1.add(8)\n",
        "set1.add(9)\n",
        "set1.add((6, 7))\n",
        "print(\"\\nSet after Addition of Three elements: \")\n",
        "print(set1)\n",
        "\n",
        "# Adding elements to the Set\n",
        "# using Iterator\n",
        "for i in range(1, 6):\n",
        "    set1.add(i)\n",
        "print(\"\\nSet after Addition of elements from 1-5: \")\n",
        "print(set1)"
      ],
      "metadata": {
        "colab": {
          "base_uri": "https://localhost:8080/"
        },
        "id": "9TqcWNvzeaXS",
        "outputId": "3975a8dc-e563-470e-cc6b-f9d8b9203588"
      },
      "execution_count": null,
      "outputs": [
        {
          "output_type": "stream",
          "name": "stdout",
          "text": [
            "\n",
            "Set after Addition of Three elements: \n",
            "{8, 9, (6, 7)}\n",
            "\n",
            "Set after Addition of elements from 1-5: \n",
            "{1, 2, 3, 4, 5, 8, 9, (6, 7)}\n",
            "\n",
            "Set after Addition of elements using Update: \n",
            "{1, 2, 3, 4, 5, 8, 9, 10, 11, (6, 7)}\n"
          ]
        }
      ]
    },
    {
      "cell_type": "markdown",
      "source": [
        "Update() method"
      ],
      "metadata": {
        "id": "0b7SCzqrep7h"
      }
    },
    {
      "cell_type": "code",
      "source": [
        "set1.update([10, 11])\n",
        "print(\"\\nSet after Addition of elements using Update: \")\n",
        "print(set1)"
      ],
      "metadata": {
        "colab": {
          "base_uri": "https://localhost:8080/"
        },
        "id": "peSQtiGDepEJ",
        "outputId": "91be0a84-942e-4db8-d5d3-190f0e325b68"
      },
      "execution_count": null,
      "outputs": [
        {
          "output_type": "stream",
          "name": "stdout",
          "text": [
            "\n",
            "Set after Addition of elements using Update: \n",
            "{1, 2, 3, 4, 5, 8, 9, 10, 11, (6, 7)}\n"
          ]
        }
      ]
    },
    {
      "cell_type": "markdown",
      "source": [
        "Acessing elements"
      ],
      "metadata": {
        "id": "HJJ9v3WDe15y"
      }
    },
    {
      "cell_type": "code",
      "source": [
        "# Accessing element using\n",
        "# for loop\n",
        "print(\"\\nElements of set: \")\n",
        "for i in set1:\n",
        "    print(i, end=\" \")\n",
        "\n",
        "# Checking the element\n",
        "# using in keyword\n",
        "print(\"\\n\")\n",
        "print(\"Geeks\" in set1)"
      ],
      "metadata": {
        "colab": {
          "base_uri": "https://localhost:8080/"
        },
        "id": "4y8rQpnye5UR",
        "outputId": "39ae167b-8cbf-46f3-964a-de98f71f99a2"
      },
      "execution_count": null,
      "outputs": [
        {
          "output_type": "stream",
          "name": "stdout",
          "text": [
            "\n",
            "Elements of set: \n",
            "1 2 3 4 5 8 9 10 11 (6, 7) \n",
            "\n",
            "False\n"
          ]
        }
      ]
    },
    {
      "cell_type": "markdown",
      "source": [
        "Removing Elements from the Set"
      ],
      "metadata": {
        "id": "c21nWfUQfK29"
      }
    },
    {
      "cell_type": "code",
      "source": [
        "set1 = set([1, 2, 3, 4, 5, 6, 7, 8, 9, 10, 11, 12])\n",
        "print(set1)\n",
        "\n",
        "# Removing elements from Set  using Remove() method\n",
        "set1.remove(5)\n",
        "set1.remove(6)\n",
        "print(\"\\nSet after Removal of two elements: \")\n",
        "print(set1)\n",
        "\n",
        "# Removing elements from Set using Discard() method\n",
        "set1.discard(8)\n",
        "set1.discard(9)\n",
        "print(\"\\nSet after Discarding two elements: \")\n",
        "print(set1)\n",
        "\n",
        "# Removing elements from Set using iterator method\n",
        "for i in range(1, 5):\n",
        "    set1.remove(i)\n",
        "print(\"\\nSet after Removing a range of elements: \")\n",
        "print(set1)\n",
        "\n",
        "set1.pop()\n",
        "print(\"\\nSet after popping an element: \")\n",
        "print(set1)\n",
        "\n",
        "\n",
        "set1.clear()\n",
        "print(\"\\nSet after clearing all the elements: \")\n",
        "print(set1)"
      ],
      "metadata": {
        "colab": {
          "base_uri": "https://localhost:8080/"
        },
        "id": "dCN3hRVnfLUy",
        "outputId": "a5b5998a-671f-41cc-c325-caf4de666527"
      },
      "execution_count": null,
      "outputs": [
        {
          "output_type": "stream",
          "name": "stdout",
          "text": [
            "{1, 2, 3, 4, 5, 6, 7, 8, 9, 10, 11, 12}\n",
            "\n",
            "Set after Removal of two elements: \n",
            "{1, 2, 3, 4, 7, 8, 9, 10, 11, 12}\n",
            "\n",
            "Set after Discarding two elements: \n",
            "{1, 2, 3, 4, 7, 10, 11, 12}\n",
            "\n",
            "Set after Removing a range of elements: \n",
            "{7, 10, 11, 12}\n",
            "\n",
            "Set after popping an element: \n",
            "{10, 11, 12}\n",
            "\n",
            "Set after clearing all the elements: \n",
            "set()\n"
          ]
        }
      ]
    },
    {
      "cell_type": "markdown",
      "source": [
        "#### Frozen Sets in Python\n",
        "Frozen sets in Python are immutable objects that only support methods and operators that produce a result without affecting the frozen set or sets to which they are applied. While elements of a set can be modified at any time, elements of the frozen set remain the same after creation.\n",
        "\n",
        "If no parameters are passed, it returns an empty frozenset.  "
      ],
      "metadata": {
        "id": "Mm72GhgTfiMT"
      }
    },
    {
      "cell_type": "code",
      "source": [
        "Fset1 = frozenset(String)\n",
        "print(\"The FrozenSet is: \")\n",
        "print(Fset1)\n",
        "\n",
        "# To print Empty Frozen Set\n",
        "# No parameter is passed\n",
        "print(\"\\nEmpty FrozenSet: \")\n",
        "print(frozenset())"
      ],
      "metadata": {
        "colab": {
          "base_uri": "https://localhost:8080/"
        },
        "id": "jZlEgyVwfpKK",
        "outputId": "72081bb6-f318-4d5a-a4f1-b2a34830af30"
      },
      "execution_count": null,
      "outputs": [
        {
          "output_type": "stream",
          "name": "stdout",
          "text": [
            "The FrozenSet is: \n",
            "frozenset({'e', 'o', 'k', 'r', 'F', 'G', 's'})\n",
            "\n",
            "Empty FrozenSet: \n",
            "frozenset()\n"
          ]
        }
      ]
    },
    {
      "cell_type": "code",
      "source": [
        "def create_set():\n",
        "    my_set = {1, 2, 3, 4, 5}\n",
        "    print(my_set)\n",
        "\n",
        "\n",
        "def add_element():\n",
        "    my_set = {1, 2, 3, 4, 5}\n",
        "    my_set.add(6)\n",
        "    print(my_set)\n",
        "\n",
        "\n",
        "def remove_element():\n",
        "    my_set = {1, 2, 3, 4, 5}\n",
        "    my_set.remove(3)\n",
        "    print(my_set)\n",
        "\n",
        "\n",
        "def clear_set():\n",
        "    my_set = {1, 2, 3, 4, 5}\n",
        "    my_set.clear()\n",
        "    print(my_set)\n",
        "\n",
        "\n",
        "def set_union():\n",
        "    set1 = {1, 2, 3}\n",
        "    set2 = {4, 5, 6}\n",
        "    my_set = set1.union(set2)\n",
        "    print(my_set)\n",
        "\n",
        "\n",
        "def set_intersection():\n",
        "    set1 = {1, 2, 3, 4, 5}\n",
        "    set2 = {4, 5, 6, 7, 8}\n",
        "    my_set = set1.intersection(set2)\n",
        "    print(my_set)\n",
        "\n",
        "\n",
        "def set_difference():\n",
        "    set1 = {1, 2, 3, 4, 5}\n",
        "    set2 = {4, 5, 6, 7, 8}\n",
        "    my_set = set1.difference(set2)\n",
        "    print(my_set)\n",
        "\n",
        "\n",
        "def set_symmetric_difference():\n",
        "    set1 = {1, 2, 3, 4, 5}\n",
        "    set2 = {4, 5, 6, 7, 8}\n",
        "    my_set = set1.symmetric_difference(set2)\n",
        "    print(my_set)\n",
        "\n",
        "\n",
        "def set_subset():\n",
        "    set1 = {1, 2, 3, 4, 5}\n",
        "    set2 = {2, 3, 4}\n",
        "    subset = set2.issubset(set1)\n",
        "    print(subset)\n",
        "\n",
        "\n",
        "def set_superset():\n",
        "    set1 = {1, 2, 3, 4, 5}\n",
        "    set2 = {2, 3, 4}\n",
        "    superset = set1.issuperset(set2)\n",
        "    print(superset)\n",
        "\n",
        "\n",
        "if __name__ == '__main__':\n",
        "    create_set()\n",
        "    add_element()\n",
        "    remove_element()\n",
        "    clear_set()\n",
        "    set_union()\n",
        "    set_intersection()\n",
        "    set_difference()\n",
        "    set_symmetric_difference()\n",
        "    set_subset()\n",
        "    set_superset()"
      ],
      "metadata": {
        "id": "CA6IGJNhf5rD",
        "outputId": "3a1d7de6-f97f-4d24-845d-5bef91fb2ae6",
        "colab": {
          "base_uri": "https://localhost:8080/"
        }
      },
      "execution_count": null,
      "outputs": [
        {
          "output_type": "stream",
          "name": "stdout",
          "text": [
            "{1, 2, 3, 4, 5}\n",
            "{1, 2, 3, 4, 5, 6}\n",
            "{1, 2, 4, 5}\n",
            "set()\n",
            "{1, 2, 3, 4, 5, 6}\n",
            "{4, 5}\n",
            "{1, 2, 3}\n",
            "{1, 2, 3, 6, 7, 8}\n",
            "True\n",
            "True\n"
          ]
        }
      ]
    }
  ]
}