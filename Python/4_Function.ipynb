{
  "nbformat": 4,
  "nbformat_minor": 0,
  "metadata": {
    "colab": {
      "provenance": []
    },
    "kernelspec": {
      "name": "python3",
      "display_name": "Python 3"
    },
    "language_info": {
      "name": "python"
    }
  },
  "cells": [
    {
      "cell_type": "markdown",
      "source": [
        "# FUNCTION"
      ],
      "metadata": {
        "id": "U70T_xPyZoRo"
      }
    },
    {
      "cell_type": "code",
      "execution_count": null,
      "metadata": {
        "colab": {
          "base_uri": "https://localhost:8080/"
        },
        "id": "BIVsybChZmCE",
        "outputId": "20ea2c7e-4a7f-4fb0-ef7a-ae66e296fa24"
      },
      "outputs": [
        {
          "output_type": "stream",
          "name": "stdout",
          "text": [
            "Welcome to GFG\n"
          ]
        }
      ],
      "source": [
        "# A simple Python function\n",
        "def fun():\n",
        "    print(\"Welcome to GFG\")\n",
        "\n",
        "\n",
        "# Driver code to call a function\n",
        "fun()"
      ]
    },
    {
      "cell_type": "code",
      "source": [
        "# Python function with arguments and parameters\n",
        "def add(num1: int, num2: int) -> int:\n",
        "    \"\"\"Add two numbers\"\"\"\n",
        "    num3 = num1 + num2\n",
        "\n",
        "    return num3\n",
        "\n",
        "# Driver code\n",
        "num1, num2 = 5, 15\n",
        "ans = add(num1, num2)\n",
        "print(f\"The addition of {num1} and {num2} results {ans}.\")"
      ],
      "metadata": {
        "colab": {
          "base_uri": "https://localhost:8080/"
        },
        "id": "VuU02Y4Wa3pW",
        "outputId": "e0da4a2c-4ddd-4203-dc4c-951dbd8de801"
      },
      "execution_count": null,
      "outputs": [
        {
          "output_type": "stream",
          "name": "stdout",
          "text": [
            "The addition of 5 and 15 results 20.\n"
          ]
        }
      ]
    },
    {
      "cell_type": "markdown",
      "source": [
        "## Arguments in Python Function\n",
        "### 1. Default Argument"
      ],
      "metadata": {
        "id": "6pTXRrizblsD"
      }
    },
    {
      "cell_type": "code",
      "source": [
        "# Python program to demonstrate\n",
        "# default arguments\n",
        "def myFun(x, y=50):\n",
        "    print(\"x: \", x)\n",
        "    print(\"y: \", y)\n",
        "\n",
        "\n",
        "# Driver code (We call myFun() with only\n",
        "# argument)\n",
        "myFun(10)"
      ],
      "metadata": {
        "colab": {
          "base_uri": "https://localhost:8080/"
        },
        "id": "EUTVA3lea-2t",
        "outputId": "22dcbffc-aa53-4548-ae67-5e55bea54fdd"
      },
      "execution_count": null,
      "outputs": [
        {
          "output_type": "stream",
          "name": "stdout",
          "text": [
            "x:  10\n",
            "y:  50\n"
          ]
        }
      ]
    },
    {
      "cell_type": "markdown",
      "source": [
        "### 2. Keyword Argument"
      ],
      "metadata": {
        "id": "uovH994dcFJ1"
      }
    },
    {
      "cell_type": "code",
      "source": [
        "# Python program to demonstrate Keyword Arguments\n",
        "def student(firstname, lastname):\n",
        "    print(firstname, lastname)\n",
        "\n",
        "# Keyword arguments\n",
        "student(firstname='Geeks', lastname='Practice')\n",
        "student(lastname='Practice', firstname='Geeks')"
      ],
      "metadata": {
        "colab": {
          "base_uri": "https://localhost:8080/"
        },
        "id": "11LUscLpcASc",
        "outputId": "292c0c3d-520c-4392-96c1-532cdf4171aa"
      },
      "execution_count": null,
      "outputs": [
        {
          "output_type": "stream",
          "name": "stdout",
          "text": [
            "Geeks Practice\n",
            "Geeks Practice\n"
          ]
        }
      ]
    },
    {
      "cell_type": "markdown",
      "source": [
        "### 3. Positional Argument"
      ],
      "metadata": {
        "id": "L3kTFSzLcKYN"
      }
    },
    {
      "cell_type": "code",
      "source": [
        "def nameAge(name, age):\n",
        "    print(\"Hi, I am\", name)\n",
        "    print(\"My age is \", age)\n",
        "\n",
        "\n",
        "# You will get correct output because\n",
        "# argument is given in order\n",
        "print(\"Case-1:\")\n",
        "nameAge(\"Suraj\", 27)\n",
        "# You will get incorrect output because\n",
        "# argument is not in order\n",
        "print(\"\\nCase-2:\")\n",
        "nameAge(27, \"Suraj\")"
      ],
      "metadata": {
        "colab": {
          "base_uri": "https://localhost:8080/"
        },
        "id": "0y-DZ3zFceEM",
        "outputId": "09ec95d6-0f64-494a-c86b-7fb5a5c2960b"
      },
      "execution_count": null,
      "outputs": [
        {
          "output_type": "stream",
          "name": "stdout",
          "text": [
            "Case-1:\n",
            "Hi, I am Suraj\n",
            "My age is  27\n",
            "\n",
            "Case-2:\n",
            "Hi, I am 27\n",
            "My age is  Suraj\n"
          ]
        }
      ]
    },
    {
      "cell_type": "markdown",
      "source": [
        "### 4. Arbitrary Argument\n",
        "#### 1. Variable length non-keyword argument"
      ],
      "metadata": {
        "id": "Y0PA1HNUc3-t"
      }
    },
    {
      "cell_type": "code",
      "source": [
        "# Python program to illustrate\n",
        "# *args for variable number of arguments\n",
        "def myFun(*argv):\n",
        "    for arg in argv:\n",
        "        print(arg)\n",
        "\n",
        "\n",
        "myFun('Hello', 'Welcome', 'to', 'GeeksforGeeks')"
      ],
      "metadata": {
        "colab": {
          "base_uri": "https://localhost:8080/"
        },
        "id": "Wk5Co_sec8Xd",
        "outputId": "68e8db5e-b71d-4eb1-8602-1adbe4592501"
      },
      "execution_count": null,
      "outputs": [
        {
          "output_type": "stream",
          "name": "stdout",
          "text": [
            "Hello\n",
            "Welcome\n",
            "to\n",
            "GeeksforGeeks\n"
          ]
        }
      ]
    },
    {
      "cell_type": "markdown",
      "source": [
        "#### 2. Variable length keyword argument"
      ],
      "metadata": {
        "id": "WXUiUGGldHL1"
      }
    },
    {
      "cell_type": "code",
      "source": [
        "# Python program to illustrate\n",
        "# *kwargs for variable number of keyword arguments\n",
        "\n",
        "\n",
        "def myFun(**kwargs):\n",
        "    for key, value in kwargs.items():\n",
        "        print(\"%s == %s\" % (key, value))\n",
        "\n",
        "\n",
        "# Driver code\n",
        "myFun(first='Geeks', mid='for', last='Geeks')"
      ],
      "metadata": {
        "colab": {
          "base_uri": "https://localhost:8080/"
        },
        "id": "1Ac6gwG8dIGM",
        "outputId": "936899db-09b5-484f-d1fa-9d4193efffdd"
      },
      "execution_count": null,
      "outputs": [
        {
          "output_type": "stream",
          "name": "stdout",
          "text": [
            "first == Geeks\n",
            "mid == for\n",
            "last == Geeks\n"
          ]
        }
      ]
    },
    {
      "cell_type": "markdown",
      "source": [
        "### Python Function within Functions"
      ],
      "metadata": {
        "id": "7m_Bq2jSdgt1"
      }
    },
    {
      "cell_type": "code",
      "source": [
        "# Python program to demonstrate accessing of variables of nested functions\n",
        "\n",
        "def f1():\n",
        "    s = 'I love GeeksforGeeks'\n",
        "\n",
        "    def f2():\n",
        "        print(s)\n",
        "\n",
        "    f2()\n",
        "\n",
        "# Driver's code\n",
        "f1()"
      ],
      "metadata": {
        "colab": {
          "base_uri": "https://localhost:8080/"
        },
        "id": "9Rf8WsAmdjos",
        "outputId": "3dd61b67-ca15-4186-faa5-4f769a755bf0"
      },
      "execution_count": null,
      "outputs": [
        {
          "output_type": "stream",
          "name": "stdout",
          "text": [
            "I love GeeksforGeeks\n"
          ]
        }
      ]
    },
    {
      "cell_type": "markdown",
      "source": [
        "### Anonymous function"
      ],
      "metadata": {
        "id": "UmjWWA5qeVZ0"
      }
    },
    {
      "cell_type": "code",
      "source": [
        "# Python code to illustrate the cube of a number\n",
        "# using lambda function\n",
        "def cube(x): return x*x*x\n",
        "\n",
        "cube_v2 = lambda x : x*x*x\n",
        "\n",
        "print(cube(7))\n",
        "print(cube_v2(7))"
      ],
      "metadata": {
        "colab": {
          "base_uri": "https://localhost:8080/"
        },
        "id": "7Fs6AAz3ePhE",
        "outputId": "ae631c24-6341-4bd4-8c81-a82f964de397"
      },
      "execution_count": null,
      "outputs": [
        {
          "output_type": "stream",
          "name": "stdout",
          "text": [
            "343\n",
            "343\n"
          ]
        }
      ]
    },
    {
      "cell_type": "markdown",
      "source": [
        "### Recursive function\n",
        "When a function calls itself repreatedly."
      ],
      "metadata": {
        "id": "uiufrSEfepTV"
      }
    },
    {
      "cell_type": "code",
      "source": [
        "def factorial(n):\n",
        "    if n == 0:\n",
        "        return 1\n",
        "    else:\n",
        "        return n * factorial(n - 1)\n",
        "\n",
        "print(factorial(4))"
      ],
      "metadata": {
        "colab": {
          "base_uri": "https://localhost:8080/"
        },
        "id": "eaxUCmhNexT1",
        "outputId": "0a01d82e-65da-43a9-d414-61fe167e6e3b"
      },
      "execution_count": null,
      "outputs": [
        {
          "output_type": "stream",
          "name": "stdout",
          "text": [
            "24\n"
          ]
        }
      ]
    },
    {
      "cell_type": "markdown",
      "source": [
        "## Scope of Variable\n",
        "#### 1. Local Variable"
      ],
      "metadata": {
        "id": "rb1ZdtT-gBeE"
      }
    },
    {
      "cell_type": "code",
      "source": [
        "def f():\n",
        "\n",
        "\t# local variable\n",
        "\ts = \"I love Geeksforgeeks\"\n",
        "\tprint(s)\n",
        "\n",
        "\n",
        "# Driver code\n",
        "f()"
      ],
      "metadata": {
        "colab": {
          "base_uri": "https://localhost:8080/"
        },
        "id": "fMJCfvX-gE-8",
        "outputId": "ed77d1ae-fc4d-4370-97bb-e91cd6be4da1"
      },
      "execution_count": null,
      "outputs": [
        {
          "output_type": "stream",
          "name": "stdout",
          "text": [
            "I love Geeksforgeeks\n"
          ]
        }
      ]
    },
    {
      "cell_type": "code",
      "source": [
        "# Local variable called outside the scope\n",
        "def f():\n",
        "\n",
        "    # local variable\n",
        "    s = \"I love Geeksforgeeks\"\n",
        "    print(\"Inside Function:\", s)\n",
        "\n",
        "# Driver code\n",
        "f()\n",
        "print(s)"
      ],
      "metadata": {
        "colab": {
          "base_uri": "https://localhost:8080/",
          "height": 193
        },
        "id": "Kq2TiEfwgdis",
        "outputId": "a7ec66aa-1a1a-4e3d-96d7-9957d63adeae"
      },
      "execution_count": null,
      "outputs": [
        {
          "output_type": "stream",
          "name": "stdout",
          "text": [
            "Inside Function: I love Geeksforgeeks\n"
          ]
        },
        {
          "output_type": "error",
          "ename": "NameError",
          "evalue": "name 's' is not defined",
          "traceback": [
            "\u001b[0;31m---------------------------------------------------------------------------\u001b[0m",
            "\u001b[0;31mNameError\u001b[0m                                 Traceback (most recent call last)",
            "\u001b[0;32m<ipython-input-13-e9986a1c3e83>\u001b[0m in \u001b[0;36m<cell line: 10>\u001b[0;34m()\u001b[0m\n\u001b[1;32m      8\u001b[0m \u001b[0;31m# Driver code\u001b[0m\u001b[0;34m\u001b[0m\u001b[0;34m\u001b[0m\u001b[0m\n\u001b[1;32m      9\u001b[0m \u001b[0mf\u001b[0m\u001b[0;34m(\u001b[0m\u001b[0;34m)\u001b[0m\u001b[0;34m\u001b[0m\u001b[0;34m\u001b[0m\u001b[0m\n\u001b[0;32m---> 10\u001b[0;31m \u001b[0mprint\u001b[0m\u001b[0;34m(\u001b[0m\u001b[0ms\u001b[0m\u001b[0;34m)\u001b[0m\u001b[0;34m\u001b[0m\u001b[0;34m\u001b[0m\u001b[0m\n\u001b[0m",
            "\u001b[0;31mNameError\u001b[0m: name 's' is not defined"
          ]
        }
      ]
    },
    {
      "cell_type": "markdown",
      "source": [
        "#### 2. Global Variable"
      ],
      "metadata": {
        "id": "1dHSTsNJgkNs"
      }
    },
    {
      "cell_type": "code",
      "source": [
        "# This function uses global variable s\n",
        "def f():\n",
        "\tprint(s)\n",
        "\n",
        "\n",
        "# Global scope\n",
        "s = \"I love Geeksforgeeks\"\n",
        "f()"
      ],
      "metadata": {
        "colab": {
          "base_uri": "https://localhost:8080/"
        },
        "id": "0oQNTc4Ngy29",
        "outputId": "26979db0-9cf4-450b-f526-6df398efff91"
      },
      "execution_count": null,
      "outputs": [
        {
          "output_type": "stream",
          "name": "stdout",
          "text": [
            "I love Geeksforgeeks\n"
          ]
        }
      ]
    },
    {
      "cell_type": "markdown",
      "source": [
        "#### Global and local variable with same name"
      ],
      "metadata": {
        "id": "glZvuWOog2fU"
      }
    },
    {
      "cell_type": "code",
      "source": [
        "# This function has a variable with\n",
        "# name same as s.\n",
        "def f():\n",
        "\ts = \"Me too.\"\n",
        "\tprint(s)\n",
        "\n",
        "# Global scope\n",
        "s = \"I love Geeksforgeeks\"\n",
        "f()\n",
        "print(s)"
      ],
      "metadata": {
        "colab": {
          "base_uri": "https://localhost:8080/"
        },
        "id": "xtlKzlG_g6S9",
        "outputId": "45e03433-5dae-41ff-c114-ede5248f6078"
      },
      "execution_count": null,
      "outputs": [
        {
          "output_type": "stream",
          "name": "stdout",
          "text": [
            "Me too.\n",
            "I love Geeksforgeeks\n"
          ]
        }
      ]
    },
    {
      "cell_type": "code",
      "source": [
        "def f():\n",
        "\tprint(s)\n",
        "\n",
        "\t# This program will NOT show error\n",
        "\t# if we comment below line.\n",
        "\ts = \"Me too.\"\n",
        "\n",
        "\tprint(s)\n",
        "\n",
        "\n",
        "# Global scope\n",
        "s = \"I love Geeksforgeeks\"\n",
        "f()\n",
        "print(s)"
      ],
      "metadata": {
        "colab": {
          "base_uri": "https://localhost:8080/",
          "height": 315
        },
        "id": "t6yz9LUmhD-k",
        "outputId": "8df899ca-951a-4718-8e3f-9c29cdff418c"
      },
      "execution_count": null,
      "outputs": [
        {
          "output_type": "error",
          "ename": "UnboundLocalError",
          "evalue": "local variable 's' referenced before assignment",
          "traceback": [
            "\u001b[0;31m---------------------------------------------------------------------------\u001b[0m",
            "\u001b[0;31mUnboundLocalError\u001b[0m                         Traceback (most recent call last)",
            "\u001b[0;32m<ipython-input-16-d8a7632d1b69>\u001b[0m in \u001b[0;36m<cell line: 13>\u001b[0;34m()\u001b[0m\n\u001b[1;32m     11\u001b[0m \u001b[0;31m# Global scope\u001b[0m\u001b[0;34m\u001b[0m\u001b[0;34m\u001b[0m\u001b[0m\n\u001b[1;32m     12\u001b[0m \u001b[0ms\u001b[0m \u001b[0;34m=\u001b[0m \u001b[0;34m\"I love Geeksforgeeks\"\u001b[0m\u001b[0;34m\u001b[0m\u001b[0;34m\u001b[0m\u001b[0m\n\u001b[0;32m---> 13\u001b[0;31m \u001b[0mf\u001b[0m\u001b[0;34m(\u001b[0m\u001b[0;34m)\u001b[0m\u001b[0;34m\u001b[0m\u001b[0;34m\u001b[0m\u001b[0m\n\u001b[0m\u001b[1;32m     14\u001b[0m \u001b[0mprint\u001b[0m\u001b[0;34m(\u001b[0m\u001b[0ms\u001b[0m\u001b[0;34m)\u001b[0m\u001b[0;34m\u001b[0m\u001b[0;34m\u001b[0m\u001b[0m\n",
            "\u001b[0;32m<ipython-input-16-d8a7632d1b69>\u001b[0m in \u001b[0;36mf\u001b[0;34m()\u001b[0m\n\u001b[1;32m      1\u001b[0m \u001b[0;32mdef\u001b[0m \u001b[0mf\u001b[0m\u001b[0;34m(\u001b[0m\u001b[0;34m)\u001b[0m\u001b[0;34m:\u001b[0m\u001b[0;34m\u001b[0m\u001b[0;34m\u001b[0m\u001b[0m\n\u001b[0;32m----> 2\u001b[0;31m         \u001b[0mprint\u001b[0m\u001b[0;34m(\u001b[0m\u001b[0ms\u001b[0m\u001b[0;34m)\u001b[0m\u001b[0;34m\u001b[0m\u001b[0;34m\u001b[0m\u001b[0m\n\u001b[0m\u001b[1;32m      3\u001b[0m \u001b[0;34m\u001b[0m\u001b[0m\n\u001b[1;32m      4\u001b[0m         \u001b[0;31m# This program will NOT show error\u001b[0m\u001b[0;34m\u001b[0m\u001b[0;34m\u001b[0m\u001b[0m\n\u001b[1;32m      5\u001b[0m         \u001b[0;31m# if we comment below line.\u001b[0m\u001b[0;34m\u001b[0m\u001b[0;34m\u001b[0m\u001b[0m\n",
            "\u001b[0;31mUnboundLocalError\u001b[0m: local variable 's' referenced before assignment"
          ]
        }
      ]
    },
    {
      "cell_type": "markdown",
      "source": [
        "To make the above program work, we need to use global keyword. We only need to use global keyword in a function if we want to do assignments / change them. global is not needed for printing and accessing. Why? Python “assumes” that we want a local variable due to the assignment to s inside of f(), so the first print statement throws this error message. Any variable which is changed or created inside of a function is local, if it hasn’t been declared as a global variable."
      ],
      "metadata": {
        "id": "KhdbuAvYhQhc"
      }
    },
    {
      "cell_type": "code",
      "source": [
        "# This function modifies global variable 's'\n",
        "def f():\n",
        "\tglobal s\n",
        "\tprint(s)\n",
        "\ts = \"Look for Geeksforgeeks Python Section\"\n",
        "\tprint(s)\n",
        "\n",
        "\n",
        "# Global Scope\n",
        "s = \"Python is great !\"\n",
        "f()\n",
        "print(s)"
      ],
      "metadata": {
        "colab": {
          "base_uri": "https://localhost:8080/"
        },
        "id": "o17YOPRShe2E",
        "outputId": "5c9313d2-e39f-41b7-f743-86849aac2164"
      },
      "execution_count": null,
      "outputs": [
        {
          "output_type": "stream",
          "name": "stdout",
          "text": [
            "Python is great !\n",
            "Look for Geeksforgeeks Python Section\n",
            "Look for Geeksforgeeks Python Section\n"
          ]
        }
      ]
    },
    {
      "cell_type": "code",
      "source": [
        "# Python program to demonstrate\n",
        "# scope of variable\n",
        "\n",
        "a = 1\n",
        "\n",
        "# Uses global because there is no local 'a'\n",
        "def f():\n",
        "\tprint('Inside f() : ', a)\n",
        "\n",
        "# Variable 'a' is redefined as a local\n",
        "def g():\n",
        "\ta = 2\n",
        "\tprint('Inside g() : ', a)\n",
        "\n",
        "# Uses global keyword to modify global 'a'\n",
        "def h():\n",
        "\tglobal a\n",
        "\ta = 3\n",
        "\tprint('Inside h() : ', a)\n",
        "\n",
        "# Global scope\n",
        "print('global : ', a)\n",
        "f()\n",
        "print('global : ', a)\n",
        "g()\n",
        "print('global : ', a)\n",
        "h()\n",
        "print('global : ', a)"
      ],
      "metadata": {
        "colab": {
          "base_uri": "https://localhost:8080/"
        },
        "id": "PoFgyDmehvKu",
        "outputId": "12212470-d90d-4f8e-a6cd-ca0550c1db34"
      },
      "execution_count": null,
      "outputs": [
        {
          "output_type": "stream",
          "name": "stdout",
          "text": [
            "global :  1\n",
            "Inside f() :  1\n",
            "global :  1\n",
            "Inside g() :  2\n",
            "global :  1\n",
            "Inside h() :  3\n",
            "global :  3\n"
          ]
        }
      ]
    },
    {
      "cell_type": "markdown",
      "source": [
        "#### Python Nonlocal keyword\n",
        "In Python, the nonlocal keyword is used in the case of nested functions. This keyword works similarly to the global, but rather than global, this keyword declares a variable to point to the variable of an outside enclosing function, in case of nested functions."
      ],
      "metadata": {
        "id": "pWxWKw3Sh2ZL"
      }
    },
    {
      "cell_type": "code",
      "source": [
        "# Python program to demonstrate\n",
        "# nonlocal keyword\n",
        "\n",
        "print(\"Value of a using nonlocal is : \", end=\"\")\n",
        "\n",
        "\n",
        "def outer():\n",
        "\ta = 5\n",
        "\n",
        "\tdef inner():\n",
        "\t\tnonlocal a\n",
        "\t\ta = 10\n",
        "\tinner()\n",
        "\tprint(a)\n",
        "\n",
        "\n",
        "outer()\n",
        "\n",
        "# demonstrating without non local\n",
        "# inner loop not changing the value of outer a\n",
        "# prints 5\n",
        "print(\"Value of a without using nonlocal is : \", end=\"\")\n",
        "\n",
        "\n",
        "def outer():\n",
        "\ta = 5\n",
        "\n",
        "\tdef inner():\n",
        "\t\ta = 10\n",
        "\tinner()\n",
        "\tprint(a)\n",
        "\n",
        "\n",
        "outer()"
      ],
      "metadata": {
        "colab": {
          "base_uri": "https://localhost:8080/"
        },
        "id": "DkLPeYieh4CF",
        "outputId": "372c6106-b481-4992-b8bf-c0f28c6cf1bd"
      },
      "execution_count": null,
      "outputs": [
        {
          "output_type": "stream",
          "name": "stdout",
          "text": [
            "Value of a using nonlocal is : 10\n",
            "Value of a without using nonlocal is : 5\n"
          ]
        }
      ]
    },
    {
      "cell_type": "markdown",
      "source": [
        "## Return statement"
      ],
      "metadata": {
        "id": "CHSqraEFio1l"
      }
    },
    {
      "cell_type": "code",
      "source": [
        "# Python program to\n",
        "# demonstrate return statement\n",
        "\n",
        "def add(a, b):\n",
        "\n",
        "    # returning sum of a and b\n",
        "    return a + b\n",
        "\n",
        "def is_true(a):\n",
        "\n",
        "    # returning boolean of a\n",
        "    return bool(a)\n",
        "\n",
        "# calling function\n",
        "res = add(2, 3)\n",
        "print(\"Result of add function is {}\".format(res))\n",
        "\n",
        "res = is_true(2<5)\n",
        "print(\"\\nResult of is_true function is {}\".format(res))"
      ],
      "metadata": {
        "id": "nTPv845HirlF"
      },
      "execution_count": null,
      "outputs": []
    },
    {
      "cell_type": "markdown",
      "source": [
        "### Returning Multiple Values\n",
        "#### 1. Using Object: This is similar to C/C++ and Java, we can create a class (in C, struct) to hold multiple values and return an object of the class."
      ],
      "metadata": {
        "id": "iL043N-ci5vE"
      }
    },
    {
      "cell_type": "code",
      "source": [
        "# A Python program to return multiple\n",
        "# values from a method using class\n",
        "class Test:\n",
        "    def __init__(self):\n",
        "        self.str = \"geeksforgeeks\"\n",
        "        self.x = 20\n",
        "\n",
        "# This function returns an object of Test\n",
        "def fun():\n",
        "    return Test()\n",
        "\n",
        "# Driver code to test above method\n",
        "t = fun()\n",
        "print(t.str)\n",
        "print(t.x)"
      ],
      "metadata": {
        "colab": {
          "base_uri": "https://localhost:8080/"
        },
        "id": "a7DbN4bji_BM",
        "outputId": "b1dc1b10-3580-42f4-ae66-3f2819069e65"
      },
      "execution_count": null,
      "outputs": [
        {
          "output_type": "stream",
          "name": "stdout",
          "text": [
            "geeksforgeeks\n",
            "20\n"
          ]
        }
      ]
    },
    {
      "cell_type": "markdown",
      "source": [
        "#### 2. Using Tuple: A Tuple is a comma separated sequence of items. It is created with or without (). Tuples are immutable. See this for details of tuple."
      ],
      "metadata": {
        "id": "OyHpo7qljKpS"
      }
    },
    {
      "cell_type": "code",
      "source": [
        "# A Python program to return multiple\n",
        "# values from a method using tuple\n",
        "\n",
        "# This function returns a tuple\n",
        "def fun():\n",
        "    str = \"geeksforgeeks\"\n",
        "    x = 20\n",
        "    return str, x;  # Return tuple, we could also\n",
        "                    # write (str, x)\n",
        "\n",
        "# Driver code to test above method\n",
        "str, x = fun() # Assign returned tuple\n",
        "print(str)\n",
        "print(x)"
      ],
      "metadata": {
        "id": "di3z7K70jOeF"
      },
      "execution_count": null,
      "outputs": []
    },
    {
      "cell_type": "markdown",
      "source": [
        "#### 3. Using a list: A list is like an array of items created using square brackets. They are different from arrays as they can contain items of different types. Lists are different from tuples as they are mutable."
      ],
      "metadata": {
        "id": "9TmA4THUjUNk"
      }
    },
    {
      "cell_type": "code",
      "source": [
        "# A Python program to return multiple\n",
        "# values from a method using list\n",
        "\n",
        "# This function returns a list\n",
        "def fun():\n",
        "    str = \"geeksforgeeks\"\n",
        "    x = 20\n",
        "    return [str, x];\n",
        "\n",
        "# Driver code to test above method\n",
        "list = fun()\n",
        "print(list)"
      ],
      "metadata": {
        "colab": {
          "base_uri": "https://localhost:8080/"
        },
        "id": "NWxkvpV7jV-M",
        "outputId": "c3c44280-9a42-40f6-c8c4-877a60240014"
      },
      "execution_count": null,
      "outputs": [
        {
          "output_type": "stream",
          "name": "stdout",
          "text": [
            "['geeksforgeeks', 20]\n"
          ]
        }
      ]
    },
    {
      "cell_type": "markdown",
      "source": [
        "#### 4. Using a Dictionary: A Dictionary is similar to hash or map in other languages."
      ],
      "metadata": {
        "id": "qGlkAPB9jayU"
      }
    },
    {
      "cell_type": "code",
      "source": [
        "# A Python program to return multiple\n",
        "# values from a method using dictionary\n",
        "\n",
        "# This function returns a dictionary\n",
        "def fun():\n",
        "    d = dict();\n",
        "    d['str'] = \"GeeksforGeeks\"\n",
        "    d['x']   = 20\n",
        "    return d\n",
        "\n",
        "# Driver code to test above method\n",
        "d = fun()\n",
        "print(d)"
      ],
      "metadata": {
        "colab": {
          "base_uri": "https://localhost:8080/"
        },
        "id": "NHT0iEptjcR8",
        "outputId": "4e247ba7-6267-4454-a12a-0a3dfb84322b"
      },
      "execution_count": null,
      "outputs": [
        {
          "output_type": "stream",
          "name": "stdout",
          "text": [
            "{'str': 'GeeksforGeeks', 'x': 20}\n"
          ]
        }
      ]
    },
    {
      "cell_type": "markdown",
      "source": [
        "### Function returning another function"
      ],
      "metadata": {
        "id": "zY2aT4QojjZD"
      }
    },
    {
      "cell_type": "code",
      "source": [
        "# Python program to illustrate functions\n",
        "# can return another function\n",
        "\n",
        "def create_adder(x):\n",
        "    def adder(y):\n",
        "        return x + y\n",
        "\n",
        "    return adder\n",
        "\n",
        "add_15 = create_adder(15)\n",
        "\n",
        "print(\"The result is\", add_15(10))\n",
        "\n",
        "# Returning different function\n",
        "def outer(x):\n",
        "    return x * 10\n",
        "\n",
        "def my_func():\n",
        "\n",
        "    # returning different function\n",
        "    return outer\n",
        "\n",
        "# storing the function in res\n",
        "res = my_func()\n",
        "\n",
        "print(\"\\nThe result is:\", res(10))"
      ],
      "metadata": {
        "id": "emSKoIXGjlsz"
      },
      "execution_count": null,
      "outputs": []
    },
    {
      "cell_type": "markdown",
      "source": [
        "## Recursive Function"
      ],
      "metadata": {
        "id": "cqGuNIMplAZ8"
      }
    },
    {
      "cell_type": "code",
      "source": [
        "# Recursive Function to calculate Factorial of a number\n",
        "def factorial(n):\n",
        "    # Base case\n",
        "    if n == 0:\n",
        "        return 1\n",
        "\n",
        "    # Recursive case\n",
        "    return n * factorial(n - 1)\n",
        "\n",
        "# Driver Code\n",
        "if __name__ == \"__main__\":\n",
        "    n = 4\n",
        "\n",
        "    print(\"Factorial of\", n, \"is:\", factorial(n))"
      ],
      "metadata": {
        "id": "wt9rGBR7lDV0"
      },
      "execution_count": null,
      "outputs": []
    },
    {
      "cell_type": "markdown",
      "source": [
        "## Lambda Function"
      ],
      "metadata": {
        "id": "1PbPJ6nkl5Xb"
      }
    },
    {
      "cell_type": "code",
      "source": [
        "str1 = 'GeeksforGeeks'\n",
        "\n",
        "upper = lambda string: string.upper()\n",
        "print(upper(str1))"
      ],
      "metadata": {
        "colab": {
          "base_uri": "https://localhost:8080/"
        },
        "id": "7rGgJ46_l7lq",
        "outputId": "8bedc0bc-b863-48c3-c266-aed78a61e7fe"
      },
      "execution_count": null,
      "outputs": [
        {
          "output_type": "stream",
          "name": "stdout",
          "text": [
            "GEEKSFORGEEKS\n"
          ]
        }
      ]
    },
    {
      "cell_type": "code",
      "source": [
        "format_numeric = lambda num: f\"{num:e}\" if isinstance(num, int) else f\"{num:,.2f}\"\n",
        "\n",
        "print(\"Int formatting:\", format_numeric(1000000))\n",
        "print(\"float formatting:\", format_numeric(999999.789541235))"
      ],
      "metadata": {
        "colab": {
          "base_uri": "https://localhost:8080/"
        },
        "id": "J2BpJ1YOmw1D",
        "outputId": "3c57e2f7-ac92-4159-f62a-c006bd550548"
      },
      "execution_count": null,
      "outputs": [
        {
          "output_type": "stream",
          "name": "stdout",
          "text": [
            "Int formatting: 1.000000e+06\n",
            "float formatting: 999,999.79\n"
          ]
        }
      ]
    },
    {
      "cell_type": "code",
      "source": [
        "# difference between lambda function and def function\n",
        "def cube(y):\n",
        "    return y*y*y\n",
        "\n",
        "lambda_cube = lambda y: y*y*y\n",
        "print(\"Using function defined with `def` keyword, cube:\", cube(5))\n",
        "print(\"Using lambda function, cube:\", lambda_cube(5))"
      ],
      "metadata": {
        "colab": {
          "base_uri": "https://localhost:8080/"
        },
        "id": "tboGxuJ0m2ib",
        "outputId": "e7f4fa9c-3adc-41d8-beb2-e772d8eba28f"
      },
      "execution_count": null,
      "outputs": [
        {
          "output_type": "stream",
          "name": "stdout",
          "text": [
            "Using function defined with `def` keyword, cube: 125\n",
            "Using lambda function, cube: 125\n"
          ]
        }
      ]
    },
    {
      "cell_type": "code",
      "source": [
        "# Lambda function with list comprehension\n",
        "\n",
        "is_even_list = [lambda arg=x: arg * 10 for x in range(1, 5)]\n",
        "for item in is_even_list:\n",
        "    print(item())"
      ],
      "metadata": {
        "colab": {
          "base_uri": "https://localhost:8080/"
        },
        "id": "Jwj0DgfXnXa7",
        "outputId": "3f517248-91cf-4606-b93a-146267ae38f9"
      },
      "execution_count": null,
      "outputs": [
        {
          "output_type": "stream",
          "name": "stdout",
          "text": [
            "10\n",
            "20\n",
            "30\n",
            "40\n"
          ]
        }
      ]
    },
    {
      "cell_type": "code",
      "source": [
        "# Python Lambda Function with if-else\n",
        "# Here we are using the Max lambda function to find the maximum of two integers.\n",
        "Max = lambda a, b : a if(a > b) else b\n",
        "print(Max(1, 2))"
      ],
      "metadata": {
        "colab": {
          "base_uri": "https://localhost:8080/"
        },
        "id": "9fzHCuGjncMc",
        "outputId": "8fbb2b18-79cc-452c-812a-5ffae54fd000"
      },
      "execution_count": null,
      "outputs": [
        {
          "output_type": "stream",
          "name": "stdout",
          "text": [
            "2\n"
          ]
        }
      ]
    },
    {
      "cell_type": "code",
      "source": [
        "# lambda with multiple statements\n",
        "List = [[2,3,4],[1, 4, 16, 64],[3, 6, 9, 12]]\n",
        "\n",
        "sortList = lambda x: (sorted(i) for i in x)\n",
        "secondLargest = lambda x, f : [y[len(y)-2] for y in f(x)]\n",
        "res = secondLargest(List, sortList)\n",
        "\n",
        "print(res)"
      ],
      "metadata": {
        "colab": {
          "base_uri": "https://localhost:8080/"
        },
        "id": "dmrqxisvnnBV",
        "outputId": "2d4b5680-d327-4885-dee8-df936dc7ca05"
      },
      "execution_count": null,
      "outputs": [
        {
          "output_type": "stream",
          "name": "stdout",
          "text": [
            "[3, 16, 9]\n"
          ]
        }
      ]
    },
    {
      "cell_type": "markdown",
      "source": [
        "#### Filter all people having age more than 18, using lambda and filter() function\n",
        "The code filters a list of ages and extracts the ages of adults (ages greater than 18) using a lambda function and the ‘filter' function. It then prints the list of adult ages. The output displays the ages of individuals who are 18 years or older.numbers that generated False."
      ],
      "metadata": {
        "id": "6Wuljk8ln0Nb"
      }
    },
    {
      "cell_type": "code",
      "source": [
        "ages = [13, 90, 17, 59, 21, 60, 5]\n",
        "adults = list(filter(lambda age: age > 18, ages))\n",
        "\n",
        "print(adults)"
      ],
      "metadata": {
        "colab": {
          "base_uri": "https://localhost:8080/"
        },
        "id": "Wfmi0L4nn3Wl",
        "outputId": "86aaf48d-7d1d-49af-9b12-44f6579ea54c"
      },
      "execution_count": null,
      "outputs": [
        {
          "output_type": "stream",
          "name": "stdout",
          "text": [
            "[90, 59, 21, 60]\n"
          ]
        }
      ]
    },
    {
      "cell_type": "markdown",
      "source": [
        "### Using lambda() Function with map()\n",
        "The map() function in Python takes in a function and a list as an argument. The function is called with a lambda function and a list and a new list is returned which contains all the lambda-modified items returned by that function for each item. Example:\n",
        "\n",
        "#### Multiply all elements of a list by 2 using lambda and map() function"
      ],
      "metadata": {
        "id": "Bl5NSGDNo4lD"
      }
    },
    {
      "cell_type": "code",
      "source": [
        "li = [5, 7, 22, 97, 54, 62, 77, 23, 73, 61]\n",
        "\n",
        "final_list = list(map(lambda x: x*2, li))\n",
        "print(final_list)"
      ],
      "metadata": {
        "colab": {
          "base_uri": "https://localhost:8080/"
        },
        "id": "8zxHrYXio7vc",
        "outputId": "ed904997-155d-4aad-a2c2-4a6860fedfb6"
      },
      "execution_count": null,
      "outputs": [
        {
          "output_type": "stream",
          "name": "stdout",
          "text": [
            "[10, 14, 44, 194, 108, 124, 154, 46, 146, 122]\n"
          ]
        }
      ]
    },
    {
      "cell_type": "markdown",
      "source": [
        "### Using lambda() Function with reduce()\n",
        "The reduce() function in Python takes in a function and a list as an argument. The function is called with a lambda function and an iterable and a new reduced result is returned. This performs a repetitive operation over the pairs of the iterable. The reduce() function belongs to the functools module.\n",
        "\n",
        "#### A sum of all elements in a list using lambda and reduce() function"
      ],
      "metadata": {
        "id": "Itw25ZXPpEMG"
      }
    },
    {
      "cell_type": "code",
      "source": [
        "from functools import reduce\n",
        "li = [5, 8, 10, 20, 50, 100]\n",
        "sum = reduce((lambda x, y: x + y), li)\n",
        "print(sum)"
      ],
      "metadata": {
        "colab": {
          "base_uri": "https://localhost:8080/"
        },
        "id": "aol0zLPqpGZk",
        "outputId": "6601215a-27b1-4b24-c656-4fe362aa8233"
      },
      "execution_count": null,
      "outputs": [
        {
          "output_type": "stream",
          "name": "stdout",
          "text": [
            "193\n"
          ]
        }
      ]
    },
    {
      "cell_type": "markdown",
      "source": [
        "Find the maximum element in a list using lambda and reduce() function"
      ],
      "metadata": {
        "id": "pLIfe2l8pNDC"
      }
    },
    {
      "cell_type": "code",
      "source": [
        "import functools\n",
        "lis = [1, 3, 5, 6, 2, ]\n",
        "print(\"The maximum element of the list is : \", end=\"\")\n",
        "print(functools.reduce(lambda a, b: a if a > b else b, lis))"
      ],
      "metadata": {
        "colab": {
          "base_uri": "https://localhost:8080/"
        },
        "id": "FHs1VNYRpMeB",
        "outputId": "150e8670-832a-4d09-8e2b-3470bb757e2e"
      },
      "execution_count": null,
      "outputs": [
        {
          "output_type": "stream",
          "name": "stdout",
          "text": [
            "The maximum element of the list is : 6\n"
          ]
        }
      ]
    },
    {
      "cell_type": "markdown",
      "source": [
        "## MAp() function"
      ],
      "metadata": {
        "id": "6eYmxge2p3wB"
      }
    },
    {
      "cell_type": "code",
      "source": [
        "# Python program to demonstrate working\n",
        "# of map.\n",
        "\n",
        "# Return double of n\n",
        "def addition(n):\n",
        "    return n + n\n",
        "\n",
        "# We double all numbers using map()\n",
        "numbers = (1, 2, 3, 4)\n",
        "result = map(addition, numbers)\n",
        "print(list(result))"
      ],
      "metadata": {
        "colab": {
          "base_uri": "https://localhost:8080/"
        },
        "id": "xfdLGRdsp7HR",
        "outputId": "ace76959-2c67-4aa2-ea50-3416fa617c41"
      },
      "execution_count": null,
      "outputs": [
        {
          "output_type": "stream",
          "name": "stdout",
          "text": [
            "[2, 4, 6, 8]\n"
          ]
        }
      ]
    },
    {
      "cell_type": "code",
      "source": [
        "# Double all numbers using map and lambda\n",
        "\n",
        "numbers = (1, 2, 3, 4)\n",
        "result = map(lambda x: x + x, numbers)\n",
        "print(list(result))\n"
      ],
      "metadata": {
        "colab": {
          "base_uri": "https://localhost:8080/"
        },
        "id": "UeCT2w8uqgAT",
        "outputId": "8b6ba5b3-2c4d-42a4-c648-78d469f54e70"
      },
      "execution_count": null,
      "outputs": [
        {
          "output_type": "stream",
          "name": "stdout",
          "text": [
            "[2, 4, 6, 8]\n"
          ]
        }
      ]
    },
    {
      "cell_type": "code",
      "source": [
        "# Add two lists using map and lambda\n",
        "\n",
        "numbers1 = [1, 2, 3]\n",
        "numbers2 = [4, 5, 6]\n",
        "\n",
        "result = map(lambda x, y: x + y, numbers1, numbers2)\n",
        "print(list(result))\n"
      ],
      "metadata": {
        "colab": {
          "base_uri": "https://localhost:8080/"
        },
        "id": "YyYSiAkzqjd0",
        "outputId": "3a461fbd-4531-4376-f331-1fd5b2693292"
      },
      "execution_count": null,
      "outputs": [
        {
          "output_type": "stream",
          "name": "stdout",
          "text": [
            "[5, 7, 9]\n"
          ]
        }
      ]
    },
    {
      "cell_type": "markdown",
      "source": [
        "Modify the string using map()"
      ],
      "metadata": {
        "id": "N-C-dWTwq22j"
      }
    },
    {
      "cell_type": "code",
      "source": [
        "# List of strings\n",
        "l = ['sat', 'bat', 'cat', 'mat']\n",
        "\n",
        "# map() can listify the list of strings individually\n",
        "test = list(map(list, l))\n",
        "print(test)\n"
      ],
      "metadata": {
        "colab": {
          "base_uri": "https://localhost:8080/"
        },
        "id": "OQrvGwXFq2Cz",
        "outputId": "7abd57c6-5eff-4b44-b9fc-25b54f8af854"
      },
      "execution_count": null,
      "outputs": [
        {
          "output_type": "stream",
          "name": "stdout",
          "text": [
            "[['s', 'a', 't'], ['b', 'a', 't'], ['c', 'a', 't'], ['m', 'a', 't']]\n"
          ]
        }
      ]
    },
    {
      "cell_type": "markdown",
      "source": [
        "## filter() function"
      ],
      "metadata": {
        "id": "Lu-RJXlhrDII"
      }
    },
    {
      "cell_type": "code",
      "source": [
        "# function that filters vowels\n",
        "def fun(variable):\n",
        "    letters = ['a', 'e', 'i', 'o', 'u']\n",
        "    if (variable in letters):\n",
        "        return True\n",
        "    else:\n",
        "        return False\n",
        "\n",
        "\n",
        "# sequence\n",
        "sequence = ['g', 'e', 'e', 'j', 'k', 's', 'p', 'r']\n",
        "\n",
        "# using filter function\n",
        "filtered = filter(fun, sequence)\n",
        "\n",
        "print('The filtered letters are:')\n",
        "for s in filtered:\n",
        "    print(s)"
      ],
      "metadata": {
        "colab": {
          "base_uri": "https://localhost:8080/"
        },
        "id": "m6j7IBTZrFej",
        "outputId": "55167198-e210-467a-a2ca-06d599d84527"
      },
      "execution_count": null,
      "outputs": [
        {
          "output_type": "stream",
          "name": "stdout",
          "text": [
            "The filtered letters are:\n",
            "e\n",
            "e\n"
          ]
        }
      ]
    },
    {
      "cell_type": "code",
      "source": [
        "# Filter Function in Python with Lambda\n",
        "# a list contains both even and odd numbers.\n",
        "seq = [0, 1, 2, 3, 5, 8, 13]\n",
        "\n",
        "# result contains odd numbers of the list\n",
        "result = filter(lambda x: x % 2 != 0, seq)\n",
        "print(list(result))\n",
        "\n",
        "# result contains even numbers of the list\n",
        "result = filter(lambda x: x % 2 == 0, seq)\n",
        "print(list(result))"
      ],
      "metadata": {
        "id": "NtYFKcxcrm7L",
        "outputId": "a4de53fb-afa3-47bb-8380-8fa2005a2883",
        "colab": {
          "base_uri": "https://localhost:8080/"
        }
      },
      "execution_count": null,
      "outputs": [
        {
          "output_type": "stream",
          "name": "stdout",
          "text": [
            "[1, 3, 5, 13]\n",
            "[0, 2, 8]\n"
          ]
        }
      ]
    }
  ]
}