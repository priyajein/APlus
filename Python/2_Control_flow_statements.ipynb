{
  "nbformat": 4,
  "nbformat_minor": 0,
  "metadata": {
    "colab": {
      "provenance": []
    },
    "kernelspec": {
      "name": "python3",
      "display_name": "Python 3"
    },
    "language_info": {
      "name": "python"
    }
  },
  "cells": [
    {
      "cell_type": "markdown",
      "source": [
        "# CONTROL FLOW STATEMENTS"
      ],
      "metadata": {
        "id": "KQUv5scfB3H6"
      }
    },
    {
      "cell_type": "markdown",
      "source": [
        "#### if statement"
      ],
      "metadata": {
        "id": "8xrgyH2mCJNh"
      }
    },
    {
      "cell_type": "code",
      "execution_count": null,
      "metadata": {
        "colab": {
          "base_uri": "https://localhost:8080/"
        },
        "id": "-7dQDqbiB1MD",
        "outputId": "30cf8000-4119-4eeb-98a6-476a839663ea"
      },
      "outputs": [
        {
          "output_type": "stream",
          "name": "stdout",
          "text": [
            "10 greater than 5\n",
            "Program ended\n"
          ]
        }
      ],
      "source": [
        "# if statement example\n",
        "if 10 > 5:\n",
        "    print(\"10 greater than 5\")\n",
        "\n",
        "print(\"Program ended\")"
      ]
    },
    {
      "cell_type": "markdown",
      "source": [
        "##### if else statement"
      ],
      "metadata": {
        "id": "ASJSD7otCMPA"
      }
    },
    {
      "cell_type": "code",
      "source": [
        "# if..else statement example\n",
        "x = 3\n",
        "if x == 4:\n",
        "    print(\"Yes\")\n",
        "else:\n",
        "    print(\"No\")"
      ],
      "metadata": {
        "colab": {
          "base_uri": "https://localhost:8080/"
        },
        "id": "MQxkEifcCTqJ",
        "outputId": "dfa2fe47-b816-4775-9316-a1d593c1d140"
      },
      "execution_count": null,
      "outputs": [
        {
          "output_type": "stream",
          "name": "stdout",
          "text": [
            "No\n"
          ]
        }
      ]
    },
    {
      "cell_type": "markdown",
      "source": [
        "##### Nested if-else"
      ],
      "metadata": {
        "id": "VU8AC9_RCamJ"
      }
    },
    {
      "cell_type": "code",
      "source": [
        "# if..else chain statement\n",
        "letter = \"A\"\n",
        "\n",
        "if letter == \"B\":\n",
        "    print(\"letter is B\")\n",
        "\n",
        "else:\n",
        "    if letter == \"C\":\n",
        "        print(\"letter is C\")\n",
        "\n",
        "    else:\n",
        "\n",
        "        if letter == \"A\":\n",
        "            print(\"letter is A\")\n",
        "\n",
        "        else:\n",
        "            print(\"letter isn't A, B and C\")"
      ],
      "metadata": {
        "colab": {
          "base_uri": "https://localhost:8080/"
        },
        "id": "9E4GC31jCfDR",
        "outputId": "89e10c6e-30f9-4951-963f-13e7c47aa821"
      },
      "execution_count": null,
      "outputs": [
        {
          "output_type": "stream",
          "name": "stdout",
          "text": [
            "letter is A\n"
          ]
        }
      ]
    },
    {
      "cell_type": "markdown",
      "source": [
        "##### Nested if statement\n"
      ],
      "metadata": {
        "id": "zUP62fmTCpLh"
      }
    },
    {
      "cell_type": "code",
      "source": [
        "# Nested if statement example\n",
        "num = 10\n",
        "\n",
        "if num > 5:\n",
        "    print(\"Bigger than 5\")\n",
        "\n",
        "    if num <= 15:\n",
        "        print(\"Between 5 and 15\")"
      ],
      "metadata": {
        "colab": {
          "base_uri": "https://localhost:8080/"
        },
        "id": "Wusu38hoCuvx",
        "outputId": "5a30145b-3a67-4a57-9c21-2b0ff9b299ab"
      },
      "execution_count": null,
      "outputs": [
        {
          "output_type": "stream",
          "name": "stdout",
          "text": [
            "Bigger than 5\n",
            "Between 5 and 15\n"
          ]
        }
      ]
    },
    {
      "cell_type": "markdown",
      "source": [
        "##### if elif statement"
      ],
      "metadata": {
        "id": "lHwj5reWC39Z"
      }
    },
    {
      "cell_type": "code",
      "source": [
        "# if-elif statement example\n",
        "letter = \"A\"\n",
        "\n",
        "if letter == \"B\":\n",
        "    print(\"letter is B\")\n",
        "\n",
        "elif letter == \"C\":\n",
        "    print(\"letter is C\")\n",
        "\n",
        "elif letter == \"A\":\n",
        "    print(\"letter is A\")\n",
        "\n",
        "else:\n",
        "    print(\"letter isn't A, B or C\")"
      ],
      "metadata": {
        "colab": {
          "base_uri": "https://localhost:8080/"
        },
        "id": "Gy_cT2X3C6sZ",
        "outputId": "4b7e0c31-8dbf-4eaa-fa99-d34bc6354191"
      },
      "execution_count": null,
      "outputs": [
        {
          "output_type": "stream",
          "name": "stdout",
          "text": [
            "letter is A\n"
          ]
        }
      ]
    },
    {
      "cell_type": "markdown",
      "source": [
        "### for loops"
      ],
      "metadata": {
        "id": "m2WsnCZWPDxd"
      }
    },
    {
      "cell_type": "code",
      "source": [
        "# Iterating over a String\n",
        "print(\"String Iteration\")\n",
        "\n",
        "s = \"Geeks\"\n",
        "for i in s:\n",
        "    print(i)"
      ],
      "metadata": {
        "colab": {
          "base_uri": "https://localhost:8080/"
        },
        "id": "fTV-BdXiPH-1",
        "outputId": "1b5f5706-7e9d-4d34-b72a-a4c90fc77640"
      },
      "execution_count": null,
      "outputs": [
        {
          "output_type": "stream",
          "name": "stdout",
          "text": [
            "String Iteration\n",
            "G\n",
            "e\n",
            "e\n",
            "k\n",
            "s\n"
          ]
        }
      ]
    },
    {
      "cell_type": "code",
      "source": [
        "for i in range(0, 10, 2):\n",
        "    print(i)"
      ],
      "metadata": {
        "colab": {
          "base_uri": "https://localhost:8080/"
        },
        "id": "1-GvgFkQPS41",
        "outputId": "4e24654a-03cb-4ffd-d611-9869d65d2727"
      },
      "execution_count": null,
      "outputs": [
        {
          "output_type": "stream",
          "name": "stdout",
          "text": [
            "0\n",
            "2\n",
            "4\n",
            "6\n",
            "8\n"
          ]
        }
      ]
    },
    {
      "cell_type": "code",
      "source": [
        "l1 = [\"eat\", \"sleep\", \"repeat\"]\n",
        "\n",
        "for count, ele in enumerate(l1):\n",
        "    print (count, ele)"
      ],
      "metadata": {
        "colab": {
          "base_uri": "https://localhost:8080/"
        },
        "id": "vU_lp8bgPidE",
        "outputId": "757c469f-bacd-4d7e-d262-f2bb86872050"
      },
      "execution_count": null,
      "outputs": [
        {
          "output_type": "stream",
          "name": "stdout",
          "text": [
            "0 eat\n",
            "1 sleep\n",
            "2 repeat\n"
          ]
        }
      ]
    },
    {
      "cell_type": "code",
      "source": [
        "for i in range(1, 4):\n",
        "    for j in range(1, 4):\n",
        "        print(i, j)"
      ],
      "metadata": {
        "colab": {
          "base_uri": "https://localhost:8080/"
        },
        "id": "69dqlAyDPsXd",
        "outputId": "361629c2-4f31-4c0a-a2b0-10c18c376a47"
      },
      "execution_count": null,
      "outputs": [
        {
          "output_type": "stream",
          "name": "stdout",
          "text": [
            "1 1\n",
            "1 2\n",
            "1 3\n",
            "2 1\n",
            "2 2\n",
            "2 3\n",
            "3 1\n",
            "3 2\n",
            "3 3\n"
          ]
        }
      ]
    },
    {
      "cell_type": "code",
      "source": [
        "# Python program to illustrate\n",
        "# Iterating over a list\n",
        "l = [\"geeks\", \"for\", \"geeks\"]\n",
        "\n",
        "for i in l:\n",
        "    print(i)"
      ],
      "metadata": {
        "colab": {
          "base_uri": "https://localhost:8080/"
        },
        "id": "avGLXhBCP14V",
        "outputId": "66027d66-80e3-421f-fdff-83fbf64672ab"
      },
      "execution_count": null,
      "outputs": [
        {
          "output_type": "stream",
          "name": "stdout",
          "text": [
            "geeks\n",
            "for\n",
            "geeks\n"
          ]
        }
      ]
    },
    {
      "cell_type": "code",
      "source": [
        "Numbers =[x for x in range(11)]\n",
        "print(Numbers)"
      ],
      "metadata": {
        "colab": {
          "base_uri": "https://localhost:8080/"
        },
        "id": "GxqtYmzBP8Ol",
        "outputId": "744f353b-2696-4624-f767-1f998c838139"
      },
      "execution_count": null,
      "outputs": [
        {
          "output_type": "stream",
          "name": "stdout",
          "text": [
            "[0, 1, 2, 3, 4, 5, 6, 7, 8, 9, 10]\n"
          ]
        }
      ]
    },
    {
      "cell_type": "code",
      "source": [
        "# Iterating over dictionary\n",
        "print(\"Dictionary Iteration\")\n",
        "\n",
        "d = dict()\n",
        "\n",
        "d['xyz'] = 123\n",
        "d['abc'] = 345\n",
        "for i in d:\n",
        "    print(\"% s % d\" % (i, d[i]))"
      ],
      "metadata": {
        "colab": {
          "base_uri": "https://localhost:8080/"
        },
        "id": "59QdT7rZQDq-",
        "outputId": "bf434fd0-ddf9-4b5e-b47c-016b15c0255c"
      },
      "execution_count": null,
      "outputs": [
        {
          "output_type": "stream",
          "name": "stdout",
          "text": [
            "Dictionary Iteration\n",
            "xyz  123\n",
            "abc  345\n"
          ]
        }
      ]
    },
    {
      "cell_type": "code",
      "source": [
        "# for loop with tuples\n",
        "t = ((1, 2), (3, 4), (5, 6))\n",
        "for a, b in t:\n",
        "    print(a, b)"
      ],
      "metadata": {
        "colab": {
          "base_uri": "https://localhost:8080/"
        },
        "id": "otRhiz3pQLlN",
        "outputId": "90db851c-2fbc-4e28-df60-ce5279a48062"
      },
      "execution_count": null,
      "outputs": [
        {
          "output_type": "stream",
          "name": "stdout",
          "text": [
            "1 2\n",
            "3 4\n",
            "5 6\n"
          ]
        }
      ]
    },
    {
      "cell_type": "code",
      "source": [
        "fruits = [\"apple\", \"banana\", \"cherry\"]\n",
        "colors = [\"red\", \"yellow\", \"green\"]\n",
        "for fruit, color in zip(fruits, colors):\n",
        "    print(fruit, \"is\", color)"
      ],
      "metadata": {
        "colab": {
          "base_uri": "https://localhost:8080/"
        },
        "id": "tIlBkWfTQe99",
        "outputId": "b7074440-7526-48bb-bef6-ddbd19ff55ef"
      },
      "execution_count": null,
      "outputs": [
        {
          "output_type": "stream",
          "name": "stdout",
          "text": [
            "apple is red\n",
            "banana is yellow\n",
            "cherry is green\n"
          ]
        }
      ]
    },
    {
      "cell_type": "code",
      "source": [
        "# Python program to demonstrate for-else loop\n",
        "\n",
        "for i in range(1, 4):\n",
        "    print(i)\n",
        "else:  # Executed because no break in for\n",
        "    print(\"No Break\\n\")"
      ],
      "metadata": {
        "colab": {
          "base_uri": "https://localhost:8080/"
        },
        "id": "IMQGT_4kRRBV",
        "outputId": "30e6f646-9c86-407c-a89c-bd5dd387a2e5"
      },
      "execution_count": null,
      "outputs": [
        {
          "output_type": "stream",
          "name": "stdout",
          "text": [
            "1\n",
            "2\n",
            "3\n",
            "No Break\n",
            "\n"
          ]
        }
      ]
    },
    {
      "cell_type": "markdown",
      "source": [
        "Q1. Code to implement Continue statement in for-loop"
      ],
      "metadata": {
        "id": "2xD7useNRj0l"
      }
    },
    {
      "cell_type": "code",
      "source": [
        "clothes = [\"shirt\", \"sock\", \"pants\", \"sock\", \"towel\"]\n",
        "paired_socks = []\n",
        "for item in clothes:\n",
        "    if item == \"sock\":\n",
        "        continue\n",
        "    else:\n",
        "        print(f\"Washing {item}\")\n",
        "paired_socks.append(\"socks\")\n",
        "print(f\"Washing {paired_socks}\")"
      ],
      "metadata": {
        "colab": {
          "base_uri": "https://localhost:8080/"
        },
        "id": "3zKIibJJRhIl",
        "outputId": "af79e851-0a24-465b-bd24-b55473311142"
      },
      "execution_count": null,
      "outputs": [
        {
          "output_type": "stream",
          "name": "stdout",
          "text": [
            "Washing shirt\n",
            "Washing pants\n",
            "Washing towel\n",
            "Washing ['socks']\n"
          ]
        }
      ]
    },
    {
      "cell_type": "markdown",
      "source": [
        "Q2. Code to implement range function in for-loop"
      ],
      "metadata": {
        "id": "0G74ppZoRoee"
      }
    },
    {
      "cell_type": "code",
      "source": [
        "for day in range(1, 8):\n",
        "    distance = 3 + (day - 1) * 0.5\n",
        "    print(f\"Day {day}: Run {distance:.1f} miles\")"
      ],
      "metadata": {
        "colab": {
          "base_uri": "https://localhost:8080/"
        },
        "id": "M_mHkft8RlvO",
        "outputId": "7b1c1af0-1aed-4ea8-bcc1-39a502ec7581"
      },
      "execution_count": null,
      "outputs": [
        {
          "output_type": "stream",
          "name": "stdout",
          "text": [
            "Day 1: Run 3.0 miles\n",
            "Day 2: Run 3.5 miles\n",
            "Day 3: Run 4.0 miles\n",
            "Day 4: Run 4.5 miles\n",
            "Day 5: Run 5.0 miles\n",
            "Day 6: Run 5.5 miles\n",
            "Day 7: Run 6.0 miles\n"
          ]
        }
      ]
    },
    {
      "cell_type": "markdown",
      "source": [
        "### While loop"
      ],
      "metadata": {
        "id": "cmKMjEuFSsoT"
      }
    },
    {
      "cell_type": "code",
      "source": [
        "# Python program to illustrate\n",
        "# while loop\n",
        "count = 0\n",
        "while (count < 3):\n",
        "    count = count + 1\n",
        "    print(\"Hello Geek\")"
      ],
      "metadata": {
        "colab": {
          "base_uri": "https://localhost:8080/"
        },
        "id": "Pm3K-DfpSu39",
        "outputId": "5328e6ab-b44f-4511-a188-7ed7dab2ba0d"
      },
      "execution_count": null,
      "outputs": [
        {
          "output_type": "stream",
          "name": "stdout",
          "text": [
            "Hello Geek\n",
            "Hello Geek\n",
            "Hello Geek\n"
          ]
        }
      ]
    },
    {
      "cell_type": "code",
      "source": [
        "age = 28\n",
        "\n",
        "# the test condition is always True\n",
        "while age > 19:\n",
        "    print('Infinite Loop')"
      ],
      "metadata": {
        "id": "4hIm1Q2KTDf4"
      },
      "execution_count": null,
      "outputs": []
    },
    {
      "cell_type": "code",
      "source": [
        "# Python program to demonstrate\n",
        "# while-else loop\n",
        "\n",
        "i = 0\n",
        "while i < 4:\n",
        "    i += 1\n",
        "    print(i)\n",
        "else:  # Executed because no break in for\n",
        "    print(\"No Break\\n\")\n",
        "\n",
        "i = 0\n",
        "while i < 4:\n",
        "    i += 1\n",
        "    print(i)\n",
        "    break\n",
        "else:  # Not executed as there is a break\n",
        "    print(\"No Break\")"
      ],
      "metadata": {
        "colab": {
          "base_uri": "https://localhost:8080/"
        },
        "id": "ZFAWHADuT5F3",
        "outputId": "f05faf29-311f-4ad3-fe8c-0ab4a676bdc5"
      },
      "execution_count": null,
      "outputs": [
        {
          "output_type": "stream",
          "name": "stdout",
          "text": [
            "1\n",
            "2\n",
            "3\n",
            "4\n",
            "No Break\n",
            "\n",
            "1\n"
          ]
        }
      ]
    },
    {
      "cell_type": "markdown",
      "source": [
        "While loop with Boolean values"
      ],
      "metadata": {
        "id": "xw4BaTj3T__1"
      }
    },
    {
      "cell_type": "code",
      "source": [
        "# Initialize a counter\n",
        "count = 0\n",
        "\n",
        "# Loop infinitely\n",
        "while True:\n",
        "    # Increment the counter\n",
        "    count += 1\n",
        "    print(f\"Count is {count}\")\n",
        "\n",
        "    # Check if the counter has reached a certain value\n",
        "    if count == 10:\n",
        "        # If so, exit the loop\n",
        "        break\n",
        "\n",
        "# This will be executed after the loop exits\n",
        "print(\"The loop has ended.\")\n"
      ],
      "metadata": {
        "colab": {
          "base_uri": "https://localhost:8080/"
        },
        "id": "KfRMVOwkTrLV",
        "outputId": "72702532-7c5e-43d3-e915-d1982f1cd080"
      },
      "execution_count": null,
      "outputs": [
        {
          "output_type": "stream",
          "name": "stdout",
          "text": [
            "Count is 1\n",
            "Count is 2\n",
            "Count is 3\n",
            "Count is 4\n",
            "Count is 5\n",
            "Count is 6\n",
            "Count is 7\n",
            "Count is 8\n",
            "Count is 9\n",
            "Count is 10\n",
            "The loop has ended.\n"
          ]
        }
      ]
    },
    {
      "cell_type": "code",
      "source": [
        "# checks if list still\n",
        "# contains any element\n",
        "a = [1, 2, 3, 4]\n",
        "\n",
        "while a:\n",
        "    print(a.pop())"
      ],
      "metadata": {
        "colab": {
          "base_uri": "https://localhost:8080/"
        },
        "id": "2hUPQ-lVURT8",
        "outputId": "9ba6989e-75c0-43a8-99d1-f02e2c2a3995"
      },
      "execution_count": null,
      "outputs": [
        {
          "output_type": "stream",
          "name": "stdout",
          "text": [
            "4\n",
            "3\n",
            "2\n",
            "1\n"
          ]
        }
      ]
    },
    {
      "cell_type": "markdown",
      "source": [
        "Q1. While loop exercise question based on bouncing ball problem"
      ],
      "metadata": {
        "id": "DpmUnigaUm7F"
      }
    },
    {
      "cell_type": "code",
      "source": [
        "initial_height = 10\n",
        "bounce_factor = 0.5\n",
        "height = initial_height\n",
        "while height > 0.1:\n",
        "    print(\"The ball is at a height of\", height, \"meters.\")\n",
        "    height *= bounce_factor\n",
        "print(\"The ball has stopped bouncing.\")"
      ],
      "metadata": {
        "colab": {
          "base_uri": "https://localhost:8080/"
        },
        "id": "mTm8uWCtUozV",
        "outputId": "279be8b5-029a-4f31-d5f5-694f763d15c3"
      },
      "execution_count": null,
      "outputs": [
        {
          "output_type": "stream",
          "name": "stdout",
          "text": [
            "The ball is at a height of 10 meters.\n",
            "The ball is at a height of 5.0 meters.\n",
            "The ball is at a height of 2.5 meters.\n",
            "The ball is at a height of 1.25 meters.\n",
            "The ball is at a height of 0.625 meters.\n",
            "The ball is at a height of 0.3125 meters.\n",
            "The ball is at a height of 0.15625 meters.\n",
            "The ball has stopped bouncing.\n"
          ]
        }
      ]
    },
    {
      "cell_type": "markdown",
      "source": [
        "Q2. Simple while-loop exercise code to build countdown clock"
      ],
      "metadata": {
        "id": "HM_CCsDxUtdc"
      }
    },
    {
      "cell_type": "code",
      "source": [
        "countdown = 10\n",
        "while countdown > 0:\n",
        "    print(countdown)\n",
        "    countdown -= 1\n",
        "print(\"Blast off!\")"
      ],
      "metadata": {
        "colab": {
          "base_uri": "https://localhost:8080/"
        },
        "id": "jYXL4SwHUvK8",
        "outputId": "87f2787d-e2fb-475a-e323-676b276d74c2"
      },
      "execution_count": null,
      "outputs": [
        {
          "output_type": "stream",
          "name": "stdout",
          "text": [
            "10\n",
            "9\n",
            "8\n",
            "7\n",
            "6\n",
            "5\n",
            "4\n",
            "3\n",
            "2\n",
            "1\n",
            "Blast off!\n"
          ]
        }
      ]
    },
    {
      "cell_type": "markdown",
      "source": [
        "### Match-case statement"
      ],
      "metadata": {
        "id": "oI2660tDVX40"
      }
    },
    {
      "cell_type": "code",
      "source": [
        "# simple match case statement\n",
        "def runMatch():\n",
        "    num = int(input(\"Enter a number between 1 and 3: \"))\n",
        "\n",
        "    # match case\n",
        "    match num:\n",
        "        # pattern 1\n",
        "        case 1:\n",
        "            print(\"One\")\n",
        "        # pattern 2\n",
        "        case 2:\n",
        "            print(\"Two\")\n",
        "        # pattern 3\n",
        "        case 3:\n",
        "            print(\"Three\")\n",
        "        # default pattern\n",
        "        case _:\n",
        "            print(\"Number not between 1 and 3\")\n",
        "\n",
        "runMatch()"
      ],
      "metadata": {
        "colab": {
          "base_uri": "https://localhost:8080/"
        },
        "id": "03MsmhalVc3s",
        "outputId": "8ecbad5c-34aa-4b23-f5f4-a178f5075d7d"
      },
      "execution_count": null,
      "outputs": [
        {
          "output_type": "stream",
          "name": "stdout",
          "text": [
            "Enter a number between 1 and 3: 2\n",
            "Two\n"
          ]
        }
      ]
    },
    {
      "cell_type": "code",
      "source": [
        "# python match case with OR operator\n",
        "def runMatch():\n",
        "    num = int(input(\"Enter a number between 1 and 6: \"))\n",
        "\n",
        "    # match case\n",
        "    match num:\n",
        "        # pattern 1\n",
        "        case 1 | 2:\n",
        "            print(\"One or Two\")\n",
        "        # pattern 2\n",
        "        case 3 | 4:\n",
        "            print(\"Three or Four\")\n",
        "        # pattern 3\n",
        "        case 5 | 6:\n",
        "            print(\"Five or Six\")\n",
        "        # default pattern\n",
        "        case _:\n",
        "            print(\"Number not between 1 and 6\")\n",
        "\n",
        "runMatch()"
      ],
      "metadata": {
        "colab": {
          "base_uri": "https://localhost:8080/"
        },
        "id": "BV-wmef-WoRU",
        "outputId": "41df4801-40a9-45bb-8d8f-d01e39ab8e39"
      },
      "execution_count": null,
      "outputs": [
        {
          "output_type": "stream",
          "name": "stdout",
          "text": [
            "Enter a number between 1 and 6: 6\n",
            "Five or Six\n"
          ]
        }
      ]
    },
    {
      "cell_type": "code",
      "source": [
        "# python match case with if condition\n",
        "def runMatch():\n",
        "    num = int(input(\"Enter a number: \"))\n",
        "\n",
        "    # match case\n",
        "    match num:\n",
        "        # pattern 1\n",
        "        case num if num > 0:\n",
        "            print(\"Positive\")\n",
        "        # pattern 2\n",
        "        case num if num < 0:\n",
        "            print(\"Negative\")\n",
        "        # default pattern\n",
        "        case _:\n",
        "            print(\"Zero\")\n",
        "\n",
        "runMatch()"
      ],
      "metadata": {
        "colab": {
          "base_uri": "https://localhost:8080/"
        },
        "id": "rJbNZtSBWvZU",
        "outputId": "eaa3e012-6c3c-4ebb-f44d-2d3e401d2fd1"
      },
      "execution_count": null,
      "outputs": [
        {
          "output_type": "stream",
          "name": "stdout",
          "text": [
            "Enter a number: -25\n",
            "Negative\n"
          ]
        }
      ]
    },
    {
      "cell_type": "code",
      "source": [
        "# match case to check a character in a string\n",
        "def runMatch():\n",
        "    myStr = \"Hello World\"\n",
        "\n",
        "    # match case\n",
        "    match (myStr[6]):\n",
        "        case \"w\":\n",
        "            print(\"Case 1 matches\")\n",
        "        case \"W\":\n",
        "            print(\"Case 2 matches\")\n",
        "        case _:\n",
        "            print(\"Character not in the string\")\n",
        "\n",
        "runMatch()"
      ],
      "metadata": {
        "colab": {
          "base_uri": "https://localhost:8080/"
        },
        "id": "cqK2oF7qW4LM",
        "outputId": "fb7105d8-be8f-4298-e61b-422776410493"
      },
      "execution_count": null,
      "outputs": [
        {
          "output_type": "stream",
          "name": "stdout",
          "text": [
            "Case 2 matches\n"
          ]
        }
      ]
    },
    {
      "cell_type": "code",
      "source": [
        "# python match case with list\n",
        "def runMatch(mystr):\n",
        "\n",
        "    # match case\n",
        "    match mystr:\n",
        "        # pattern 1\n",
        "        case [\"a\"]:\n",
        "            print(\"a\")\n",
        "        # pattern 2\n",
        "        case [\"a\", *b]:\n",
        "            print(f\"a and {b}\")\n",
        "        # pattern 3\n",
        "        case [*a, \"e\"] | (*a, \"e\"):\n",
        "            print(f\"{a} and e\")\n",
        "        # default pattern\n",
        "        case _:\n",
        "            print(\"No data\")\n",
        "\n",
        "runMatch([])\n",
        "runMatch([\"a\"])\n",
        "runMatch([\"a\", \"b\"])\n",
        "runMatch([\"b\", \"c\", \"d\", \"e\"])"
      ],
      "metadata": {
        "colab": {
          "base_uri": "https://localhost:8080/"
        },
        "id": "94MHkH4pbf1j",
        "outputId": "4c96be82-5166-47cd-d379-f9340cd9aae5"
      },
      "execution_count": null,
      "outputs": [
        {
          "output_type": "stream",
          "name": "stdout",
          "text": [
            "No data\n",
            "a\n",
            "a and ['b']\n",
            "['b', 'c', 'd'] and e\n"
          ]
        }
      ]
    },
    {
      "cell_type": "code",
      "source": [
        "# match case with python dictionary\n",
        "def runMatch(dictionary):\n",
        "    # match case\n",
        "    match dictionary:\n",
        "        # pattern 1\n",
        "        case {\"name\": n, \"age\": a}:\n",
        "            print(f\"Name:{n}, Age:{a}\")\n",
        "        # pattern 2\n",
        "        case {\"name\": n, \"salary\": s}:\n",
        "            print(f\"Name:{n}, Salary:{s}\")\n",
        "        # default pattern\n",
        "        case _ :\n",
        "            print(\"Data does not exist\")\n",
        "\n",
        "runMatch({\"name\": \"Jay\", \"age\": 24})\n",
        "runMatch({\"name\": \"Ed\", \"salary\": 25000})\n",
        "runMatch({\"name\": \"Al\", \"age\": 27})\n",
        "runMatch({})"
      ],
      "metadata": {
        "colab": {
          "base_uri": "https://localhost:8080/"
        },
        "id": "ump0iRkrbwki",
        "outputId": "09a595a1-235c-4a98-a1ca-3c0f09d484be"
      },
      "execution_count": null,
      "outputs": [
        {
          "output_type": "stream",
          "name": "stdout",
          "text": [
            "Name:Jay, Age:24\n",
            "Name:Ed, Salary:25000\n",
            "Name:Al, Age:27\n",
            "Data does not exist\n"
          ]
        }
      ]
    },
    {
      "cell_type": "code",
      "source": [
        "# match case with python classes\n",
        "# import dataclass module\n",
        "from dataclasses import dataclass\n",
        "\n",
        "#Class 1\n",
        "@dataclass\n",
        "class Person:\n",
        "    name: str\n",
        "    age: int\n",
        "    salary: int\n",
        "\n",
        "# class 2\n",
        "@dataclass\n",
        "class Programmer:\n",
        "    name: str\n",
        "    language: str\n",
        "    framework: str\n",
        "\n",
        "def runMatch(instance):\n",
        "    # match case\n",
        "    match instance:\n",
        "        # pattern 1\n",
        "        case Programmer(\"Om\", language=\"Python\", framework=\"Django\"):\n",
        "            print(f\"Name: Om, Language:Python, Framework:Django\")\n",
        "        # pattern 2\n",
        "        case Programmer(\"Rishabh\", \"C++\"):\n",
        "            print(\"Name:Rishabh, Language:C++\")\n",
        "        # pattern 3\n",
        "        case Person(\"Vishal\", age=5, salary=100):\n",
        "            print(\"Name:Vishal\")\n",
        "        # pattern 4\n",
        "        case Programmer(name, language, framework):\n",
        "            print(f\"Name:{name}, Language:{language}, Framework:{framework}\")\n",
        "        # pattern 5\n",
        "        case Person():\n",
        "            print(\"He is just a person !\")\n",
        "        # default case\n",
        "        case _:\n",
        "            print(\"This person is nothiing!\")\n",
        "\n",
        "programmer1 = Programmer(\"Om\", \"Python\", \"Django\")\n",
        "programmer2 = Programmer(\"Rishabh\", \"C++\", None)\n",
        "programmer3 = Programmer(\"Sankalp\", \"Javascript\", \"React\")\n",
        "person1 = Person(\"Vishal\", 5, 100)\n",
        "runMatch(programmer1)\n",
        "runMatch(programmer2)\n",
        "runMatch(person1)\n",
        "runMatch(programmer3)"
      ],
      "metadata": {
        "colab": {
          "base_uri": "https://localhost:8080/"
        },
        "id": "AGUNohs6cARr",
        "outputId": "d70e68fe-18e3-4b81-badf-5f542ed9641a"
      },
      "execution_count": null,
      "outputs": [
        {
          "output_type": "stream",
          "name": "stdout",
          "text": [
            "Name: Om, Language:Python, Framework:Django\n",
            "Name:Rishabh, Language:C++\n",
            "Name:Vishal\n",
            "Name:Sankalp, Language:Javascript, Framework:React\n"
          ]
        }
      ]
    },
    {
      "cell_type": "markdown",
      "source": [
        "### break, continue and pass"
      ],
      "metadata": {
        "id": "2cV5HLKWdULC"
      }
    },
    {
      "cell_type": "code",
      "source": [
        "# Python program to demonstrate\n",
        "# break statement\n",
        "\n",
        "s = 'geeksforgeeks'\n",
        "# Using for loop\n",
        "for letter in s:\n",
        "\n",
        "    print(letter)\n",
        "    # break the loop as soon it sees 'e' or 's'\n",
        "    if letter == 'e' or letter == 's':\n",
        "        break\n",
        "\n",
        "print(\"Out of for loop\")\n",
        "print()\n",
        "\n",
        "i = 0\n",
        "\n",
        "# Using while loop\n",
        "while True:\n",
        "    print(s[i])\n",
        "\n",
        "    # break the loop as soon it sees 'e'\n",
        "    # or 's'\n",
        "    if s[i] == 'e' or s[i] == 's':\n",
        "        break\n",
        "    i += 1\n",
        "\n",
        "print(\"Out of while loop\")"
      ],
      "metadata": {
        "colab": {
          "base_uri": "https://localhost:8080/"
        },
        "id": "IFKBhcYOdYXz",
        "outputId": "aa89003d-98ce-4e39-f873-8c5b096794be"
      },
      "execution_count": null,
      "outputs": [
        {
          "output_type": "stream",
          "name": "stdout",
          "text": [
            "g\n",
            "e\n",
            "Out of for loop\n",
            "\n",
            "g\n",
            "e\n",
            "Out of while loop\n"
          ]
        }
      ]
    },
    {
      "cell_type": "code",
      "source": [
        "# Python program to demonstrate break statement with nested\n",
        "# for loop\n",
        "\n",
        "# first for loop\n",
        "for i in range(1, 5):\n",
        "\n",
        "    # second for loop\n",
        "    for j in range(2, 6):\n",
        "\n",
        "        # break the loop if j is divisible by i\n",
        "        if j%i == 0:\n",
        "            break\n",
        "\n",
        "        print(i, \" \", j)"
      ],
      "metadata": {
        "colab": {
          "base_uri": "https://localhost:8080/"
        },
        "id": "9Zh_MsYleNCS",
        "outputId": "8f93ab6b-d71e-4795-9d28-1020c4688f11"
      },
      "execution_count": null,
      "outputs": [
        {
          "output_type": "stream",
          "name": "stdout",
          "text": [
            "3   2\n",
            "4   2\n",
            "4   3\n"
          ]
        }
      ]
    },
    {
      "cell_type": "code",
      "source": [
        "# Python program to demonstrate continue statement\n",
        "\n",
        "# loop from 1 to 10\n",
        "for i in range(1, 11):\n",
        "\n",
        "    # If i is equals to 6, continue to next iteration without printing\n",
        "    if i == 6:\n",
        "        continue\n",
        "    else:\n",
        "        # otherwise print the value\n",
        "        # of i\n",
        "        print(i, end = \" \")\n"
      ],
      "metadata": {
        "colab": {
          "base_uri": "https://localhost:8080/"
        },
        "id": "d2mi-F95eerA",
        "outputId": "70df56d4-4a30-43c1-afd6-3755dd4eaf17"
      },
      "execution_count": null,
      "outputs": [
        {
          "output_type": "stream",
          "name": "stdout",
          "text": [
            "1 2 3 4 5 7 8 9 10 "
          ]
        }
      ]
    },
    {
      "cell_type": "code",
      "source": [
        "# Python program to demonstrate\n",
        "# pass statement\n",
        "\n",
        "s = \"geeks\"\n",
        "\n",
        "# Empty loop\n",
        "for i in s:\n",
        "    # No error will be raised\n",
        "    pass\n",
        "\n",
        "# Empty function\n",
        "def fun():\n",
        "    pass\n",
        "\n",
        "# No error will be raised\n",
        "fun()\n",
        "\n",
        "# Pass statement\n",
        "for i in s:\n",
        "    if i == 'k':\n",
        "        print('Pass executed')\n",
        "        pass\n",
        "    print(i)\n"
      ],
      "metadata": {
        "id": "wxgtdaPgfNqq",
        "outputId": "c41a1ec9-8e33-4457-8da2-467484625a5b",
        "colab": {
          "base_uri": "https://localhost:8080/"
        }
      },
      "execution_count": null,
      "outputs": [
        {
          "output_type": "stream",
          "name": "stdout",
          "text": [
            "g\n",
            "e\n",
            "e\n",
            "Pass executed\n",
            "k\n",
            "s\n"
          ]
        }
      ]
    }
  ]
}