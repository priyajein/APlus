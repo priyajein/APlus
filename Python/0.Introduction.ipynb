{
  "nbformat": 4,
  "nbformat_minor": 0,
  "metadata": {
    "colab": {
      "provenance": []
    },
    "kernelspec": {
      "name": "python3",
      "display_name": "Python 3"
    },
    "language_info": {
      "name": "python"
    }
  },
  "cells": [
    {
      "cell_type": "code",
      "execution_count": null,
      "metadata": {
        "colab": {
          "base_uri": "https://localhost:8080/"
        },
        "id": "nWREhD0WtH22",
        "outputId": "febe8bea-dadd-496b-8078-d743adceef2d"
      },
      "outputs": [
        {
          "output_type": "stream",
          "name": "stdout",
          "text": [
            "Hello World\n"
          ]
        }
      ],
      "source": [
        "print(\"Hello\", \"World\")"
      ]
    },
    {
      "cell_type": "code",
      "source": [
        "# Using string variable\n",
        "message = \"Hello, World!\"\n",
        "print(message)"
      ],
      "metadata": {
        "colab": {
          "base_uri": "https://localhost:8080/"
        },
        "id": "3jsVMPyeP_LV",
        "outputId": "453b0d5f-6009-45d5-8941-b166a34c4e56"
      },
      "execution_count": null,
      "outputs": [
        {
          "output_type": "stream",
          "name": "stdout",
          "text": [
            "Hello, World!\n"
          ]
        }
      ]
    },
    {
      "cell_type": "code",
      "source": [
        "# Using f-string\n",
        "print(f\"Hello, World!\")"
      ],
      "metadata": {
        "colab": {
          "base_uri": "https://localhost:8080/"
        },
        "id": "1bTdCo0lQKhU",
        "outputId": "f42dad85-a2b6-4ea4-a8c6-8c85f5ede8b3"
      },
      "execution_count": null,
      "outputs": [
        {
          "output_type": "stream",
          "name": "stdout",
          "text": [
            "Hello, World!\n"
          ]
        }
      ]
    },
    {
      "cell_type": "code",
      "source": [
        "# Python program to declare variables\n",
        "myNumber = 3\n",
        "print(myNumber)\n",
        "\n",
        "myNumber2 = 4.5\n",
        "print(myNumber2)\n",
        "\n",
        "myNumber =\"helloworld\"\n",
        "print(myNumber)"
      ],
      "metadata": {
        "colab": {
          "base_uri": "https://localhost:8080/"
        },
        "id": "ylCFj3qUMYpg",
        "outputId": "72c5c5fc-eadc-441f-ce92-0fd4c06c062d"
      },
      "execution_count": null,
      "outputs": [
        {
          "output_type": "stream",
          "name": "stdout",
          "text": [
            "3\n",
            "4.5\n",
            "helloworld\n"
          ]
        }
      ]
    },
    {
      "cell_type": "markdown",
      "source": [
        "## DATA TYPES\n"
      ],
      "metadata": {
        "id": "8zW6KZEx8uDX"
      }
    },
    {
      "cell_type": "code",
      "source": [
        "a = \"Hello World\"\n",
        "b = 50\n",
        "c = 60.5\n",
        "d = 3j\n",
        "e = [\"geeks\", \"for\", \"geeks\"]\n",
        "f = (\"geeks\", \"for\", \"geeks\")\n",
        "g = range(10)\n",
        "h = {\"name\": \"Suraj\", \"age\": 24}\n",
        "i = {\"geeks\", \"for\", \"geeks\"}\n",
        "j = frozenset({\"geeks\", \"for\", \"geeks\"})\n",
        "k = True\n",
        "l = b\"Geeks\"\n",
        "m = bytearray(4)\n",
        "n = memoryview(bytes(6))\n",
        "o = None\n",
        "\n",
        "print(\"Type of a: \", type(a))\n",
        "print(\"Type of b: \", type(b))\n",
        "print(\"Type of c: \", type(c))\n",
        "print(\"Type of d: \", type(d))\n",
        "print(\"Type of e: \", type(e))\n",
        "print(\"Type of f: \", type(f))\n",
        "print(\"Type of g: \", type(g))\n",
        "print(\"Type of h: \", type(h))\n",
        "print(\"Type of i: \", type(i))\n",
        "print(\"Type of j: \", type(j))\n",
        "print(\"Type of k: \", type(k))\n",
        "print(\"Type of l: \", type(l))\n",
        "print(\"Type of m: \", type(m))\n",
        "print(\"Type of n: \", type(n))\n",
        "print(\"Type of o: \", type(o))"
      ],
      "metadata": {
        "colab": {
          "base_uri": "https://localhost:8080/"
        },
        "id": "jaq_lVBs8yZ8",
        "outputId": "29e5ed9b-d8b2-425b-98ea-5450d6ad4634"
      },
      "execution_count": null,
      "outputs": [
        {
          "output_type": "stream",
          "name": "stdout",
          "text": [
            "Type of a:  <class 'str'>\n",
            "Type of b:  <class 'int'>\n",
            "Type of c:  <class 'float'>\n",
            "Type of d:  <class 'complex'>\n",
            "Type of e:  <class 'list'>\n",
            "Type of f:  <class 'tuple'>\n",
            "Type of g:  <class 'range'>\n",
            "Type of h:  <class 'dict'>\n",
            "Type of i:  <class 'set'>\n",
            "Type of j:  <class 'frozenset'>\n",
            "Type of k:  <class 'bool'>\n",
            "Type of l:  <class 'bytes'>\n",
            "Type of m:  <class 'bytearray'>\n",
            "Type of n:  <class 'memoryview'>\n",
            "Type of o:  <class 'NoneType'>\n"
          ]
        }
      ]
    },
    {
      "cell_type": "markdown",
      "source": [
        "## VARIABLES"
      ],
      "metadata": {
        "id": "wyeEixn6ABpI"
      }
    },
    {
      "cell_type": "code",
      "source": [
        "Var = \"Geeksforgeeks\"\n",
        "print(Var)"
      ],
      "metadata": {
        "colab": {
          "base_uri": "https://localhost:8080/"
        },
        "id": "8dzUz8GMAE2t",
        "outputId": "584d5d73-dfdf-412c-c47e-3d4b6900d811"
      },
      "execution_count": null,
      "outputs": [
        {
          "output_type": "stream",
          "name": "stdout",
          "text": [
            "Geeksforgeeks\n"
          ]
        }
      ]
    },
    {
      "cell_type": "code",
      "source": [
        "# valid variable name\n",
        "geeks = 1\n",
        "Geeks = 2\n",
        "Ge_e_ks = 5\n",
        "_geeks = 6\n",
        "geeks_ = 7\n",
        "_GEEKS_ = 8\n",
        "\n",
        "print(geeks, Geeks, Ge_e_ks)\n",
        "print(_geeks, geeks_, _GEEKS_)"
      ],
      "metadata": {
        "colab": {
          "base_uri": "https://localhost:8080/"
        },
        "id": "tMxt_uP4A_62",
        "outputId": "06c05a45-4e5c-4e74-c9ac-10824b6c26a6"
      },
      "execution_count": null,
      "outputs": [
        {
          "output_type": "stream",
          "name": "stdout",
          "text": [
            "1 2 5\n",
            "6 7 8\n"
          ]
        }
      ]
    },
    {
      "cell_type": "code",
      "source": [
        "# An integer assignment\n",
        "age = 45\n",
        "\n",
        "# A floating point\n",
        "salary = 1456.8\n",
        "\n",
        "# A string\n",
        "name = \"John\"\n",
        "\n",
        "print(age)\n",
        "print(salary)\n",
        "print(name)"
      ],
      "metadata": {
        "colab": {
          "base_uri": "https://localhost:8080/"
        },
        "id": "KcVKFyzDCAxq",
        "outputId": "60d8f2ef-400c-4537-aff5-4a6ff097f5a4"
      },
      "execution_count": null,
      "outputs": [
        {
          "output_type": "stream",
          "name": "stdout",
          "text": [
            "45\n",
            "1456.8\n",
            "John\n"
          ]
        }
      ]
    },
    {
      "cell_type": "code",
      "source": [
        "# declaring the var\n",
        "Number = 100\n",
        "\n",
        "# display\n",
        "print(\"Before declare: \", Number)\n",
        "\n",
        "# re-declare the var\n",
        "Number = 120.3\n",
        "\n",
        "print(\"After re-declare:\", Number)"
      ],
      "metadata": {
        "colab": {
          "base_uri": "https://localhost:8080/"
        },
        "id": "ayaZBtUKCJft",
        "outputId": "f6044055-43b8-466e-a009-100f82118e5d"
      },
      "execution_count": null,
      "outputs": [
        {
          "output_type": "stream",
          "name": "stdout",
          "text": [
            "Before declare:  100\n",
            "After re-declare: 120.3\n"
          ]
        }
      ]
    },
    {
      "cell_type": "markdown",
      "source": [
        "#### Python Assign Values to Multiple Variables"
      ],
      "metadata": {
        "id": "PyDSzyQeCepE"
      }
    },
    {
      "cell_type": "code",
      "source": [
        "# Eample 1\n",
        "a = b = c = 10\n",
        "\n",
        "print(a)\n",
        "print(b)\n",
        "print(c)\n"
      ],
      "metadata": {
        "colab": {
          "base_uri": "https://localhost:8080/"
        },
        "id": "_8qdDMWDCSmd",
        "outputId": "33aca867-fdd7-4e3e-8d9f-245ee5f719b9"
      },
      "execution_count": null,
      "outputs": [
        {
          "output_type": "stream",
          "name": "stdout",
          "text": [
            "10\n",
            "10\n",
            "10\n"
          ]
        }
      ]
    },
    {
      "cell_type": "code",
      "source": [
        "# Example 2\n",
        "a, b, c = 1, 20.2, \"GeeksforGeeks\"\n",
        "\n",
        "print(a)\n",
        "print(b)\n",
        "print(c)"
      ],
      "metadata": {
        "colab": {
          "base_uri": "https://localhost:8080/"
        },
        "id": "Uh9-_1_ZCb7N",
        "outputId": "f20e3e69-3ad0-4faa-97e8-5649e85a85d2"
      },
      "execution_count": null,
      "outputs": [
        {
          "output_type": "stream",
          "name": "stdout",
          "text": [
            "1\n",
            "20.2\n",
            "GeeksforGeeks\n"
          ]
        }
      ]
    },
    {
      "cell_type": "markdown",
      "source": [
        "##### Can We Use the Same Name for Different Types?\n",
        "\n",
        "If we use the same name, the variable starts referring to a new value and type."
      ],
      "metadata": {
        "id": "0MRi9tcoCsx1"
      }
    },
    {
      "cell_type": "code",
      "source": [
        "a = 40\n",
        "a = \"GFG\"\n",
        "\n",
        "print(a)"
      ],
      "metadata": {
        "colab": {
          "base_uri": "https://localhost:8080/"
        },
        "id": "AooyY9iNCuRw",
        "outputId": "91c65925-2f69-44c1-e7e6-7b6ce0193a0e"
      },
      "execution_count": null,
      "outputs": [
        {
          "output_type": "stream",
          "name": "stdout",
          "text": [
            "GFG\n"
          ]
        }
      ]
    },
    {
      "cell_type": "markdown",
      "source": [
        "##### How does + operator work with variables?\n",
        "\n",
        "The Python plus operator + provides a convenient way to add a value if it is a number and concatenate if it is a string. If a variable is already created it assigns the new value back to the same variable."
      ],
      "metadata": {
        "id": "Rj4BBCSQC7kv"
      }
    },
    {
      "cell_type": "code",
      "source": [
        "a = 20\n",
        "b = 48\n",
        "print(a+b)\n",
        "\n",
        "a = \"GF\"\n",
        "b = \"f\"\n",
        "print(a+b)"
      ],
      "metadata": {
        "colab": {
          "base_uri": "https://localhost:8080/"
        },
        "id": "JErPhgMqC-cw",
        "outputId": "d2d8d035-ffb8-46ea-a717-6051ec56e884"
      },
      "execution_count": null,
      "outputs": [
        {
          "output_type": "stream",
          "name": "stdout",
          "text": [
            "68\n",
            "GFf\n"
          ]
        }
      ]
    },
    {
      "cell_type": "markdown",
      "source": [
        "##### Can we use + for different Datatypes also?\n",
        "\n",
        "No use for different types would produce an error."
      ],
      "metadata": {
        "id": "2vISYfZKDYoF"
      }
    },
    {
      "cell_type": "code",
      "source": [
        "a = 45\n",
        "b = \"GFG\"\n",
        "print(a+b)"
      ],
      "metadata": {
        "colab": {
          "base_uri": "https://localhost:8080/",
          "height": 176
        },
        "id": "lUVs4tGYDZNz",
        "outputId": "c37e4aa9-2e1a-4d86-fd7d-c3016ca88dde"
      },
      "execution_count": null,
      "outputs": [
        {
          "output_type": "error",
          "ename": "TypeError",
          "evalue": "unsupported operand type(s) for +: 'int' and 'str'",
          "traceback": [
            "\u001b[0;31m---------------------------------------------------------------------------\u001b[0m",
            "\u001b[0;31mTypeError\u001b[0m                                 Traceback (most recent call last)",
            "\u001b[0;32m<ipython-input-14-36dcbac8146a>\u001b[0m in \u001b[0;36m<cell line: 3>\u001b[0;34m()\u001b[0m\n\u001b[1;32m      1\u001b[0m \u001b[0ma\u001b[0m \u001b[0;34m=\u001b[0m \u001b[0;36m45\u001b[0m\u001b[0;34m\u001b[0m\u001b[0;34m\u001b[0m\u001b[0m\n\u001b[1;32m      2\u001b[0m \u001b[0mb\u001b[0m \u001b[0;34m=\u001b[0m \u001b[0;34m\"GFG\"\u001b[0m\u001b[0;34m\u001b[0m\u001b[0;34m\u001b[0m\u001b[0m\n\u001b[0;32m----> 3\u001b[0;31m \u001b[0mprint\u001b[0m\u001b[0;34m(\u001b[0m\u001b[0ma\u001b[0m\u001b[0;34m+\u001b[0m\u001b[0mb\u001b[0m\u001b[0;34m)\u001b[0m\u001b[0;34m\u001b[0m\u001b[0;34m\u001b[0m\u001b[0m\n\u001b[0m",
            "\u001b[0;31mTypeError\u001b[0m: unsupported operand type(s) for +: 'int' and 'str'"
          ]
        }
      ]
    },
    {
      "cell_type": "code",
      "source": [
        "a = 30\n",
        "b = 40.5\n",
        "print(a+b) # The answer comes due to upcasting"
      ],
      "metadata": {
        "colab": {
          "base_uri": "https://localhost:8080/"
        },
        "id": "G5CnvQz1Du2c",
        "outputId": "2e6a8e91-57ac-42c4-d032-1b42afc29645"
      },
      "execution_count": null,
      "outputs": [
        {
          "output_type": "stream",
          "name": "stdout",
          "text": [
            "70.5\n"
          ]
        }
      ]
    },
    {
      "cell_type": "markdown",
      "source": [
        "#### Global and Local Python Variables\n",
        "Local variables in Python are the ones that are defined and declared inside a function. We can not call this variable outside the function."
      ],
      "metadata": {
        "id": "qE2p8oymEFnK"
      }
    },
    {
      "cell_type": "code",
      "source": [
        "# This function uses local variable s\n",
        "def f():\n",
        "    s = \"Welcome geeks\"\n",
        "    print(s)\n",
        "\n",
        "\n",
        "f()"
      ],
      "metadata": {
        "id": "IKYq7NlaEJPk"
      },
      "execution_count": null,
      "outputs": []
    },
    {
      "cell_type": "markdown",
      "source": [
        "Global variables in Python are the ones that are defined and declared outside a function, and we need to use them inside a function."
      ],
      "metadata": {
        "id": "2TAH5rOQEaZj"
      }
    },
    {
      "cell_type": "code",
      "source": [
        "# This function has a variable with\n",
        "# name same as s\n",
        "def f():\n",
        "    print(s)\n",
        "\n",
        "# Global scope\n",
        "s = \"I love Geeksforgeeks\"\n",
        "f()"
      ],
      "metadata": {
        "id": "UjxW78Y1Ealk"
      },
      "execution_count": null,
      "outputs": []
    },
    {
      "cell_type": "markdown",
      "source": [
        "#### Global keyword in Python"
      ],
      "metadata": {
        "id": "lNGJkyQ8FOTk"
      }
    },
    {
      "cell_type": "code",
      "source": [
        "x = 15\n",
        "\n",
        "def change():\n",
        "\n",
        "    # using a global keyword\n",
        "    global x\n",
        "\n",
        "    # increment value of a by 5\n",
        "    x = x + 5\n",
        "    print(\"Value of x inside a function :\", x)\n",
        "\n",
        "\n",
        "change()\n",
        "print(\"Value of x outside a function :\", x)"
      ],
      "metadata": {
        "colab": {
          "base_uri": "https://localhost:8080/"
        },
        "id": "_YJmdvITFPfE",
        "outputId": "5803df2b-2cba-4383-f2b7-9cdd347c67eb"
      },
      "execution_count": null,
      "outputs": [
        {
          "output_type": "stream",
          "name": "stdout",
          "text": [
            "Value of x inside a function : 20\n",
            "Value of x outside a function : 20\n"
          ]
        }
      ]
    },
    {
      "cell_type": "markdown",
      "source": [
        "##### How to Use Type Annotations for Variables in Python?\n",
        "Type annotations in Python provide a way to specify the expected type of a variable. They do not enforce type checking at runtime but can be used by static type checkers, IDEs, and linters to help catch type-related errors.\n",
        "\n"
      ],
      "metadata": {
        "id": "-Hqv5gTkHIIU"
      }
    },
    {
      "cell_type": "code",
      "source": [
        "#Example:\n",
        "\n",
        "# Using type annotations\n",
        "name: str = \"Alice\"\n",
        "age: int = 25\n",
        "is_student: bool = True\n",
        "\n",
        "def greeting(name: str) -> str:\n",
        "    return f\"Hello, {name}\"\n",
        "\n",
        "# Static type checkers can use these annotations to detect type errors"
      ],
      "metadata": {
        "id": "D7ZcAjV0HMqk"
      },
      "execution_count": null,
      "outputs": []
    },
    {
      "cell_type": "markdown",
      "source": [
        "In this example, the variables name, age, and is_student are annotated with their expected types. The function greeting also has type annotations for its parameter and return type."
      ],
      "metadata": {
        "id": "B4GrsjhxHR6c"
      }
    },
    {
      "cell_type": "markdown",
      "source": [
        "## COMMENTS"
      ],
      "metadata": {
        "id": "8P-x4IL6HVf4"
      }
    },
    {
      "cell_type": "code",
      "source": [
        "# Single line comment\n",
        "\n",
        "\n",
        "# Multi-line comment\n",
        "\"\"\" Multi-line comment used\n",
        "print(\"Python Comments\") \"\"\""
      ],
      "metadata": {
        "colab": {
          "base_uri": "https://localhost:8080/",
          "height": 36
        },
        "id": "Hhcu4_NmIKvV",
        "outputId": "c023109f-6951-4a33-e606-d67870659ee8"
      },
      "execution_count": null,
      "outputs": [
        {
          "output_type": "execute_result",
          "data": {
            "text/plain": [
              "'This will be ignored by Python'"
            ],
            "application/vnd.google.colaboratory.intrinsic+json": {
              "type": "string"
            }
          },
          "metadata": {},
          "execution_count": 19
        }
      ]
    },
    {
      "cell_type": "markdown",
      "source": [
        "##### Docstring"
      ],
      "metadata": {
        "id": "M_WQZTEJJPZf"
      }
    },
    {
      "cell_type": "code",
      "source": [
        "def multiply(a, b):\n",
        "\t\"\"\"Multiplies the value of a and b\"\"\"\n",
        "\treturn a*b\n",
        "\n",
        "\n",
        "# Print the docstring of multiply function\n",
        "print(multiply.__doc__)"
      ],
      "metadata": {
        "colab": {
          "base_uri": "https://localhost:8080/"
        },
        "id": "8DW1W66XJSUa",
        "outputId": "d92884bd-9585-4159-e014-0cf0ded565e6"
      },
      "execution_count": null,
      "outputs": [
        {
          "output_type": "stream",
          "name": "stdout",
          "text": [
            "Multiplies the value of a and b\n"
          ]
        }
      ]
    },
    {
      "cell_type": "markdown",
      "source": [
        "## Taking input"
      ],
      "metadata": {
        "id": "3n7AACldJmir"
      }
    },
    {
      "cell_type": "code",
      "source": [
        "# Python program showing a use of input()\n",
        "\n",
        "val = input(\"Enter your value: \")\n",
        "print(val)"
      ],
      "metadata": {
        "colab": {
          "base_uri": "https://localhost:8080/"
        },
        "id": "BifsjWtYJzAT",
        "outputId": "b95c4edf-0381-4b68-a338-0fcd25731aad"
      },
      "execution_count": null,
      "outputs": [
        {
          "output_type": "stream",
          "name": "stdout",
          "text": [
            "Enter your value: 12\n",
            "12\n"
          ]
        }
      ]
    },
    {
      "cell_type": "code",
      "source": [
        "name = input('What is your name?\\n')     # \\n ---> newline  ---> It causes a line break\n",
        "print(name)\n"
      ],
      "metadata": {
        "colab": {
          "base_uri": "https://localhost:8080/"
        },
        "id": "B_QRUsBaJ6Jz",
        "outputId": "633d192c-2f20-441b-bd1d-6f90b329ab1d"
      },
      "execution_count": null,
      "outputs": [
        {
          "output_type": "stream",
          "name": "stdout",
          "text": [
            "What is your name?\n",
            "14\n",
            "14\n"
          ]
        }
      ]
    },
    {
      "cell_type": "markdown",
      "source": [
        "Note : Whatever you enter as input, the input function converts it into a string. if you enter an integer value still input() function converts it into a string. You need to explicitly convert it into an integer in your code using typecasting ."
      ],
      "metadata": {
        "id": "PriY0ru8KF5r"
      }
    },
    {
      "cell_type": "code",
      "source": [
        "# Program to check input\n",
        "# type in Python\n",
        "\n",
        "num = input (\"Enter number :\")\n",
        "print(num)\n",
        "name1 = input(\"Enter name : \")\n",
        "print(name1)\n",
        "\n",
        "# Printing type of input value\n",
        "print (\"type of number\", type(num))\n",
        "print (\"type of name\", type(name1))\n"
      ],
      "metadata": {
        "colab": {
          "base_uri": "https://localhost:8080/"
        },
        "id": "mnLpPeurKIDM",
        "outputId": "dee2ffed-6f8d-46a3-ac94-7ac31f917cff"
      },
      "execution_count": null,
      "outputs": [
        {
          "output_type": "stream",
          "name": "stdout",
          "text": [
            "Enter number :14\n",
            "14\n",
            "Enter name : priya\n",
            "priya\n",
            "type of number <class 'str'>\n",
            "type of name <class 'str'>\n"
          ]
        }
      ]
    },
    {
      "cell_type": "code",
      "source": [
        "# Program to check input\n",
        "# type in Python\n",
        "\n",
        "num = int(input (\"Enter number :\"))\n",
        "print(num)\n",
        "name1 = input(\"Enter name : \")\n",
        "print(name1)\n",
        "\n",
        "# Printing type of input value\n",
        "print (\"type of number\", type(num))\n",
        "print (\"type of name\", type(name1))\n"
      ],
      "metadata": {
        "colab": {
          "base_uri": "https://localhost:8080/"
        },
        "id": "b-b6xJmzKVJa",
        "outputId": "0ba83dfd-0ff7-41c9-de51-564983b8df33"
      },
      "execution_count": null,
      "outputs": [
        {
          "output_type": "stream",
          "name": "stdout",
          "text": [
            "Enter number :14\n",
            "14\n",
            "Enter name : priya\n",
            "priya\n",
            "type of number <class 'int'>\n",
            "type of name <class 'str'>\n"
          ]
        }
      ]
    },
    {
      "cell_type": "code",
      "source": [
        "floatNum = float(input(\"Enter a decimal number: \"))\n",
        "print(floatNum, \" \", type(floatNum))"
      ],
      "metadata": {
        "colab": {
          "base_uri": "https://localhost:8080/"
        },
        "id": "-9m1XApUKgAL",
        "outputId": "0db4086a-9b3a-4637-af9d-1a84856d2f86"
      },
      "execution_count": null,
      "outputs": [
        {
          "output_type": "stream",
          "name": "stdout",
          "text": [
            "Enter a decimal number: 23.5\n",
            "23.5   <class 'float'>\n"
          ]
        }
      ]
    },
    {
      "cell_type": "markdown",
      "source": [
        "##### How to take character input in Python?\n",
        "You can use the input() function to accept user input. Characters are inherently strings in Python, so no additional conversion is necessary."
      ],
      "metadata": {
        "id": "rPiKL9CrKmpb"
      }
    },
    {
      "cell_type": "code",
      "source": [
        "# Input a character\n",
        "char = input(\"Enter a character: \")"
      ],
      "metadata": {
        "colab": {
          "base_uri": "https://localhost:8080/"
        },
        "id": "C2MpkPGgKpQ8",
        "outputId": "381c4825-415c-4277-f37c-31ae3fb9199d"
      },
      "execution_count": null,
      "outputs": [
        {
          "name": "stdout",
          "output_type": "stream",
          "text": [
            "Enter a character: c\n"
          ]
        }
      ]
    },
    {
      "cell_type": "markdown",
      "source": [
        "##### How to input time in Python?\n",
        "You can use the input() function to accept a string input representing time. You can then parse and manipulate this string using datetime functions if needed.\n",
        "\n"
      ],
      "metadata": {
        "id": "fRF4Cl4YKztH"
      }
    },
    {
      "cell_type": "code",
      "source": [
        "import datetime\n",
        "# Input time as string\n",
        "time_str = input(\"Enter a time (HH:MM:SS): \")\n",
        "# Convert string to datetime object\n",
        "time_obj = datetime.datetime.strptime(time_str, \"%H:%M:%S\")"
      ],
      "metadata": {
        "colab": {
          "base_uri": "https://localhost:8080/"
        },
        "id": "wVjTr7QCK6nR",
        "outputId": "6b46c1d3-1183-4449-c87f-38f532b18d0d"
      },
      "execution_count": null,
      "outputs": [
        {
          "name": "stdout",
          "output_type": "stream",
          "text": [
            "Enter a time (HH:MM:SS): 2:40:50\n"
          ]
        }
      ]
    },
    {
      "cell_type": "markdown",
      "source": [
        "## Type Conversion"
      ],
      "metadata": {
        "id": "Zu26rjvvMQGz"
      }
    },
    {
      "cell_type": "markdown",
      "source": [
        "#### Implicit type conversion"
      ],
      "metadata": {
        "id": "198q7rolMTyC"
      }
    },
    {
      "cell_type": "code",
      "source": [
        "x = 10\n",
        "print(\"x is of type:\",type(x))\n",
        "\n",
        "y = 10.6\n",
        "print(\"y is of type:\",type(y))\n",
        "\n",
        "z = x + y\n",
        "\n",
        "print(z)\n",
        "print(\"z is of type:\",type(z))"
      ],
      "metadata": {
        "colab": {
          "base_uri": "https://localhost:8080/"
        },
        "id": "-CmujjKTMTGB",
        "outputId": "5332062d-ccd4-46f6-b551-0fd182df9222"
      },
      "execution_count": null,
      "outputs": [
        {
          "output_type": "stream",
          "name": "stdout",
          "text": [
            "x is of type: <class 'int'>\n",
            "y is of type: <class 'float'>\n",
            "20.6\n",
            "z is of type: <class 'float'>\n"
          ]
        }
      ]
    },
    {
      "cell_type": "markdown",
      "source": [
        "#### Explicit type conversion"
      ],
      "metadata": {
        "id": "cyUwKPYtMetL"
      }
    },
    {
      "cell_type": "code",
      "source": [
        "# initializing string\n",
        "s = \"10010\"\n",
        "\n",
        "# printing string converting to int base 2\n",
        "c = int(s,2)\n",
        "print (\"After converting to integer base 2 : \", end=\"\")\n",
        "print (c)\n",
        "\n",
        "# printing string converting to float\n",
        "e = float(s)\n",
        "print (\"After converting to float : \", end=\"\")\n",
        "print (e)"
      ],
      "metadata": {
        "colab": {
          "base_uri": "https://localhost:8080/"
        },
        "id": "tj8IMQDNMhsL",
        "outputId": "9744e960-0b72-4688-a1c6-3e87bf096bce"
      },
      "execution_count": null,
      "outputs": [
        {
          "output_type": "stream",
          "name": "stdout",
          "text": [
            "After converting to integer base 2 : 18\n",
            "After converting to float : 10010.0\n"
          ]
        }
      ]
    },
    {
      "cell_type": "code",
      "source": [
        "# initializing integer\n",
        "s = '4'\n",
        "\n",
        "# printing character converting to integer\n",
        "c = ord(s)\n",
        "print (\"After converting character to integer : \",end=\"\")\n",
        "print (c)\n",
        "\n",
        "# printing integer converting to hexadecimal string\n",
        "c = hex(56)\n",
        "print (\"After converting 56 to hexadecimal string : \",end=\"\")\n",
        "print (c)\n",
        "\n",
        "# printing integer converting to octal string\n",
        "c = oct(56)\n",
        "print (\"After converting 56 to octal string : \",end=\"\")\n",
        "print (c)"
      ],
      "metadata": {
        "colab": {
          "base_uri": "https://localhost:8080/"
        },
        "id": "xqfaoKeuMvmE",
        "outputId": "0160c90c-3dde-4344-d754-5e0e99f50c60"
      },
      "execution_count": null,
      "outputs": [
        {
          "output_type": "stream",
          "name": "stdout",
          "text": [
            "After converting character to integer : 52\n",
            "After converting 56 to hexadecimal string : 0x38\n",
            "After converting 56 to octal string : 0o70\n"
          ]
        }
      ]
    },
    {
      "cell_type": "code",
      "source": [
        "# initializing string\n",
        "s = 'geeks'\n",
        "\n",
        "# printing string converting to tuple\n",
        "c = tuple(s)\n",
        "print (\"After converting string to tuple : \",end=\"\")\n",
        "print (c)\n",
        "\n",
        "# printing string converting to set\n",
        "c = set(s)\n",
        "print (\"After converting string to set : \",end=\"\")\n",
        "print (c)\n",
        "\n",
        "# printing string converting to list\n",
        "c = list(s)\n",
        "print (\"After converting string to list : \",end=\"\")\n",
        "print (c)\n"
      ],
      "metadata": {
        "colab": {
          "base_uri": "https://localhost:8080/"
        },
        "id": "A-W9BCDGM4uJ",
        "outputId": "203a6b35-e3b7-495b-f9f8-c4addb1b5377"
      },
      "execution_count": null,
      "outputs": [
        {
          "output_type": "stream",
          "name": "stdout",
          "text": [
            "After converting string to tuple : ('g', 'e', 'e', 'k', 's')\n",
            "After converting string to set : {'s', 'k', 'e', 'g'}\n",
            "After converting string to list : ['g', 'e', 'e', 'k', 's']\n"
          ]
        }
      ]
    },
    {
      "cell_type": "code",
      "source": [
        "# initializing integers\n",
        "a = 1\n",
        "b = 2\n",
        "\n",
        "# initializing tuple\n",
        "tup = (('a', 1) ,('f', 2), ('g', 3))\n",
        "\n",
        "# printing integer converting to complex number\n",
        "c = complex(1,2)\n",
        "print (\"After converting integer to complex number : \",end=\"\")\n",
        "print (c)\n",
        "\n",
        "# printing integer converting to string\n",
        "c = str(a)\n",
        "print (\"After converting integer to string : \",end=\"\")\n",
        "print (c)\n",
        "\n",
        "# printing tuple converting to expression dictionary\n",
        "c = dict(tup)\n",
        "print (\"After converting tuple to dictionary : \",end=\"\")\n",
        "print (c)\n"
      ],
      "metadata": {
        "colab": {
          "base_uri": "https://localhost:8080/"
        },
        "id": "8pvmS5BYM8ii",
        "outputId": "d8ec9593-abfc-4e24-9587-d769886a113e"
      },
      "execution_count": null,
      "outputs": [
        {
          "output_type": "stream",
          "name": "stdout",
          "text": [
            "After converting integer to complex number : (1+2j)\n",
            "After converting integer to string : 1\n",
            "After converting tuple to dictionary : {'a': 1, 'f': 2, 'g': 3}\n"
          ]
        }
      ]
    },
    {
      "cell_type": "markdown",
      "source": [
        "##### Convert ASCII value to characters\n",
        "chr(number): This function converts a number to its corresponding ASCII character."
      ],
      "metadata": {
        "id": "aoMTko-PNFnL"
      }
    },
    {
      "cell_type": "code",
      "source": [
        "a = chr(76)\n",
        "b = chr(77)\n",
        "\n",
        "print(a)\n",
        "print(b)"
      ],
      "metadata": {
        "colab": {
          "base_uri": "https://localhost:8080/"
        },
        "id": "EaAfOKQONHiL",
        "outputId": "b4016378-3a7c-4b00-e1cc-9db3c1f20bd5"
      },
      "execution_count": null,
      "outputs": [
        {
          "output_type": "stream",
          "name": "stdout",
          "text": [
            "L\n",
            "M\n"
          ]
        }
      ]
    }
  ]
}