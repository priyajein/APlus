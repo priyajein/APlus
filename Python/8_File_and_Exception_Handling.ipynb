{
  "nbformat": 4,
  "nbformat_minor": 0,
  "metadata": {
    "colab": {
      "provenance": []
    },
    "kernelspec": {
      "name": "python3",
      "display_name": "Python 3"
    },
    "language_info": {
      "name": "python"
    }
  },
  "cells": [
    {
      "cell_type": "markdown",
      "source": [
        "For this article, we will consider the following ” geeks.txt ” file as an example.\n",
        "\n",
        "Hello world\n",
        "\n",
        "GeeksforGeeks\n",
        "\n",
        "123 456"
      ],
      "metadata": {
        "id": "DhPdrKyTquE9"
      }
    },
    {
      "cell_type": "markdown",
      "source": [
        "## Creating a file\n",
        "Working in write mode"
      ],
      "metadata": {
        "id": "_1dvkF97rlGc"
      }
    },
    {
      "cell_type": "code",
      "execution_count": null,
      "metadata": {
        "id": "nj93ca4apYNT"
      },
      "outputs": [],
      "source": [
        "file = open('gfg.txt', 'w')\n",
        "file.write('Hello world\\n')\n",
        "file.write('GeeksforGeeks\\n')\n",
        "file.write('123 456\\n')\n",
        "file.close()"
      ]
    },
    {
      "cell_type": "code",
      "source": [
        "#  We can also use the written statement along with the  with() function.\n",
        "with open(\"file.txt\", \"w\") as f:\n",
        "    f.write(\"Hello World!!!\")"
      ],
      "metadata": {
        "id": "BTUv8W2Sr91V"
      },
      "execution_count": null,
      "outputs": []
    },
    {
      "cell_type": "markdown",
      "source": [
        "Working in read mode"
      ],
      "metadata": {
        "id": "N_GOkztbsI3M"
      }
    },
    {
      "cell_type": "code",
      "source": [
        "file = open('gfg.txt', 'r')\n",
        "print(file.read())\n",
        "file.close()"
      ],
      "metadata": {
        "colab": {
          "base_uri": "https://localhost:8080/"
        },
        "id": "cjrsRWKtsKy0",
        "outputId": "7c1d09e6-790f-4fc2-fd5a-5d8f93b9ab70"
      },
      "execution_count": null,
      "outputs": [
        {
          "output_type": "stream",
          "name": "stdout",
          "text": [
            "Hello world\n",
            "GeeksforGeeks\n",
            "123 456\n"
          ]
        }
      ]
    },
    {
      "cell_type": "code",
      "source": [
        "file = open('gfg.txt', 'r')\n",
        "\n",
        "# This will print every line one by one in the file\n",
        "for each in file:\n",
        "    print(each)\n",
        "file.close()"
      ],
      "metadata": {
        "colab": {
          "base_uri": "https://localhost:8080/"
        },
        "id": "2hNpSZjOsIND",
        "outputId": "aa19ffb0-5d7a-457e-8e88-e5b3aa389280"
      },
      "execution_count": null,
      "outputs": [
        {
          "output_type": "stream",
          "name": "stdout",
          "text": [
            "Hello world\n",
            "\n",
            "GeeksforGeeks\n",
            "\n",
            "123 456\n"
          ]
        }
      ]
    },
    {
      "cell_type": "code",
      "source": [
        "# Python code to illustrate with()\n",
        "with open(\"gfg.txt\") as file:\n",
        "    data = file.read()\n",
        "\n",
        "print(data)"
      ],
      "metadata": {
        "colab": {
          "base_uri": "https://localhost:8080/"
        },
        "id": "FKpuWCofsrGF",
        "outputId": "ff673e05-5205-47ca-bd2c-089062d2639d"
      },
      "execution_count": null,
      "outputs": [
        {
          "output_type": "stream",
          "name": "stdout",
          "text": [
            "Hello world\n",
            "GeeksforGeeks\n",
            "123 456\n"
          ]
        }
      ]
    },
    {
      "cell_type": "code",
      "source": [
        "# Python code to illustrate split() function\n",
        "with open(\"gfg.txt\", \"r\") as file:\n",
        "    data = file.readlines()\n",
        "    for line in data:\n",
        "        word = line.split()\n",
        "        print (word)"
      ],
      "metadata": {
        "colab": {
          "base_uri": "https://localhost:8080/"
        },
        "id": "OLtcc0NVs7V2",
        "outputId": "48dc7ea3-13f8-4819-e6a5-413b77247987"
      },
      "execution_count": null,
      "outputs": [
        {
          "output_type": "stream",
          "name": "stdout",
          "text": [
            "['Hello', 'world']\n",
            "['GeeksforGeeks']\n",
            "['123', '456']\n"
          ]
        }
      ]
    },
    {
      "cell_type": "markdown",
      "source": [
        "Workin of append mode"
      ],
      "metadata": {
        "id": "VDyudJ8wtBoL"
      }
    },
    {
      "cell_type": "code",
      "source": [
        "# Python code to illustrate append() mode\n",
        "file = open('gfg.txt', 'a')\n",
        "file.write(\"This will add this line\")\n",
        "file.close()\n",
        "\n",
        "file = open('gfg.txt', 'r')\n",
        "print(file.read())\n",
        "file.close()"
      ],
      "metadata": {
        "colab": {
          "base_uri": "https://localhost:8080/"
        },
        "id": "VVp4_C-LtEYl",
        "outputId": "b2178c22-7e4f-499e-fd1d-4b00e55bdf8b"
      },
      "execution_count": null,
      "outputs": [
        {
          "output_type": "stream",
          "name": "stdout",
          "text": [
            "Hello world\n",
            "GeeksforGeeks\n",
            "123 456\n",
            "This will add this line\n"
          ]
        }
      ]
    },
    {
      "cell_type": "code",
      "source": [
        "import os\n",
        "\n",
        "def create_file(filename):\n",
        "    try:\n",
        "        with open(filename, 'w') as f:\n",
        "            f.write('Hello, world!\\n')\n",
        "        print(\"File \" + filename + \" created successfully.\")\n",
        "    except IOError:\n",
        "        print(\"Error: could not create file \" + filename)\n",
        "\n",
        "def read_file(filename):\n",
        "    try:\n",
        "        with open(filename, 'r') as f:\n",
        "            contents = f.read()\n",
        "            print(contents)\n",
        "    except IOError:\n",
        "        print(\"Error: could not read file \" + filename)\n",
        "\n",
        "def append_file(filename, text):\n",
        "    try:\n",
        "        with open(filename, 'a') as f:\n",
        "            f.write(text)\n",
        "        print(\"Text appended to file \" + filename + \" successfully.\")\n",
        "    except IOError:\n",
        "        print(\"Error: could not append to file \" + filename)\n",
        "\n",
        "def rename_file(filename, new_filename):\n",
        "    try:\n",
        "        os.rename(filename, new_filename)\n",
        "        print(\"File \" + filename + \" renamed to \" + new_filename + \" successfully.\")\n",
        "    except IOError:\n",
        "        print(\"Error: could not rename file \" + filename)\n",
        "\n",
        "def delete_file(filename):\n",
        "    try:\n",
        "        os.remove(filename)\n",
        "        print(\"File \" + filename + \" deleted successfully.\")\n",
        "    except IOError:\n",
        "        print(\"Error: could not delete file \" + filename)\n",
        "\n",
        "\n",
        "if __name__ == '__main__':\n",
        "    filename = \"example.txt\"\n",
        "    new_filename = \"new_example.txt\"\n",
        "\n",
        "    create_file(filename)\n",
        "    read_file(filename)\n",
        "    append_file(filename, \"This is some additional text.\\n\")\n",
        "    read_file(filename)\n",
        "    rename_file(filename, new_filename)\n",
        "    read_file(new_filename)\n",
        "    delete_file(new_filename)\n"
      ],
      "metadata": {
        "colab": {
          "base_uri": "https://localhost:8080/"
        },
        "id": "kqRWcw3gtcGi",
        "outputId": "7be7206e-8952-4f5b-82f3-b67315b41fed"
      },
      "execution_count": null,
      "outputs": [
        {
          "output_type": "stream",
          "name": "stdout",
          "text": [
            "File example.txt created successfully.\n",
            "Hello, world!\n",
            "\n",
            "Text appended to file example.txt successfully.\n",
            "Hello, world!\n",
            "This is some additional text.\n",
            "\n",
            "File example.txt renamed to new_example.txt successfully.\n",
            "Hello, world!\n",
            "This is some additional text.\n",
            "\n",
            "File new_example.txt deleted successfully.\n"
          ]
        }
      ]
    },
    {
      "cell_type": "markdown",
      "source": [
        "rstrip(): This function strips each line of a file off spaces from the right-hand side.\n",
        "lstrip(): This function strips each line of a file off spaces from the left-hand side."
      ],
      "metadata": {
        "id": "ExeXQeoktQCu"
      }
    },
    {
      "cell_type": "markdown",
      "source": [
        "## Exception Handling"
      ],
      "metadata": {
        "id": "hQUk3B_RtsH-"
      }
    },
    {
      "cell_type": "code",
      "source": [
        "marks = 10000\n",
        "a = marks / 0\n",
        "print(a)"
      ],
      "metadata": {
        "colab": {
          "base_uri": "https://localhost:8080/",
          "height": 176
        },
        "id": "knM1P0P5tumu",
        "outputId": "b75f921e-ff85-43bf-a0c1-ab40a6bc74b9"
      },
      "execution_count": null,
      "outputs": [
        {
          "output_type": "error",
          "ename": "ZeroDivisionError",
          "evalue": "division by zero",
          "traceback": [
            "\u001b[0;31m---------------------------------------------------------------------------\u001b[0m",
            "\u001b[0;31mZeroDivisionError\u001b[0m                         Traceback (most recent call last)",
            "\u001b[0;32m<ipython-input-20-61119ba057ed>\u001b[0m in \u001b[0;36m<cell line: 2>\u001b[0;34m()\u001b[0m\n\u001b[1;32m      1\u001b[0m \u001b[0mmarks\u001b[0m \u001b[0;34m=\u001b[0m \u001b[0;36m10000\u001b[0m\u001b[0;34m\u001b[0m\u001b[0;34m\u001b[0m\u001b[0m\n\u001b[0;32m----> 2\u001b[0;31m \u001b[0ma\u001b[0m \u001b[0;34m=\u001b[0m \u001b[0mmarks\u001b[0m \u001b[0;34m/\u001b[0m \u001b[0;36m0\u001b[0m\u001b[0;34m\u001b[0m\u001b[0;34m\u001b[0m\u001b[0m\n\u001b[0m\u001b[1;32m      3\u001b[0m \u001b[0mprint\u001b[0m\u001b[0;34m(\u001b[0m\u001b[0ma\u001b[0m\u001b[0;34m)\u001b[0m\u001b[0;34m\u001b[0m\u001b[0;34m\u001b[0m\u001b[0m\n",
            "\u001b[0;31mZeroDivisionError\u001b[0m: division by zero"
          ]
        }
      ]
    },
    {
      "cell_type": "markdown",
      "source": [
        "1) TypeError: This exception is raised when an operation or function is applied to an object of the wrong type. Here’s an example:\n",
        "\n",
        "Here a ‘TypeError’ is raised as both the datatypes are different which are being added."
      ],
      "metadata": {
        "id": "jWbs8fh2urxn"
      }
    },
    {
      "cell_type": "code",
      "source": [
        "x = 5\n",
        "y = \"hello\"\n",
        "z = x + y"
      ],
      "metadata": {
        "colab": {
          "base_uri": "https://localhost:8080/",
          "height": 176
        },
        "id": "oNjHj41muuVl",
        "outputId": "5c0f4169-5701-4ce8-da21-dad1e041bb59"
      },
      "execution_count": null,
      "outputs": [
        {
          "output_type": "error",
          "ename": "TypeError",
          "evalue": "unsupported operand type(s) for +: 'int' and 'str'",
          "traceback": [
            "\u001b[0;31m---------------------------------------------------------------------------\u001b[0m",
            "\u001b[0;31mTypeError\u001b[0m                                 Traceback (most recent call last)",
            "\u001b[0;32m<ipython-input-21-e44ff87167a8>\u001b[0m in \u001b[0;36m<cell line: 3>\u001b[0;34m()\u001b[0m\n\u001b[1;32m      1\u001b[0m \u001b[0mx\u001b[0m \u001b[0;34m=\u001b[0m \u001b[0;36m5\u001b[0m\u001b[0;34m\u001b[0m\u001b[0;34m\u001b[0m\u001b[0m\n\u001b[1;32m      2\u001b[0m \u001b[0my\u001b[0m \u001b[0;34m=\u001b[0m \u001b[0;34m\"hello\"\u001b[0m\u001b[0;34m\u001b[0m\u001b[0;34m\u001b[0m\u001b[0m\n\u001b[0;32m----> 3\u001b[0;31m \u001b[0mz\u001b[0m \u001b[0;34m=\u001b[0m \u001b[0mx\u001b[0m \u001b[0;34m+\u001b[0m \u001b[0my\u001b[0m\u001b[0;34m\u001b[0m\u001b[0;34m\u001b[0m\u001b[0m\n\u001b[0m",
            "\u001b[0;31mTypeError\u001b[0m: unsupported operand type(s) for +: 'int' and 'str'"
          ]
        }
      ]
    },
    {
      "cell_type": "markdown",
      "source": [
        "try catch block to resolve it:\n",
        "\n",
        "The code attempts to add an integer (‘x') and a string (‘y') together, which is not a valid operation, and it will raise a ‘TypeError'. The code used a ‘try' and ‘except' block to catch this exception and print an error message."
      ],
      "metadata": {
        "id": "ZyfZoxE2u04N"
      }
    },
    {
      "cell_type": "code",
      "source": [
        "x = 5\n",
        "y = \"hello\"\n",
        "try:\n",
        "    z = x + y\n",
        "except TypeError:\n",
        "    print(\"Error: cannot add an int and a str\")"
      ],
      "metadata": {
        "colab": {
          "base_uri": "https://localhost:8080/"
        },
        "id": "ZWvJ9l_wu2-N",
        "outputId": "d11d71e8-d1cf-4c00-ce9c-28e1717f926c"
      },
      "execution_count": null,
      "outputs": [
        {
          "output_type": "stream",
          "name": "stdout",
          "text": [
            "Error: cannot add an int and a str\n"
          ]
        }
      ]
    },
    {
      "cell_type": "markdown",
      "source": [
        "### Try and Except Statement – Catching Exceptions\n",
        "Try and except statements are used to catch and handle exceptions in Python. Statements that can raise exceptions are wrapped inside the try block and the statements that handle the exception are written inside except block."
      ],
      "metadata": {
        "id": "EiXQKWRHu_LF"
      }
    },
    {
      "cell_type": "code",
      "source": [
        "a = [1, 2, 3]\n",
        "print (\"Second element = %d\" %(a[1]))\n",
        "print (\"Fourth element = %d\" %(a[3]))"
      ],
      "metadata": {
        "colab": {
          "base_uri": "https://localhost:8080/",
          "height": 193
        },
        "id": "vZX2DNjRvKPu",
        "outputId": "46d4f8f0-ae91-4354-db59-d7e8da7fb4da"
      },
      "execution_count": null,
      "outputs": [
        {
          "output_type": "stream",
          "name": "stdout",
          "text": [
            "Second element = 2\n"
          ]
        },
        {
          "output_type": "error",
          "ename": "IndexError",
          "evalue": "list index out of range",
          "traceback": [
            "\u001b[0;31m---------------------------------------------------------------------------\u001b[0m",
            "\u001b[0;31mIndexError\u001b[0m                                Traceback (most recent call last)",
            "\u001b[0;32m<ipython-input-24-c31665a23e94>\u001b[0m in \u001b[0;36m<cell line: 3>\u001b[0;34m()\u001b[0m\n\u001b[1;32m      1\u001b[0m \u001b[0ma\u001b[0m \u001b[0;34m=\u001b[0m \u001b[0;34m[\u001b[0m\u001b[0;36m1\u001b[0m\u001b[0;34m,\u001b[0m \u001b[0;36m2\u001b[0m\u001b[0;34m,\u001b[0m \u001b[0;36m3\u001b[0m\u001b[0;34m]\u001b[0m\u001b[0;34m\u001b[0m\u001b[0;34m\u001b[0m\u001b[0m\n\u001b[1;32m      2\u001b[0m \u001b[0mprint\u001b[0m \u001b[0;34m(\u001b[0m\u001b[0;34m\"Second element = %d\"\u001b[0m \u001b[0;34m%\u001b[0m\u001b[0;34m(\u001b[0m\u001b[0ma\u001b[0m\u001b[0;34m[\u001b[0m\u001b[0;36m1\u001b[0m\u001b[0;34m]\u001b[0m\u001b[0;34m)\u001b[0m\u001b[0;34m)\u001b[0m\u001b[0;34m\u001b[0m\u001b[0;34m\u001b[0m\u001b[0m\n\u001b[0;32m----> 3\u001b[0;31m \u001b[0mprint\u001b[0m \u001b[0;34m(\u001b[0m\u001b[0;34m\"Fourth element = %d\"\u001b[0m \u001b[0;34m%\u001b[0m\u001b[0;34m(\u001b[0m\u001b[0ma\u001b[0m\u001b[0;34m[\u001b[0m\u001b[0;36m3\u001b[0m\u001b[0;34m]\u001b[0m\u001b[0;34m)\u001b[0m\u001b[0;34m)\u001b[0m\u001b[0;34m\u001b[0m\u001b[0;34m\u001b[0m\u001b[0m\n\u001b[0m",
            "\u001b[0;31mIndexError\u001b[0m: list index out of range"
          ]
        }
      ]
    },
    {
      "cell_type": "code",
      "source": [
        "a = [1, 2, 3]\n",
        "try:\n",
        "    print (\"Second element = %d\" %(a[1]))\n",
        "\n",
        "    print (\"Fourth element = %d\" %(a[3]))\n",
        "\n",
        "except:\n",
        "    print (\"An error occurred\")\n"
      ],
      "metadata": {
        "colab": {
          "base_uri": "https://localhost:8080/"
        },
        "id": "itcP5zZTvDC8",
        "outputId": "c9ad06de-7027-4555-948e-c42c8682c42a"
      },
      "execution_count": null,
      "outputs": [
        {
          "output_type": "stream",
          "name": "stdout",
          "text": [
            "Second element = 2\n",
            "An error occurred\n"
          ]
        }
      ]
    },
    {
      "cell_type": "code",
      "source": [
        "def fun(a):\n",
        "    if a < 4:\n",
        "\n",
        "        b = a/(a-3)\n",
        "    print(\"Value of b = \", b)\n",
        "\n",
        "try:\n",
        "    fun(3)\n",
        "    fun(5)\n",
        "except ZeroDivisionError:\n",
        "    print(\"ZeroDivisionError Occurred and Handled\")\n",
        "except NameError:\n",
        "    print(\"NameError Occurred and Handled\")\n"
      ],
      "metadata": {
        "colab": {
          "base_uri": "https://localhost:8080/"
        },
        "id": "GW8UVGuJvRYF",
        "outputId": "72c324a9-77a4-431d-e146-eb0082734070"
      },
      "execution_count": null,
      "outputs": [
        {
          "output_type": "stream",
          "name": "stdout",
          "text": [
            "ZeroDivisionError Occurred and Handled\n"
          ]
        }
      ]
    },
    {
      "cell_type": "code",
      "source": [
        "def fun(a):\n",
        "    if a < 4:\n",
        "\n",
        "        b = a/(a-3)\n",
        "    print(\"Value of b = \", b)\n",
        "\n",
        "try:\n",
        "    # fun(3)\n",
        "    fun(5)\n",
        "except ZeroDivisionError:\n",
        "    print(\"ZeroDivisionError Occurred and Handled\")\n",
        "except NameError:\n",
        "    print(\"NameError Occurred and Handled\")"
      ],
      "metadata": {
        "colab": {
          "base_uri": "https://localhost:8080/"
        },
        "id": "SEbl8UNDvaW1",
        "outputId": "313a34c4-e3b5-495d-ea3c-f027bdeff5ed"
      },
      "execution_count": null,
      "outputs": [
        {
          "output_type": "stream",
          "name": "stdout",
          "text": [
            "NameError Occurred and Handled\n"
          ]
        }
      ]
    },
    {
      "cell_type": "markdown",
      "source": [
        "If you comment on the line fun(3), the output will be\n",
        "\n",
        "NameError Occurred and Handled\n",
        "\n",
        "The output above is so because as soon as python tries to access the value of b, NameError occurs."
      ],
      "metadata": {
        "id": "ZBiYg8oAvgqO"
      }
    },
    {
      "cell_type": "code",
      "source": [
        "def AbyB(a , b):\n",
        "    try:\n",
        "        c = ((a+b) / (a-b))\n",
        "    except ZeroDivisionError:\n",
        "        print (\"a/b result in 0\")\n",
        "    else:\n",
        "        print (c)\n",
        "AbyB(2.0, 3.0)\n",
        "AbyB(3.0, 3.0)"
      ],
      "metadata": {
        "colab": {
          "base_uri": "https://localhost:8080/"
        },
        "id": "kogmGAAgvigG",
        "outputId": "57a33577-f9e4-4b47-94ba-45e43f3d6c76"
      },
      "execution_count": null,
      "outputs": [
        {
          "output_type": "stream",
          "name": "stdout",
          "text": [
            "-5.0\n",
            "a/b result in 0\n"
          ]
        }
      ]
    },
    {
      "cell_type": "markdown",
      "source": [
        "### Finally Keyword in Python\n",
        "Python provides a keyword finally, which is always executed after the try and except blocks. The final block always executes after the normal termination of the try block or after the try block terminates due to some exception. The code within the finally block is always executed."
      ],
      "metadata": {
        "id": "vckLpWoevp2O"
      }
    },
    {
      "cell_type": "code",
      "source": [
        "try:\n",
        "    k = 5//0\n",
        "    print(k)\n",
        "\n",
        "except ZeroDivisionError:\n",
        "    print(\"Can't divide by zero\")\n",
        "\n",
        "finally:\n",
        "    print('This is always executed')"
      ],
      "metadata": {
        "colab": {
          "base_uri": "https://localhost:8080/"
        },
        "id": "TE1sVW0Lvsd2",
        "outputId": "980c79b3-7d1d-4f7d-ac42-2281a53d4acf"
      },
      "execution_count": null,
      "outputs": [
        {
          "output_type": "stream",
          "name": "stdout",
          "text": [
            "Can't divide by zero\n",
            "This is always executed\n"
          ]
        }
      ]
    },
    {
      "cell_type": "markdown",
      "source": [
        "### Raising Exception\n",
        "The raise statement allows the programmer to force a specific exception to occur. The sole argument in raise indicates the exception to be raised. This must be either an exception instance or an exception class (a class that derives from Exception).\n",
        "\n",
        "This code intentionally raises a NameError with the message “Hi there” using the raise statement within a try block. Then, it catches the NameError exception, prints “An exception,” and re-raises the same exception using raise. This demonstrates how exceptions can be raised and handled in Python, allowing for custom error messages and further exception propagation."
      ],
      "metadata": {
        "id": "igWsU0fIv2kd"
      }
    },
    {
      "cell_type": "code",
      "source": [
        "try:\n",
        "    raise NameError(\"Hi there\")\n",
        "except NameError:\n",
        "    print (\"An exception\")\n",
        "    raise"
      ],
      "metadata": {
        "colab": {
          "base_uri": "https://localhost:8080/",
          "height": 228
        },
        "id": "7zYZ1vTBwOzm",
        "outputId": "34251cf8-36b3-4e8a-f47b-51c1f3ff9141"
      },
      "execution_count": null,
      "outputs": [
        {
          "output_type": "stream",
          "name": "stdout",
          "text": [
            "An exception\n"
          ]
        },
        {
          "output_type": "error",
          "ename": "NameError",
          "evalue": "Hi there",
          "traceback": [
            "\u001b[0;31m---------------------------------------------------------------------------\u001b[0m",
            "\u001b[0;31mNameError\u001b[0m                                 Traceback (most recent call last)",
            "\u001b[0;32m<ipython-input-29-60b10007b731>\u001b[0m in \u001b[0;36m<cell line: 1>\u001b[0;34m()\u001b[0m\n\u001b[1;32m      1\u001b[0m \u001b[0;32mtry\u001b[0m\u001b[0;34m:\u001b[0m\u001b[0;34m\u001b[0m\u001b[0;34m\u001b[0m\u001b[0m\n\u001b[0;32m----> 2\u001b[0;31m     \u001b[0;32mraise\u001b[0m \u001b[0mNameError\u001b[0m\u001b[0;34m(\u001b[0m\u001b[0;34m\"Hi there\"\u001b[0m\u001b[0;34m)\u001b[0m\u001b[0;34m\u001b[0m\u001b[0;34m\u001b[0m\u001b[0m\n\u001b[0m\u001b[1;32m      3\u001b[0m \u001b[0;32mexcept\u001b[0m \u001b[0mNameError\u001b[0m\u001b[0;34m:\u001b[0m\u001b[0;34m\u001b[0m\u001b[0;34m\u001b[0m\u001b[0m\n\u001b[1;32m      4\u001b[0m     \u001b[0mprint\u001b[0m \u001b[0;34m(\u001b[0m\u001b[0;34m\"An exception\"\u001b[0m\u001b[0;34m)\u001b[0m\u001b[0;34m\u001b[0m\u001b[0;34m\u001b[0m\u001b[0m\n\u001b[1;32m      5\u001b[0m     \u001b[0;32mraise\u001b[0m\u001b[0;34m\u001b[0m\u001b[0;34m\u001b[0m\u001b[0m\n",
            "\u001b[0;31mNameError\u001b[0m: Hi there"
          ]
        }
      ]
    },
    {
      "cell_type": "markdown",
      "source": [
        "### User-Defined Exception in Python"
      ],
      "metadata": {
        "id": "NXnfqi5xwfDF"
      }
    },
    {
      "cell_type": "code",
      "source": [
        "# A python program to create user-defined exception\n",
        "# class MyError is derived from super class Exception\n",
        "class MyError(Exception):\n",
        "\n",
        "\t# Constructor or Initializer\n",
        "\tdef __init__(self, value):\n",
        "\t\tself.value = value\n",
        "\n",
        "\t# __str__ is to print() the value\n",
        "\tdef __str__(self):\n",
        "\t\treturn(repr(self.value))\n",
        "\n",
        "\n",
        "try:\n",
        "\traise(MyError(3*2))\n",
        "\n",
        "# Value of Exception is stored in error\n",
        "except MyError as error:\n",
        "\tprint('A New Exception occurred: ', error.value)"
      ],
      "metadata": {
        "colab": {
          "base_uri": "https://localhost:8080/"
        },
        "id": "_M6XfqMKwgP-",
        "outputId": "60cb32cd-40d3-433c-e318-13a2167b729f"
      },
      "execution_count": null,
      "outputs": [
        {
          "output_type": "stream",
          "name": "stdout",
          "text": [
            "A New Exception occurred:  6\n"
          ]
        }
      ]
    },
    {
      "cell_type": "markdown",
      "source": [
        "User - Defined class with Multiple Inheritance"
      ],
      "metadata": {
        "id": "YQw0VBdaw2KP"
      }
    },
    {
      "cell_type": "code",
      "source": [
        "# define Python user-defined exceptions\n",
        "class Error(Exception):\n",
        "\t\"\"\"Base class for other exceptions\"\"\"\n",
        "\tpass\n",
        "\n",
        "class zerodivision(Error):\n",
        "\t\"\"\"Raised when the input value is zero\"\"\"\n",
        "\tpass\n",
        "\n",
        "try:\n",
        "\ti_num = int(input(\"Enter a number: \"))\n",
        "\tif i_num == 0:\n",
        "\t\traise zerodivision\n",
        "except zerodivision:\n",
        "\tprint(\"Input value is zero, try again!\")\n",
        "\tprint()"
      ],
      "metadata": {
        "colab": {
          "base_uri": "https://localhost:8080/"
        },
        "id": "i99_xv9_w7R2",
        "outputId": "1e85b7a3-d0f6-4490-df59-aad6cb74ce13"
      },
      "execution_count": null,
      "outputs": [
        {
          "output_type": "stream",
          "name": "stdout",
          "text": [
            "Enter a number: 0\n",
            "Input value is zero, try again!\n",
            "\n"
          ]
        }
      ]
    },
    {
      "cell_type": "markdown",
      "source": [
        "Deriving Error from Super Class Exception"
      ],
      "metadata": {
        "id": "SMgmz5xKxERO"
      }
    },
    {
      "cell_type": "code",
      "source": [
        "# class Error is derived from super class Exception\n",
        "class Error(Exception):\n",
        "\n",
        "\t# Error is derived class for Exception, but\n",
        "\t# Base class for exceptions in this module\n",
        "\tpass\n",
        "\n",
        "class TransitionError(Error):\n",
        "\n",
        "\t# Raised when an operation attempts a state\n",
        "\t# transition that's not allowed.\n",
        "\tdef __init__(self, prev, nex, msg):\n",
        "\t\tself.prev = prev\n",
        "\t\tself.next = nex\n",
        "\n",
        "\t\t# Error message thrown is saved in msg\n",
        "\t\tself.msg = msg\n",
        "\n",
        "try:\n",
        "\traise(TransitionError(2, 3*2, \"Not Allowed\"))\n",
        "\n",
        "# Value of Exception is stored in error\n",
        "except TransitionError as error:\n",
        "\tprint('Exception occurred: ', error.msg)\n"
      ],
      "metadata": {
        "colab": {
          "base_uri": "https://localhost:8080/"
        },
        "id": "feC0Jtc4xF_t",
        "outputId": "3a4f5c6b-3128-4c82-b442-29d0210fd3f4"
      },
      "execution_count": null,
      "outputs": [
        {
          "output_type": "stream",
          "name": "stdout",
          "text": [
            "Exception occurred:  Not Allowed\n"
          ]
        }
      ]
    },
    {
      "cell_type": "markdown",
      "source": [
        "How to use standard Exceptions as a base class?"
      ],
      "metadata": {
        "id": "vVZtbawexJXG"
      }
    },
    {
      "cell_type": "code",
      "source": [
        "# NetworkError has base RuntimeError\n",
        "# and not Exception\n",
        "class Networkerror(RuntimeError):\n",
        "\tdef __init__(self, arg):\n",
        "\t\tself.args = arg\n",
        "\n",
        "try:\n",
        "\traise Networkerror(\"Error\")\n",
        "\n",
        "except Networkerror as e:\n",
        "\tprint(e.args)\n"
      ],
      "metadata": {
        "id": "mkF_19rrxJue",
        "outputId": "bc6d88ef-e3df-4a6f-ed27-869ce92ed55d",
        "colab": {
          "base_uri": "https://localhost:8080/"
        }
      },
      "execution_count": null,
      "outputs": [
        {
          "output_type": "stream",
          "name": "stdout",
          "text": [
            "('E', 'r', 'r', 'o', 'r')\n"
          ]
        }
      ]
    }
  ]
}