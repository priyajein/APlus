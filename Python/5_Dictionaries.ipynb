{
  "nbformat": 4,
  "nbformat_minor": 0,
  "metadata": {
    "colab": {
      "provenance": []
    },
    "kernelspec": {
      "name": "python3",
      "display_name": "Python 3"
    },
    "language_info": {
      "name": "python"
    }
  },
  "cells": [
    {
      "cell_type": "markdown",
      "source": [
        "# DICTIONARIES"
      ],
      "metadata": {
        "id": "4HS-4WOXson4"
      }
    },
    {
      "cell_type": "markdown",
      "source": [
        "#### Creating dictionary"
      ],
      "metadata": {
        "id": "nZSM3KActBw_"
      }
    },
    {
      "cell_type": "code",
      "execution_count": null,
      "metadata": {
        "id": "4Lb2RbCmsk3t"
      },
      "outputs": [],
      "source": [
        "Dict = {1: 'Geeks', 2: 'For', 3: 'Geeks'}\n",
        "print(\"\\nDictionary with the use of Integer Keys: \")\n",
        "print(Dict)\n",
        "\n",
        "Dict = {'Name': 'Geeks', 1: [1, 2, 3, 4]}\n",
        "print(\"\\nDictionary with the use of Mixed Keys: \")\n",
        "print(Dict)"
      ]
    },
    {
      "cell_type": "code",
      "source": [
        "Dict = {}\n",
        "print(\"Empty Dictionary: \")\n",
        "print(Dict)\n",
        "\n",
        "Dict = dict({1: 'Geeks', 2: 'For', 3: 'Geeks'})\n",
        "print(\"\\nDictionary with the use of dict(): \")\n",
        "print(Dict)\n",
        "\n",
        "Dict = dict([(1, 'Geeks'), (2, 'For')])\n",
        "print(\"\\nDictionary with each item as a pair: \")\n",
        "print(Dict)"
      ],
      "metadata": {
        "colab": {
          "base_uri": "https://localhost:8080/"
        },
        "id": "FLDqERkztEi_",
        "outputId": "927922ca-7361-4a8c-f263-bdf85694ea4c"
      },
      "execution_count": null,
      "outputs": [
        {
          "output_type": "stream",
          "name": "stdout",
          "text": [
            "Empty Dictionary: \n",
            "{}\n",
            "\n",
            "Dictionary with the use of dict(): \n",
            "{1: 'Geeks', 2: 'For', 3: 'Geeks'}\n",
            "\n",
            "Dictionary with each item as a pair: \n",
            "{1: 'Geeks', 2: 'For'}\n"
          ]
        }
      ]
    },
    {
      "cell_type": "code",
      "source": [
        "Dict = {1: 'Geeks', 2: 'For',\n",
        "        3: {'A': 'Welcome', 'B': 'To', 'C': 'Geeks'}}\n",
        "\n",
        "print(Dict)"
      ],
      "metadata": {
        "colab": {
          "base_uri": "https://localhost:8080/"
        },
        "id": "XyiUk5K-tOGu",
        "outputId": "78276506-b6e6-4dd8-c06d-6c46a5969fa0"
      },
      "execution_count": null,
      "outputs": [
        {
          "output_type": "stream",
          "name": "stdout",
          "text": [
            "{1: 'Geeks', 2: 'For', 3: {'A': 'Welcome', 'B': 'To', 'C': 'Geeks'}}\n"
          ]
        }
      ]
    },
    {
      "cell_type": "markdown",
      "source": [
        "##### Adding elemnets to dictionary"
      ],
      "metadata": {
        "id": "BC7L2ydBtPgu"
      }
    },
    {
      "cell_type": "code",
      "source": [
        "Dict = {}\n",
        "print(\"Empty Dictionary: \")\n",
        "print(Dict)\n",
        "Dict[0] = 'Geeks'\n",
        "Dict[2] = 'For'\n",
        "Dict[3] = 1\n",
        "print(\"\\nDictionary after adding 3 elements: \")\n",
        "print(Dict)\n",
        "\n",
        "Dict['Value_set'] = 2, 3, 4\n",
        "print(\"\\nDictionary after adding 3 elements: \")\n",
        "print(Dict)\n",
        "\n",
        "Dict[2] = 'Welcome'\n",
        "print(\"\\nUpdated key value: \")\n",
        "print(Dict)\n",
        "Dict[5] = {'Nested': {'1': 'Life', '2': 'Geeks'}}\n",
        "print(\"\\nAdding a Nested Key: \")\n",
        "print(Dict)"
      ],
      "metadata": {
        "colab": {
          "base_uri": "https://localhost:8080/"
        },
        "id": "C3uzEZw4tVJG",
        "outputId": "31f36e05-4d3d-49db-dab0-7b6c4336b3cc"
      },
      "execution_count": null,
      "outputs": [
        {
          "output_type": "stream",
          "name": "stdout",
          "text": [
            "Empty Dictionary: \n",
            "{}\n",
            "\n",
            "Dictionary after adding 3 elements: \n",
            "{0: 'Geeks', 2: 'For', 3: 1}\n",
            "\n",
            "Dictionary after adding 3 elements: \n",
            "{0: 'Geeks', 2: 'For', 3: 1, 'Value_set': (2, 3, 4)}\n",
            "\n",
            "Updated key value: \n",
            "{0: 'Geeks', 2: 'Welcome', 3: 1, 'Value_set': (2, 3, 4)}\n",
            "\n",
            "Adding a Nested Key: \n",
            "{0: 'Geeks', 2: 'Welcome', 3: 1, 'Value_set': (2, 3, 4), 5: {'Nested': {'1': 'Life', '2': 'Geeks'}}}\n"
          ]
        }
      ]
    },
    {
      "cell_type": "markdown",
      "source": [
        "###### Accessing elements from dictionary"
      ],
      "metadata": {
        "id": "MNgLPBr7tis-"
      }
    },
    {
      "cell_type": "code",
      "source": [
        "print(Dict[2])\n",
        "print(Dict['Value_set'])\n",
        "print(Dict[5]['Nested']['2'])"
      ],
      "metadata": {
        "colab": {
          "base_uri": "https://localhost:8080/"
        },
        "id": "dlA9OGvZtmkf",
        "outputId": "1c894eb9-c22e-4fa6-a829-1f31fc9b7ca8"
      },
      "execution_count": null,
      "outputs": [
        {
          "output_type": "stream",
          "name": "stdout",
          "text": [
            "Welcome\n",
            "(2, 3, 4)\n",
            "Geeks\n"
          ]
        }
      ]
    },
    {
      "cell_type": "code",
      "source": [
        "# Example: Access a Value in Dictionary using get() in Python\n",
        "Dict = {1: 'Geeks', 'name': 'For', 3: 'Geeks'}\n",
        "\n",
        "print(\"Accessing a element using get:\")\n",
        "print(Dict.get(3))"
      ],
      "metadata": {
        "colab": {
          "base_uri": "https://localhost:8080/"
        },
        "id": "5XVFvseTt5DN",
        "outputId": "d737a445-e583-4f13-87a4-f461444324f3"
      },
      "execution_count": null,
      "outputs": [
        {
          "output_type": "stream",
          "name": "stdout",
          "text": [
            "Accessing a element using get:\n",
            "Geeks\n"
          ]
        }
      ]
    },
    {
      "cell_type": "markdown",
      "source": [
        "Deleting Elements using ‘del’ Keyword"
      ],
      "metadata": {
        "id": "A-fhm5mtuCS3"
      }
    },
    {
      "cell_type": "code",
      "source": [
        "del(Dict[1])\n",
        "print(Dict)"
      ],
      "metadata": {
        "colab": {
          "base_uri": "https://localhost:8080/"
        },
        "id": "7SDgP-FJuC2X",
        "outputId": "351e6c7f-c85d-41c2-c801-76c409f37f14"
      },
      "execution_count": null,
      "outputs": [
        {
          "output_type": "stream",
          "name": "stdout",
          "text": [
            "{'name': 'For', 3: 'Geeks'}\n"
          ]
        }
      ]
    },
    {
      "cell_type": "code",
      "source": [
        "# Multiple dictionary operations\n",
        "dict1 = {1: \"Python\", 2: \"Java\", 3: \"Ruby\", 4: \"Scala\"}\n",
        "dict2 = dict1.copy()\n",
        "print(dict2)\n",
        "print()\n",
        "dict1.clear()\n",
        "print(dict1)\n",
        "print(dict2.get(1))\n",
        "print(dict2.items())\n",
        "print(dict2.keys())\n",
        "print()\n",
        "dict2.pop(4)\n",
        "print(dict2)\n",
        "dict2.popitem()\n",
        "print(dict2)\n",
        "dict2.update({3: \"Scala\"})\n",
        "print(dict2)\n",
        "print(dict2.values())"
      ],
      "metadata": {
        "colab": {
          "base_uri": "https://localhost:8080/"
        },
        "id": "qFV0EabtuRbX",
        "outputId": "e936bc92-18ae-45d3-fb1b-26ac7315e538"
      },
      "execution_count": null,
      "outputs": [
        {
          "output_type": "stream",
          "name": "stdout",
          "text": [
            "{1: 'Python', 2: 'Java', 3: 'Ruby', 4: 'Scala'}\n",
            "\n",
            "{}\n",
            "Python\n",
            "dict_items([(1, 'Python'), (2, 'Java'), (3, 'Ruby'), (4, 'Scala')])\n",
            "dict_keys([1, 2, 3, 4])\n",
            "\n",
            "{1: 'Python', 2: 'Java', 3: 'Ruby'}\n",
            "{1: 'Python', 2: 'Java'}\n",
            "{1: 'Python', 2: 'Java', 3: 'Scala'}\n",
            "dict_values(['Python', 'Java', 'Scala'])\n"
          ]
        }
      ]
    },
    {
      "cell_type": "markdown",
      "source": [
        "### Accessing the dictionary key\n",
        "1. using the keys() method"
      ],
      "metadata": {
        "id": "NNZq2qcdPBlm"
      }
    },
    {
      "cell_type": "code",
      "source": [
        "# Dictionary with three keys\n",
        "Dictionary1 = {'A': 'Geeks', 'B': 'For', 'C': 'Geeks'}\n",
        "\n",
        "# Printing keys of dictionary\n",
        "print(Dictionary1.keys())\n",
        "\n",
        "# accessing 2nd element using keys()\n",
        "print('2nd key using keys() : ', list(Dictionary1.keys())[1])"
      ],
      "metadata": {
        "colab": {
          "base_uri": "https://localhost:8080/"
        },
        "id": "yNvR3XqUPQh9",
        "outputId": "e6efa212-b722-43d4-fec1-fb0058bb795f"
      },
      "execution_count": null,
      "outputs": [
        {
          "output_type": "stream",
          "name": "stdout",
          "text": [
            "dict_keys(['A', 'B', 'C'])\n",
            "2nd key using keys() :  B\n"
          ]
        }
      ]
    },
    {
      "cell_type": "markdown",
      "source": [
        "#### Update() function"
      ],
      "metadata": {
        "id": "_78kMK1jQKZW"
      }
    },
    {
      "cell_type": "code",
      "source": [
        "# Dictionary with two keys\n",
        "Dictionary1 = {'A': 'Geeks', 'B': 'For'}\n",
        "\n",
        "# Printing keys of dictionary\n",
        "print(\"Keys before Dictionary Updation:\")\n",
        "keys = Dictionary1.keys()\n",
        "print(keys)\n",
        "\n",
        "# adding an element to the dictionary\n",
        "Dictionary1.update({'C': 'Geeks'})\n",
        "\n",
        "print('\\nAfter dictionary is updated:')\n",
        "print(keys)"
      ],
      "metadata": {
        "colab": {
          "base_uri": "https://localhost:8080/"
        },
        "id": "ijhGJcH9QOxH",
        "outputId": "30ebd242-e9c1-4106-e0e9-47449166d4ed"
      },
      "execution_count": null,
      "outputs": [
        {
          "output_type": "stream",
          "name": "stdout",
          "text": [
            "Keys before Dictionary Updation:\n",
            "dict_keys(['A', 'B'])\n",
            "\n",
            "After dictionary is updated:\n",
            "dict_keys(['A', 'B', 'C'])\n"
          ]
        }
      ]
    },
    {
      "cell_type": "markdown",
      "source": [
        "### get all the values from the dictionary"
      ],
      "metadata": {
        "id": "ZwW01kARQw7e"
      }
    },
    {
      "cell_type": "code",
      "source": [
        "# numerical values\n",
        "dictionary = {\"raj\": 2, \"striver\": 3, \"vikram\": 4}\n",
        "print(dictionary.values())\n",
        "\n",
        "\n",
        "# string values\n",
        "dictionary = {\"geeks\": \"5\", \"for\": \"3\", \"Geeks\": \"5\"}\n",
        "print(dictionary.values())"
      ],
      "metadata": {
        "colab": {
          "base_uri": "https://localhost:8080/"
        },
        "id": "JSLEeonEQ0g9",
        "outputId": "196ecb49-6770-4746-c655-a6bfd160adc7"
      },
      "execution_count": null,
      "outputs": [
        {
          "output_type": "stream",
          "name": "stdout",
          "text": [
            "dict_values([2, 3, 4])\n",
            "dict_values(['5', '3', '5'])\n"
          ]
        }
      ]
    },
    {
      "cell_type": "markdown",
      "source": [
        "Get a sum of all values from the dictionary"
      ],
      "metadata": {
        "id": "6dWxk9mDQ7ov"
      }
    },
    {
      "cell_type": "code",
      "source": [
        "# stores name and corresponding salaries\n",
        "salary = {\"raj\" : 50000, \"striver\" : 60000, \"vikram\" : 5000}\n",
        "\n",
        "# stores the salaries only\n",
        "list1 = salary.values()\n",
        "print(sum(list1)) # prints the sum of all salaries"
      ],
      "metadata": {
        "colab": {
          "base_uri": "https://localhost:8080/"
        },
        "id": "cNgCNoaBQ-T1",
        "outputId": "cb79cc65-ed2a-42a6-aa08-f910bfc96e8f"
      },
      "execution_count": null,
      "outputs": [
        {
          "output_type": "stream",
          "name": "stdout",
          "text": [
            "115000\n"
          ]
        }
      ]
    },
    {
      "cell_type": "markdown",
      "source": [
        "#### Dictionary Methods"
      ],
      "metadata": {
        "id": "U3-Dl6sdRdVe"
      }
    },
    {
      "cell_type": "code",
      "source": [
        "my_dict = {'1': 'Geeks', '2': 'For', '3': 'Geeks'}\n",
        "my_dict.clear()\n",
        "print(my_dict)"
      ],
      "metadata": {
        "colab": {
          "base_uri": "https://localhost:8080/"
        },
        "id": "yy_dFotlRgYu",
        "outputId": "b8a7b2ae-ebd1-43fb-a560-223d70f76e83"
      },
      "execution_count": null,
      "outputs": [
        {
          "output_type": "stream",
          "name": "stdout",
          "text": [
            "{}\n"
          ]
        }
      ]
    },
    {
      "cell_type": "code",
      "source": [
        "d = {'Name': 'Ram', 'Age': '19', 'Country': 'India'}\n",
        "print(d.get('Name'))\n",
        "print(d.get('Gender'))\n",
        "# get() method is a pre-built dictionary function that enables you to obtain the value linked to a particular key in a dictionary.\n",
        "# It is a secure method to access dictionary values without causing a KeyError if the key isn’t present"
      ],
      "metadata": {
        "colab": {
          "base_uri": "https://localhost:8080/"
        },
        "id": "Ervk-i2SRsVu",
        "outputId": "d95293f5-129e-4d79-c7af-5a3c30d4f3ec"
      },
      "execution_count": null,
      "outputs": [
        {
          "output_type": "stream",
          "name": "stdout",
          "text": [
            "Ram\n",
            "None\n"
          ]
        }
      ]
    },
    {
      "cell_type": "code",
      "source": [
        "d = {'Name': 'Ram', 'Age': '19', 'Country': 'India'}\n",
        "print(d.items())\n",
        "print(list(d.items()))\n",
        "print(list(d.items())[1][0])\n",
        "print(list(d.items())[1][1])\n",
        "# In Python, the items() method is a built-in dictionary function that retrieves a view object containing a list of tuples.\n",
        "# Each tuple represents a key-value pair from the dictionary.\n",
        "# This method is a convenient way to access both the keys and values of a dictionary simultaneously, and it is highly efficient."
      ],
      "metadata": {
        "colab": {
          "base_uri": "https://localhost:8080/"
        },
        "id": "t6zME3emR2FH",
        "outputId": "5bd8b1a2-f72d-4b6d-dcbf-ad2d73c960fe"
      },
      "execution_count": null,
      "outputs": [
        {
          "output_type": "stream",
          "name": "stdout",
          "text": [
            "dict_items([('Name', 'Ram'), ('Age', '19'), ('Country', 'India')])\n",
            "[('Name', 'Ram'), ('Age', '19'), ('Country', 'India')]\n",
            "Age\n",
            "19\n"
          ]
        }
      ]
    },
    {
      "cell_type": "markdown",
      "source": [
        "Dictionary pop() method:"
      ],
      "metadata": {
        "id": "2Td6sAaJSeX_"
      }
    },
    {
      "cell_type": "code",
      "source": [
        "d = {'Name': 'Ram', 'Age': '19', 'Country': 'India'}\n",
        "d.pop('Age')\n",
        "print(d)\n",
        "# In Python, the pop() method is a pre-existing dictionary method that removes and retrieves the value linked with a given key from a dictionary.\n",
        "# If the key is not present in the dictionary, you can set an optional default value to be returned."
      ],
      "metadata": {
        "colab": {
          "base_uri": "https://localhost:8080/"
        },
        "id": "nB4ZFWyQScwH",
        "outputId": "25e1a206-f3e5-458c-abfb-0a3cdd079196"
      },
      "execution_count": null,
      "outputs": [
        {
          "output_type": "stream",
          "name": "stdout",
          "text": [
            "{'Name': 'Ram', 'Country': 'India'}\n"
          ]
        }
      ]
    },
    {
      "cell_type": "code",
      "source": [
        "d = {'Name': 'Ram', 'Age': '19', 'Country': 'India'}\n",
        "d.popitem()\n",
        "print(d)\n",
        "\n",
        "d.popitem()\n",
        "print(d)\n",
        "# In Python, the popitem() method is a dictionary function that eliminates and returns a random (key, value) pair from the dictionary.\n",
        "# As opposed to the pop() method which gets rid of a particular key-value pair based on a given key, popitem() takes out and gives back a pair without requiring a key to be specified."
      ],
      "metadata": {
        "colab": {
          "base_uri": "https://localhost:8080/"
        },
        "id": "9uicorEJS2LP",
        "outputId": "ac764c1e-0028-4605-d806-5d860f4d926a"
      },
      "execution_count": null,
      "outputs": [
        {
          "output_type": "stream",
          "name": "stdout",
          "text": [
            "{'Name': 'Ram', 'Age': '19'}\n",
            "{'Name': 'Ram'}\n"
          ]
        }
      ]
    },
    {
      "cell_type": "markdown",
      "source": [
        "### Dictionary comprehension"
      ],
      "metadata": {
        "id": "ROZXO2rBTgBo"
      }
    },
    {
      "cell_type": "code",
      "source": [
        "# Python code to demonstrate dictionary\n",
        "# comprehension\n",
        "\n",
        "# Lists to represent keys and values\n",
        "keys = ['a','b','c','d','e']\n",
        "values = [1,2,3,4,5]\n",
        "\n",
        "# but this line shows dict comprehension here\n",
        "myDict = { k:v for (k,v) in zip(keys, values)}\n",
        "\n",
        "# We can use below too\n",
        "# myDict = dict(zip(keys, values))\n",
        "\n",
        "print (myDict)"
      ],
      "metadata": {
        "colab": {
          "base_uri": "https://localhost:8080/"
        },
        "id": "5sMsHzzBTmEw",
        "outputId": "3b342c42-4405-4e35-b07e-c1a78847800f"
      },
      "execution_count": null,
      "outputs": [
        {
          "output_type": "stream",
          "name": "stdout",
          "text": [
            "{'a': 1, 'b': 2, 'c': 3, 'd': 4, 'e': 5}\n"
          ]
        }
      ]
    },
    {
      "cell_type": "code",
      "source": [
        "dic=dict.fromkeys(range(5), True)\n",
        "\n",
        "print(dic)\n",
        "# fromkeys() method that returns a dictionary with specific keys and values."
      ],
      "metadata": {
        "colab": {
          "base_uri": "https://localhost:8080/"
        },
        "id": "LHv6k0SvT6xH",
        "outputId": "08e26855-faae-4c14-ef73-75fb61f4e388"
      },
      "execution_count": null,
      "outputs": [
        {
          "output_type": "stream",
          "name": "stdout",
          "text": [
            "{0: True, 1: True, 2: True, 3: True, 4: True}\n"
          ]
        }
      ]
    },
    {
      "cell_type": "code",
      "source": [
        "# Python code to demonstrate dictionary\n",
        "# creation using list comprehension\n",
        "myDict = {x: x**2 for x in [1,2,3,4,5]}\n",
        "print (myDict)"
      ],
      "metadata": {
        "colab": {
          "base_uri": "https://localhost:8080/"
        },
        "id": "J1_hRrbHUDo3",
        "outputId": "f307d2ed-5595-4798-f1b3-cff45c845b90"
      },
      "execution_count": null,
      "outputs": [
        {
          "output_type": "stream",
          "name": "stdout",
          "text": [
            "{1: 1, 2: 4, 3: 9, 4: 16, 5: 25}\n"
          ]
        }
      ]
    },
    {
      "cell_type": "code",
      "source": [
        "sDict = {x.upper(): x*3 for x in 'coding '}\n",
        "print (sDict)"
      ],
      "metadata": {
        "colab": {
          "base_uri": "https://localhost:8080/"
        },
        "id": "fSYnR4lUUQL5",
        "outputId": "ecef40d9-fbea-46fa-c860-0d199b3f6bcc"
      },
      "execution_count": null,
      "outputs": [
        {
          "output_type": "stream",
          "name": "stdout",
          "text": [
            "{'C': 'ccc', 'O': 'ooo', 'D': 'ddd', 'I': 'iii', 'N': 'nnn', 'G': 'ggg', ' ': '   '}\n"
          ]
        }
      ]
    },
    {
      "cell_type": "code",
      "source": [
        "# Python code to demonstrate dictionary\n",
        "# comprehension using if.\n",
        "newdict = {x: x**3 for x in range(10) if x**3 % 4 == 0}\n",
        "print(newdict)"
      ],
      "metadata": {
        "colab": {
          "base_uri": "https://localhost:8080/"
        },
        "id": "ZQd9rhWuUV0w",
        "outputId": "64398632-2eb5-429d-fb0a-906dfd91ea1c"
      },
      "execution_count": null,
      "outputs": [
        {
          "output_type": "stream",
          "name": "stdout",
          "text": [
            "{0: 0, 2: 8, 4: 64, 6: 216, 8: 512}\n"
          ]
        }
      ]
    },
    {
      "cell_type": "code",
      "source": [
        "# given string\n",
        "l=\"GFG\"\n",
        "\n",
        "# using dictionary comprehension\n",
        "dic = {\n",
        "    x: {y: x + y for y in l} for x in l\n",
        "}\n",
        "\n",
        "print(dic)"
      ],
      "metadata": {
        "id": "e7pbBh4QU1Ww",
        "outputId": "bd34ef35-5cb3-4f49-b534-716c4a4d3f54",
        "colab": {
          "base_uri": "https://localhost:8080/"
        }
      },
      "execution_count": null,
      "outputs": [
        {
          "output_type": "stream",
          "name": "stdout",
          "text": [
            "{'G': {'G': 'GG', 'F': 'GF'}, 'F': {'G': 'FG', 'F': 'FF'}}\n"
          ]
        }
      ]
    }
  ]
}