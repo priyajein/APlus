{
  "nbformat": 4,
  "nbformat_minor": 0,
  "metadata": {
    "colab": {
      "provenance": []
    },
    "kernelspec": {
      "name": "python3",
      "display_name": "Python 3"
    },
    "language_info": {
      "name": "python"
    }
  },
  "cells": [
    {
      "cell_type": "markdown",
      "source": [
        "# LIST"
      ],
      "metadata": {
        "id": "04yNLbY9u_Mo"
      }
    },
    {
      "cell_type": "code",
      "execution_count": null,
      "metadata": {
        "colab": {
          "base_uri": "https://localhost:8080/"
        },
        "id": "z-zO8pWtg4ZZ",
        "outputId": "58f20139-ff69-49fc-c8a2-e07ab1c69c8f"
      },
      "outputs": [
        {
          "output_type": "stream",
          "name": "stdout",
          "text": [
            "Initial list:  []\n",
            "0\n"
          ]
        }
      ],
      "source": [
        "List = []\n",
        "print(\"Initial list: \", List)\n",
        "\n",
        "print(len(List))  # size of list"
      ]
    },
    {
      "cell_type": "code",
      "source": [
        "List2 = [10, 20, 14]\n",
        "print(\"List2: \", List2)"
      ],
      "metadata": {
        "colab": {
          "base_uri": "https://localhost:8080/"
        },
        "id": "Oc2m7-mzhoW5",
        "outputId": "a70b1b00-abde-4a14-b6e5-b4f36c2b4f6c"
      },
      "execution_count": null,
      "outputs": [
        {
          "output_type": "stream",
          "name": "stdout",
          "text": [
            "List2:  [10, 20, 14]\n"
          ]
        }
      ]
    },
    {
      "cell_type": "code",
      "source": [
        "List3 = [\"Geeks\", \"For\", \"Geeks\"]\n",
        "print(\"\\nList3 Items: \")\n",
        "print(List3[0])  # Accessing elements from list\n",
        "print(List3[2])"
      ],
      "metadata": {
        "colab": {
          "base_uri": "https://localhost:8080/"
        },
        "id": "kODCnxeuhnKZ",
        "outputId": "8321e1b9-7205-4931-f432-aaede7ee6ec3"
      },
      "execution_count": null,
      "outputs": [
        {
          "output_type": "stream",
          "name": "stdout",
          "text": [
            "\n",
            "List3 Items: \n",
            "Geeks\n",
            "Geeks\n"
          ]
        }
      ]
    },
    {
      "cell_type": "code",
      "source": [
        "List4 = [1, 2, 'Geeks', 4, 'For', 6, 'Geeks']\n",
        "print(\"\\nList4 with the use of Mixed Values: \")\n",
        "print(List4)\n",
        "\n",
        "print(len(List4))\n",
        "print(List4[-2])  # Negative indexing"
      ],
      "metadata": {
        "colab": {
          "base_uri": "https://localhost:8080/"
        },
        "id": "lL0u0eAehySh",
        "outputId": "5417967a-d41f-4142-9e04-e5b36dd6ac63"
      },
      "execution_count": null,
      "outputs": [
        {
          "output_type": "stream",
          "name": "stdout",
          "text": [
            "\n",
            "List4 with the use of Mixed Values: \n",
            "[1, 2, 'Geeks', 4, 'For', 6, 'Geeks']\n",
            "7\n",
            "6\n"
          ]
        }
      ]
    },
    {
      "cell_type": "code",
      "source": [
        "List5 = [['Geeks', 'For'], ['Geeks']]  # Multidimensional list\n",
        "\n",
        "\n",
        "print(\"Accessing a element from a Multi-Dimensional list\")\n",
        "print(List5[0])\n",
        "print(List5[0][1])\n",
        "print(List5[1][0])"
      ],
      "metadata": {
        "colab": {
          "base_uri": "https://localhost:8080/"
        },
        "id": "PV9dlqduiKYy",
        "outputId": "092113cc-f117-4206-c1ab-19c3354e4dd1"
      },
      "execution_count": null,
      "outputs": [
        {
          "output_type": "stream",
          "name": "stdout",
          "text": [
            "Accessing a element from a Multi-Dimensional list\n",
            "['Geeks', 'For']\n",
            "For\n",
            "Geeks\n"
          ]
        }
      ]
    },
    {
      "cell_type": "code",
      "source": [
        "#Taking input of Python List\n",
        "# input the list as string\n",
        "string = input(\"Enter elements (Space-Separated): \")\n",
        "\n",
        "# split the strings and store it to a list\n",
        "lst = string.split()\n",
        "print('The list is:', lst)   # printing the list"
      ],
      "metadata": {
        "colab": {
          "base_uri": "https://localhost:8080/"
        },
        "id": "m6VL0UQ0ignq",
        "outputId": "799dc1bc-0857-474d-a958-8a60775f8627"
      },
      "execution_count": null,
      "outputs": [
        {
          "output_type": "stream",
          "name": "stdout",
          "text": [
            "Enter elements (Space-Separated): 4 geeks gfgf\n",
            "The list is: ['4', 'geeks', 'gfgf']\n"
          ]
        }
      ]
    },
    {
      "cell_type": "code",
      "source": [
        "# input size of the list\n",
        "n = int(input(\"Enter the size of list : \"))\n",
        "\n",
        "# store integers in a list using map,\n",
        "# split and strip functions\n",
        "lst = list(map(int, input(\"Enter the integer\\\n",
        "elements:\").strip().split()))[:n]\n",
        "\n",
        "# printing the list\n",
        "print('The list is:', lst)"
      ],
      "metadata": {
        "colab": {
          "base_uri": "https://localhost:8080/"
        },
        "id": "EMu-GoW7iuCS",
        "outputId": "842ae706-644e-4318-b08f-2ce6c9f4b077"
      },
      "execution_count": null,
      "outputs": [
        {
          "output_type": "stream",
          "name": "stdout",
          "text": [
            "Enter the size of list : 5\n",
            "Enter the integerelements:1 2 5 6 \n",
            "The list is: [1, 2, 5, 6]\n"
          ]
        }
      ]
    },
    {
      "cell_type": "code",
      "source": [
        "List = []\n",
        "List.append(1)\n",
        "List.append(2)\n",
        "List.append((4, 5))\n",
        "print(\"\\nList after Addition of Three elements: \", List)\n",
        "\n",
        "\n",
        "# Using iterator\n",
        "for i in range(1, 4):\n",
        "    List.append(i)\n",
        "print(\"\\nList after Addition of elements from 1-3: \", List)\n",
        "\n",
        "# using insert method\n",
        "List.insert(3, 12)\n",
        "List.insert(0, 'Geeks')\n",
        "print(\"\\nList after performing Insert Operation: \")\n",
        "print(List)\n",
        "\n",
        "List.extend([8, 'Geeks', 'Always'])\n",
        "print(\"\\nList after performing Extend Operation: \")\n",
        "print(List)\n",
        "\n",
        "# Note: append() and extend() methods can only add elements at the end."
      ],
      "metadata": {
        "colab": {
          "base_uri": "https://localhost:8080/"
        },
        "id": "e9s7IIHei1qa",
        "outputId": "7ea480cf-9b90-4e99-a681-630ceb354a4a"
      },
      "execution_count": null,
      "outputs": [
        {
          "output_type": "stream",
          "name": "stdout",
          "text": [
            "\n",
            "List after Addition of Three elements:  [1, 2, (4, 5)]\n",
            "\n",
            "List after Addition of elements from 1-3:  [1, 2, (4, 5), 1, 2, 3]\n",
            "\n",
            "List after performing Insert Operation: \n",
            "['Geeks', 1, 2, (4, 5), 12, 1, 2, 3]\n",
            "\n",
            "List after performing Extend Operation: \n",
            "['Geeks', 1, 2, (4, 5), 12, 1, 2, 3, 8, 'Geeks', 'Always']\n"
          ]
        }
      ]
    },
    {
      "cell_type": "code",
      "source": [
        "# Reversing a list\n",
        "mylist = [1, 2, 3, 4, 5, 'Geek', 'Python']\n",
        "mylist.reverse()\n",
        "print(mylist)\n",
        "\n",
        "# Reversing a list using slicing\n",
        "mylist = mylist[::-1]\n",
        "print(mylist)\n",
        "\n",
        "#using reversed() function\n",
        "reversed_list = list(reversed(mylist))\n",
        "print(reversed_list)"
      ],
      "metadata": {
        "colab": {
          "base_uri": "https://localhost:8080/"
        },
        "id": "BMKqm0fijlUT",
        "outputId": "12784670-3433-48a9-81b2-e0d0f2055e07"
      },
      "execution_count": null,
      "outputs": [
        {
          "output_type": "stream",
          "name": "stdout",
          "text": [
            "['Python', 'Geek', 5, 4, 3, 2, 1]\n",
            "[1, 2, 3, 4, 5, 'Geek', 'Python']\n",
            "['Python', 'Geek', 5, 4, 3, 2, 1]\n"
          ]
        }
      ]
    },
    {
      "cell_type": "code",
      "source": [
        "mylist = [1, 2, 3, 4, 5, 'Geek', 'Python']\n",
        "\n",
        "# Removing element from list\n",
        "# using Remove() method\n",
        "mylist.remove(5)\n",
        "mylist.remove(\"Geek\")\n",
        "print(\"\\nList after Removal of two elements: \")\n",
        "print(mylist)\n",
        "\n",
        "#using iterator\n",
        "for i in range(1, 4):\n",
        "    mylist.remove(i)\n",
        "print(\"\\nList after Removing a range of elements: \")\n",
        "print(List)\n",
        "\n",
        "\n",
        "# Using pop() method\n",
        "mylist.pop()\n",
        "print(\"\\nList after popping an element: \")\n",
        "print(mylist)\n",
        "\n",
        "# Using clear() method\n",
        "mylist.clear()\n",
        "print(\"\\nList after clearing the list: \")\n",
        "print(mylist)\n",
        "# Note: Remove method in List will only remove the first occurrence of the searched element."
      ],
      "metadata": {
        "colab": {
          "base_uri": "https://localhost:8080/"
        },
        "id": "Bkw814rsj98L",
        "outputId": "a15d94e9-bf79-4d77-8333-c7ecfee73fd6"
      },
      "execution_count": null,
      "outputs": [
        {
          "output_type": "stream",
          "name": "stdout",
          "text": [
            "\n",
            "List after Removal of two elements: \n",
            "[1, 2, 3, 4, 'Python']\n",
            "\n",
            "List after Removing a range of elements: \n",
            "['Geeks', (4, 5), 12, 8, 'Geeks', 'Always']\n",
            "\n",
            "List after popping an element: \n",
            "[4]\n",
            "\n",
            "List after clearing the list: \n",
            "[]\n"
          ]
        }
      ]
    },
    {
      "cell_type": "code",
      "source": [
        "# Slicing\n",
        "List = ['G', 'E', 'E', 'K', 'S', 'F',\n",
        "        'O', 'R', 'G', 'E', 'E', 'K', 'S']\n",
        "print(\"Initial List: \")\n",
        "print(List)\n",
        "\n",
        "# Print elements of a range\n",
        "# using Slice operation\n",
        "Sliced_List = List[3:8]\n",
        "print(\"\\nSlicing elements in a range 3-8: \")\n",
        "print(Sliced_List)\n",
        "\n",
        "# Print elements from a\n",
        "# pre-defined point to end\n",
        "Sliced_List = List[5:]\n",
        "print(\"\\nElements sliced from 5th \"\n",
        "      \"element till the end: \")\n",
        "print(Sliced_List)\n",
        "\n",
        "# Printing elements from\n",
        "# beginning till end\n",
        "Sliced_List = List[:]\n",
        "print(\"\\nPrinting all elements using slice operation: \")\n",
        "print(Sliced_List)\n",
        "\n",
        "\n",
        "Sliced_List = List[:-6]\n",
        "print(\"\\nElements sliced till 6th element from last: \")\n",
        "print(Sliced_List)\n",
        "\n",
        "\n",
        "Sliced_List = List[-6:-1]\n",
        "print(\"\\nElements sliced from index -6 to -1\")\n",
        "print(Sliced_List)"
      ],
      "metadata": {
        "colab": {
          "base_uri": "https://localhost:8080/"
        },
        "id": "cCv54qb2krYL",
        "outputId": "2c8f1398-3c80-4bde-e8e5-ac485a62e068"
      },
      "execution_count": null,
      "outputs": [
        {
          "output_type": "stream",
          "name": "stdout",
          "text": [
            "Initial List: \n",
            "['G', 'E', 'E', 'K', 'S', 'F', 'O', 'R', 'G', 'E', 'E', 'K', 'S']\n",
            "\n",
            "Slicing elements in a range 3-8: \n",
            "['K', 'S', 'F', 'O', 'R']\n",
            "\n",
            "Elements sliced from 5th element till the end: \n",
            "['F', 'O', 'R', 'G', 'E', 'E', 'K', 'S']\n",
            "\n",
            "Printing all elements using slice operation: \n",
            "['G', 'E', 'E', 'K', 'S', 'F', 'O', 'R', 'G', 'E', 'E', 'K', 'S']\n",
            "\n",
            "Elements sliced till 6th element from last: \n",
            "['G', 'E', 'E', 'K', 'S', 'F', 'O']\n",
            "\n",
            "Elements sliced from index -6 to -1\n",
            "['R', 'G', 'E', 'E', 'K']\n"
          ]
        }
      ]
    },
    {
      "cell_type": "code",
      "source": [
        "# List Comprehension\n",
        "# below list contains square of all\n",
        "# odd numbers from range 1 to 10\n",
        "odd_square = [x ** 2 for x in range(1, 11) if x % 2 == 1]\n",
        "print(odd_square)"
      ],
      "metadata": {
        "id": "DiLfm1o5k3Zr"
      },
      "execution_count": null,
      "outputs": []
    },
    {
      "cell_type": "code",
      "source": [
        "# Change list items\n",
        "List=[ 10, 20, 30, 40, 50, 60]\n",
        "print(\"original list \")\n",
        "print(List)\n",
        "\n",
        "List[0] = 11\n",
        "List[1] = 21\n",
        "List[ -1] = 61\n",
        "\n",
        "print(\"\\nNew list\")\n",
        "print(List)\n",
        "\n",
        "\n",
        "# using loop\n",
        "for i in range(len(List)):\n",
        "    List[i] = List[i] + 2\n",
        "\n",
        "print(List)\n",
        "\n",
        "\n",
        "# using list comprehension\n",
        "print(\"After incrementing each element of list by 2\")\n",
        "List_2=[ i+2 for i in List_1]\n",
        "\n",
        "print(List_2)"
      ],
      "metadata": {
        "colab": {
          "base_uri": "https://localhost:8080/"
        },
        "id": "mvbpX6sclEji",
        "outputId": "241dfd90-939e-43dc-f32e-f06bdcd049d1"
      },
      "execution_count": null,
      "outputs": [
        {
          "output_type": "stream",
          "name": "stdout",
          "text": [
            "original list \n",
            "[10, 20, 30, 40, 50, 60]\n",
            "\n",
            "New list\n",
            "[11, 21, 30, 40, 50, 61]\n",
            "[13, 23, 32, 42, 52, 63]\n"
          ]
        }
      ]
    },
    {
      "cell_type": "code",
      "source": [
        "# If some slicing expressions are made that do not make sense or are incomputable then empty lists are generated.\n",
        "\n",
        "# Display sliced list\n",
        "print(List[10::2])\n",
        "\n",
        "# Display sliced list\n",
        "print(List[1:1:1])\n",
        "\n",
        "# Display sliced list\n",
        "print(List[-1:-1:-1])\n",
        "\n",
        "# Display sliced list\n",
        "print(List[:0:])"
      ],
      "metadata": {
        "colab": {
          "base_uri": "https://localhost:8080/"
        },
        "id": "XXfhHDT2lqeV",
        "outputId": "5bab634e-5474-4093-91f6-aac24148fec3"
      },
      "execution_count": null,
      "outputs": [
        {
          "output_type": "stream",
          "name": "stdout",
          "text": [
            "[]\n",
            "[]\n",
            "[]\n",
            "[]\n"
          ]
        }
      ]
    },
    {
      "cell_type": "code",
      "source": [
        "List = [-999, 'G4G', 1706256, 3.1496, '^_^']\n",
        "\n",
        "print(\"\\nSliced Lists: \")\n",
        "# Modified List\n",
        "List[2:4] = ['Geeks', 'for', 'Geeks', '!']\n",
        "\n",
        "# Display sliced list\n",
        "print(List)\n",
        "\n",
        "# Modified List\n",
        "List[:6] = []\n",
        "\n",
        "# Display sliced list\n",
        "print(List)"
      ],
      "metadata": {
        "colab": {
          "base_uri": "https://localhost:8080/"
        },
        "id": "UBNTj2aOl3oi",
        "outputId": "e338b9cb-569d-44fe-cf9d-a1c8d27fb1c8"
      },
      "execution_count": null,
      "outputs": [
        {
          "output_type": "stream",
          "name": "stdout",
          "text": [
            "\n",
            "Sliced Lists: \n",
            "[-999, 'G4G', 'Geeks', 'for', 'Geeks', '!', '^_^']\n",
            "['^_^']\n"
          ]
        }
      ]
    },
    {
      "cell_type": "code",
      "source": [
        "List = [1, 2, 3, 4, 5, 6, 7, 8, 9]\n",
        "# Creating new List\n",
        "newList = List[:3]+List[7:]\n",
        "print(newList)\n",
        "\n",
        "# Changing existing List\n",
        "List = List[::2]+List[1::2]\n",
        "\n",
        "# Display sliced list\n",
        "print(List)"
      ],
      "metadata": {
        "colab": {
          "base_uri": "https://localhost:8080/"
        },
        "id": "jPLNZYICmBwk",
        "outputId": "bc930cf6-864b-4314-9fda-e6302e8851d6"
      },
      "execution_count": null,
      "outputs": [
        {
          "output_type": "stream",
          "name": "stdout",
          "text": [
            "[1, 2, 3, 8, 9]\n",
            "[1, 3, 5, 7, 9, 2, 4, 6, 8]\n"
          ]
        }
      ]
    },
    {
      "cell_type": "markdown",
      "source": [
        "## List Methods"
      ],
      "metadata": {
        "id": "Crr80DjImSoz"
      }
    },
    {
      "cell_type": "code",
      "source": [
        "List = [1, 2, 3, 4, 5]\n",
        "print(sum(List))\n",
        "print(min(List))\n",
        "print(max(List))\n",
        "List.sort(reverse=True)\n",
        "print(List)\n",
        "List.reverse()\n",
        "print(List)\n",
        "print(List.pop())\n",
        "print(List.pop(0))\n",
        "del List[0]\n",
        "print(List)\n",
        "List.remove(3)\n",
        "print(List)"
      ],
      "metadata": {
        "colab": {
          "base_uri": "https://localhost:8080/"
        },
        "id": "LmBy1ZKMmUwE",
        "outputId": "c227d206-18dd-49fe-be88-168d039b2394"
      },
      "execution_count": null,
      "outputs": [
        {
          "output_type": "stream",
          "name": "stdout",
          "text": [
            "15\n",
            "1\n",
            "5\n",
            "[5, 4, 3, 2, 1]\n",
            "[1, 2, 3, 4, 5]\n",
            "5\n",
            "1\n",
            "[3, 4]\n",
            "[4]\n"
          ]
        }
      ]
    },
    {
      "cell_type": "code",
      "source": [
        "List = ['gfg', 'abc', 3]\n",
        "print(sum(List))"
      ],
      "metadata": {
        "colab": {
          "base_uri": "https://localhost:8080/",
          "height": 158
        },
        "id": "sjmVswHWmZQ8",
        "outputId": "c8545974-9e53-4763-a2f7-11f1ba55fd6a"
      },
      "execution_count": null,
      "outputs": [
        {
          "output_type": "error",
          "ename": "TypeError",
          "evalue": "unsupported operand type(s) for +: 'int' and 'str'",
          "traceback": [
            "\u001b[0;31m---------------------------------------------------------------------------\u001b[0m",
            "\u001b[0;31mTypeError\u001b[0m                                 Traceback (most recent call last)",
            "\u001b[0;32m<ipython-input-51-199272a84134>\u001b[0m in \u001b[0;36m<cell line: 2>\u001b[0;34m()\u001b[0m\n\u001b[1;32m      1\u001b[0m \u001b[0mList\u001b[0m \u001b[0;34m=\u001b[0m \u001b[0;34m[\u001b[0m\u001b[0;34m'gfg'\u001b[0m\u001b[0;34m,\u001b[0m \u001b[0;34m'abc'\u001b[0m\u001b[0;34m,\u001b[0m \u001b[0;36m3\u001b[0m\u001b[0;34m]\u001b[0m\u001b[0;34m\u001b[0m\u001b[0;34m\u001b[0m\u001b[0m\n\u001b[0;32m----> 2\u001b[0;31m \u001b[0mprint\u001b[0m\u001b[0;34m(\u001b[0m\u001b[0msum\u001b[0m\u001b[0;34m(\u001b[0m\u001b[0mList\u001b[0m\u001b[0;34m)\u001b[0m\u001b[0;34m)\u001b[0m\u001b[0;34m\u001b[0m\u001b[0;34m\u001b[0m\u001b[0m\n\u001b[0m",
            "\u001b[0;31mTypeError\u001b[0m: unsupported operand type(s) for +: 'int' and 'str'"
          ]
        }
      ]
    },
    {
      "cell_type": "code",
      "source": [
        "List = [1, 2, 3, 1, 2, 1, 2, 3, 2, 1]\n",
        "print(List.count(1))"
      ],
      "metadata": {
        "colab": {
          "base_uri": "https://localhost:8080/"
        },
        "id": "_6tNDXN9mcFb",
        "outputId": "06ca9f40-10d7-4efb-994e-122bd5cd8a43"
      },
      "execution_count": null,
      "outputs": [
        {
          "output_type": "stream",
          "name": "stdout",
          "text": [
            "4\n"
          ]
        }
      ]
    },
    {
      "cell_type": "code",
      "source": [
        "List = [1, 2, 3, 1, 2, 1, 2, 3, 2, 1]\n",
        "print(List.index(2))\n",
        "# Returns the index of the first occurrence. The start and end indexes are not necessary parameters."
      ],
      "metadata": {
        "colab": {
          "base_uri": "https://localhost:8080/"
        },
        "id": "cXWClYACmhZV",
        "outputId": "b112224a-9b7e-4126-e173-9cb414e9d020"
      },
      "execution_count": null,
      "outputs": [
        {
          "output_type": "stream",
          "name": "stdout",
          "text": [
            "1\n"
          ]
        }
      ]
    },
    {
      "cell_type": "code",
      "source": [
        "List = [1, 2, 3, 1, 2, 1, 2, 3, 2, 1]\n",
        "print(List.index(2, 2))\n",
        "# In this example, we are using index() method which is one of the list functions in Python,\n",
        "# searching the first occurrence of the element 2, starting from index 2 in the list."
      ],
      "metadata": {
        "colab": {
          "base_uri": "https://localhost:8080/"
        },
        "id": "jZD_pdUhmpY9",
        "outputId": "bb1b968e-9d32-4c19-af62-821177844b97"
      },
      "execution_count": null,
      "outputs": [
        {
          "output_type": "stream",
          "name": "stdout",
          "text": [
            "4\n"
          ]
        }
      ]
    },
    {
      "cell_type": "code",
      "source": [
        "#matrix using list comprehension\n",
        "matrix = [[j for j in range(3)] for i in range(3)]\n",
        "\n",
        "print(matrix)"
      ],
      "metadata": {
        "colab": {
          "base_uri": "https://localhost:8080/"
        },
        "id": "vfECoyTDoAZi",
        "outputId": "c76cee18-737d-4bb3-81d1-2145718ff18c"
      },
      "execution_count": null,
      "outputs": [
        {
          "output_type": "stream",
          "name": "stdout",
          "text": [
            "[[0, 1, 2], [0, 1, 2], [0, 1, 2]]\n"
          ]
        }
      ]
    },
    {
      "cell_type": "code",
      "source": [
        "# List comprehension and Lambda\n",
        "# using lambda to print table of 10\n",
        "numbers = []\n",
        "\n",
        "for i in range(1, 6):\n",
        "\tnumbers.append(i*10)\n",
        "\n",
        "print(numbers)"
      ],
      "metadata": {
        "colab": {
          "base_uri": "https://localhost:8080/"
        },
        "id": "lcQBKq62oP5N",
        "outputId": "b1b0aeb7-9695-4004-bcde-a40f578334d5"
      },
      "execution_count": null,
      "outputs": [
        {
          "output_type": "stream",
          "name": "stdout",
          "text": [
            "[10, 20, 30, 40, 50]\n"
          ]
        }
      ]
    },
    {
      "cell_type": "code",
      "source": [
        "lis = [\"Even number\" if i % 2 == 0\n",
        "\telse \"Odd number\" for i in range(8)]\n",
        "print(lis)"
      ],
      "metadata": {
        "colab": {
          "base_uri": "https://localhost:8080/"
        },
        "id": "dqYvq3ADojdk",
        "outputId": "565e9eea-cdc8-46b2-f3f2-a9379e584278"
      },
      "execution_count": null,
      "outputs": [
        {
          "output_type": "stream",
          "name": "stdout",
          "text": [
            "['Even number', 'Odd number', 'Even number', 'Odd number', 'Even number', 'Odd number', 'Even number', 'Odd number']\n"
          ]
        }
      ]
    },
    {
      "cell_type": "code",
      "source": [
        "lis = [num for num in range(100)\n",
        "\tif num % 5 == 0 if num % 10 == 0]\n",
        "print(lis)\n"
      ],
      "metadata": {
        "colab": {
          "base_uri": "https://localhost:8080/"
        },
        "id": "DN5eAiwfoltD",
        "outputId": "7e5dcc0a-2afe-4d8f-f12c-910b46c8d604"
      },
      "execution_count": null,
      "outputs": [
        {
          "output_type": "stream",
          "name": "stdout",
          "text": [
            "[0, 10, 20, 30, 40, 50, 60, 70, 80, 90]\n"
          ]
        }
      ]
    },
    {
      "cell_type": "code",
      "source": [
        "# Initializing string\n",
        "string = 'Geeks4Geeks'\n",
        "\n",
        "# Toggle case of each character\n",
        "List = list(map(lambda i: chr(ord(i) ^ 32), string))\n",
        "\n",
        "# Display list\n",
        "print(List)"
      ],
      "metadata": {
        "colab": {
          "base_uri": "https://localhost:8080/"
        },
        "id": "JZkoaQ9BoraD",
        "outputId": "c76ca617-c803-4680-d977-9186fdcbde19"
      },
      "execution_count": null,
      "outputs": [
        {
          "output_type": "stream",
          "name": "stdout",
          "text": [
            "['g', 'E', 'E', 'K', 'S', '\\x14', 'g', 'E', 'E', 'K', 'S']\n"
          ]
        }
      ]
    },
    {
      "cell_type": "code",
      "source": [
        "# Reverse each string in tuple\n",
        "List = [string[::-1] for string in ('Geeks', 'for', 'Geeks')]\n",
        "\n",
        "# Display list\n",
        "print(List)\n"
      ],
      "metadata": {
        "colab": {
          "base_uri": "https://localhost:8080/"
        },
        "id": "PhERgPEzowjb",
        "outputId": "e6f47f25-9ac9-4799-a2ce-a9c76423914f"
      },
      "execution_count": null,
      "outputs": [
        {
          "output_type": "stream",
          "name": "stdout",
          "text": [
            "['skeeG', 'rof', 'skeeG']\n"
          ]
        }
      ]
    },
    {
      "cell_type": "code",
      "source": [
        "# Creating a list of Tuples from two separate Lists\n",
        "names = [\"G\", \"G\", \"g\"]\n",
        "ages = [25, 30, 35]\n",
        "person_tuples = [(name, age) for name, age in zip(names, ages)]\n",
        "print(person_tuples)\n"
      ],
      "metadata": {
        "colab": {
          "base_uri": "https://localhost:8080/"
        },
        "id": "UMAxa8XYo2lM",
        "outputId": "9a084092-c7bf-4042-ad2b-9281a2b9fd84"
      },
      "execution_count": null,
      "outputs": [
        {
          "output_type": "stream",
          "name": "stdout",
          "text": [
            "[('G', 25), ('G', 30), ('g', 35)]\n"
          ]
        }
      ]
    },
    {
      "cell_type": "code",
      "source": [
        "# Finding word length exercise question using list comprehension\n",
        "words = [\"apple\", \"banana\", \"cherry\", \"orange\"]\n",
        "word_lengths = [len(word) for word in words]\n",
        "print(word_lengths)\n"
      ],
      "metadata": {
        "id": "QL5c3YGFpEDE",
        "outputId": "230703b8-1cd2-431d-8c41-b9ee881e6e55",
        "colab": {
          "base_uri": "https://localhost:8080/"
        }
      },
      "execution_count": null,
      "outputs": [
        {
          "output_type": "stream",
          "name": "stdout",
          "text": [
            "[5, 6, 6, 6]\n"
          ]
        }
      ]
    }
  ]
}