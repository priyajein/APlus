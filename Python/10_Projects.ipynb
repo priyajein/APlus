{
  "nbformat": 4,
  "nbformat_minor": 0,
  "metadata": {
    "colab": {
      "provenance": []
    },
    "kernelspec": {
      "name": "python3",
      "display_name": "Python 3"
    },
    "language_info": {
      "name": "python"
    }
  },
  "cells": [
    {
      "cell_type": "markdown",
      "source": [
        "# Tic-Tac-Toe"
      ],
      "metadata": {
        "id": "lDzhyKzn4nuV"
      }
    },
    {
      "cell_type": "code",
      "execution_count": null,
      "metadata": {
        "id": "H4DPgbsPxTqp"
      },
      "outputs": [],
      "source": [
        "from IPython.display import clear_output"
      ]
    },
    {
      "cell_type": "code",
      "source": [
        "# function to display the board\n",
        "def display_board(board):\n",
        "  clear_output()\n",
        "  print(board[0] + '|' + board[1] + '|' + board[2]) # Access elements at indices 0, 1, and 2\n",
        "  print(board[3] + '|' + board[4] + '|' + board[5]) # Access elements at indices 3, 4, and 5\n",
        "  print(board[6] + '|' + board[7] + '|' + board[8]) # Access elements at indices 6, 7, and 8\n",
        "\n",
        "# Inside the main while loop, change the initialization of the board:\n",
        "the_board = [' '] * 9 # Create a list with 9 elements for a 3x3 board"
      ],
      "metadata": {
        "id": "og4m2mmd47vF"
      },
      "execution_count": null,
      "outputs": []
    },
    {
      "cell_type": "code",
      "source": [
        "# function take in a player input and assign their marker as 'X' or 'O'.\n",
        "def player_input():\n",
        "  marker = ''\n",
        "  while marker != 'X' and marker != 'O':\n",
        "    marker = input('Player 1: Do you want to be X or O? ').upper()\n",
        "\n",
        "  if marker == 'X':\n",
        "    return ('X', 'O')\n",
        "  else:\n",
        "    return ('O', 'X')"
      ],
      "metadata": {
        "id": "Lpj9wk5-5W7y"
      },
      "execution_count": null,
      "outputs": []
    },
    {
      "cell_type": "code",
      "source": [
        "# function that takes in board list object, a marker ('X' or 'O') and a desired position number(0-8) and assigns it to the board.\n",
        "def place_marker(board, marker, position):\n",
        "  board[position-1] = marker"
      ],
      "metadata": {
        "id": "zxqb9PypAhzl"
      },
      "execution_count": null,
      "outputs": []
    },
    {
      "cell_type": "code",
      "source": [
        "# function that takes in a board and a mark(X or O) and then checks to see if that mark has won\n",
        "def win_check(board, mark):\n",
        "  # win tic-tac-toe\n",
        "  return ((board[0] == board[1] == board[2] == mark) or # check all rows, if they share same marker\n",
        "  (board[3] == board[4] == board[5] == mark) or\n",
        "  (board[6] == board[7] == board[8] == mark) or\n",
        "  (board[0] == board[3] == board[6] == mark) or # check all columns\n",
        "  (board[1] == board[4] == board[7] == mark) or\n",
        "  (board[2] == board[5] == board[8] == mark) or\n",
        "  (board[0] == board[4] == board[8] == mark) or  # check 2 diagonals\n",
        "  (board[2] == board[4] == board[6] == mark))\n",
        "\n"
      ],
      "metadata": {
        "id": "kZgiNcjcBJn1"
      },
      "execution_count": null,
      "outputs": []
    },
    {
      "cell_type": "code",
      "source": [
        "# function that uses random module to randomly decide which player goes first.\n",
        "import random\n",
        "def choose_first():\n",
        "  flip = random.randint(0,1)\n",
        "  if flip == 0:\n",
        "    return 'Player 1'\n",
        "  else:\n",
        "    return 'Player 2'"
      ],
      "metadata": {
        "id": "koNmETlaDa02"
      },
      "execution_count": null,
      "outputs": []
    },
    {
      "cell_type": "code",
      "source": [
        "# function that return boolean indicating whether a space on the board is freely available\n",
        "def space_check(board, position):\n",
        "  return board[position] == ' '"
      ],
      "metadata": {
        "id": "QgLmy5nyDrRe"
      },
      "execution_count": null,
      "outputs": []
    },
    {
      "cell_type": "code",
      "source": [
        "# function that checks if the board is full and return a boolean value. True if full, False otherwise\n",
        "def full_board_check(board):\n",
        "  for i in range(1,10):\n",
        "    if space_check(board, i):\n",
        "      return False\n",
        "  return True"
      ],
      "metadata": {
        "id": "2p1-cVUQD2UX"
      },
      "execution_count": null,
      "outputs": []
    },
    {
      "cell_type": "code",
      "source": [
        "# function that asks for a playesr's next position (as a number 1-9) and then uses function from step 6 to check if its a free position. If it is, then return position for later use.\n",
        "def player_choice(board):\n",
        "  position = 0\n",
        "  while position not in [1, 2, 3, 4, 5, 6, 7, 8, 9] or not space_check(board, position):\n",
        "      try:\n",
        "          position = int(input('Choose a position: (1-9) '))\n",
        "      except ValueError:\n",
        "          print(\"Invalid input. Please enter a number between 1 and 9.\")\n",
        "  return position"
      ],
      "metadata": {
        "id": "Jd1g8ZFBEKzx"
      },
      "execution_count": null,
      "outputs": []
    },
    {
      "cell_type": "code",
      "source": [
        "# function that asks player if they want to play again or not and return boolean True if they do want to play again\n",
        "def replay():\n",
        "  choice = input(\"Play again? Enter Yes or No\")\n",
        "  return choice == 'Yes'"
      ],
      "metadata": {
        "id": "bSoh0C05Eqy0"
      },
      "execution_count": null,
      "outputs": []
    },
    {
      "cell_type": "code",
      "source": [
        "print(\"Welcome to Tic Tac Toe\")\n",
        "\n",
        "\n",
        "# While loop to keep running the game\n",
        "while True:\n",
        "  # play the game\n",
        "  ## set everything up (board, who's first, choose markers X,O)\n",
        "  the_board = [' '] * 10\n",
        "  player1_marker, player2_marker = player_input()\n",
        "\n",
        "  turn = choose_first()\n",
        "  print(turn + ' will go first')\n",
        "\n",
        "  play_game = input('Ready to play? y or n? ')\n",
        "  if play_game == 'y':\n",
        "    game_on = True\n",
        "  else:\n",
        "    game_on = False\n",
        "\n",
        "  ## game play\n",
        "  while game_on:\n",
        "    if turn == 'Player 1':\n",
        "      # show the board\n",
        "      display_board(the_board)\n",
        "      # choose a position\n",
        "      position = player_choice(the_board)\n",
        "      # place the marker on the position\n",
        "      place_marker(the_board, player1_marker, position)\n",
        "      # check if they won\n",
        "      if win_check(the_board, player1_marker):\n",
        "        display_board(the_board)\n",
        "        print('PLAYER 1 HAS WON!!')\n",
        "        game_on = False\n",
        "      else:\n",
        "        if full_board_check(the_board):\n",
        "          display_board(the_board)\n",
        "          print(\"TIE GAME!\")\n",
        "          game_on = False\n",
        "        else:\n",
        "          turn = 'Player 2'\n",
        "    else:\n",
        "      # show the board\n",
        "      display_board(the_board)\n",
        "      # choose a position\n",
        "      position = player_choice(the_board)\n",
        "      # place the marker on the position\n",
        "      place_marker(the_board, player2_marker, position)\n",
        "      # check if they won\n",
        "      if win_check(the_board, player2_marker):\n",
        "        display_board(the_board)\n",
        "        print('PLAYER 2 HAS WON!!')\n",
        "        game_on = False\n",
        "\n",
        "      else:\n",
        "        if full_board_check(the_board):\n",
        "          display_board(the_board)\n",
        "          print(\"TIE GAME!\")\n",
        "          game_on = False\n",
        "        else:\n",
        "          turn = 'Player 1'\n",
        "\n",
        "\n",
        "\n",
        "  if not replay():\n",
        "    break\n",
        "# Break out of the while loop On replay()"
      ],
      "metadata": {
        "colab": {
          "base_uri": "https://localhost:8080/"
        },
        "id": "Oln1HO2VE3EH",
        "outputId": "113bb2fe-c39a-4f5c-f31f-a4169f2a67b9"
      },
      "execution_count": null,
      "outputs": [
        {
          "name": "stdout",
          "output_type": "stream",
          "text": [
            " |X| \n",
            "O|X| \n",
            "O|X|O\n",
            "PLAYER 1 HAS WON!!\n",
            "Play again? Enter Yes or No6\n"
          ]
        }
      ]
    },
    {
      "cell_type": "markdown",
      "source": [
        "# CARD GAME"
      ],
      "metadata": {
        "id": "ocBdshp6xJ5Q"
      }
    },
    {
      "cell_type": "markdown",
      "source": [
        "card class"
      ],
      "metadata": {
        "id": "0LQsEuo22OYx"
      }
    },
    {
      "cell_type": "code",
      "source": [
        "import random\n",
        "suits = ('Hearts', 'Diamonds', 'Spades', 'Clubs')\n",
        "ranks = ('Two', 'Three', 'Four', 'Five', 'Six', 'Seven', 'Eight', 'Nine', 'Ten', 'Jack', 'Queen', 'King', 'Ace')\n",
        "values = {'Two': 2, 'Three': 3, 'Four': 4, 'Five': 5, 'Six': 6, 'Seven': 7, 'Eight': 8, 'Nine': 9, 'Ten': 10, 'Jack': 11, 'Queen': 12, 'King': 13, 'Ace': 14}"
      ],
      "metadata": {
        "id": "D8GMqfw2zPTg"
      },
      "execution_count": null,
      "outputs": []
    },
    {
      "cell_type": "code",
      "source": [
        "class Card:\n",
        "  def __init__(self, suit, rank):\n",
        "    self.suit = suit\n",
        "    self.rank = rank\n",
        "    self.value = values[rank]\n",
        "\n",
        "  def __str__(self):\n",
        "    return self.rank + ' of ' + self.suit"
      ],
      "metadata": {
        "id": "W2qxQ0DoxL5O"
      },
      "execution_count": null,
      "outputs": []
    },
    {
      "cell_type": "code",
      "source": [
        "two_hearts = Card('Hearts', \"Two\")"
      ],
      "metadata": {
        "id": "220wh8AxxUDP"
      },
      "execution_count": null,
      "outputs": []
    },
    {
      "cell_type": "code",
      "source": [
        "two_hearts"
      ],
      "metadata": {
        "colab": {
          "base_uri": "https://localhost:8080/"
        },
        "id": "lVpFZfR8xYfH",
        "outputId": "f4d6f524-4c87-4def-bf07-0e3a62e527a7"
      },
      "execution_count": null,
      "outputs": [
        {
          "output_type": "execute_result",
          "data": {
            "text/plain": [
              "<__main__.Card at 0x7df8e2152200>"
            ]
          },
          "metadata": {},
          "execution_count": 8
        }
      ]
    },
    {
      "cell_type": "code",
      "source": [
        "print(two_hearts)"
      ],
      "metadata": {
        "colab": {
          "base_uri": "https://localhost:8080/"
        },
        "id": "hf7tMapHxdE_",
        "outputId": "85dc1717-89f7-4934-d947-dd78f96fa352"
      },
      "execution_count": null,
      "outputs": [
        {
          "output_type": "stream",
          "name": "stdout",
          "text": [
            "Two of Hearts\n"
          ]
        }
      ]
    },
    {
      "cell_type": "code",
      "source": [
        "two_hearts.suit"
      ],
      "metadata": {
        "colab": {
          "base_uri": "https://localhost:8080/",
          "height": 36
        },
        "id": "Vc0q9qpbxfsO",
        "outputId": "c851a54f-97a0-4e1c-9077-7264dd14ad37"
      },
      "execution_count": null,
      "outputs": [
        {
          "output_type": "execute_result",
          "data": {
            "text/plain": [
              "'Hearts'"
            ],
            "application/vnd.google.colaboratory.intrinsic+json": {
              "type": "string"
            }
          },
          "metadata": {},
          "execution_count": 10
        }
      ]
    },
    {
      "cell_type": "code",
      "source": [
        "two_hearts.rank"
      ],
      "metadata": {
        "colab": {
          "base_uri": "https://localhost:8080/",
          "height": 36
        },
        "id": "epNvU-z-xqBN",
        "outputId": "39bcab8a-50df-4c73-f31a-4fa0f9073850"
      },
      "execution_count": null,
      "outputs": [
        {
          "output_type": "execute_result",
          "data": {
            "text/plain": [
              "'Two'"
            ],
            "application/vnd.google.colaboratory.intrinsic+json": {
              "type": "string"
            }
          },
          "metadata": {},
          "execution_count": 11
        }
      ]
    },
    {
      "cell_type": "code",
      "source": [],
      "metadata": {
        "id": "LiS9VdLUzmbv"
      },
      "execution_count": null,
      "outputs": []
    },
    {
      "cell_type": "markdown",
      "source": [
        "deck class"
      ],
      "metadata": {
        "id": "uLb9NZSK2QuZ"
      }
    },
    {
      "cell_type": "code",
      "source": [
        "class Deck:\n",
        "  def __init__(self):\n",
        "    self.all_cards = []\n",
        "    for suit in suits:\n",
        "      for rank in ranks:\n",
        "        # create the card object\n",
        "        created_card = Card(suit, rank)\n",
        "        self.all_cards.append(created_card)\n",
        "\n",
        "        # create the list of all cards\n",
        "  def shuffle(self):\n",
        "    random.shuffle(self.all_cards)\n",
        "\n",
        "  def deal_one(self):\n",
        "    return self.all_cards.pop()"
      ],
      "metadata": {
        "id": "sYwJ85PpyvYG"
      },
      "execution_count": null,
      "outputs": []
    },
    {
      "cell_type": "code",
      "source": [
        "new_deck = Deck()"
      ],
      "metadata": {
        "id": "50V7fhq20BpQ"
      },
      "execution_count": null,
      "outputs": []
    },
    {
      "cell_type": "code",
      "source": [
        "new_deck.shuffle()"
      ],
      "metadata": {
        "id": "13p7KgsH1PoJ"
      },
      "execution_count": null,
      "outputs": []
    },
    {
      "cell_type": "code",
      "source": [
        "mycard = new_deck.deal_one()"
      ],
      "metadata": {
        "id": "fJH36-4N1wwZ"
      },
      "execution_count": null,
      "outputs": []
    },
    {
      "cell_type": "code",
      "source": [
        "print(mycard)"
      ],
      "metadata": {
        "colab": {
          "base_uri": "https://localhost:8080/"
        },
        "id": "1Z2k2QLj123A",
        "outputId": "2a32f1a2-afbc-4641-e8a3-f843b0f4e597"
      },
      "execution_count": null,
      "outputs": [
        {
          "output_type": "stream",
          "name": "stdout",
          "text": [
            "Two of Hearts\n"
          ]
        }
      ]
    },
    {
      "cell_type": "code",
      "source": [
        "len(new_deck.all_cards)"
      ],
      "metadata": {
        "colab": {
          "base_uri": "https://localhost:8080/"
        },
        "id": "LI64Hud318sR",
        "outputId": "d9babef7-3393-4ce3-b8a3-03a19f06e48e"
      },
      "execution_count": null,
      "outputs": [
        {
          "output_type": "execute_result",
          "data": {
            "text/plain": [
              "51"
            ]
          },
          "metadata": {},
          "execution_count": 54
        }
      ]
    },
    {
      "cell_type": "code",
      "source": [
        "print(new_deck.all_cards[-1])"
      ],
      "metadata": {
        "colab": {
          "base_uri": "https://localhost:8080/"
        },
        "id": "s_RnKNPP0cCP",
        "outputId": "32c11eba-c8b2-4e4a-e483-9bc12ebb9fa6"
      },
      "execution_count": null,
      "outputs": [
        {
          "output_type": "stream",
          "name": "stdout",
          "text": [
            "Ten of Hearts\n"
          ]
        }
      ]
    },
    {
      "cell_type": "code",
      "source": [
        "for card_object in new_deck.all_cards:\n",
        "  print(card_object)"
      ],
      "metadata": {
        "colab": {
          "base_uri": "https://localhost:8080/"
        },
        "id": "1suhKSTn0k-p",
        "outputId": "74c9610d-de4a-4f3c-b40f-a388a7b4ba4e"
      },
      "execution_count": null,
      "outputs": [
        {
          "output_type": "stream",
          "name": "stdout",
          "text": [
            "Two of Hearts\n",
            "Three of Hearts\n",
            "Four of Hearts\n",
            "Five of Hearts\n",
            "Six of Hearts\n",
            "Seven of Hearts\n",
            "Eight of Hearts\n",
            "Nine of Hearts\n",
            "Ten of Hearts\n",
            "Jack of Hearts\n",
            "Queen of Hearts\n",
            "King of Hearts\n",
            "Ace of Hearts\n",
            "Two of Diamonds\n",
            "Three of Diamonds\n",
            "Four of Diamonds\n",
            "Five of Diamonds\n",
            "Six of Diamonds\n",
            "Seven of Diamonds\n",
            "Eight of Diamonds\n",
            "Nine of Diamonds\n",
            "Ten of Diamonds\n",
            "Jack of Diamonds\n",
            "Queen of Diamonds\n",
            "King of Diamonds\n",
            "Ace of Diamonds\n",
            "Two of Spades\n",
            "Three of Spades\n",
            "Four of Spades\n",
            "Five of Spades\n",
            "Six of Spades\n",
            "Seven of Spades\n",
            "Eight of Spades\n",
            "Nine of Spades\n",
            "Ten of Spades\n",
            "Jack of Spades\n",
            "Queen of Spades\n",
            "King of Spades\n",
            "Ace of Spades\n",
            "Two of Clubs\n",
            "Three of Clubs\n",
            "Four of Clubs\n",
            "Five of Clubs\n",
            "Six of Clubs\n",
            "Seven of Clubs\n",
            "Eight of Clubs\n",
            "Nine of Clubs\n",
            "Ten of Clubs\n",
            "Jack of Clubs\n",
            "Queen of Clubs\n",
            "King of Clubs\n",
            "Ace of Clubs\n"
          ]
        }
      ]
    },
    {
      "cell_type": "code",
      "source": [],
      "metadata": {
        "id": "JQgc40S90tE5"
      },
      "execution_count": null,
      "outputs": []
    },
    {
      "cell_type": "markdown",
      "source": [
        "player class"
      ],
      "metadata": {
        "id": "LjpBlBdz2TTa"
      }
    },
    {
      "cell_type": "code",
      "source": [
        "class Player:\n",
        "  def __init__(self, name):\n",
        "    self.name = name\n",
        "    self.all_cards = []\n",
        "\n",
        "  def remove_one(self):\n",
        "    return self.all_cards.pop(0)\n",
        "\n",
        "  def add_cards(self, new_cards):\n",
        "    if type(new_cards) == type([]):\n",
        "      #List of multiple card objects\n",
        "      self.all_cards.extend(new_cards)\n",
        "    else:\n",
        "      #List of single card objects\n",
        "      self.all_cards.append(new_cards)\n",
        "\n",
        "  def __str__(self):\n",
        "    return f'Player {self.name} has {len(self.all_cards)} cards.'"
      ],
      "metadata": {
        "id": "cyYXqZ7t2Uog"
      },
      "execution_count": null,
      "outputs": []
    },
    {
      "cell_type": "code",
      "source": [
        "new_player = Player(\" Jose\")"
      ],
      "metadata": {
        "id": "xEexq3i_0t2w"
      },
      "execution_count": null,
      "outputs": []
    },
    {
      "cell_type": "code",
      "source": [
        "print(new_player)"
      ],
      "metadata": {
        "colab": {
          "base_uri": "https://localhost:8080/"
        },
        "id": "n6qk-4As0t6C",
        "outputId": "5bd3c68f-a689-4c69-e2f1-06b162c27a42"
      },
      "execution_count": null,
      "outputs": [
        {
          "output_type": "stream",
          "name": "stdout",
          "text": [
            "Player  Jose has 0 cards.\n"
          ]
        }
      ]
    },
    {
      "cell_type": "code",
      "source": [
        "new_player.add_cards(mycard)"
      ],
      "metadata": {
        "id": "aQEp82xf36v5"
      },
      "execution_count": null,
      "outputs": []
    },
    {
      "cell_type": "code",
      "source": [
        "print(new_player)"
      ],
      "metadata": {
        "colab": {
          "base_uri": "https://localhost:8080/"
        },
        "id": "5gNM12W04QBq",
        "outputId": "9a4db5ef-fecb-44bc-8011-72580364f4ea"
      },
      "execution_count": null,
      "outputs": [
        {
          "output_type": "stream",
          "name": "stdout",
          "text": [
            "Player  Jose has 1 cards.\n"
          ]
        }
      ]
    },
    {
      "cell_type": "code",
      "source": [
        "print(mycard)"
      ],
      "metadata": {
        "colab": {
          "base_uri": "https://localhost:8080/"
        },
        "id": "K4TuEe7w4WdC",
        "outputId": "90c933e9-3499-4f29-a0fa-51f3d1c9a5d4"
      },
      "execution_count": null,
      "outputs": [
        {
          "output_type": "stream",
          "name": "stdout",
          "text": [
            "Two of Hearts\n"
          ]
        }
      ]
    },
    {
      "cell_type": "code",
      "source": [
        "print(new_player.all_cards[0])"
      ],
      "metadata": {
        "colab": {
          "base_uri": "https://localhost:8080/"
        },
        "id": "oZ1y7KLK4cdD",
        "outputId": "6ec70b03-8803-44af-87f3-5be11af4a0fe"
      },
      "execution_count": null,
      "outputs": [
        {
          "output_type": "stream",
          "name": "stdout",
          "text": [
            "Two of Hearts\n"
          ]
        }
      ]
    },
    {
      "cell_type": "code",
      "source": [
        "new_player.add_cards([mycard, mycard, mycard])"
      ],
      "metadata": {
        "id": "VspSClkb4hUZ"
      },
      "execution_count": null,
      "outputs": []
    },
    {
      "cell_type": "code",
      "source": [
        "print(new_player)"
      ],
      "metadata": {
        "colab": {
          "base_uri": "https://localhost:8080/"
        },
        "id": "jL_JLjdG4vji",
        "outputId": "fb3a3e19-17d0-4f4e-ee4b-c0b393941a0f"
      },
      "execution_count": null,
      "outputs": [
        {
          "output_type": "stream",
          "name": "stdout",
          "text": [
            "Player  Jose has 4 cards.\n"
          ]
        }
      ]
    },
    {
      "cell_type": "code",
      "source": [
        "new_player.remove_one()"
      ],
      "metadata": {
        "colab": {
          "base_uri": "https://localhost:8080/"
        },
        "id": "zl4PO120422S",
        "outputId": "56462df3-ab7d-44ee-a20c-4d2a5a3749b4"
      },
      "execution_count": null,
      "outputs": [
        {
          "output_type": "execute_result",
          "data": {
            "text/plain": [
              "<__main__.Card at 0x7df8aeadabf0>"
            ]
          },
          "metadata": {},
          "execution_count": 66
        }
      ]
    },
    {
      "cell_type": "code",
      "source": [
        "print(new_player)"
      ],
      "metadata": {
        "colab": {
          "base_uri": "https://localhost:8080/"
        },
        "id": "V0CY2Doz5ASn",
        "outputId": "e131e216-ca80-448e-acb9-724b433d67bc"
      },
      "execution_count": null,
      "outputs": [
        {
          "output_type": "stream",
          "name": "stdout",
          "text": [
            "Player  Jose has 3 cards.\n"
          ]
        }
      ]
    },
    {
      "cell_type": "markdown",
      "source": [
        "Actual GAME"
      ],
      "metadata": {
        "id": "hbzmk3Sy5JKz"
      }
    },
    {
      "cell_type": "code",
      "source": [
        "import random\n",
        "suits = ('Hearts', 'Diamonds', 'Spades', 'Clubs')\n",
        "ranks = ('Two', 'Three', 'Four', 'Five', 'Six', 'Seven', 'Eight', 'Nine', 'Ten', 'Jack', 'Queen', 'King', 'Ace')\n",
        "values = {'Two': 2, 'Three': 3, 'Four': 4, 'Five': 5, 'Six': 6, 'Seven': 7, 'Eight': 8, 'Nine': 9, 'Ten': 10, 'Jack': 11, 'Queen': 12, 'King': 13, 'Ace': 14}"
      ],
      "metadata": {
        "id": "wMVtrSIB6w8S"
      },
      "execution_count": null,
      "outputs": []
    },
    {
      "cell_type": "code",
      "source": [
        "class Card:\n",
        "  def __init__(self, suit, rank):\n",
        "    self.suit = suit\n",
        "    self.rank = rank\n",
        "    self.value = values[rank]\n",
        "\n",
        "  def __str__(self):\n",
        "    return self.rank + ' of ' + self.suit"
      ],
      "metadata": {
        "id": "Pr7BqG1b6xDr"
      },
      "execution_count": null,
      "outputs": []
    },
    {
      "cell_type": "code",
      "source": [
        "class Deck:\n",
        "  def __init__(self):\n",
        "    self.all_cards = []\n",
        "    for suit in suits:\n",
        "      for rank in ranks:\n",
        "        # create the card object\n",
        "        created_card = Card(suit, rank)\n",
        "        self.all_cards.append(created_card)\n",
        "\n",
        "        # create the list of all cards\n",
        "  def shuffle(self):\n",
        "    random.shuffle(self.all_cards)\n",
        "\n",
        "  def deal_one(self):\n",
        "    return self.all_cards.pop()"
      ],
      "metadata": {
        "id": "8K9gXCSW6xIL"
      },
      "execution_count": null,
      "outputs": []
    },
    {
      "cell_type": "code",
      "source": [
        "class Player:\n",
        "  def __init__(self, name):\n",
        "    self.name = name\n",
        "    self.all_cards = []\n",
        "\n",
        "  def remove_one(self):\n",
        "    return self.all_cards.pop(0)\n",
        "\n",
        "  def add_cards(self, new_cards):\n",
        "    if type(new_cards) == type([]):\n",
        "      #List of multiple card objects\n",
        "      self.all_cards.extend(new_cards)\n",
        "    else:\n",
        "      #List of single card objects\n",
        "      self.all_cards.append(new_cards)\n",
        "\n",
        "  def __str__(self):\n",
        "    return f'Player {self.name} has {len(self.all_cards)} cards.'"
      ],
      "metadata": {
        "id": "5jnqahZo6VLT"
      },
      "execution_count": null,
      "outputs": []
    },
    {
      "cell_type": "code",
      "source": [
        "# GAME SETUP\n",
        "player_one = Player(\"One\")\n",
        "player_two = Player(\"Two\")\n",
        "\n",
        "new_deck = Deck()\n",
        "new_deck.shuffle()\n",
        "\n",
        "for x in range(26):\n",
        "  player_one.add_cards(new_deck.deal_one())\n",
        "  player_two.add_cards(new_deck.deal_one())"
      ],
      "metadata": {
        "id": "V-VgaSIF5Kx8"
      },
      "execution_count": null,
      "outputs": []
    },
    {
      "cell_type": "code",
      "source": [
        "game_on = True"
      ],
      "metadata": {
        "id": "uldE4bCe6XTJ"
      },
      "execution_count": null,
      "outputs": []
    },
    {
      "cell_type": "code",
      "source": [
        "# while\n",
        "round_num = 0\n",
        "while game_on:\n",
        "  round_num += 1\n",
        "  print(f\"Round {round_num}\")\n",
        "\n",
        "  if len(player_one.all_cards) == 0:\n",
        "    print(\"Player One, out of cards! Player Two Wins!\")\n",
        "    game_on = False\n",
        "    break\n",
        "\n",
        "  if len(player_two.all_cards) == 0:\n",
        "    print(\"Player Two, out of cards! Player One Wins!\")\n",
        "    game_on = False\n",
        "    break\n",
        "\n",
        "  # Start a new round\n",
        "  player_one_cards = []\n",
        "  player_one_cards.append(player_one.remove_one())\n",
        "\n",
        "  player_two_cards = []\n",
        "  player_two_cards.append(player_two.remove_one())\n",
        "\n",
        "\n",
        "  # while at_war\n",
        "  at_war = True\n",
        "  while at_war:\n",
        "    if player_one_cards[-1].value > player_two_cards[-1].value:\n",
        "      player_one.add_cards(player_one_cards)\n",
        "      player_one.add_cards(player_two_cards)\n",
        "\n",
        "      at_war = False\n",
        "\n",
        "    elif player_one_cards[-1].value < player_two_cards[-1].value:\n",
        "      player_two.add_cards(player_one_cards)\n",
        "      player_two.add_cards(player_two_cards)\n",
        "      at_war = False\n",
        "\n",
        "    else:\n",
        "      print(\"WAR!\")\n",
        "\n",
        "      if len(player_one.all_cards) < 5:\n",
        "        print(\"Player One unable to declare war\")\n",
        "        print(\"Player Two Wins!\")\n",
        "        game_on = False\n",
        "        break\n",
        "\n",
        "      elif len(player_two.all_cards) < 5:\n",
        "        print(\"Player Two unable to declare war\")\n",
        "        print(\"Player One Wins!\")\n",
        "        game_on = False\n",
        "        break\n",
        "\n",
        "      else:\n",
        "        for num in range(5):\n",
        "          player_one_cards.append(player_one.remove_one())\n",
        "          player_two_cards.append(player_two.remove_one())"
      ],
      "metadata": {
        "colab": {
          "base_uri": "https://localhost:8080/"
        },
        "id": "g4dPKhMk6bBJ",
        "outputId": "5d6c5e1c-2e02-4949-8a02-32326517c951"
      },
      "execution_count": null,
      "outputs": [
        {
          "output_type": "stream",
          "name": "stdout",
          "text": [
            "Round 1\n",
            "Round 2\n",
            "Round 3\n",
            "Round 4\n",
            "Round 5\n",
            "Round 6\n",
            "Round 7\n",
            "Round 8\n",
            "Round 9\n",
            "Round 10\n",
            "Round 11\n",
            "Round 12\n",
            "Round 13\n",
            "Round 14\n",
            "Round 15\n",
            "Round 16\n",
            "Round 17\n",
            "Round 18\n",
            "Round 19\n",
            "Round 20\n",
            "Round 21\n",
            "Round 22\n",
            "Round 23\n",
            "Round 24\n",
            "Round 25\n",
            "Round 26\n",
            "Round 27\n",
            "Round 28\n",
            "Round 29\n",
            "Round 30\n",
            "Round 31\n",
            "Round 32\n",
            "Round 33\n",
            "Round 34\n",
            "Round 35\n",
            "Round 36\n",
            "Round 37\n",
            "WAR!\n",
            "Round 38\n",
            "Round 39\n",
            "Round 40\n",
            "Round 41\n",
            "Round 42\n",
            "Round 43\n",
            "Round 44\n",
            "Round 45\n",
            "Round 46\n",
            "Round 47\n",
            "Round 48\n",
            "Round 49\n",
            "Round 50\n",
            "Round 51\n",
            "Round 52\n",
            "Round 53\n",
            "Round 54\n",
            "Round 55\n",
            "Round 56\n",
            "WAR!\n",
            "Round 57\n",
            "Round 58\n",
            "Round 59\n",
            "Round 60\n",
            "Round 61\n",
            "Round 62\n",
            "Round 63\n",
            "Round 64\n",
            "Round 65\n",
            "Round 66\n",
            "WAR!\n",
            "Round 67\n",
            "Round 68\n",
            "Round 69\n",
            "Round 70\n",
            "Round 71\n",
            "Round 72\n",
            "Round 73\n",
            "Round 74\n",
            "Round 75\n",
            "Round 76\n",
            "Round 77\n",
            "Round 78\n",
            "Round 79\n",
            "Round 80\n",
            "Round 81\n",
            "Round 82\n",
            "Round 83\n",
            "Round 84\n",
            "Round 85\n",
            "Round 86\n",
            "Round 87\n",
            "Round 88\n",
            "Round 89\n",
            "Round 90\n",
            "Round 91\n",
            "Round 92\n",
            "Round 93\n",
            "Round 94\n",
            "Round 95\n",
            "Round 96\n",
            "Round 97\n",
            "Round 98\n",
            "Round 99\n",
            "Round 100\n",
            "Round 101\n",
            "Round 102\n",
            "Round 103\n",
            "Round 104\n",
            "Round 105\n",
            "Round 106\n",
            "Round 107\n",
            "Round 108\n",
            "Round 109\n",
            "Round 110\n",
            "Round 111\n",
            "WAR!\n",
            "Round 112\n",
            "Round 113\n",
            "Round 114\n",
            "Round 115\n",
            "Round 116\n",
            "Round 117\n",
            "Round 118\n",
            "Round 119\n",
            "Round 120\n",
            "Round 121\n",
            "Round 122\n",
            "Round 123\n",
            "Round 124\n",
            "Round 125\n",
            "Round 126\n",
            "Round 127\n",
            "Round 128\n",
            "Round 129\n",
            "Round 130\n",
            "Round 131\n",
            "Round 132\n",
            "Round 133\n",
            "Round 134\n",
            "Round 135\n",
            "Round 136\n",
            "Round 137\n",
            "Round 138\n",
            "Round 139\n",
            "Round 140\n",
            "Round 141\n",
            "Round 142\n",
            "Round 143\n",
            "Round 144\n",
            "Round 145\n",
            "Round 146\n",
            "Round 147\n",
            "Round 148\n",
            "Round 149\n",
            "Round 150\n",
            "Round 151\n",
            "Round 152\n",
            "Round 153\n",
            "Round 154\n",
            "Round 155\n",
            "Round 156\n",
            "Round 157\n",
            "Round 158\n",
            "Round 159\n",
            "Round 160\n",
            "Round 161\n",
            "Round 162\n",
            "Round 163\n",
            "Round 164\n",
            "Round 165\n",
            "Round 166\n",
            "Round 167\n",
            "Round 168\n",
            "Round 169\n",
            "Round 170\n",
            "Round 171\n",
            "Round 172\n",
            "Round 173\n",
            "Round 174\n",
            "Round 175\n",
            "Round 176\n",
            "Round 177\n",
            "Round 178\n",
            "Round 179\n",
            "Round 180\n",
            "Round 181\n",
            "Round 182\n",
            "Round 183\n",
            "Round 184\n",
            "Round 185\n",
            "Round 186\n",
            "Round 187\n",
            "Round 188\n",
            "Round 189\n",
            "Round 190\n",
            "Round 191\n",
            "Round 192\n",
            "Round 193\n",
            "Round 194\n",
            "Round 195\n",
            "Round 196\n",
            "Round 197\n",
            "Round 198\n",
            "Round 199\n",
            "Round 200\n",
            "Round 201\n",
            "Round 202\n",
            "Round 203\n",
            "Round 204\n",
            "Round 205\n",
            "Round 206\n",
            "Round 207\n",
            "WAR!\n",
            "Round 208\n",
            "Round 209\n",
            "Round 210\n",
            "Round 211\n",
            "Round 212\n",
            "Round 213\n",
            "Round 214\n",
            "Round 215\n",
            "Round 216\n",
            "Round 217\n",
            "Round 218\n",
            "Round 219\n",
            "Round 220\n",
            "Round 221\n",
            "Round 222\n",
            "Round 223\n",
            "Round 224\n",
            "Round 225\n",
            "Round 226\n",
            "Round 227\n",
            "Round 228\n",
            "Round 229\n",
            "Round 230\n",
            "Round 231\n",
            "Round 232\n",
            "WAR!\n",
            "Round 233\n",
            "Round 234\n",
            "Round 235\n",
            "Round 236\n",
            "Round 237\n",
            "Round 238\n",
            "Round 239\n",
            "Round 240\n",
            "Round 241\n",
            "WAR!\n",
            "Round 242\n",
            "Player One, out of cards! Player Two Wins!\n"
          ]
        }
      ]
    },
    {
      "cell_type": "markdown",
      "source": [
        "# BLACKJACK GAME"
      ],
      "metadata": {
        "id": "-Pn8Xwqm9oAs"
      }
    },
    {
      "cell_type": "code",
      "source": [
        "import random\n",
        "suits = ('Hearts', 'Diamonds', 'Spades', 'Clubs')\n",
        "ranks = ('Two', 'Three', 'Four', 'Five', 'Six', 'Seven', 'Eight', 'Nine', 'Ten', 'Jack', 'Queen', 'King', 'Ace')\n",
        "values = {'Two': 2, 'Three': 3, 'Four': 4, 'Five': 5, 'Six': 6, 'Seven': 7, 'Eight': 8, 'Nine': 9, 'Ten': 10, 'Jack': 11, 'Queen': 12, 'King': 13, 'Ace': 14}\n",
        "\n",
        "playing = True"
      ],
      "metadata": {
        "id": "zFAAU1AL9rVi"
      },
      "execution_count": null,
      "outputs": []
    },
    {
      "cell_type": "markdown",
      "source": [
        "Card class"
      ],
      "metadata": {
        "id": "0pFjb9IZ_DWj"
      }
    },
    {
      "cell_type": "code",
      "source": [
        "class Card():\n",
        "  def __init__(self, suit, rank):\n",
        "    self.suit = suit\n",
        "    self.rank = rank\n",
        "    self.value = values[rank]\n",
        "\n",
        "  def __str__(self):\n",
        "    return self.rank + ' of ' + self.suit"
      ],
      "metadata": {
        "id": "yiUJJFBt_FDM"
      },
      "execution_count": null,
      "outputs": []
    },
    {
      "cell_type": "markdown",
      "source": [
        "Deck class"
      ],
      "metadata": {
        "id": "FGZdJOVj_Pet"
      }
    },
    {
      "cell_type": "code",
      "source": [
        "class Deck:\n",
        "  def __init__(self):\n",
        "    self.deck = []\n",
        "    for suit in suits:\n",
        "      for rank in ranks:\n",
        "        # create the card object\n",
        "        created_card = Card(suit, rank)\n",
        "        self.deck.append(created_card)\n",
        "\n",
        "  def __str__(self):\n",
        "    deck_comp = ''\n",
        "    for card in self.deck:\n",
        "      deck_comp += '\\n' + card.__str__()\n",
        "    return 'The deck has: ' + deck_comp\n",
        "\n",
        "  # create the list of all cards\n",
        "  def shuffle(self):\n",
        "    random.shuffle(self.deck)\n",
        "\n",
        "  def deal(self):\n",
        "    return self.deck.pop()\n",
        "    return single_card"
      ],
      "metadata": {
        "id": "-DDLD_Xk_UtV"
      },
      "execution_count": null,
      "outputs": []
    },
    {
      "cell_type": "code",
      "source": [
        "test_deck = Deck()\n",
        "test_deck.shuffle()\n",
        "print(test_deck)"
      ],
      "metadata": {
        "colab": {
          "base_uri": "https://localhost:8080/"
        },
        "id": "0QVCIewU_0i2",
        "outputId": "759a6006-7454-4368-cd6e-9b02d1f8b59f"
      },
      "execution_count": null,
      "outputs": [
        {
          "output_type": "stream",
          "name": "stdout",
          "text": [
            "The deck has: \n",
            "Five of Spades\n",
            "Two of Clubs\n",
            "Ace of Diamonds\n",
            "Queen of Clubs\n",
            "Ten of Hearts\n",
            "Ten of Spades\n",
            "Seven of Clubs\n",
            "Four of Clubs\n",
            "King of Hearts\n",
            "Two of Hearts\n",
            "Four of Spades\n",
            "Seven of Diamonds\n",
            "Ace of Spades\n",
            "Queen of Diamonds\n",
            "Three of Clubs\n",
            "Five of Diamonds\n",
            "Nine of Diamonds\n",
            "Nine of Hearts\n",
            "Queen of Spades\n",
            "Ten of Diamonds\n",
            "Eight of Diamonds\n",
            "Jack of Spades\n",
            "Seven of Hearts\n",
            "Eight of Spades\n",
            "Three of Spades\n",
            "Queen of Hearts\n",
            "Three of Hearts\n",
            "King of Spades\n",
            "Seven of Spades\n",
            "Six of Diamonds\n",
            "King of Clubs\n",
            "Three of Diamonds\n",
            "Nine of Clubs\n",
            "Five of Clubs\n",
            "Six of Hearts\n",
            "King of Diamonds\n",
            "Jack of Clubs\n",
            "Five of Hearts\n",
            "Ten of Clubs\n",
            "Eight of Hearts\n",
            "Jack of Hearts\n",
            "Six of Clubs\n",
            "Ace of Clubs\n",
            "Four of Hearts\n",
            "Two of Diamonds\n",
            "Eight of Clubs\n",
            "Jack of Diamonds\n",
            "Six of Spades\n",
            "Four of Diamonds\n",
            "Nine of Spades\n",
            "Two of Spades\n",
            "Ace of Hearts\n"
          ]
        }
      ]
    },
    {
      "cell_type": "markdown",
      "source": [
        "Hand class"
      ],
      "metadata": {
        "id": "ltlNm-t9ADe2"
      }
    },
    {
      "cell_type": "code",
      "source": [
        "class Hand:\n",
        "  def __init__(self):\n",
        "    self.cards = [] # start with an empty list as we did in deck class\n",
        "    self.value = 0 # start with zero value\n",
        "    self.aces = 0 # add an attribute to keep track of aces\n",
        "\n",
        "  def add_card(self, card):\n",
        "    #card passed in\n",
        "    # from Deck.deal() ---> single Card(suit, ramk)\n",
        "    self.cards.append(card)\n",
        "    self.value += values[card.rank]\n",
        "\n",
        "    if card.rank == 'Ace':\n",
        "      self.aces += 1\n",
        "\n",
        "  def adjust_for_ace(self):\n",
        "    # if total value > 21 and I still have an ace\n",
        "    # then change my ace to be a 1 instead of an 11\n",
        "    while self.value > 21 and self.aces > 0:\n",
        "      self.value -= 10\n",
        "      self.aces -= 1"
      ],
      "metadata": {
        "id": "Khty_AYHAV2e"
      },
      "execution_count": null,
      "outputs": []
    },
    {
      "cell_type": "markdown",
      "source": [
        "Chip class"
      ],
      "metadata": {
        "id": "nNMMNtEttXbV"
      }
    },
    {
      "cell_type": "code",
      "source": [
        "class Chips:\n",
        "  def __init__(self, total=100):\n",
        "    self.total = total\n",
        "    self.bet = 0\n",
        "\n",
        "  def win_bet(self):\n",
        "    self.total += self.bet\n",
        "\n",
        "  def lose_bet(self):\n",
        "    self.total -= self.bet"
      ],
      "metadata": {
        "id": "9s9LdeVxslMm"
      },
      "execution_count": null,
      "outputs": []
    },
    {
      "cell_type": "markdown",
      "source": [
        "Taking bets"
      ],
      "metadata": {
        "id": "uCx578Pot1tY"
      }
    },
    {
      "cell_type": "code",
      "source": [
        "def take_bet(chips):\n",
        "  while True:\n",
        "    try:\n",
        "      chips.bet = int(input(\"How many chips would you like to bet? \"))\n",
        "    except ValueError:\n",
        "      print(\"Sorry, a bet must be an integer!\")\n",
        "    else:\n",
        "      if chips.bet > chips.total:\n",
        "        print(\"Sorry, your bet can't exceed\", chips.total)\n",
        "      else:\n",
        "        break"
      ],
      "metadata": {
        "id": "TfAOh6POslhg"
      },
      "execution_count": null,
      "outputs": []
    },
    {
      "cell_type": "markdown",
      "source": [
        "Taking hits"
      ],
      "metadata": {
        "id": "oP6KN1Ept8KX"
      }
    },
    {
      "cell_type": "code",
      "source": [
        "def hit(deck, hand):\n",
        "  single_card = deck.deal()\n",
        "  hand.add_card(deck.deal())\n",
        "  hand.adjust_for_ace()"
      ],
      "metadata": {
        "id": "bS7Fh2Lwslk4"
      },
      "execution_count": null,
      "outputs": []
    },
    {
      "cell_type": "markdown",
      "source": [
        "prompting the player to hit or stand"
      ],
      "metadata": {
        "id": "zcQU6YUSuWNT"
      }
    },
    {
      "cell_type": "code",
      "source": [
        "def hit_or_stand(deck, hand):\n",
        "  global playing # To control upcoming while loop\n",
        "\n",
        "  while True:\n",
        "    x = input(\"Hit or Stand? Enter h or s \")\n",
        "    if x[0].lower() == 'h':\n",
        "      hit(deck, hand)\n",
        "    elif x[0].lower() == 's':\n",
        "      print(\"Player Stands Dealer's Turn\")\n",
        "      playing = False\n",
        "\n",
        "    else:\n",
        "      print(\"Sorry, I did not understand that, Please enter h or s only!\")\n",
        "      continue\n",
        "    break"
      ],
      "metadata": {
        "id": "bvJrVPfHsloN"
      },
      "execution_count": null,
      "outputs": []
    },
    {
      "cell_type": "markdown",
      "source": [
        "display cards"
      ],
      "metadata": {
        "id": "68Fph4tTu0uh"
      }
    },
    {
      "cell_type": "code",
      "source": [
        "def show_some(player, dealer):\n",
        "  print(\"\\n Dealer's Hand: \")\n",
        "  print(\"First card hidden!\")\n",
        "  print(dealer.cards[1])\n",
        "\n",
        "  print(\"\\n Player's Hand: \", *player.cards, sep='\\n')\n",
        "  for card in player.cards:\n",
        "    print(card)\n",
        "\n",
        "def show_all(player, dealer):\n",
        "  print(\"\\n Dealer's Hand: \", *dealer.cards, sep='\\n')\n",
        "  for card in dealer.cards:\n",
        "    print(card)\n",
        "\n",
        "  print(f\"Value of Dealer's hand is: {dealer.value}\")\n",
        "\n",
        "  print(\"\\n Player's Hand: \", *player.cards, sep='\\n')\n",
        "  for card in player.cards:\n",
        "    print(card)\n",
        "  print(f\"Value of Player's hand is: {player.value}\")"
      ],
      "metadata": {
        "id": "IEsy1IV1slrG"
      },
      "execution_count": null,
      "outputs": []
    },
    {
      "cell_type": "markdown",
      "source": [
        "handle end game scenarios"
      ],
      "metadata": {
        "id": "7QEYDN8FwM3f"
      }
    },
    {
      "cell_type": "code",
      "source": [
        "def player_busts(player, dealer, chips):\n",
        "  print(\"BUST PLAYER!\")\n",
        "  chips.lose_bet()\n",
        "\n",
        "def player_wins(player, dealer, chips):\n",
        "  print(\"PLAYER WINS!\")\n",
        "\n",
        "def dealer_busts(player, dealer, chips):\n",
        "  print(\"PLAYER WINS! DEALER BUSTED!\")\n",
        "  chips.win_bet()\n",
        "\n",
        "def dealer_wins(player, dealer, chips):\n",
        "  print(\"DEALER WINS!\")\n",
        "  chips.lose_bet()\n",
        "\n",
        "def push(player, dealer):\n",
        "  print(\"Dealer and Player tie! PUSH\")"
      ],
      "metadata": {
        "id": "LlElQx3nsltu"
      },
      "execution_count": null,
      "outputs": []
    },
    {
      "cell_type": "markdown",
      "source": [
        "Now on to game"
      ],
      "metadata": {
        "id": "Noj0k5BIwh6j"
      }
    },
    {
      "cell_type": "code",
      "source": [
        "while True:\n",
        "  # print an opening statement\n",
        "  print(\"WELCOME TO BLACKJACK\")\n",
        "\n",
        "  # create and shuffle the deck, deal two cards to each player\n",
        "  deck = Deck()\n",
        "  deck.shuffle()\n",
        "\n",
        "  player_hand = Hand()\n",
        "  player_hand.add_card(deck.deal())\n",
        "  player_hand.add_card(deck.deal())\n",
        "\n",
        "  dealer_hand = Hand()\n",
        "\n",
        "  dealer_hand.add_card(deck.deal())\n",
        "  dealer_hand.add_card(deck.deal())\n",
        "\n",
        "  # set up the player's chips\n",
        "  player_chips = Chips()\n",
        "  # prompt the player for their bet\n",
        "  take_bet(player_chips)\n",
        "\n",
        "  # show cards (but keep one dealer card hidden)\n",
        "  show_some(player_hand, dealer_hand)\n",
        "\n",
        "  while playing:\n",
        "    # prompt for player to hit or stand\n",
        "    hit_or_stand(deck, player_hand)\n",
        "\n",
        "    # show cards (but keep one dealer card hidden)\n",
        "    show_some(player_hand, dealer_hand)\n",
        "\n",
        "    # if player's hand exceeds 21, run player_busts() and break out of loop\n",
        "    if player_hand.value > 21:\n",
        "      player_busts(player_hand, dealer_hand, player_chips)\n",
        "      break\n",
        "\n",
        "  # if player hasn't busted, play dealer's hand until dealer reaches 17\n",
        "  if player_hand.value <= 21:\n",
        "    while dealer_hand.value < player_hand.value:\n",
        "      hit(deck, dealer_hand)\n",
        "\n",
        "    # show all cards\n",
        "    show_all(player_hand, dealer_hand)\n",
        "\n",
        "    # run different winning scenarios\n",
        "\n",
        "    if dealer_hand.value > 21:\n",
        "      dealer_busts(player_hand, dealer_hand, player_chips)\n",
        "    elif dealer_hand.value > player_hand.value:\n",
        "      dealer_wins(player_hand, dealer_hand, player_chips)\n",
        "    elif dealer_hand.value < player_hand.value:\n",
        "      player_wins(player_hand, dealer_hand, player_chips)\n",
        "    else:\n",
        "      push(player_hand, dealer_hand)\n",
        "\n",
        "  # Inform player of their chips total\n",
        "  print(f\"\\n Player total chips are at: {player_chips.total}\")\n",
        "  # Ask to play again\n",
        "  new_game = input(\"Would you like to play another hand? y/n\")\n",
        "  if new_game[0].lower() == 'y':\n",
        "    playing = True\n",
        "    continue\n",
        "  else:\n",
        "    print(\"Thank you for playing!\")\n",
        "    break"
      ],
      "metadata": {
        "colab": {
          "base_uri": "https://localhost:8080/"
        },
        "id": "gHpIqHoPwj_u",
        "outputId": "dfa11c0f-38b2-4666-f18f-0113be4b28ba"
      },
      "execution_count": null,
      "outputs": [
        {
          "output_type": "stream",
          "name": "stdout",
          "text": [
            "WELCOME TO BLACKJACK\n",
            "How many chips would you like to bet? 300\n",
            "Sorry, your bet can't exceed 100\n",
            "How many chips would you like to bet? 50\n",
            "\n",
            " Dealer's Hand: \n",
            "First card hidden!\n",
            "Jack of Hearts\n",
            "\n",
            " Player's Hand: \n",
            "Eight of Spades\n",
            "Two of Diamonds\n",
            "Eight of Spades\n",
            "Two of Diamonds\n",
            "Hit or Stand? Enter h or s s\n",
            "Player Stands Dealer's Turn\n",
            "\n",
            " Dealer's Hand: \n",
            "First card hidden!\n",
            "Jack of Hearts\n",
            "\n",
            " Player's Hand: \n",
            "Eight of Spades\n",
            "Two of Diamonds\n",
            "Eight of Spades\n",
            "Two of Diamonds\n",
            "\n",
            " Dealer's Hand: \n",
            "Two of Clubs\n",
            "Jack of Hearts\n",
            "Two of Clubs\n",
            "Jack of Hearts\n",
            "Value of Dealer's hand is: 13\n",
            "\n",
            " Player's Hand: \n",
            "Eight of Spades\n",
            "Two of Diamonds\n",
            "Eight of Spades\n",
            "Two of Diamonds\n",
            "Value of Player's hand is: 10\n",
            "DEALER WINS!\n",
            "\n",
            " Player total chips are at: 50\n",
            "Would you like to play another hand? y/n100\n",
            "Thank you for playing!\n"
          ]
        }
      ]
    },
    {
      "cell_type": "markdown",
      "source": [
        "# Email in Python"
      ],
      "metadata": {
        "id": "YM64tLDyyTUF"
      }
    },
    {
      "cell_type": "code",
      "source": [
        "import smtplib"
      ],
      "metadata": {
        "id": "bhpQrkoCyVoH"
      },
      "execution_count": null,
      "outputs": []
    },
    {
      "cell_type": "code",
      "source": [
        "smtp_object = smtplib.SMTP('smtp.gmail.com', 587)"
      ],
      "metadata": {
        "id": "XfllYSWz0vj_"
      },
      "execution_count": null,
      "outputs": []
    },
    {
      "cell_type": "code",
      "source": [
        "smtp_object.ehlo()"
      ],
      "metadata": {
        "colab": {
          "base_uri": "https://localhost:8080/"
        },
        "id": "F0SqSi6J03RD",
        "outputId": "2623d47c-8e34-4b0d-e62d-ece3899b4d74"
      },
      "execution_count": null,
      "outputs": [
        {
          "output_type": "execute_result",
          "data": {
            "text/plain": [
              "(250,\n",
              " b'smtp.gmail.com at your service, [35.221.250.190]\\nSIZE 35882577\\n8BITMIME\\nSTARTTLS\\nENHANCEDSTATUSCODES\\nPIPELINING\\nCHUNKING\\nSMTPUTF8')"
            ]
          },
          "metadata": {},
          "execution_count": 18
        }
      ]
    },
    {
      "cell_type": "code",
      "source": [
        "smtp_object.starttls()"
      ],
      "metadata": {
        "colab": {
          "base_uri": "https://localhost:8080/"
        },
        "id": "os_8UaWl03UT",
        "outputId": "8242c4a4-52ab-4bc8-e568-83710c6a433a"
      },
      "execution_count": null,
      "outputs": [
        {
          "output_type": "execute_result",
          "data": {
            "text/plain": [
              "(220, b'2.0.0 Ready to start TLS')"
            ]
          },
          "metadata": {},
          "execution_count": 19
        }
      ]
    },
    {
      "cell_type": "code",
      "source": [
        "input('What is your password: ')"
      ],
      "metadata": {
        "colab": {
          "base_uri": "https://localhost:8080/",
          "height": 53
        },
        "id": "_KyKe-yh03X5",
        "outputId": "6134eee2-f8ff-4a22-e018-2853f375947b"
      },
      "execution_count": null,
      "outputs": [
        {
          "name": "stdout",
          "output_type": "stream",
          "text": [
            "What is your password: visible dkd\n"
          ]
        },
        {
          "output_type": "execute_result",
          "data": {
            "text/plain": [
              "'visible dkd'"
            ],
            "application/vnd.google.colaboratory.intrinsic+json": {
              "type": "string"
            }
          },
          "metadata": {},
          "execution_count": 20
        }
      ]
    },
    {
      "cell_type": "code",
      "source": [
        "import getpass"
      ],
      "metadata": {
        "id": "Vk3VKhU203a3"
      },
      "execution_count": null,
      "outputs": []
    },
    {
      "cell_type": "code",
      "source": [
        "password = getpass.getpass('Password please: ')"
      ],
      "metadata": {
        "colab": {
          "base_uri": "https://localhost:8080/"
        },
        "id": "O4Jgu5Lv03hm",
        "outputId": "9eed69d7-0b2c-49f1-c96d-7108ef0794af"
      },
      "execution_count": null,
      "outputs": [
        {
          "name": "stdout",
          "output_type": "stream",
          "text": [
            "Password please: ··········\n"
          ]
        }
      ]
    },
    {
      "cell_type": "code",
      "source": [],
      "metadata": {
        "id": "UBcgw5__1YAE"
      },
      "execution_count": null,
      "outputs": []
    }
  ]
}