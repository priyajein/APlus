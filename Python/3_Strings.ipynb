{
  "nbformat": 4,
  "nbformat_minor": 0,
  "metadata": {
    "colab": {
      "provenance": []
    },
    "kernelspec": {
      "name": "python3",
      "display_name": "Python 3"
    },
    "language_info": {
      "name": "python"
    }
  },
  "cells": [
    {
      "cell_type": "markdown",
      "source": [
        "# STRINGS"
      ],
      "metadata": {
        "id": "ZiBS06v7ghfQ"
      }
    },
    {
      "cell_type": "code",
      "execution_count": null,
      "metadata": {
        "colab": {
          "base_uri": "https://localhost:8080/"
        },
        "id": "PExlv_ZRgAL7",
        "outputId": "1a5edb63-bf14-44ff-82d4-f9b915ab56d8"
      },
      "outputs": [
        {
          "output_type": "stream",
          "name": "stdout",
          "text": [
            "A Computer Science portal for geeks\n",
            "<class 'str'>\n"
          ]
        }
      ],
      "source": [
        "# Example of string data type in Python\n",
        "string_0 = \"A Computer Science portal for geeks\"\n",
        "print(string_0)\n",
        "print(type(string_0))"
      ]
    },
    {
      "cell_type": "markdown",
      "source": [
        "### Create a String in Python\n",
        "Strings in Python can be created using single quotes or double quotes or even triple quotes."
      ],
      "metadata": {
        "id": "f9kA_90Uh4YE"
      }
    },
    {
      "cell_type": "code",
      "source": [
        "# Creating a String\n",
        "# with single Quotes\n",
        "String1 = 'Welcome to the Geeks World'\n",
        "print(\"String with the use of Single Quotes: \")\n",
        "print(String1)\n",
        "\n",
        "# Creating a String\n",
        "# with double Quotes\n",
        "String1 = \"I'm a Geek\"\n",
        "print(\"\\nString with the use of Double Quotes: \")\n",
        "print(String1)\n",
        "\n",
        "# Creating a String\n",
        "# with triple Quotes\n",
        "String1 = '''I'm a Geek and I live in a world of \"Geeks\"'''\n",
        "print(\"\\nString with the use of Triple Quotes: \")\n",
        "print(String1)\n",
        "\n",
        "# Creating String with triple\n",
        "# Quotes allows multiple lines\n",
        "String1 = '''Geeks\n",
        "            For\n",
        "            Life'''\n",
        "print(\"\\nCreating a multiline String: \")\n",
        "print(String1)"
      ],
      "metadata": {
        "colab": {
          "base_uri": "https://localhost:8080/"
        },
        "id": "PBdwQKUkh89O",
        "outputId": "91ee4e54-cd3f-4ac2-a6a9-e6f87e20f4a5"
      },
      "execution_count": null,
      "outputs": [
        {
          "output_type": "stream",
          "name": "stdout",
          "text": [
            "String with the use of Single Quotes: \n",
            "Welcome to the Geeks World\n",
            "\n",
            "String with the use of Double Quotes: \n",
            "I'm a Geek\n",
            "\n",
            "String with the use of Triple Quotes: \n",
            "I'm a Geek and I live in a world of \"Geeks\"\n",
            "\n",
            "Creating a multiline String: \n",
            "Geeks\n",
            "            For\n",
            "            Life\n"
          ]
        }
      ]
    },
    {
      "cell_type": "markdown",
      "source": [
        "#### Accessing characters in Python string"
      ],
      "metadata": {
        "id": "NdHQfn2xjom1"
      }
    },
    {
      "cell_type": "code",
      "source": [
        "String1 = \"GeeksForGeeks\"\n",
        "print(\"Initial String: \", String1)\n",
        "\n",
        "# Printing First character\n",
        "print(\"First character of String is: \", String1[0])\n",
        "\n",
        "# Printing last character\n",
        "print(\"First character of String is: \", String1[-1])\n",
        "\n",
        "# Printing third character from Last\n",
        "print(\"third charcater from Last: \", String1[-3])"
      ],
      "metadata": {
        "colab": {
          "base_uri": "https://localhost:8080/"
        },
        "id": "HPu33kgmjt-9",
        "outputId": "a97a8047-a800-4cf7-fb5b-08f714ec2f62"
      },
      "execution_count": null,
      "outputs": [
        {
          "output_type": "stream",
          "name": "stdout",
          "text": [
            "Initial String:  GeeksForGeeks\n",
            "First character of String is:  G\n",
            "First character of String is:  s\n",
            "third charcater from Last:  e\n"
          ]
        }
      ]
    },
    {
      "cell_type": "markdown",
      "source": [
        "#### String slicing"
      ],
      "metadata": {
        "id": "3dF2gskXkJKs"
      }
    },
    {
      "cell_type": "code",
      "source": [
        "print(String1[3:12])\n",
        "print(String1[-12:-3])\n",
        "print(String1[3:])\n",
        "print(String1[:12])\n",
        "print(String1[:])\n",
        "print(String1[3:-2])\n",
        "print(String1[3:10:2])"
      ],
      "metadata": {
        "colab": {
          "base_uri": "https://localhost:8080/"
        },
        "id": "Ud6P0v02kN6k",
        "outputId": "9ba749dc-aadd-445a-ee01-d3dd905e7b3e"
      },
      "execution_count": null,
      "outputs": [
        {
          "output_type": "stream",
          "name": "stdout",
          "text": [
            "ksForGeek\n",
            "eeksForGe\n",
            "ksForGeeks\n",
            "GeeksForGeek\n",
            "GeeksForGeeks\n",
            "ksForGee\n",
            "kFre\n"
          ]
        }
      ]
    },
    {
      "cell_type": "markdown",
      "source": [
        "String Reversal"
      ],
      "metadata": {
        "id": "cJMRevB-kwT-"
      }
    },
    {
      "cell_type": "code",
      "source": [
        "print(String1[::-1])"
      ],
      "metadata": {
        "colab": {
          "base_uri": "https://localhost:8080/"
        },
        "id": "xSg3ukYukye_",
        "outputId": "db1d6252-9b38-4981-edca-dab21c55af2a"
      },
      "execution_count": null,
      "outputs": [
        {
          "output_type": "stream",
          "name": "stdout",
          "text": [
            "skeeGroFskeeG\n"
          ]
        }
      ]
    },
    {
      "cell_type": "code",
      "source": [
        "# Program to reverse a string\n",
        "\n",
        "gfg = \"geeksforgeeks\"\n",
        "\n",
        "# Reverse the string using reversed and join function\n",
        "gfg = \"\".join(reversed(gfg))\n",
        "\n",
        "print(gfg)"
      ],
      "metadata": {
        "colab": {
          "base_uri": "https://localhost:8080/"
        },
        "id": "_VLSoIASk498",
        "outputId": "cd82f69f-0804-4cd4-e7c9-ab43c162eb32"
      },
      "execution_count": null,
      "outputs": [
        {
          "output_type": "stream",
          "name": "stdout",
          "text": [
            "skeegrofskeeg\n"
          ]
        }
      ]
    },
    {
      "cell_type": "markdown",
      "source": [
        "#### Updating a character in string\n"
      ],
      "metadata": {
        "id": "650gB5ZzlLX0"
      }
    },
    {
      "cell_type": "code",
      "source": [
        "# Python Program to Update\n",
        "# character of a String\n",
        "\n",
        "String1 = \"Hello, I'm a Geek\"\n",
        "print(\"Initial String: \")\n",
        "print(String1)\n",
        "\n",
        "# Updating a character of the String\n",
        "## As python strings are immutable, they don't support item updation directly\n",
        "### there are following two ways\n",
        "#1\n",
        "list1 = list(String1)\n",
        "list1[2] = 'p'\n",
        "String2 = ''.join(list1)\n",
        "print(\"\\nUpdating character at 2nd Index: \")\n",
        "print(String2)\n",
        "\n",
        "#2\n",
        "String3 = String1[0:2] + 'p' + String1[3:]\n",
        "print(String3)"
      ],
      "metadata": {
        "colab": {
          "base_uri": "https://localhost:8080/"
        },
        "id": "5Vvu20Gmlenc",
        "outputId": "f2b0a0d1-72f7-4c34-9f79-813a36c676e3"
      },
      "execution_count": null,
      "outputs": [
        {
          "output_type": "stream",
          "name": "stdout",
          "text": [
            "Initial String: \n",
            "Hello, I'm a Geek\n",
            "\n",
            "Updating character at 2nd Index: \n",
            "Heplo, I'm a Geek\n",
            "Heplo, I'm a Geek\n"
          ]
        }
      ]
    },
    {
      "cell_type": "markdown",
      "source": [
        "#### Updating Entire String\n",
        "In Python Programming, As Python strings are immutable in nature, we cannot update the existing string. We can only assign a completely new value to the variable with the same name."
      ],
      "metadata": {
        "id": "bIQzKiCZlt0s"
      }
    },
    {
      "cell_type": "code",
      "source": [
        "# Python Program to Update\n",
        "# entire String\n",
        "\n",
        "String1 = \"Hello, I'm a Geek\"\n",
        "print(\"Initial String: \")\n",
        "print(String1)\n",
        "\n",
        "# Updating a String\n",
        "String1 = \"Welcome to the Geek World\"\n",
        "print(\"\\nUpdated String: \")\n",
        "print(String1)"
      ],
      "metadata": {
        "colab": {
          "base_uri": "https://localhost:8080/"
        },
        "id": "shPrxccSltUr",
        "outputId": "c228226d-1861-463d-f0d9-64615bb39901"
      },
      "execution_count": null,
      "outputs": [
        {
          "output_type": "stream",
          "name": "stdout",
          "text": [
            "Initial String: \n",
            "Hello, I'm a Geek\n",
            "\n",
            "Updated String: \n",
            "Welcome to the Geek World\n"
          ]
        }
      ]
    },
    {
      "cell_type": "markdown",
      "source": [
        "#### Deleting a character\n",
        "Python strings are immutable, that means we cannot delete a character from it. When we try to delete thecharacter using the del keyword, it will generate an error."
      ],
      "metadata": {
        "id": "KxscXRPOl2fE"
      }
    },
    {
      "cell_type": "code",
      "source": [
        "# Python Program to delete\n",
        "# character of a String\n",
        "\n",
        "String1 = \"Hello, I'm a Geek\"\n",
        "print(\"Initial String: \")\n",
        "print(String1)\n",
        "\n",
        "print(\"Deleting character at 2nd Index: \")\n",
        "del String1[2]\n",
        "print(String1)"
      ],
      "metadata": {
        "colab": {
          "base_uri": "https://localhost:8080/",
          "height": 245
        },
        "id": "Xcz-HdoJl4U0",
        "outputId": "4a933368-6982-427e-e5f5-328d58514ce2"
      },
      "execution_count": null,
      "outputs": [
        {
          "output_type": "stream",
          "name": "stdout",
          "text": [
            "Initial String: \n",
            "Hello, I'm a Geek\n",
            "Deleting character at 2nd Index: \n"
          ]
        },
        {
          "output_type": "error",
          "ename": "TypeError",
          "evalue": "'str' object doesn't support item deletion",
          "traceback": [
            "\u001b[0;31m---------------------------------------------------------------------------\u001b[0m",
            "\u001b[0;31mTypeError\u001b[0m                                 Traceback (most recent call last)",
            "\u001b[0;32m<ipython-input-13-13f1a104337c>\u001b[0m in \u001b[0;36m<cell line: 9>\u001b[0;34m()\u001b[0m\n\u001b[1;32m      7\u001b[0m \u001b[0;34m\u001b[0m\u001b[0m\n\u001b[1;32m      8\u001b[0m \u001b[0mprint\u001b[0m\u001b[0;34m(\u001b[0m\u001b[0;34m\"Deleting character at 2nd Index: \"\u001b[0m\u001b[0;34m)\u001b[0m\u001b[0;34m\u001b[0m\u001b[0;34m\u001b[0m\u001b[0m\n\u001b[0;32m----> 9\u001b[0;31m \u001b[0;32mdel\u001b[0m \u001b[0mString1\u001b[0m\u001b[0;34m[\u001b[0m\u001b[0;36m2\u001b[0m\u001b[0;34m]\u001b[0m\u001b[0;34m\u001b[0m\u001b[0;34m\u001b[0m\u001b[0m\n\u001b[0m\u001b[1;32m     10\u001b[0m \u001b[0mprint\u001b[0m\u001b[0;34m(\u001b[0m\u001b[0mString1\u001b[0m\u001b[0;34m)\u001b[0m\u001b[0;34m\u001b[0m\u001b[0;34m\u001b[0m\u001b[0m\n",
            "\u001b[0;31mTypeError\u001b[0m: 'str' object doesn't support item deletion"
          ]
        }
      ]
    },
    {
      "cell_type": "markdown",
      "source": [
        "But using slicing we can remove the character from the original string and store the result in a new string."
      ],
      "metadata": {
        "id": "cHgxG9MxmBLs"
      }
    },
    {
      "cell_type": "code",
      "source": [
        "String2 = String1[0:2] + String1[3:]\n",
        "print(\"\\nDeleting character at 2nd Index: \")\n",
        "print(String2)"
      ],
      "metadata": {
        "colab": {
          "base_uri": "https://localhost:8080/"
        },
        "id": "crdiRFmlmB4E",
        "outputId": "6400a1cb-3302-484a-b3c2-83b543dc93c0"
      },
      "execution_count": null,
      "outputs": [
        {
          "output_type": "stream",
          "name": "stdout",
          "text": [
            "\n",
            "Deleting character at 2nd Index: \n",
            "Helo, I'm a Geek\n"
          ]
        }
      ]
    },
    {
      "cell_type": "markdown",
      "source": [
        "#### Deleting Entire String\n",
        "In Python Programming, Deletion of the entire string is possible with the use of del keyword. Further, if we try to print the string, this will produce an error because the String is deleted and is unavailable to be printed.  "
      ],
      "metadata": {
        "id": "POlAxo_pmQUd"
      }
    },
    {
      "cell_type": "code",
      "source": [
        "# Python Program to Delete\n",
        "# entire String\n",
        "\n",
        "String1 = \"Hello, I'm a Geek\"\n",
        "print(\"Initial String: \")\n",
        "print(String1)\n",
        "\n",
        "# Deleting a String\n",
        "# with the use of del\n",
        "del String1\n",
        "print(\"\\nDeleting entire String: \")\n",
        "print(String1)"
      ],
      "metadata": {
        "colab": {
          "base_uri": "https://localhost:8080/",
          "height": 245
        },
        "id": "yw7GL5mTmR6F",
        "outputId": "ea6a9e31-a945-40ce-914b-f89b08bc8f6c"
      },
      "execution_count": null,
      "outputs": [
        {
          "output_type": "stream",
          "name": "stdout",
          "text": [
            "Initial String: \n",
            "Hello, I'm a Geek\n",
            "\n",
            "Deleting entire String: \n"
          ]
        },
        {
          "output_type": "error",
          "ename": "NameError",
          "evalue": "name 'String1' is not defined",
          "traceback": [
            "\u001b[0;31m---------------------------------------------------------------------------\u001b[0m",
            "\u001b[0;31mNameError\u001b[0m                                 Traceback (most recent call last)",
            "\u001b[0;32m<ipython-input-15-f8896648ae41>\u001b[0m in \u001b[0;36m<cell line: 12>\u001b[0;34m()\u001b[0m\n\u001b[1;32m     10\u001b[0m \u001b[0;32mdel\u001b[0m \u001b[0mString1\u001b[0m\u001b[0;34m\u001b[0m\u001b[0;34m\u001b[0m\u001b[0m\n\u001b[1;32m     11\u001b[0m \u001b[0mprint\u001b[0m\u001b[0;34m(\u001b[0m\u001b[0;34m\"\\nDeleting entire String: \"\u001b[0m\u001b[0;34m)\u001b[0m\u001b[0;34m\u001b[0m\u001b[0;34m\u001b[0m\u001b[0m\n\u001b[0;32m---> 12\u001b[0;31m \u001b[0mprint\u001b[0m\u001b[0;34m(\u001b[0m\u001b[0mString1\u001b[0m\u001b[0;34m)\u001b[0m\u001b[0;34m\u001b[0m\u001b[0;34m\u001b[0m\u001b[0m\n\u001b[0m",
            "\u001b[0;31mNameError\u001b[0m: name 'String1' is not defined"
          ]
        }
      ]
    },
    {
      "cell_type": "markdown",
      "source": [
        "#### Escape Sequencing in Python\n",
        "While printing Strings with single and double quotes in it causes SyntaxError because String already contains Single and Double Quotes and hence cannot be printed with the use of either of these. Hence, to print such a String either Triple Quotes are used or Escape sequences are used to print Strings.\n",
        "\n",
        "Escape sequences start with a backslash and can be interpreted differently. If single quotes are used to represent a string, then all the single quotes present in the string must be escaped and the same is done for Double Quotes."
      ],
      "metadata": {
        "id": "byDOhcpumdP8"
      }
    },
    {
      "cell_type": "code",
      "source": [
        "# Initial String\n",
        "String1 = '''I'm a \"Geek\"'''\n",
        "print(\"Initial String with use of Triple Quotes: \")\n",
        "print(String1)\n",
        "\n",
        "# Escaping Single Quote\n",
        "String1 = 'I\\'m a \"Geek\"'\n",
        "print(\"\\nEscaping Single Quote: \")\n",
        "print(String1)\n",
        "\n",
        "# Escaping Double Quotes\n",
        "String1 = \"I'm a \\\"Geek\\\"\"\n",
        "print(\"\\nEscaping Double Quotes: \")\n",
        "print(String1)\n",
        "\n",
        "# Printing Paths with the\n",
        "# use of Escape Sequences\n",
        "String1 = \"C:\\\\Python\\\\Geeks\\\\\"\n",
        "print(\"\\nEscaping Backslashes: \")\n",
        "print(String1)\n",
        "\n",
        "# Printing Paths with the\n",
        "# use of Tab\n",
        "String1 = \"Hi\\tGeeks\"\n",
        "print(\"\\nTab: \")\n",
        "print(String1)\n",
        "\n",
        "# Printing Paths with the\n",
        "# use of New Line\n",
        "String1 = \"Python\\nGeeks\"\n",
        "print(\"\\nNew Line: \")\n",
        "print(String1)"
      ],
      "metadata": {
        "colab": {
          "base_uri": "https://localhost:8080/"
        },
        "id": "pECYegGBme7G",
        "outputId": "09e743ec-1004-408a-c0fb-48d269f13bec"
      },
      "execution_count": null,
      "outputs": [
        {
          "output_type": "stream",
          "name": "stdout",
          "text": [
            "Initial String with use of Triple Quotes: \n",
            "I'm a \"Geek\"\n",
            "\n",
            "Escaping Single Quote: \n",
            "I'm a \"Geek\"\n",
            "\n",
            "Escaping Double Quotes: \n",
            "I'm a \"Geek\"\n",
            "\n",
            "Escaping Backslashes: \n",
            "C:\\Python\\Geeks\\\n",
            "\n",
            "Tab: \n",
            "Hi\tGeeks\n",
            "\n",
            "New Line: \n",
            "Python\n",
            "Geeks\n"
          ]
        }
      ]
    },
    {
      "cell_type": "markdown",
      "source": [
        "Example:\n",
        "\n",
        "To ignore the escape sequences in a String, r or R is used, this implies that the string is a raw string and escape sequences inside it are to be ignored."
      ],
      "metadata": {
        "id": "JiPzkbSym0it"
      }
    },
    {
      "cell_type": "code",
      "source": [
        "# Printing hello in octal\n",
        "String1 = \"\\110\\145\\154\\154\\157\"\n",
        "print(\"\\nPrinting in Octal with the use of Escape Sequences: \")\n",
        "print(String1)\n",
        "\n",
        "# Using raw String to\n",
        "# ignore Escape Sequences\n",
        "String1 = r\"This is \\110\\145\\154\\154\\157\"\n",
        "print(\"\\nPrinting Raw String in Octal Format: \")\n",
        "print(String1)\n",
        "\n",
        "# Printing Geeks in HEX\n",
        "String1 = \"This is \\x47\\x65\\x65\\x6b\\x73 in \\x48\\x45\\x58\"\n",
        "print(\"\\nPrinting in HEX with the use of Escape Sequences: \")\n",
        "print(String1)\n",
        "\n",
        "# Using raw String to\n",
        "# ignore Escape Sequences\n",
        "String1 = r\"This is \\x47\\x65\\x65\\x6b\\x73 in \\x48\\x45\\x58\"\n",
        "print(\"\\nPrinting Raw String in HEX Format: \")\n",
        "print(String1)"
      ],
      "metadata": {
        "colab": {
          "base_uri": "https://localhost:8080/"
        },
        "id": "U-fHEd-hm1T9",
        "outputId": "144d7735-ba43-4630-8999-10653f42bcf8"
      },
      "execution_count": null,
      "outputs": [
        {
          "output_type": "stream",
          "name": "stdout",
          "text": [
            "\n",
            "Printing in Octal with the use of Escape Sequences: \n",
            "Hello\n",
            "\n",
            "Printing Raw String in Octal Format: \n",
            "This is \\110\\145\\154\\154\\157\n",
            "\n",
            "Printing in HEX with the use of Escape Sequences: \n",
            "This is Geeks in HEX\n",
            "\n",
            "Printing Raw String in HEX Format: \n",
            "This is \\x47\\x65\\x65\\x6b\\x73 in \\x48\\x45\\x58\n"
          ]
        }
      ]
    },
    {
      "cell_type": "markdown",
      "source": [
        "### Python String Formatting\n"
      ],
      "metadata": {
        "id": "pnR_pZnAotal"
      }
    },
    {
      "cell_type": "code",
      "source": [
        "# Python Program for\n",
        "# Formatting of Strings\n",
        "\n",
        "# Default order\n",
        "String1 = \"{} {} {}\".format('Geeks', 'For', 'Life')\n",
        "print(\"Print String in default order: \")\n",
        "print(String1)\n",
        "\n",
        "# Positional Formatting\n",
        "String1 = \"{1} {0} {2}\".format('Geeks', 'For', 'Life')\n",
        "print(\"\\nPrint String in Positional order: \")\n",
        "print(String1)\n",
        "\n",
        "# Keyword Formatting\n",
        "String1 = \"{l} {f} {g}\".format(g='Geeks', f='For', l='Life')\n",
        "print(\"\\nPrint String in order of Keywords: \")\n",
        "print(String1)\n"
      ],
      "metadata": {
        "colab": {
          "base_uri": "https://localhost:8080/"
        },
        "id": "C1SJpZzmovnM",
        "outputId": "872b84fd-12b4-4ff4-b6c6-071768962337"
      },
      "execution_count": null,
      "outputs": [
        {
          "output_type": "stream",
          "name": "stdout",
          "text": [
            "Print String in default order: \n",
            "Geeks For Life\n",
            "\n",
            "Print String in Positional order: \n",
            "For Geeks Life\n",
            "\n",
            "Print String in order of Keywords: \n",
            "Life For Geeks\n"
          ]
        }
      ]
    },
    {
      "cell_type": "markdown",
      "source": [
        "Example 2: Integers such as Binary, hexadecimal, etc., and floats can be rounded or displayed in the exponent form with the use of format specifiers."
      ],
      "metadata": {
        "id": "DOYFFMqipMIL"
      }
    },
    {
      "cell_type": "code",
      "source": [
        "# Formatting of Integers\n",
        "String1 = \"{0:b}\".format(16)\n",
        "print(\"\\nBinary representation of 16 is \")\n",
        "print(String1)\n",
        "\n",
        "# Formatting of Floats\n",
        "String1 = \"{0:e}\".format(165.6458)\n",
        "print(\"\\nExponent representation of 165.6458 is \")\n",
        "print(String1)\n",
        "\n",
        "# Rounding off Integers\n",
        "String1 = \"{0:.2f}\".format(1/6)\n",
        "print(\"\\none-sixth is : \")\n",
        "print(String1)"
      ],
      "metadata": {
        "colab": {
          "base_uri": "https://localhost:8080/"
        },
        "id": "FJT046ZwpJfV",
        "outputId": "e4d64ebc-1650-4c7d-ee05-306129c66ee5"
      },
      "execution_count": null,
      "outputs": [
        {
          "output_type": "stream",
          "name": "stdout",
          "text": [
            "\n",
            "Binary representation of 16 is \n",
            "10000\n",
            "\n",
            "Exponent representation of 165.6458 is \n",
            "1.656458e+02\n",
            "\n",
            "one-sixth is : \n",
            "0.17\n"
          ]
        }
      ]
    },
    {
      "cell_type": "markdown",
      "source": [
        "Example 3: In String data type in Python , A string can be left, right, or center aligned with the use of format specifiers, separated by a colon(:). The (<) indicates that the string should be aligned to the left, (>) indicates that the string should be aligned to the right and (^) indicates that the string should be aligned to the center. We can also specify the length in which it should be aligned. For example, (<10) means that the string should be aligned to the left within a field of width of 10 characters."
      ],
      "metadata": {
        "id": "dlUGXvtwpnlq"
      }
    },
    {
      "cell_type": "code",
      "source": [
        "# String alignment\n",
        "String1 = \"|{:<10}|{:^10}|{:>10}|\".format('Geeks',\n",
        "                                          'for',\n",
        "                                          'Geeks')\n",
        "print(\"\\nLeft, center and right alignment with Formatting: \")\n",
        "print(String1)\n",
        "\n",
        "# To demonstrate aligning of spaces\n",
        "String1 = \"\\n{0:^16} was founded in {1:<4}!\".format(\"GeeksforGeeks\",\n",
        "                                                    2009)\n",
        "print(String1)"
      ],
      "metadata": {
        "colab": {
          "base_uri": "https://localhost:8080/"
        },
        "id": "u2OuLJrsprmz",
        "outputId": "be95e6d7-fe55-4e25-ad26-ad931aa1c19c"
      },
      "execution_count": null,
      "outputs": [
        {
          "output_type": "stream",
          "name": "stdout",
          "text": [
            "\n",
            "Left, center and right alignment with Formatting: \n",
            "|Geeks     |   for    |     Geeks|\n",
            "\n",
            " GeeksforGeeks   was founded in 2009!\n"
          ]
        }
      ]
    },
    {
      "cell_type": "markdown",
      "source": [
        "Explanation:\n",
        "\n",
        "{0:^16}:\n",
        "\n",
        "*   0 refers to the first argument in the format() method, which is \"GeeksforGeeks\"\n",
        "*   ^16 means the string \"GeeksforGeeks\" will be centered (^) in a field of 16 characters wide. If \"GeeksforGeeks\" is shorter than 16 characters, spaces will be added equally on both sides to center the text.\n",
        "\n",
        "\n",
        "{1:<4}:\n",
        "\n",
        "\n",
        "*   1 refers to the second argument in the format() method, which is 2009.\n",
        "*   <4 means the number 2009 will be left-aligned (<) within a field of 4 characters wide. Since 2009 is exactly 4 characters long, no extra spaces will be added.\n",
        "\n",
        "\n",
        "\n"
      ],
      "metadata": {
        "id": "6RQCZLzDqZFB"
      }
    },
    {
      "cell_type": "markdown",
      "source": [
        "Example 4: Old-style formatting was done without the use of the format method by using the % operator"
      ],
      "metadata": {
        "id": "JwMDrwdnq45c"
      }
    },
    {
      "cell_type": "code",
      "source": [
        "# Python Program for Old Style Formatting of Integers\n",
        "\n",
        "Integer1 = 12.3456789\n",
        "print(\"Formatting in 3.2f format: \")\n",
        "print('The value of Integer1 is %3.2f' % Integer1)\n",
        "print(\"\\nFormatting in 3.4f format: \")\n",
        "print('The value of Integer1 is %3.4f' % Integer1)"
      ],
      "metadata": {
        "colab": {
          "base_uri": "https://localhost:8080/"
        },
        "id": "WXniJG9Zq4NJ",
        "outputId": "55c62126-ad02-468a-b038-4184e7c2920a"
      },
      "execution_count": null,
      "outputs": [
        {
          "output_type": "stream",
          "name": "stdout",
          "text": [
            "Formatting in 3.2f format: \n",
            "The value of Integer1 is 12.35\n",
            "\n",
            "Formatting in 3.4f format: \n",
            "The value of Integer1 is 12.3457\n"
          ]
        }
      ]
    },
    {
      "cell_type": "markdown",
      "source": [
        "##### Logical Operations in strings"
      ],
      "metadata": {
        "id": "Ijo_jj07r3Qi"
      }
    },
    {
      "cell_type": "code",
      "source": [
        "str1 = ''\n",
        "str2 = 'geeks'\n",
        "\n",
        "# repr is used to print the string along with the quotes\n",
        "\n",
        "# Returns str1\n",
        "print(repr(str1 and str2))\n",
        "\n",
        "# Returns str1\n",
        "print(repr(str2 and str1))\n",
        "\n",
        "# Returns str2\n",
        "print(repr(str1 or str2))\n",
        "\n",
        "# Returns str2\n",
        "print(repr(str2 or str1))\n",
        "\n",
        "str1 = 'for'\n",
        "\n",
        "# Returns str1\n",
        "print(repr(str1 and str2))\n",
        "\n",
        "# Returns str1\n",
        "print(repr(str2 and str1))\n",
        "\n",
        "# Returns str1\n",
        "print(repr(str1 or str2))\n",
        "\n",
        "# Returns str2\n",
        "print(repr(str2 or str1))\n",
        "\n",
        "str1='geeks'\n",
        "\n",
        "# Returns False\n",
        "print(repr(not str1))\n",
        "\n",
        "str1 = ''\n",
        "\n",
        "# Returns True\n",
        "print(repr(not str1))"
      ],
      "metadata": {
        "colab": {
          "base_uri": "https://localhost:8080/"
        },
        "id": "9F0lAJoBr8tT",
        "outputId": "b7a9f14c-aca4-41ea-e497-9df5962ca7c1"
      },
      "execution_count": null,
      "outputs": [
        {
          "output_type": "stream",
          "name": "stdout",
          "text": [
            "''\n",
            "''\n",
            "'geeks'\n",
            "'geeks'\n",
            "'geeks'\n",
            "'for'\n",
            "'for'\n",
            "'geeks'\n",
            "False\n",
            "True\n"
          ]
        }
      ]
    },
    {
      "cell_type": "markdown",
      "source": [
        "##### Python Modulo String formatting"
      ],
      "metadata": {
        "id": "PnxIB2q9scWD"
      }
    },
    {
      "cell_type": "code",
      "source": [
        "# Python program to demonstrate the use of formatting using %\n",
        "\n",
        "# Initialize variable as a string\n",
        "variable = '15'\n",
        "string = \"Variable as string = %s\" %(variable)\n",
        "print (string )\n",
        "\n",
        "# Printing as raw data\n",
        "print (\"Variable as raw data = %r\" %(variable))\n",
        "\n",
        "# Convert the variable to integer\n",
        "# And perform check other formatting options\n",
        "\n",
        "variable = int(variable) # Without this the below statement\n",
        "\t\t\t\t\t\t# will give error.\n",
        "string = \"Variable as integer = %d\" %(variable)\n",
        "print (string)\n",
        "print (\"Variable as float = %f\" %(variable))\n",
        "\n",
        "# printing as any string or char after a mark\n",
        "# here i use mayank as a string\n",
        "print (\"Variable as printing with special char = %c\" %(variable))\n",
        "\n",
        "print (\"Variable as hexadecimal = %x\" %(variable))\n",
        "print (\"Variable as octal = %o\" %(variable))"
      ],
      "metadata": {
        "colab": {
          "base_uri": "https://localhost:8080/"
        },
        "id": "ND5MKf-Dsf_7",
        "outputId": "b0d649df-104e-4afa-c642-4979a47cf029"
      },
      "execution_count": null,
      "outputs": [
        {
          "output_type": "stream",
          "name": "stdout",
          "text": [
            "Variable as string = 15\n",
            "Variable as raw data = '15'\n",
            "Variable as integer = 15\n",
            "Variable as float = 15.000000\n",
            "Variable as printing with special char = \u000f\n",
            "Variable as hexadecimal = f\n",
            "Variable as octal = 17\n"
          ]
        }
      ]
    },
    {
      "cell_type": "markdown",
      "source": [
        "### String Template class in Python"
      ],
      "metadata": {
        "id": "wDMDfZEktrGr"
      }
    },
    {
      "cell_type": "code",
      "source": [
        "# A Simple Python template example\n",
        "from string import Template\n",
        "\n",
        "# Create a template that has placeholder for value of x\n",
        "t = Template('x is $x')\n",
        "\n",
        "# Substitute value of x in above template\n",
        "print (t.substitute({'x' : 1}))"
      ],
      "metadata": {
        "colab": {
          "base_uri": "https://localhost:8080/"
        },
        "id": "UononX08tvST",
        "outputId": "83832b87-4756-45e7-ad68-bbcaa78f7ab7"
      },
      "execution_count": null,
      "outputs": [
        {
          "output_type": "stream",
          "name": "stdout",
          "text": [
            "x is 1\n"
          ]
        }
      ]
    },
    {
      "cell_type": "markdown",
      "source": [
        "##### Following is another example where we import names and marks of students from a list and print them using template."
      ],
      "metadata": {
        "id": "ZODH6fTLt70c"
      }
    },
    {
      "cell_type": "code",
      "source": [
        "# A Python program to demonstrate the\n",
        "# working of the string template\n",
        "from string import Template\n",
        "\n",
        "# List Student stores the name and marks of three students\n",
        "Student = [('Ram',90), ('Ankit',78), ('Bob',92)]\n",
        "\n",
        "# We are creating a basic structure to print the name and\n",
        "# marks of the students.\n",
        "t = Template('Hi $name, you have got $marks marks')\n",
        "\n",
        "for i in Student:\n",
        "\tprint (t.substitute(name = i[0], marks = i[1]))"
      ],
      "metadata": {
        "colab": {
          "base_uri": "https://localhost:8080/"
        },
        "id": "iAz15tE8t9zj",
        "outputId": "30beccac-ab14-45b2-a8b9-336d24a5b473"
      },
      "execution_count": null,
      "outputs": [
        {
          "output_type": "stream",
          "name": "stdout",
          "text": [
            "Hi Ram, you have got 90 marks\n",
            "Hi Ankit, you have got 78 marks\n",
            "Hi Bob, you have got 92 marks\n"
          ]
        }
      ]
    },
    {
      "cell_type": "markdown",
      "source": [
        "The below example shows the implementation of the safe_substitute method."
      ],
      "metadata": {
        "id": "oFmOUSaSul08"
      }
    },
    {
      "cell_type": "code",
      "source": [
        "from string import Template\n",
        "\n",
        "template = Template('$name is the $job of $company')\n",
        "\n",
        "string = template.safe_substitute(name='Raju Kumar',\n",
        "\t\t\t\t\tjob='TCE', company = 'XYZ')\n",
        "print(string)"
      ],
      "metadata": {
        "colab": {
          "base_uri": "https://localhost:8080/"
        },
        "id": "LbTSkfvQum_b",
        "outputId": "90a50e93-6236-484b-9c6a-5660959f7eb2"
      },
      "execution_count": null,
      "outputs": [
        {
          "output_type": "stream",
          "name": "stdout",
          "text": [
            "Raju Kumar is the TCE of XYZ\n"
          ]
        }
      ]
    },
    {
      "cell_type": "markdown",
      "source": [
        "### String splitting"
      ],
      "metadata": {
        "id": "hFTuY8vQvBKi"
      }
    },
    {
      "cell_type": "code",
      "source": [
        "line = \"Geek1 \\nGeek2 \\nGeek3\"\n",
        "print(line.split())\n",
        "print(line.split(' ', 1))  # The second argument 1 specifies the maximum number of splits to be made. In this case, the string will be split only once, resulting in two parts."
      ],
      "metadata": {
        "colab": {
          "base_uri": "https://localhost:8080/"
        },
        "id": "ZydK8VxvvD3z",
        "outputId": "215f59b7-691b-414a-e2c5-d7ac41daaf30"
      },
      "execution_count": null,
      "outputs": [
        {
          "output_type": "stream",
          "name": "stdout",
          "text": [
            "['Geek1', 'Geek2', 'Geek3']\n",
            "['Geek1', '\\nGeek2 \\nGeek3']\n"
          ]
        }
      ]
    },
    {
      "cell_type": "markdown",
      "source": [
        "### Python Docstrings"
      ],
      "metadata": {
        "id": "jVg6CiHuvuMa"
      }
    },
    {
      "cell_type": "code",
      "source": [
        "def my_function():\n",
        "    '''Demonstrates triple double quotes\n",
        "    docstrings and does nothing really.'''\n",
        "\n",
        "    return None\n",
        "\n",
        "print(\"Using __doc__:\")\n",
        "print(my_function.__doc__)\n",
        "\n",
        "print(\"Using help:\")\n",
        "help(my_function)"
      ],
      "metadata": {
        "colab": {
          "base_uri": "https://localhost:8080/"
        },
        "id": "1LFKYcncvwv6",
        "outputId": "6cb36523-775a-4ce6-f3fc-21226c4009f6"
      },
      "execution_count": null,
      "outputs": [
        {
          "output_type": "stream",
          "name": "stdout",
          "text": [
            "Using __doc__:\n",
            "Demonstrates triple double quotes\n",
            "    docstrings and does nothing really.\n",
            "Using help:\n",
            "Help on function my_function in module __main__:\n",
            "\n",
            "my_function()\n",
            "    Demonstrates triple double quotes\n",
            "    docstrings and does nothing really.\n",
            "\n"
          ]
        }
      ]
    },
    {
      "cell_type": "markdown",
      "source": [
        "Qus. You are given two strings, input and pattern. Your task is to write a function checkEmpty(input, pattern) that determines whether the input string can be completely emptied by repeatedly removing occurrences of the pattern string."
      ],
      "metadata": {
        "id": "6TxWQicpHPp_"
      }
    },
    {
      "cell_type": "code",
      "source": [
        "def checkEmpty(input, pattern):\n",
        "\n",
        "\t# If both are empty\n",
        "\tif len(input)== 0 and len(pattern)== 0:\n",
        "\t\treturn 'true'\n",
        "\n",
        "\t# If only pattern is empty\n",
        "\tif len(pattern)== 0:\n",
        "\t\treturn 'false'\n",
        "\n",
        "\twhile (len(input) != 0):\n",
        "\n",
        "\t\t# find sub-string in main string\n",
        "\t\tindex = input.find(pattern)\n",
        "\n",
        "\t\t# check if sub-string founded or not\n",
        "\t\tif (index ==(-1)):\n",
        "\t\t\treturn 'false'\n",
        "\n",
        "\t\t# slice input string in two parts and concatenate\n",
        "\t\tinput = input[0:index] + input[index + len(pattern):]\n",
        "\treturn 'true'\n",
        "\n",
        "# Driver program\n",
        "if __name__ == \"__main__\":\n",
        "\tinput ='GEEGEEKSKS'\n",
        "\tpattern ='GEEKS'\n",
        "\tprint (checkEmpty(input, pattern))"
      ],
      "metadata": {
        "colab": {
          "base_uri": "https://localhost:8080/"
        },
        "id": "pOmVkRGCHSRH",
        "outputId": "1436a692-1020-453a-9d42-1c8c3ba8ccb5"
      },
      "execution_count": null,
      "outputs": [
        {
          "output_type": "stream",
          "name": "stdout",
          "text": [
            "true\n"
          ]
        }
      ]
    },
    {
      "cell_type": "markdown",
      "source": [
        "Qus. Given a string, find all the duplicate characters which are similar to each other. Let us look at the example.\n",
        "\n",
        "Examples:\n",
        "\n",
        "* Input : hello\n",
        "* Output : l\n",
        "\n",
        "* Input : geeksforgeeeks\n",
        "* Output : e g k s"
      ],
      "metadata": {
        "id": "GQ_yvhloH--v"
      }
    },
    {
      "cell_type": "code",
      "source": [
        "def find_duplicate(s):\n",
        "  ans = \"\"\n",
        "  for i in range(len(s)):\n",
        "    if s[i] not in ans:\n",
        "      ans += s[i] + \" \"\n",
        "    else:\n",
        "      continue\n",
        "  return ans\n",
        "\n",
        "s = \"geeksforgeeks\"\n",
        "print(find_duplicate(s))"
      ],
      "metadata": {
        "colab": {
          "base_uri": "https://localhost:8080/"
        },
        "id": "PHqAh1KmILwP",
        "outputId": "e7531fbd-342e-45aa-8243-31abaab1d8fb"
      },
      "execution_count": null,
      "outputs": [
        {
          "output_type": "stream",
          "name": "stdout",
          "text": [
            "g e k s f o r \n"
          ]
        }
      ]
    },
    {
      "cell_type": "markdown",
      "source": [
        "Ques. Reverse a string"
      ],
      "metadata": {
        "id": "a0IWbmYEKDpg"
      }
    },
    {
      "cell_type": "code",
      "source": [
        "# Using for loop\n",
        "def reverse(s):\n",
        "    str = \"\"\n",
        "    for i in s:\n",
        "        str = i + str\n",
        "    return str\n",
        "\n",
        "s = \"Geeksforgeeks\"\n",
        "\n",
        "print(\"The original string is : \", end=\"\")\n",
        "print(s)\n",
        "\n",
        "print(\"The reversed string(using loops) is : \", end=\"\")\n",
        "print(reverse(s))"
      ],
      "metadata": {
        "colab": {
          "base_uri": "https://localhost:8080/"
        },
        "id": "aY4u10yMKGN2",
        "outputId": "2967bdaf-abbe-4a18-94ec-fe4d89823544"
      },
      "execution_count": null,
      "outputs": [
        {
          "output_type": "stream",
          "name": "stdout",
          "text": [
            "The original string is : Geeksforgeeks\n",
            "The reversed string(using loops) is : skeegrofskeeG\n"
          ]
        }
      ]
    },
    {
      "cell_type": "code",
      "source": [
        "#Using Recursion\n",
        "def reverse(s):\n",
        "    if len(s) == 0:\n",
        "        return s\n",
        "    else:\n",
        "        return reverse(s[1:]) + s[0]\n",
        "\n",
        "\n",
        "s = \"Geeksforgeeks\"\n",
        "\n",
        "print(\"The original string is : \", end=\"\")\n",
        "print(s)\n",
        "\n",
        "print(\"The reversed string(using recursion) is : \", end=\"\")\n",
        "print(reverse(s))"
      ],
      "metadata": {
        "id": "lv_IbipHKMwP"
      },
      "execution_count": null,
      "outputs": []
    },
    {
      "cell_type": "code",
      "source": [
        "# Reverse string in Python using an extended slice\n",
        "def reverse(string):\n",
        "    string = string[::-1]\n",
        "    return string\n",
        "\n",
        "s = \"Geeksforgeeks\"\n",
        "\n",
        "print(\"The original string is : \", end=\"\")\n",
        "print(s)\n",
        "\n",
        "print(\"The reversed string(using extended slice syntax) is : \", end=\"\")\n",
        "print(reverse(s))"
      ],
      "metadata": {
        "colab": {
          "base_uri": "https://localhost:8080/"
        },
        "id": "xwLKONl9K0Ln",
        "outputId": "3f938428-3bdd-4cb6-82d6-1ec4825a880e"
      },
      "execution_count": null,
      "outputs": [
        {
          "output_type": "stream",
          "name": "stdout",
          "text": [
            "The original string is : Geeksforgeeks\n",
            "The reversed string(using extended slice syntax) is : skeegrofskeeG\n"
          ]
        }
      ]
    },
    {
      "cell_type": "code",
      "source": [
        "# Reverse string in Python using reversed() method\n",
        "# Python code to reverse a string\n",
        "# using reversed()\n",
        "\n",
        "# Function to reverse a string\n",
        "def reverse(string):\n",
        "    string = \"\".join(reversed(string))\n",
        "    return string\n",
        "\n",
        "s = \"Geeksforgeeks\"\n",
        "\n",
        "print(\"The original string is : \", end=\"\")\n",
        "print(s)\n",
        "\n",
        "print(\"The reversed string(using reversed) is : \", end=\"\")\n",
        "print(reverse(s))"
      ],
      "metadata": {
        "colab": {
          "base_uri": "https://localhost:8080/"
        },
        "id": "0IDwXqFvK6tU",
        "outputId": "b4f30854-8869-4141-da05-d981b6875db9"
      },
      "execution_count": null,
      "outputs": [
        {
          "output_type": "stream",
          "name": "stdout",
          "text": [
            "The original string is : Geeksforgeeks\n",
            "The reversed string(using reversed) is : skeegrofskeeG\n"
          ]
        }
      ]
    },
    {
      "cell_type": "code",
      "source": [
        "# Reverse string in Python using list comprehension()\n",
        "def reverse(string):\n",
        "    string = [string[i] for i in range(len(string)-1, -1, -1)]\n",
        "    return \"\".join(string)\n",
        "\n",
        "s = \"Geeksforgeeks\"\n",
        "\n",
        "print(\"The original string  is : \", s)\n",
        "\n",
        "print(\"The reversed string(using reversed) is : \", reverse(s))"
      ],
      "metadata": {
        "colab": {
          "base_uri": "https://localhost:8080/"
        },
        "id": "0JpnaE0BLDUX",
        "outputId": "860b688c-7905-42ca-d256-2d8ab9361411"
      },
      "execution_count": null,
      "outputs": [
        {
          "output_type": "stream",
          "name": "stdout",
          "text": [
            "The original string  is :  Geeksforgeeks\n",
            "The reversed string(using reversed) is :  skeegrofskeeG\n"
          ]
        }
      ]
    },
    {
      "cell_type": "markdown",
      "source": [
        "#### Python Program to Check if a String is Palindrome or Not"
      ],
      "metadata": {
        "id": "RXv-xhhZMG0P"
      }
    },
    {
      "cell_type": "code",
      "source": [
        "def check_palindrome(s):\n",
        "  if s==s[::-1]:\n",
        "    return True\n",
        "  else:\n",
        "    return False\n",
        "\n",
        "s = \"malayalam\""
      ],
      "metadata": {
        "id": "xOAjIiYNMJWh"
      },
      "execution_count": null,
      "outputs": []
    },
    {
      "cell_type": "markdown",
      "source": [
        "id() function:\n",
        "\n",
        "id() function is used to return the identity of an object."
      ],
      "metadata": {
        "id": "6zPU4wbMPO9d"
      }
    },
    {
      "cell_type": "code",
      "source": [
        "# Python3 program to show that both string hold same identity\n",
        "\n",
        "string1 = \"Hello\"\n",
        "string2 = \"Hello\"\n",
        "\n",
        "print(id(string1))\n",
        "print(id(string2))"
      ],
      "metadata": {
        "colab": {
          "base_uri": "https://localhost:8080/"
        },
        "id": "l0lVGP4LPTdN",
        "outputId": "a14bc051-ee35-45fa-f372-014988c7d75a"
      },
      "execution_count": null,
      "outputs": [
        {
          "output_type": "stream",
          "name": "stdout",
          "text": [
            "134998778982000\n",
            "134998778982000\n"
          ]
        }
      ]
    },
    {
      "cell_type": "code",
      "source": [
        "# Modifying a string\n",
        "\n",
        "string1 = \"Hello\"\n",
        "\n",
        "# identity of string1\n",
        "print(id(string1))\n",
        "\n",
        "string1 += \"World\"\n",
        "print(string1)\n",
        "\n",
        "# identity of modified string1\n",
        "print(id(string1))"
      ],
      "metadata": {
        "colab": {
          "base_uri": "https://localhost:8080/"
        },
        "id": "QBirbPH1PbvF",
        "outputId": "a8d926bb-bbff-458e-ac97-0db7c7923b15"
      },
      "execution_count": null,
      "outputs": [
        {
          "output_type": "stream",
          "name": "stdout",
          "text": [
            "134998778982000\n",
            "HelloWorld\n",
            "134999346639344\n"
          ]
        }
      ]
    },
    {
      "cell_type": "markdown",
      "source": [
        "String1 is modified which contradict the fact that strings are immutable, but the identity before and after modification are different.It means a new object of the string1 is created after modification which confirms the fact that strings are immutable as no change was made in previous object of string1 rather a new one is created."
      ],
      "metadata": {
        "id": "9NrIDeNAPmRl"
      }
    },
    {
      "cell_type": "markdown",
      "source": [
        "### String Methods"
      ],
      "metadata": {
        "id": "DdmRrQN-QdLG"
      }
    },
    {
      "cell_type": "code",
      "source": [
        "str = \"geeksforgeeks is for geeks\"\n",
        "str2 = \"geeks\"\n",
        "\n",
        "# using find()\n",
        "print(str.find(str2))  # gives first occurrence of str2 from starting\n",
        "print(str.find(str2, 4)) # gives first occurence of str2 from index 4\n",
        "print(str.rfind(str2)) # gives last occurrence of str2\n",
        "print(str.rfind(str2, 4)) # gives last occurence of str"
      ],
      "metadata": {
        "colab": {
          "base_uri": "https://localhost:8080/"
        },
        "id": "7UP_Zk6TQfVZ",
        "outputId": "b9178eea-baf9-46bb-9504-01537417d51c"
      },
      "execution_count": null,
      "outputs": [
        {
          "output_type": "stream",
          "name": "stdout",
          "text": [
            "0\n",
            "8\n",
            "21\n",
            "21\n"
          ]
        }
      ]
    },
    {
      "cell_type": "code",
      "source": [
        "str = \"geeks\"\n",
        "str1 = \"geeksforgeeksportal\"\n",
        "\n",
        "# using startswith() to find if str starts with str1\n",
        "if str1.startswith(str):\n",
        "        print (\"str1 begins with : \" + str)\n",
        "else : print (\"str1 does not begin with : \"+ str)\n",
        "\n",
        "# using endswith() to find if str ends with str1\n",
        "if str1.endswith(str):\n",
        "    print (\"str1 ends with : \" + str)\n",
        "else :\n",
        "    print (\"str1 does not end with : \" + str)"
      ],
      "metadata": {
        "colab": {
          "base_uri": "https://localhost:8080/"
        },
        "id": "p-FR0aeKRx3-",
        "outputId": "461b826d-cac9-40e0-d43f-6cbd0863204a"
      },
      "execution_count": null,
      "outputs": [
        {
          "output_type": "stream",
          "name": "stdout",
          "text": [
            "str1 begins with : geeks\n",
            "str1 does not end with : geeks\n"
          ]
        }
      ]
    },
    {
      "cell_type": "code",
      "source": [
        "# Python code to demonstrate working of isupper() and islower()\n",
        "str = \"GeeksforGeeks\"\n",
        "str1 = \"geeks\"\n",
        "\n",
        "# checking if all characters in str are upper cased\n",
        "if str.isupper() :\n",
        "    print (\"All characters in str are upper cased\")\n",
        "else :\n",
        "    print (\"All characters in str are not upper cased\")\n",
        "\n",
        "# checking if all characters in str1 are lower cased\n",
        "if str1.islower() :\n",
        "    print (\"All characters in str1 are lower cased\")\n",
        "else :\n",
        "    print (\"All characters in str1 are not lower cased\")"
      ],
      "metadata": {
        "colab": {
          "base_uri": "https://localhost:8080/"
        },
        "id": "hhgIohM3SKUN",
        "outputId": "ea0e7c08-db28-4f98-cb31-60bb083cd4cb"
      },
      "execution_count": null,
      "outputs": [
        {
          "output_type": "stream",
          "name": "stdout",
          "text": [
            "All characters in str are not upper cased\n",
            "All characters in str1 are lower cased\n"
          ]
        }
      ]
    },
    {
      "cell_type": "code",
      "source": [
        "# Converting string into its lower case\n",
        "str1 = str.lower();\n",
        "print (\" The lower case converted string is : \" + str1)\n",
        "\n",
        "# Converting string into its upper case\n",
        "str2 = str.upper();\n",
        "print (\" The upper case converted string is : \" + str2)\n",
        "\n",
        "# Converting string into its swapped case\n",
        "str3 = str.swapcase();\n",
        "print (\" The swap case converted string is : \" + str3)\n",
        "\n",
        "# Converting string into its title case\n",
        "str4 = str.title();\n",
        "print (\" The title case converted string is : \" + str4)\n",
        "\n",
        "# swaps the case of all characters in the string\n",
        "# upper case character to lowercase and viceversa\n",
        "print(\"\\nConverted String:\")\n",
        "print(str.swapcase())\n",
        "\n",
        "# convert the first character of a string to uppercase\n",
        "print(\"\\nConverted String:\")\n",
        "print(str.capitalize())\n",
        "\n",
        "# original string never changes\n",
        "print(\"\\nOriginal String\")\n",
        "print(str)"
      ],
      "metadata": {
        "colab": {
          "base_uri": "https://localhost:8080/"
        },
        "id": "rdfhs4XGSSom",
        "outputId": "0965c19b-f984-443f-a102-6c4eafb75b90"
      },
      "execution_count": null,
      "outputs": [
        {
          "output_type": "stream",
          "name": "stdout",
          "text": [
            " The lower case converted string is : geeksforgeeks\n",
            " The upper case converted string is : GEEKSFORGEEKS\n",
            " The swap case converted string is : gEEKSFORgEEKS\n",
            " The title case converted string is : Geeksforgeeks\n",
            "\n",
            "Converted String:\n",
            "gEEKSFORgEEKS\n",
            "\n",
            "Converted String:\n",
            "Geeksforgeeks\n",
            "\n",
            "Original String\n",
            "GeeksforGeeks\n"
          ]
        }
      ]
    },
    {
      "cell_type": "code",
      "source": [
        "print(\"length of string is: \", len(str))\n",
        "print(str.count(\"geeks\", 0, 15))  # checking count of occurrence of geeks starting from 0 ending with 15\n",
        "print(str.center(20, '*')) # surround the string with a character, 20 represent total length of string\n",
        "print(str.ljust(20, '*')) # original string shifted to left\n",
        "print(str.rjust(20, '*')) # original string shifted to right\n",
        "print(str.zfill(20))"
      ],
      "metadata": {
        "colab": {
          "base_uri": "https://localhost:8080/"
        },
        "id": "98IKaIoiShRd",
        "outputId": "e67bd405-a033-42b8-9e24-9a024d00f706"
      },
      "execution_count": null,
      "outputs": [
        {
          "output_type": "stream",
          "name": "stdout",
          "text": [
            "length of string is:  13\n",
            "0\n",
            "***GeeksforGeeks****\n",
            "GeeksforGeeks*******\n",
            "*******GeeksforGeeks\n",
            "0000000GeeksforGeeks\n"
          ]
        }
      ]
    },
    {
      "cell_type": "code",
      "source": [
        "str = \"geeksforgeeks\"\n",
        "str1 = \"123\"\n",
        "\n",
        "# checks if all characters are alphabets\n",
        "if(str.isalpha()):\n",
        "    print(\"All characters are alphabets\")\n",
        "else:\n",
        "    print(\"All characters are not alphabets\")\n",
        "\n",
        "# checks if all characters are digits\n",
        "if(str1.isdigit()):\n",
        "    print(\"All characters are digits\")\n",
        "else:\n",
        "    print(\"All characters are not digits\")\n",
        "\n",
        "# checks if all characters are alphanumeric\n",
        "if(str.isalnum()):\n",
        "    print(\"All characters are alphanumeric\")\n",
        "else:\n",
        "  print(\"All characters are not alphanumeric\")\n",
        "\n",
        "\n",
        "if(str.isprintable()):\n",
        "    print(\"All characters are printable\")\n",
        "else:\n",
        "    print(\"All characters are not printable\")\n",
        "\n",
        "# checks if all characters are whitespaces\n",
        "if(str1.isspace()):\n",
        "    print(\"All characters are spaces\")\n",
        "else:\n",
        "    print(\"All characters are not spaces\")"
      ],
      "metadata": {
        "colab": {
          "base_uri": "https://localhost:8080/"
        },
        "id": "YH4HmPurTkl0",
        "outputId": "60bb2793-93af-4f88-ddd1-7fdafe33adb1"
      },
      "execution_count": null,
      "outputs": [
        {
          "output_type": "stream",
          "name": "stdout",
          "text": [
            "All characters are alphabets\n",
            "All characters are digits\n",
            "All characters are alphanumeric\n",
            "All characters are printable\n",
            "All characters are not spaces\n"
          ]
        }
      ]
    },
    {
      "cell_type": "code",
      "source": [
        "str = \"_\"\n",
        "str1 = (\"geeks\", \"for\", \"geeks\")\n",
        "\n",
        "# # using join() to join sequence str1 with str\n",
        "print(str.join(str1))"
      ],
      "metadata": {
        "colab": {
          "base_uri": "https://localhost:8080/"
        },
        "id": "MiQTMfEcUQ2h",
        "outputId": "e8f10394-e6f4-4c72-a46c-b1090ae72be9"
      },
      "execution_count": null,
      "outputs": [
        {
          "output_type": "stream",
          "name": "stdout",
          "text": [
            "geeks_for_geeks\n"
          ]
        }
      ]
    },
    {
      "cell_type": "code",
      "source": [
        "# Python code to demonstrate working of\n",
        "# strip(), lstrip() and rstrip()\n",
        "str = \"---geeksforgeeks---\"\n",
        "\n",
        "# using strip() to delete all '-'\n",
        "print ( \" String after stripping all '-' is : \", end=\"\")\n",
        "print ( str.strip('-') )\n",
        "\n",
        "# using lstrip() to delete all trailing '-'\n",
        "print ( \" String after stripping all leading '-' is : \", end=\"\")\n",
        "print ( str.lstrip('-') )\n",
        "\n",
        "# using rstrip() to delete all leading '-'\n",
        "print ( \" String after stripping all trailing '-' is : \", end=\"\")\n",
        "print ( str.rstrip('-') )\n"
      ],
      "metadata": {
        "colab": {
          "base_uri": "https://localhost:8080/"
        },
        "id": "lGZM_IwIVGS8",
        "outputId": "7425e320-1535-4376-bd3b-84b520ea0270"
      },
      "execution_count": null,
      "outputs": [
        {
          "output_type": "stream",
          "name": "stdout",
          "text": [
            " String after stripping all '-' is : geeksforgeeks\n",
            " String after stripping all leading '-' is : geeksforgeeks---\n",
            " String after stripping all trailing '-' is : ---geeksforgeeks\n"
          ]
        }
      ]
    },
    {
      "cell_type": "code",
      "source": [
        "# Python code to demonstrate working of\n",
        "# min() and max()\n",
        "str = \"geeksforgeeks\"\n",
        "\n",
        "# using min() to print the smallest character\n",
        "# prints 'e'\n",
        "print (\"The minimum value character is : \" + min(str))\n",
        "\n",
        "# using max() to print the largest character\n",
        "# prints 's'\n",
        "print (\"The maximum value character is : \" + max(str))"
      ],
      "metadata": {
        "colab": {
          "base_uri": "https://localhost:8080/"
        },
        "id": "pAei7mYIVW61",
        "outputId": "8ded8997-4f2b-4f75-d240-406cfae3d41f"
      },
      "execution_count": null,
      "outputs": [
        {
          "output_type": "stream",
          "name": "stdout",
          "text": [
            "The minimum value character is : e\n",
            "The maximum value character is : s\n"
          ]
        }
      ]
    },
    {
      "cell_type": "markdown",
      "source": [
        "maketrans():- It is used to map the contents of string 1 with string 2 with respective indices to be translated later using translate().\n",
        "\n",
        "translate():- This is used to swap the string elements mapped with the help of maketrans()."
      ],
      "metadata": {
        "id": "fskset-xV_4K"
      }
    },
    {
      "cell_type": "code",
      "source": [
        "# Python code to demonstrate working of\n",
        "# maketrans() and translate()\n",
        "\n",
        "str = \"geeksforgeeks\"\n",
        "\n",
        "str1 = \"gfo\"\n",
        "str2 = \"abc\"\n",
        "\n",
        "# using maketrans() to map elements of str2 with str1\n",
        "# Note that maketrans is now a method of the str class\n",
        "mapped = str.maketrans( str1, str2 )\n",
        "\n",
        "# using translate() to translate using the mapping\n",
        "print(\"The string after translation using mapped elements is : \")\n",
        "print(str.translate(mapped) )"
      ],
      "metadata": {
        "colab": {
          "base_uri": "https://localhost:8080/"
        },
        "id": "gk38i2FhV42V",
        "outputId": "ad2390ab-7515-4563-8854-fa8318319568"
      },
      "execution_count": null,
      "outputs": [
        {
          "output_type": "stream",
          "name": "stdout",
          "text": [
            "The string after translation using mapped elements is : \n",
            "aeeksbcraeeks\n"
          ]
        }
      ]
    },
    {
      "cell_type": "code",
      "source": [
        "# Python code to demonstrate working of\n",
        "# replace()\n",
        "\n",
        "str = \"nerdsfornerds is for nerds\"\n",
        "\n",
        "str1 = \"nerds\"\n",
        "str2 = \"geeks\"\n",
        "\n",
        "# using replace() to replace str2 with str1 in str\n",
        "# only changes 2 occurrences\n",
        "print (\"The string after replacing strings is : \", end=\"\")\n",
        "print (str.replace( str1, str2, 2)) # his function has 3 arguments. The string to replace, new string which would replace and max value denoting the limit to replace action ( by default unlimited )."
      ],
      "metadata": {
        "colab": {
          "base_uri": "https://localhost:8080/"
        },
        "id": "5oKoYJIvWuBU",
        "outputId": "b86bd182-f904-4866-d728-58c4e5411b99"
      },
      "execution_count": null,
      "outputs": [
        {
          "output_type": "stream",
          "name": "stdout",
          "text": [
            "The string after replacing strings is : geeksforgeeks is for nerds\n"
          ]
        }
      ]
    },
    {
      "cell_type": "code",
      "source": [
        "# Python code to illustrate expandtabs()\n",
        "string = 'GEEKS\\tFOR\\tGEEKS'\n",
        "\n",
        "# No parameters, by default size is 8\n",
        "print (string.expandtabs())\n",
        "\n",
        "# tab size taken as 2\n",
        "print(string.expandtabs(2))\n",
        "\n",
        "# tab size taken as 5\n",
        "print(string.expandtabs(5))"
      ],
      "metadata": {
        "colab": {
          "base_uri": "https://localhost:8080/"
        },
        "id": "mH_mfGr7Wy00",
        "outputId": "4b2f7425-c231-40b5-cebe-9e9631d2c1bc"
      },
      "execution_count": null,
      "outputs": [
        {
          "output_type": "stream",
          "name": "stdout",
          "text": [
            "GEEKS   FOR     GEEKS\n",
            "GEEKS FOR GEEKS\n",
            "GEEKS     FOR  GEEKS\n"
          ]
        }
      ]
    },
    {
      "cell_type": "code",
      "source": [
        "# Python String title() method returns a new string after converting the first letter of\n",
        "# every word to uppercase(capital) and keeping the rest of the letters lowercase.\n",
        "print(\"usE stRing title Method\".title())"
      ],
      "metadata": {
        "colab": {
          "base_uri": "https://localhost:8080/"
        },
        "id": "8W_ouoV4aXon",
        "outputId": "05b2270b-549d-4704-c906-3016ff84cffc"
      },
      "execution_count": null,
      "outputs": [
        {
          "output_type": "stream",
          "name": "stdout",
          "text": [
            "Use String Title Method\n"
          ]
        }
      ]
    },
    {
      "cell_type": "markdown",
      "source": [
        "Qus Swap commas and dots in a String"
      ],
      "metadata": {
        "id": "6asoaWt6atib"
      }
    },
    {
      "cell_type": "code",
      "source": [
        "# Method 1: Using maketrans and translate()\n",
        "def Replace(str1):\n",
        "    maketrans = str1.maketrans\n",
        "    final = str1.translate(maketrans(',.', '.,', ' '))\n",
        "    return final.replace(',', \", \")\n",
        "\n",
        "\n",
        "# Driving Code\n",
        "string = \"14, 625, 498.002\"\n",
        "print(Replace(string))"
      ],
      "metadata": {
        "colab": {
          "base_uri": "https://localhost:8080/"
        },
        "id": "kBZfNTJRavQz",
        "outputId": "cb9281c3-8641-469f-afab-b7ffc07f3915"
      },
      "execution_count": null,
      "outputs": [
        {
          "output_type": "stream",
          "name": "stdout",
          "text": [
            "14.625.498, 002\n"
          ]
        }
      ]
    },
    {
      "cell_type": "code",
      "source": [
        "# Method 2: Using replace()\n",
        "def Replace(str1):\n",
        "    str1 = str1.replace(', ', 'third')\n",
        "    str1 = str1.replace('.', ', ')\n",
        "    str1 = str1.replace('third', '.')\n",
        "    return str1\n",
        "\n",
        "string = \"14, 625, 498.002\"\n",
        "print(Replace(string))"
      ],
      "metadata": {
        "colab": {
          "base_uri": "https://localhost:8080/"
        },
        "id": "-nn9GHCic1b8",
        "outputId": "59c33a0c-4ecb-42c8-cbfb-da2615c65ae2"
      },
      "execution_count": null,
      "outputs": [
        {
          "output_type": "stream",
          "name": "stdout",
          "text": [
            "14.625.498, 002\n"
          ]
        }
      ]
    },
    {
      "cell_type": "code",
      "source": [
        "# Using split and join\n",
        "def Replace(str1):\n",
        "    str1= \"$\".join(str1.split(', '))\n",
        "    str1=', '.join(str1.split('.'))\n",
        "    str1='.'.join(str1.split('$'))\n",
        "    return str1\n",
        "\n",
        "string = \"14, 625, 498.002\"\n",
        "print(Replace(string))"
      ],
      "metadata": {
        "colab": {
          "base_uri": "https://localhost:8080/"
        },
        "id": "eVFiUQLXdGIj",
        "outputId": "a69e28c4-3db0-48b0-f011-97e43a69cb8a"
      },
      "execution_count": null,
      "outputs": [
        {
          "output_type": "stream",
          "name": "stdout",
          "text": [
            "14.625.498, 002\n"
          ]
        }
      ]
    },
    {
      "cell_type": "markdown",
      "source": [
        "##### Program to convert String to a List"
      ],
      "metadata": {
        "id": "LVt3G7hZdPma"
      }
    },
    {
      "cell_type": "code",
      "source": [
        "# Method 1 : Using list()\n",
        "s = \"geeks for geeks\"\n",
        "l = list(s)\n",
        "print(l)"
      ],
      "metadata": {
        "colab": {
          "base_uri": "https://localhost:8080/"
        },
        "id": "s4jKu7e1dSEr",
        "outputId": "848ff067-50da-421f-ac32-4e371f246167"
      },
      "execution_count": null,
      "outputs": [
        {
          "output_type": "stream",
          "name": "stdout",
          "text": [
            "['g', 'e', 'e', 'k', 's', ' ', 'f', 'o', 'r', ' ', 'g', 'e', 'e', 'k', 's']\n"
          ]
        }
      ]
    },
    {
      "cell_type": "code",
      "source": [
        "# Method 2: Using list comrehension\n",
        "s = \"geeks for geeks\"\n",
        "l = [i for i in s]\n",
        "print(l)"
      ],
      "metadata": {
        "colab": {
          "base_uri": "https://localhost:8080/"
        },
        "id": "Nf0Ta5jJdZSP",
        "outputId": "843bb973-6dab-4b09-91a9-f36667c175fa"
      },
      "execution_count": null,
      "outputs": [
        {
          "output_type": "stream",
          "name": "stdout",
          "text": [
            "['g', 'e', 'e', 'k', 's', ' ', 'f', 'o', 'r', ' ', 'g', 'e', 'e', 'k', 's']\n"
          ]
        }
      ]
    },
    {
      "cell_type": "code",
      "source": [
        "# Method 3: Using split() method\n",
        "s = \"geeks for geeks\"\n",
        "s1 = \"geeks-for-geeks\"\n",
        "l = s.split()\n",
        "print(l)\n",
        "li = s.split(\" \")\n",
        "print(li)\n",
        "li = s.split(\"-\")\n",
        "print(li)"
      ],
      "metadata": {
        "colab": {
          "base_uri": "https://localhost:8080/"
        },
        "id": "dOpLumKjeEi5",
        "outputId": "64e608da-768b-49eb-f0da-21e20e44d52e"
      },
      "execution_count": null,
      "outputs": [
        {
          "output_type": "stream",
          "name": "stdout",
          "text": [
            "['geeks', 'for', 'geeks']\n",
            "['geeks', 'for', 'geeks']\n",
            "['geeks for geeks']\n"
          ]
        }
      ]
    },
    {
      "cell_type": "code",
      "source": [
        "# Method 4 : Using string slicing\n",
        "def Convert(string):\n",
        "  list1 = []\n",
        "  list1[:0] = string\n",
        "  return list1\n",
        "\n",
        "# Driver code\n",
        "s = \"ABCD\"\n",
        "print(Convert(s))"
      ],
      "metadata": {
        "colab": {
          "base_uri": "https://localhost:8080/"
        },
        "id": "c58Kui9Ue8py",
        "outputId": "9ad9ab6b-ec04-4ae7-b1ff-d2db7476b3ee"
      },
      "execution_count": null,
      "outputs": [
        {
          "output_type": "stream",
          "name": "stdout",
          "text": [
            "['A', 'B', 'C', 'D']\n"
          ]
        }
      ]
    },
    {
      "cell_type": "code",
      "source": [
        "# Method 5 : Convert String to List using re.findall() method\n",
        "import re\n",
        "\n",
        "# Function which uses re.findall method to convert string to list character wise\n",
        "def Convert(string):\n",
        "    return re.findall('[a-zA-Z]', string)\n",
        "\n",
        "# Driver code\n",
        "str1=\"ABCD\"\n",
        "print(\"List of character is : \",Convert(str1))"
      ],
      "metadata": {
        "colab": {
          "base_uri": "https://localhost:8080/"
        },
        "id": "EyQbj4rLePVF",
        "outputId": "4f7b45aa-c947-4e1d-e142-9e88eb1edee9"
      },
      "execution_count": null,
      "outputs": [
        {
          "output_type": "stream",
          "name": "stdout",
          "text": [
            "List of character is :  ['A', 'B', 'C', 'D']\n"
          ]
        }
      ]
    },
    {
      "cell_type": "code",
      "source": [
        "# Method 6 : Using enumerate method\n",
        "s=\"geeks\"\n",
        "x=[i for a,i in enumerate(s) ]\n",
        "print(x)"
      ],
      "metadata": {
        "colab": {
          "base_uri": "https://localhost:8080/"
        },
        "id": "EIBoRI9Mf7xj",
        "outputId": "d1f3b15e-6ddc-4d7d-daa7-45228329003f"
      },
      "execution_count": null,
      "outputs": [
        {
          "output_type": "stream",
          "name": "stdout",
          "text": [
            "['g', 'e', 'e', 'k', 's']\n"
          ]
        }
      ]
    },
    {
      "cell_type": "markdown",
      "source": [
        "Qus. How do I convert a string to a list without spaces in Python?\n",
        "\n",
        "To convert a string into a list of words or phrases without spaces, you can use regular expressions (re.split()) to split based on non-alphanumeric characters:"
      ],
      "metadata": {
        "id": "EAxCW8ukgzgr"
      }
    },
    {
      "cell_type": "code",
      "source": [
        "import re\n",
        "string = \"Hello,world!how-are?you\"\n",
        "word_list = re.split(r'\\W+', string)\n",
        "print(word_list)\n",
        "\n",
        "# This splits the string string into a list of words based on non-alphanumeric characters (\\W+),\n",
        "# effectively removing spaces and punctuation from consideration."
      ],
      "metadata": {
        "colab": {
          "base_uri": "https://localhost:8080/"
        },
        "id": "hlhGGzBfg8gZ",
        "outputId": "af66ab8f-9065-4921-97fc-f473fe2a32ed"
      },
      "execution_count": null,
      "outputs": [
        {
          "output_type": "stream",
          "name": "stdout",
          "text": [
            "['Hello', 'world', 'how', 'are', 'you']\n"
          ]
        }
      ]
    },
    {
      "cell_type": "markdown",
      "source": [
        "##### Count and display vowels in a string"
      ],
      "metadata": {
        "id": "8I6RUA8-hLbT"
      }
    },
    {
      "cell_type": "code",
      "source": [
        "string = \"GeeksforGeeks\"\n",
        "vowels = \"aeiouAEIOU\"\n",
        "\n",
        "count = 0\n",
        "for i in range(len(string)):\n",
        "  if string[i] in vowels:\n",
        "    count += 1\n",
        "print(count)"
      ],
      "metadata": {
        "colab": {
          "base_uri": "https://localhost:8080/"
        },
        "id": "pe4M3BWXhND5",
        "outputId": "f47fc7bb-a9a3-4745-f293-e1ba35dfa234"
      },
      "execution_count": null,
      "outputs": [
        {
          "output_type": "stream",
          "name": "stdout",
          "text": [
            "5\n"
          ]
        }
      ]
    },
    {
      "cell_type": "code",
      "source": [
        "# Method 2: Counting vowels: regex way\n",
        "import re\n",
        "# Count vowels in a different way\n",
        "# Using re.findall\n",
        "def Check_Vow(string, vowels):\n",
        "\n",
        "\t# Using re.findall in string\n",
        "\tstr_list = re.findall(f'[{vowels}]', string, re.I)\n",
        "\n",
        "\t# printing length of string\n",
        "\tprint(len(str_list))\n",
        "\n",
        "\t# Returning the list of matched element\n",
        "\treturn str_list\n",
        "\n",
        "# Driver Code\n",
        "vowels = 'aeiou'\n",
        "string = \"Geeks for Geeks\"\n",
        "print (Check_Vow(string, vowels))\n"
      ],
      "metadata": {
        "id": "bDOJMQipibH4"
      },
      "execution_count": null,
      "outputs": []
    },
    {
      "cell_type": "code",
      "source": [
        "# Method 3:\n",
        "from collections import Counter\n",
        "\n",
        "def count_and_display_vowels(string):\n",
        "\tvowels = 'aeiouAEIOU'\n",
        "\tvowels_list = filter(lambda c: c in vowels, string)\n",
        "\tcount = Counter(vowels_list)\n",
        "\treturn count\n",
        "\n",
        "string = \"Geeks for Geeks\"\n",
        "print(count_and_display_vowels(string))"
      ],
      "metadata": {
        "id": "bULJitVKipiY"
      },
      "execution_count": null,
      "outputs": []
    },
    {
      "cell_type": "code",
      "source": [
        "# Method 4: Counting vowels: recursive function way\n",
        "#defining recursive function\n",
        "def Check_Vow(start,string,newlist):\n",
        "\tif start==len(string): #base condition\n",
        "\t\treturn len(newlist),newlist\n",
        "\tif string[start] in ['a','e','i','o','u']: #check whether element is vowel or not\n",
        "\t\tnewlist.append(string[start])\n",
        "\treturn Check_Vow(start+1,string,newlist) #recursive calling\n",
        "#driver code\n",
        "string = \"Geeks for Geeks\"\n",
        "#calling recursive function\n",
        "res=Check_Vow(0,string,[])\n",
        "#printing result\n",
        "print(*res,sep='\\n')"
      ],
      "metadata": {
        "colab": {
          "base_uri": "https://localhost:8080/"
        },
        "id": "cfF_K7RIjBoS",
        "outputId": "718164e3-9441-4267-a575-f72c02712d9e"
      },
      "execution_count": null,
      "outputs": [
        {
          "output_type": "stream",
          "name": "stdout",
          "text": [
            "5\n",
            "['e', 'e', 'o', 'e', 'e']\n"
          ]
        }
      ]
    },
    {
      "cell_type": "code",
      "source": [
        "# Method 5: Counting vowels: Using reduce() and lambda function:\n",
        "from functools import reduce\n",
        "\n",
        "def check_vow(string, vowels):\n",
        "\tvowel_list = reduce(lambda x, y: x + [y] if y in vowels else x, string, [])\n",
        "\tprint(len(vowel_list))\n",
        "\tprint(vowel_list)\n",
        "\n",
        "string = \"Geeks for Geeks\"\n",
        "vowels = \"AaEeIiOoUu\"\n",
        "check_vow(string, vowels)"
      ],
      "metadata": {
        "colab": {
          "base_uri": "https://localhost:8080/"
        },
        "id": "onZnFVVljOlO",
        "outputId": "210771b9-6bb1-429b-8ae6-345eb8e69415"
      },
      "execution_count": null,
      "outputs": [
        {
          "output_type": "stream",
          "name": "stdout",
          "text": [
            "5\n",
            "['e', 'e', 'o', 'e', 'e']\n"
          ]
        }
      ]
    },
    {
      "cell_type": "code",
      "source": [
        "def check_validity_password(s):\n",
        "  l, u, p, d = 0, 0, 0, 0\n",
        "  if (len(s) >= 8):\n",
        "    for i in s:\n",
        "        # counting lowercase alphabets\n",
        "        if (i.islower()):\n",
        "            l+=1\n",
        "\n",
        "        # counting uppercase alphabets\n",
        "        if (i.isupper()):\n",
        "            u+=1\n",
        "\n",
        "        # counting digits\n",
        "        if (i.isdigit()):\n",
        "            d+=1\n",
        "\n",
        "        # counting the mentioned special characters\n",
        "        if(i=='@'or i=='$' or i=='_'):\n",
        "            p+=1\n",
        "\n",
        "    if (l>=1 and u>=1 and p>=1 and d>=1 and l+p+u+d==len(s)):\n",
        "        print(\"Valid Password\")\n",
        "    else:\n",
        "        print(\"Invalid Password\")\n",
        "  return False\n",
        "\n",
        "s = \"R@m@_f0rtu9e$\"\n",
        "check_validity_password(s)"
      ],
      "metadata": {
        "colab": {
          "base_uri": "https://localhost:8080/"
        },
        "id": "5KSrsrOWj4Vu",
        "outputId": "b3a58b04-fb62-4e4e-ce51-f625dc5b5c2e"
      },
      "execution_count": null,
      "outputs": [
        {
          "output_type": "stream",
          "name": "stdout",
          "text": [
            "Valid Password\n"
          ]
        },
        {
          "output_type": "execute_result",
          "data": {
            "text/plain": [
              "False"
            ]
          },
          "metadata": {},
          "execution_count": 68
        }
      ]
    },
    {
      "cell_type": "markdown",
      "source": [
        "#### String Formatting\n",
        "\n",
        "1. Python Format String Using the % Operator"
      ],
      "metadata": {
        "id": "M1KNUu_dIucd"
      }
    },
    {
      "cell_type": "code",
      "source": [
        "print(\"The mangy, scrawny stray dog %s gobbled down\" %'hurriedly' +\n",
        "      \"the grain-free, organic dog food.\")"
      ],
      "metadata": {
        "colab": {
          "base_uri": "https://localhost:8080/"
        },
        "id": "51bGRFPmIyKz",
        "outputId": "dda9ff78-4c98-42e9-87ef-69318ac7c55e"
      },
      "execution_count": null,
      "outputs": [
        {
          "output_type": "stream",
          "name": "stdout",
          "text": [
            "The mangy, scrawny stray dog hurriedly gobbled downthe grain-free, organic dog food.\n"
          ]
        }
      ]
    },
    {
      "cell_type": "code",
      "source": [
        "x = 'looked'\n",
        "\n",
        "print(\"Misha %s and %s around\"%('walked',x))"
      ],
      "metadata": {
        "colab": {
          "base_uri": "https://localhost:8080/"
        },
        "id": "clG2tBKhJDzz",
        "outputId": "71391520-7829-4679-d42e-d5dc7ed7e068"
      },
      "execution_count": null,
      "outputs": [
        {
          "output_type": "stream",
          "name": "stdout",
          "text": [
            "Misha walked and looked around\n"
          ]
        }
      ]
    },
    {
      "cell_type": "code",
      "source": [
        "# Precision Handling in Python using % operator\n",
        "print('The value of pi is: %5.4f' %(3.141592))\n",
        "\n",
        "# Precision handling in Python using the % operator allows formatting of floating-point numbers with the format %a.bf.\n",
        "# Here, a sets the minimum width of the output (with padding if needed), and b specifies the number of digits after the decimal point.\n",
        "# For example, in the string 'The value of pi is: %5.4f', %5.4f formats the number to have a minimum width of 5 characters and 4 decimal places,\n",
        "# ensuring consistent and precise output."
      ],
      "metadata": {
        "colab": {
          "base_uri": "https://localhost:8080/"
        },
        "id": "uJwfX7ODJSGE",
        "outputId": "3f1c57bb-ba6b-41ac-8497-9b396a34409f"
      },
      "execution_count": null,
      "outputs": [
        {
          "output_type": "stream",
          "name": "stdout",
          "text": [
            "The value of pi is: 3.1416\n"
          ]
        }
      ]
    },
    {
      "cell_type": "code",
      "source": [
        "variable = 12\n",
        "string = \"Variable as integer = %d \\n\\\n",
        "Variable as float = %f\" %(variable, variable)\n",
        "print (string)"
      ],
      "metadata": {
        "colab": {
          "base_uri": "https://localhost:8080/"
        },
        "id": "2X9kLzaYJ_6m",
        "outputId": "c3c242c2-8008-45e5-bd3a-103577f676cb"
      },
      "execution_count": null,
      "outputs": [
        {
          "output_type": "stream",
          "name": "stdout",
          "text": [
            "Variable as integer = 12 \n",
            "Variable as float = 12.000000\n"
          ]
        }
      ]
    },
    {
      "cell_type": "markdown",
      "source": [
        "2. How to Format String using format() Method"
      ],
      "metadata": {
        "id": "xJit1Mz7KHic"
      }
    },
    {
      "cell_type": "code",
      "source": [
        "print('We all are {}.'.format('equal'))"
      ],
      "metadata": {
        "colab": {
          "base_uri": "https://localhost:8080/"
        },
        "id": "z3pRt25kS8BR",
        "outputId": "ec0d0e10-3629-471f-faf7-dd48bfe7cd87"
      },
      "execution_count": null,
      "outputs": [
        {
          "output_type": "stream",
          "name": "stdout",
          "text": [
            "We all are equal.\n"
          ]
        }
      ]
    },
    {
      "cell_type": "code",
      "source": [
        "print('{2} {1} {0}'.format('directions',\n",
        "                           'the', 'Read'))"
      ],
      "metadata": {
        "colab": {
          "base_uri": "https://localhost:8080/"
        },
        "id": "3dzZ7HCITEmB",
        "outputId": "b5f30e23-18ec-4612-e2d5-4a76bb4d50d0"
      },
      "execution_count": null,
      "outputs": [
        {
          "output_type": "stream",
          "name": "stdout",
          "text": [
            "Read the directions\n"
          ]
        }
      ]
    },
    {
      "cell_type": "code",
      "source": [
        "print('a: {a}, b: {b}, c: {c}'.format(a = 1,\n",
        "                                      b = 'Two',\n",
        "                                      c = 12.3))"
      ],
      "metadata": {
        "colab": {
          "base_uri": "https://localhost:8080/"
        },
        "id": "0x7mKh2XTJnU",
        "outputId": "4235d1f9-f8a5-4efd-be72-e71c12a580a6"
      },
      "execution_count": null,
      "outputs": [
        {
          "output_type": "stream",
          "name": "stdout",
          "text": [
            "a: 1, b: Two, c: 12.3\n"
          ]
        }
      ]
    },
    {
      "cell_type": "code",
      "source": [
        "print(\n",
        "    'The first {p} was alright, but the {p} {p} was tough.'.format(p='second'))"
      ],
      "metadata": {
        "colab": {
          "base_uri": "https://localhost:8080/"
        },
        "id": "wSieBTcJTPOz",
        "outputId": "fefe1d61-4e63-4440-d84c-6f43e10e6747"
      },
      "execution_count": null,
      "outputs": [
        {
          "output_type": "stream",
          "name": "stdout",
          "text": [
            "The first second was alright, but the second second was tough.\n"
          ]
        }
      ]
    },
    {
      "cell_type": "code",
      "source": [
        "print('The valueof pi is: %1.5f' %3.141592)\n",
        "print('The valueof pi is: {0:1.5f}'.format(3.141592))"
      ],
      "metadata": {
        "colab": {
          "base_uri": "https://localhost:8080/"
        },
        "id": "wwK7wPgKVxug",
        "outputId": "63de9afb-207b-4fea-8408-33b27482f355"
      },
      "execution_count": null,
      "outputs": [
        {
          "output_type": "stream",
          "name": "stdout",
          "text": [
            "The valueof pi is: 3.14159\n",
            "The valueof pi is: 3.14159\n"
          ]
        }
      ]
    },
    {
      "cell_type": "markdown",
      "source": [
        "3. Understanding Python f-string"
      ],
      "metadata": {
        "id": "rYI3rV7ZV1Ip"
      }
    },
    {
      "cell_type": "code",
      "source": [
        "name = 'Ele'\n",
        "print(f\"My name is {name}.\")"
      ],
      "metadata": {
        "colab": {
          "base_uri": "https://localhost:8080/"
        },
        "id": "t0F8RtCdV2MI",
        "outputId": "6fea65a9-50a8-41df-aa3a-f644c061b039"
      },
      "execution_count": null,
      "outputs": [
        {
          "output_type": "stream",
          "name": "stdout",
          "text": [
            "My name is Ele.\n"
          ]
        }
      ]
    },
    {
      "cell_type": "code",
      "source": [
        "#Lambda expression using f-string\n",
        "print(f\"He said his age is {(lambda x: x*2)(3)}\")"
      ],
      "metadata": {
        "colab": {
          "base_uri": "https://localhost:8080/"
        },
        "id": "oZphobrkWA5G",
        "outputId": "0aa2df59-70e7-474e-80a9-c9fdf0ced45f"
      },
      "execution_count": null,
      "outputs": [
        {
          "output_type": "stream",
          "name": "stdout",
          "text": [
            "He said his age is 6\n"
          ]
        }
      ]
    },
    {
      "cell_type": "markdown",
      "source": [
        "4. Python String Template Class"
      ],
      "metadata": {
        "id": "1UJViG_dWPuE"
      }
    },
    {
      "cell_type": "code",
      "source": [
        "from string import Template\n",
        "\n",
        "n1 = 'Hello'\n",
        "n2 = 'GeeksforGeeks'\n",
        "\n",
        "n = Template('$n3 ! This is $n4.')\n",
        "\n",
        "# and pass the parameters into the\n",
        "# template string.\n",
        "print(n.substitute(n3=n1, n4=n2))"
      ],
      "metadata": {
        "colab": {
          "base_uri": "https://localhost:8080/"
        },
        "id": "8jsU0WTbWQd4",
        "outputId": "77f7fafe-de05-4212-bafa-1e14294f114a"
      },
      "execution_count": null,
      "outputs": [
        {
          "output_type": "stream",
          "name": "stdout",
          "text": [
            "Hello ! This is GeeksforGeeks.\n"
          ]
        }
      ]
    },
    {
      "cell_type": "markdown",
      "source": [
        "5. How to Format String using center() Method"
      ],
      "metadata": {
        "id": "_ER61gtTWZLD"
      }
    },
    {
      "cell_type": "code",
      "source": [
        "string = \"GeeksForGeeks!\"\n",
        "width = 30\n",
        "\n",
        "centered_string = string.center(width)\n",
        "\n",
        "print(centered_string)"
      ],
      "metadata": {
        "colab": {
          "base_uri": "https://localhost:8080/"
        },
        "id": "K8BSqWxiWas7",
        "outputId": "debfab64-b7ab-4919-b302-71acd8e32189"
      },
      "execution_count": null,
      "outputs": [
        {
          "output_type": "stream",
          "name": "stdout",
          "text": [
            "        GeeksForGeeks!        \n"
          ]
        }
      ]
    },
    {
      "cell_type": "markdown",
      "source": [
        "### String Concatenation"
      ],
      "metadata": {
        "id": "7XncWaPdW95n"
      }
    },
    {
      "cell_type": "markdown",
      "source": [
        "1. Using + Operator"
      ],
      "metadata": {
        "id": "IBSbpC__XIJI"
      }
    },
    {
      "cell_type": "code",
      "source": [
        "var1 = \"Hello \"\n",
        "var2 = \"Geek\"\n",
        "\n",
        "# + Operator is used to combine strings\n",
        "var3 = var1 + var2\n",
        "print(var3)"
      ],
      "metadata": {
        "colab": {
          "base_uri": "https://localhost:8080/"
        },
        "id": "IWlw5yKXXAKT",
        "outputId": "53d26687-4439-4bc1-ccb9-764e7a32be52"
      },
      "execution_count": null,
      "outputs": [
        {
          "output_type": "stream",
          "name": "stdout",
          "text": [
            "Hello Geek\n"
          ]
        }
      ]
    },
    {
      "cell_type": "markdown",
      "source": [
        "2. Using join() Method"
      ],
      "metadata": {
        "id": "fFnohBRmXOES"
      }
    },
    {
      "cell_type": "code",
      "source": [
        "# join() method is used to combine the strings\n",
        "print(\"\".join([var1, var2]))\n",
        "\n",
        "# join() method is used here to combine\n",
        "# the string with a separator Space(\" \")\n",
        "var3 = \" \".join([var1, var2])\n",
        "\n",
        "print(var3)"
      ],
      "metadata": {
        "colab": {
          "base_uri": "https://localhost:8080/"
        },
        "id": "uWgda2MdXRco",
        "outputId": "1b532377-b367-47c6-d724-2959d2ee6a63"
      },
      "execution_count": null,
      "outputs": [
        {
          "output_type": "stream",
          "name": "stdout",
          "text": [
            "Hello Geek\n",
            "Hello  Geek\n"
          ]
        }
      ]
    },
    {
      "cell_type": "markdown",
      "source": [
        "3. Using ‘%’ Operator"
      ],
      "metadata": {
        "id": "yzzWSCgwXgU7"
      }
    },
    {
      "cell_type": "code",
      "source": [
        "# % Operator is used here to combine the string\n",
        "print(\"% s % s\" % (var1, var2))"
      ],
      "metadata": {
        "colab": {
          "base_uri": "https://localhost:8080/"
        },
        "id": "85rbA01dXkLm",
        "outputId": "d9001551-d912-440d-f3ae-85e1c8cea1a1"
      },
      "execution_count": null,
      "outputs": [
        {
          "output_type": "stream",
          "name": "stdout",
          "text": [
            "Hello  Geek\n"
          ]
        }
      ]
    },
    {
      "cell_type": "markdown",
      "source": [
        "4. Using format() function"
      ],
      "metadata": {
        "id": "vimv_NpIXwG9"
      }
    },
    {
      "cell_type": "code",
      "source": [
        "print(\"{} {}\".format(var1, var2))\n",
        "\n",
        "# store the result in another variable\n",
        "var3 = \"{} {}\".format(var1, var2)\n",
        "\n",
        "print(var3)"
      ],
      "metadata": {
        "colab": {
          "base_uri": "https://localhost:8080/"
        },
        "id": "dmsEV9RbXyIP",
        "outputId": "4aa7e088-a309-4348-f48b-0ce4ffdd2d89"
      },
      "execution_count": null,
      "outputs": [
        {
          "output_type": "stream",
          "name": "stdout",
          "text": [
            "Hello  Geek\n",
            "Hello  Geek\n"
          ]
        }
      ]
    },
    {
      "cell_type": "markdown",
      "source": [
        "5. using “, ” comma"
      ],
      "metadata": {
        "id": "T9rPIqU7X7wA"
      }
    },
    {
      "cell_type": "code",
      "source": [
        "var1 = \"Geeks\"\n",
        "var2 = \"for\"\n",
        "var3 = \"Geeks\"\n",
        "\n",
        "# using comma to combine data types\n",
        "# with a single whitespace.\n",
        "print(var1, var2, var3)"
      ],
      "metadata": {
        "colab": {
          "base_uri": "https://localhost:8080/"
        },
        "id": "VPSsQJLTX9D8",
        "outputId": "1f7406a1-a6c0-4ca6-ad90-bb0284f6a247"
      },
      "execution_count": null,
      "outputs": [
        {
          "output_type": "stream",
          "name": "stdout",
          "text": [
            "Geeks for Geeks\n"
          ]
        }
      ]
    },
    {
      "cell_type": "markdown",
      "source": [
        "6. Using f-string"
      ],
      "metadata": {
        "id": "YWBGIhEpYDET"
      }
    },
    {
      "cell_type": "code",
      "source": [
        "name = \"GFG\"\n",
        "age = 25\n",
        "\n",
        "# String concatenation using f-string\n",
        "greeting = f\"Hello, my name is {name} and I am {age} years old.\"\n",
        "\n",
        "print(greeting)"
      ],
      "metadata": {
        "id": "XZ8bdGMQYEWG",
        "outputId": "4ef797d3-6d74-46e4-cfab-26e1c28dcba5",
        "colab": {
          "base_uri": "https://localhost:8080/"
        }
      },
      "execution_count": null,
      "outputs": [
        {
          "output_type": "stream",
          "name": "stdout",
          "text": [
            "Hello, my name is GFG and I am 25 years old.\n"
          ]
        }
      ]
    },
    {
      "cell_type": "markdown",
      "source": [
        "### Regular Expressions"
      ],
      "metadata": {
        "id": "KFzXAUexXXW2"
      }
    },
    {
      "cell_type": "code",
      "source": [
        "import re\n",
        "\n",
        "s = 'GeeksforGeeks: A computer science portal for geeks'\n",
        "\n",
        "match = re.search(r'portal', s)\n",
        "\n",
        "print('Start Index:', match.start())\n",
        "print('End Index:', match.end())\n",
        "\n",
        "# This Python code uses regular expressions to search for the word “portal” in the given\n",
        "# string and then prints the start and end indices of the matched word within the string."
      ],
      "metadata": {
        "colab": {
          "base_uri": "https://localhost:8080/"
        },
        "id": "J6eS2Cd_XbX1",
        "outputId": "ccc61f20-3895-4d85-caa4-16578a2a5eda"
      },
      "execution_count": null,
      "outputs": [
        {
          "output_type": "stream",
          "name": "stdout",
          "text": [
            "Start Index: 34\n",
            "End Index: 40\n"
          ]
        }
      ]
    },
    {
      "cell_type": "markdown",
      "source": [
        "Note: Here r character (r’portal’) stands for raw, not regex. The raw string is slightly different from a regular string, it won’t interpret the \\ character as an escape character. This is because the regular expression engine uses \\ character for its own escaping purpose."
      ],
      "metadata": {
        "id": "FZ2y5UpsYIQw"
      }
    },
    {
      "cell_type": "code",
      "source": [
        "s = 'geeks.forgeeks'\n",
        "\n",
        "# without using \\\n",
        "match = re.search(r'.', s)\n",
        "print(match)\n",
        "\n",
        "# using \\\n",
        "match = re.search(r'\\.', s)\n",
        "print(match)\n",
        "\n",
        "# The first search (re.search(r'.', s)) matches any character, not just the period,\n",
        "# while the second search (re.search(r'\\.', s)) specifically looks for and matches the period character."
      ],
      "metadata": {
        "colab": {
          "base_uri": "https://localhost:8080/"
        },
        "id": "dWCBjH_gYXdl",
        "outputId": "56b709e7-bafe-46c2-c188-5c6ca0ba5533"
      },
      "execution_count": null,
      "outputs": [
        {
          "output_type": "stream",
          "name": "stdout",
          "text": [
            "<re.Match object; span=(0, 1), match='g'>\n",
            "<re.Match object; span=(5, 6), match='.'>\n"
          ]
        }
      ]
    }
  ]
}